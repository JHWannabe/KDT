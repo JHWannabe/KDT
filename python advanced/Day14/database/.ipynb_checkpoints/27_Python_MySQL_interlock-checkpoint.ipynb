{
 "cells": [
  {
   "cell_type": "markdown",
   "id": "c06dbcd8",
   "metadata": {},
   "source": [
    "# 1. mysqlcilent\n",
    "* 파이썬에서는 MySQL 서버와 통신할 수 있는 파이썬용 데이터베이스 커넥터의 종류가 여러가지 있음\n",
    "* PyMySQL, mysqlclient를 가장 많이 사용함\n",
    "* 사용법은 비슷하나 속도가 빠른 mysqlclient를 권장하고 있음"
   ]
  },
  {
   "cell_type": "code",
   "execution_count": 3,
   "id": "1b64a510",
   "metadata": {},
   "outputs": [
    {
     "name": "stdout",
     "output_type": "stream",
     "text": [
      "Requirement already satisfied: mysqlclient in c:\\users\\administrator\\appdata\\local\\programs\\python\\python38\\lib\\site-packages (2.1.1)\n"
     ]
    },
    {
     "name": "stderr",
     "output_type": "stream",
     "text": [
      "WARNING: You are using pip version 20.2.1; however, version 23.0.1 is available.\n",
      "You should consider upgrading via the 'c:\\users\\administrator\\appdata\\local\\programs\\python\\python38\\python.exe -m pip install --upgrade pip' command.\n"
     ]
    }
   ],
   "source": [
    "!pip install mysqlclient"
   ]
  },
  {
   "cell_type": "code",
   "execution_count": 1,
   "id": "cefa28fc",
   "metadata": {},
   "outputs": [],
   "source": [
    "import MySQLdb"
   ]
  },
  {
   "cell_type": "code",
   "execution_count": 5,
   "id": "491f18ca",
   "metadata": {},
   "outputs": [],
   "source": [
    "# hostname: IP주소, localhost, 127.0.0.1\n",
    "# user: 유저, root\n",
    "# password: 1234\n",
    "# db: 데이터베이스, kdt\n",
    "db = MySQLdb.connect(host='localhost', user='root', password='1234', db='kdt')\n",
    "# db = MySQLdb.connect('localhost','root','1234','kdt') -- 이 방식으로 해도 됨"
   ]
  },
  {
   "cell_type": "markdown",
   "id": "aaec9ab2",
   "metadata": {},
   "source": [
    "# 2. cursor 생성하기\n",
    "* 하나의 Database Connection에 대하여 독립적으로 SQL문을 실행할 수 있는 작업환경을 제공하는 객체\n",
    "* 하나의 Connection에 동시에 한 개의 Cursor만 생성 가능\n",
    "* Cursor를 통해 SQL문을 실행하면 실행결과를 튜플 단위로 변환"
   ]
  },
  {
   "cell_type": "code",
   "execution_count": 6,
   "id": "b0172e52",
   "metadata": {},
   "outputs": [
    {
     "data": {
      "text/plain": [
       "10"
      ]
     },
     "execution_count": 6,
     "metadata": {},
     "output_type": "execute_result"
    }
   ],
   "source": [
    "# cursor 작업환경 생성\n",
    "cur = db.cursor()\n",
    "sql = 'select userid, username, email, gender from member'\n",
    "cur.execute(sql) # count 개수 리턴"
   ]
  },
  {
   "cell_type": "markdown",
   "id": "5ddb2d67",
   "metadata": {},
   "source": [
    "# 3. SQL문 결과 가져오기\n",
    "* fetchall(): 한번에 모든 tuple을 가져옴. 검색 결과가 매우 크다면 메모리 오버헤드가 발생할 수 있음\n",
    "* fetchone(): 한번에 하나의 tuple을 가져옴. 다시 메소드를 호출하면, 다음 데이터 1개를 가져옴. 데이터가 없으면 가져오지 않음."
   ]
  },
  {
   "cell_type": "code",
   "execution_count": 7,
   "id": "2a40db9e",
   "metadata": {},
   "outputs": [
    {
     "name": "stdout",
     "output_type": "stream",
     "text": [
      "(('apple', '김사과', 'apple@apple.com', '남자'), ('avocado', '안가도', 'avocado@avocado.com', '남자'), ('banana', '반하나', 'banana@naver.com', '여자'), ('berry', '배애리', 'berry1@berry1.com', '여자'), ('cherry', '채애리', 'cherry@cherry.com', '여자'), ('mango', '마앙고', 'mango@mango.com', '여자'), ('melon', '이메론', 'melon@melon.com', '남자'), ('orange', '오랜지', 'orange@orange.com', '남자'), ('peach', '피이치', 'peach@peach.com', '남자'), ('pear', '김배애', 'pear@pear.com', '남자'))\n"
     ]
    }
   ],
   "source": [
    "row = cur.fetchall()\n",
    "print(row)"
   ]
  },
  {
   "cell_type": "code",
   "execution_count": 8,
   "id": "e2766076",
   "metadata": {},
   "outputs": [
    {
     "name": "stdout",
     "output_type": "stream",
     "text": [
      "('apple', '김사과', 'apple@apple.com', '남자')\n",
      "('avocado', '안가도', 'avocado@avocado.com', '남자')\n",
      "('banana', '반하나', 'banana@naver.com', '여자')\n"
     ]
    }
   ],
   "source": [
    "cur.execute(sql)\n",
    "\n",
    "row = cur.fetchone()\n",
    "print(row)\n",
    "row = cur.fetchone()\n",
    "print(row)\n",
    "row = cur.fetchone()\n",
    "print(row)"
   ]
  },
  {
   "cell_type": "code",
   "execution_count": 9,
   "id": "a723f326",
   "metadata": {},
   "outputs": [
    {
     "name": "stdout",
     "output_type": "stream",
     "text": [
      "('apple', '김사과', 'apple@apple.com', '남자')\n",
      "('avocado', '안가도', 'avocado@avocado.com', '남자')\n",
      "('banana', '반하나', 'banana@naver.com', '여자')\n",
      "('berry', '배애리', 'berry1@berry1.com', '여자')\n",
      "('cherry', '채애리', 'cherry@cherry.com', '여자')\n",
      "('mango', '마앙고', 'mango@mango.com', '여자')\n",
      "('melon', '이메론', 'melon@melon.com', '남자')\n",
      "('orange', '오랜지', 'orange@orange.com', '남자')\n",
      "('peach', '피이치', 'peach@peach.com', '남자')\n",
      "('pear', '김배애', 'pear@pear.com', '남자')\n"
     ]
    }
   ],
   "source": [
    "# fetchone()을 이용하여 루프를 돌면서 모든 데이터 출력하기\n",
    "cur.execute(sql)\n",
    "\n",
    "while 1:\n",
    "    row = cur.fetchone()\n",
    "    if row:\n",
    "        print(row)\n",
    "    else:\n",
    "        break"
   ]
  },
  {
   "cell_type": "code",
   "execution_count": 10,
   "id": "82cd6202",
   "metadata": {},
   "outputs": [
    {
     "name": "stdout",
     "output_type": "stream",
     "text": [
      "아이디: apple, 이름: 김사과, 이메일: apple@apple.com, 성별: 남자\n",
      "아이디: avocado, 이름: 안가도, 이메일: avocado@avocado.com, 성별: 남자\n",
      "아이디: banana, 이름: 반하나, 이메일: banana@naver.com, 성별: 여자\n",
      "아이디: berry, 이름: 배애리, 이메일: berry1@berry1.com, 성별: 여자\n",
      "아이디: cherry, 이름: 채애리, 이메일: cherry@cherry.com, 성별: 여자\n",
      "아이디: mango, 이름: 마앙고, 이메일: mango@mango.com, 성별: 여자\n",
      "아이디: melon, 이름: 이메론, 이메일: melon@melon.com, 성별: 남자\n",
      "아이디: orange, 이름: 오랜지, 이메일: orange@orange.com, 성별: 남자\n",
      "아이디: peach, 이름: 피이치, 이메일: peach@peach.com, 성별: 남자\n",
      "아이디: pear, 이름: 김배애, 이메일: pear@pear.com, 성별: 남자\n"
     ]
    }
   ],
   "source": [
    "# cursor에 dictionary 형식으로 row를 유지하도록 내부 타입을 명시\n",
    "cur = db.cursor(MySQLdb.cursors.DictCursor)\n",
    "cur.execute(sql)\n",
    "\n",
    "while 1:\n",
    "    row = cur.fetchone()\n",
    "    if row:\n",
    "        print(f\"아이디: {row['userid']}, 이름: {row['username']}, 이메일: {row['email']}, 성별: {row['gender']}\")\n",
    "    else:\n",
    "        break"
   ]
  },
  {
   "cell_type": "markdown",
   "id": "e7124d39",
   "metadata": {},
   "source": [
    "# 4. Cursor와 Connection 닫아주기"
   ]
  },
  {
   "cell_type": "code",
   "execution_count": 11,
   "id": "d289f020",
   "metadata": {},
   "outputs": [],
   "source": [
    "cur.close() # 커서 닫기\n",
    "db.close() # connection 닫기"
   ]
  },
  {
   "cell_type": "markdown",
   "id": "8f1eab99",
   "metadata": {},
   "source": [
    "# 5. 데이터 삽입하기"
   ]
  },
  {
   "cell_type": "markdown",
   "id": "eb7a8c2d",
   "metadata": {},
   "source": [
    "## 5-1. 단일 데이터 삽입"
   ]
  },
  {
   "cell_type": "code",
   "execution_count": null,
   "id": "7ece1e67",
   "metadata": {},
   "outputs": [],
   "source": [
    "sql = \"insert into member (userid, username, userpw, gender, email, ssn1) value (%s, %s, %s, %s, %s, %s)\"\n",
    "data = ('avocado', '안가도', '5678', '남자','avocado@avocado.com', '970419')\n",
    "cur.execute(sql, data)\n",
    "db.commit() # 이 코드를 해야 db에 반영됨"
   ]
  },
  {
   "cell_type": "markdown",
   "id": "bf4e8c54",
   "metadata": {},
   "source": [
    "## 5-2. 여러 데이터 삽입"
   ]
  },
  {
   "cell_type": "code",
   "execution_count": null,
   "id": "7a07a4bf",
   "metadata": {},
   "outputs": [],
   "source": [
    "sql = \"insert into member (userid, username, userpw, gender, email, ssn1) value (%s, %s, %s, %s, %s, %s)\"\n",
    "data = [('mango', '마앙고', '1111', '여자','mango@mango.com', '020615'),\n",
    "        ('peach', '피이치', '2222', '남자','peach@peach.com', '990125')]\n",
    "cur.executemany(sql, data)\n",
    "db.commit() # 이 코드를 해야 db에 반영됨"
   ]
  },
  {
   "cell_type": "markdown",
   "id": "0392e762",
   "metadata": {},
   "source": [
    "### 문제\n",
    "* '회원가입' 프로그램을 만들어보자  \n",
    "\n",
    "    ****** 회원 가입 ******\n",
    "    * 아이디를 입력하세요: ----\n",
    "    * 비밀번호를 입력하세요: ----\n",
    "    * 이름을 입력하세요: ----\n",
    "    * 휴대폰 번호를 입력하세요: ----\n",
    "    * 이메일을 입력하세요: ----\n",
    "    * 성별을 입력하세요: ----\n",
    "    * 주민번호 앞자리를 입력하세요: ----\n",
    "    * 주민번호 뒷자리를 입력하세요: ----\n",
    "    * 우편번호를 입력하세요: ----\n",
    "    * 주소를 입력하세요: ----\n",
    "    * 상세주소를 입력하세요: ----\n",
    "    * 참고사항을 입력하세요: ----\n",
    "    가입되었습니다!\n",
    "\n",
    "    에러가 발생! 오류처리 -> 다시 입력 하도록"
   ]
  },
  {
   "cell_type": "code",
   "execution_count": 1,
   "id": "5e75306b",
   "metadata": {
    "scrolled": true
   },
   "outputs": [
    {
     "name": "stdout",
     "output_type": "stream",
     "text": [
      "****** 회원 가입 ******\n",
      "아이디를 입력하세요: pear\n",
      "비밀번호를 입력하세요: 4444\n",
      "이름을 입력하세요: 김배애\n",
      "전화번호를 입력하세요: 010-1111-1111\n",
      "이메일을 입력하세요: pear@pear.com\n",
      "성별을 입력하세요: 남자\n",
      "주민번호 앞자리를 입력하세요: 051104\n",
      "주민번호 뒷자리를 입력하세요: 3041518\n",
      "우편번호를 입력하세요: 11111\n",
      "주소를 입력하세요: 서울시 강남구\n",
      "상세주소를 입력하세요: 삼성동\n",
      "참고사항을 입력하세요: \n",
      "다시 입력하세요\n"
     ]
    }
   ],
   "source": [
    "import MySQLdb\n",
    "\n",
    "db = MySQLdb.connect(host='localhost', user='root', password='1234', db='kdt')\n",
    "cur = db.cursor()\n",
    "\n",
    "while 1:\n",
    "    try:\n",
    "        print('****** 회원 가입 ******')\n",
    "        userid = input('아이디를 입력하세요: ')\n",
    "        userpw = input('비밀번호를 입력하세요: ')\n",
    "        username = input('이름을 입력하세요: ')\n",
    "        hp = input('전화번호를 입력하세요: ')\n",
    "        email = input('이메일을 입력하세요: ')\n",
    "        gender = input('성별을 입력하세요: ')\n",
    "        ssn1 = input('주민번호 앞자리를 입력하세요: ')\n",
    "        ssn2 = input('주민번호 뒷자리를 입력하세요: ')\n",
    "        zipcode = input('우편번호를 입력하세요: ')\n",
    "        address1 = input('주소를 입력하세요: ')\n",
    "        address2 = input('상세주소를 입력하세요: ')\n",
    "        address3 = input('참고사항을 입력하세요: ')\n",
    "\n",
    "        sql = \"insert into member (userid, userpw, username, hp, email, gender, ssn1, ssn2, zipcode, address1, address2, address3) value (%s, %s, %s, %s, %s, %s, %s, %s, %s, %s, %s, %s)\"\n",
    "        data = (userid, userpw, username, hp, email, gender, ssn1, ssn2, zipcode, address1, address2, address3)\n",
    "        cur.execute(sql, data)\n",
    "        db.commit() # 이 코드를 해야 db에 반영됨\n",
    "        break\n",
    "\n",
    "    except:\n",
    "        print('다시 입력하세요')\n",
    "    \n",
    "cur.close()\n",
    "db.close()"
   ]
  },
  {
   "cell_type": "markdown",
   "id": "8b439c39",
   "metadata": {},
   "source": [
    "# 6. 데이터 수정하기"
   ]
  },
  {
   "cell_type": "code",
   "execution_count": 12,
   "id": "65ecd7cc",
   "metadata": {},
   "outputs": [],
   "source": [
    "db = MySQLdb.connect(host='localhost', user='root', password='1234', db='kdt')\n",
    "cur = db.cursor()"
   ]
  },
  {
   "cell_type": "code",
   "execution_count": 16,
   "id": "fab9ec75",
   "metadata": {},
   "outputs": [
    {
     "name": "stdout",
     "output_type": "stream",
     "text": [
      "1\n"
     ]
    }
   ],
   "source": [
    "sql = \"update member set zipcode='12345', address1='서울시 강남구', address2='역삼동' where userid='pear'\"\n",
    "result = cur.execute(sql)\n",
    "db.commit()\n",
    "print(result)"
   ]
  },
  {
   "cell_type": "code",
   "execution_count": 18,
   "id": "a6a21fa0",
   "metadata": {},
   "outputs": [
    {
     "name": "stdout",
     "output_type": "stream",
     "text": [
      "에러\n"
     ]
    }
   ],
   "source": [
    "sql = \"update member set zipcode='12345', address1='서울시 강남구', address2='도곡동' where userid='avocado'\"\n",
    "result = cur.execute(sql)\n",
    "db.commit()\n",
    "if result > 0:\n",
    "    print('수정되었습니다.')\n",
    "else:\n",
    "    print('에러')"
   ]
  },
  {
   "cell_type": "markdown",
   "id": "9b14c7f6",
   "metadata": {},
   "source": [
    "### 문제\n",
    "* '로그인' 프로그램을 작성해보자\n",
    "\n",
    "    ****** 로그인 ******\n",
    "    * 아이디를 입력하세요: apple\n",
    "    * 비밀번호를 입력하세요: 1234\n",
    "    * 로그인 되었습니다!  \n",
    "    * \n",
    "    * 아이디를 입력하세요: apple\n",
    "    * 비밀번호를 입력하세요: 1111\n",
    "    * 아이디 또는 비밀번호가 틀렸습니다!"
   ]
  },
  {
   "cell_type": "code",
   "execution_count": 15,
   "id": "769c85bd",
   "metadata": {},
   "outputs": [
    {
     "name": "stdout",
     "output_type": "stream",
     "text": [
      "****** 로그인 ******\n",
      "아이디를 입력하세요: apple\n",
      "비밀번호를 입력하세요: 1234\n",
      "로그인 되었습니다!\n"
     ]
    }
   ],
   "source": [
    "db = MySQLdb.connect(host='localhost', user='root', password='1234', db='kdt')\n",
    "cur = db.cursor()\n",
    "\n",
    "\n",
    "print('****** 로그인 ******')\n",
    "loginid = input('아이디를 입력하세요: ')\n",
    "loginpw = input('비밀번호를 입력하세요: ')\n",
    "\n",
    "sql = \"select userid from member where userid=%s and userpw=%s\"\n",
    "data = (loginid, loginpw)\n",
    "result = cur.execute(sql, data)\n",
    "\n",
    "if result > 0:\n",
    "    print('로그인 되었습니다!')\n",
    "else:\n",
    "    print('아이디 또는 비밀번호가 틀렸습니다!')\n",
    "\n",
    "\n",
    "cur.close()\n",
    "db.close()"
   ]
  },
  {
   "cell_type": "code",
   "execution_count": null,
   "id": "f37c12e8",
   "metadata": {},
   "outputs": [],
   "source": []
  },
  {
   "cell_type": "code",
   "execution_count": null,
   "id": "06a38a45",
   "metadata": {},
   "outputs": [],
   "source": []
  },
  {
   "cell_type": "code",
   "execution_count": null,
   "id": "70ae8baf",
   "metadata": {},
   "outputs": [],
   "source": []
  },
  {
   "cell_type": "code",
   "execution_count": null,
   "id": "5a86acb3",
   "metadata": {},
   "outputs": [],
   "source": []
  }
 ],
 "metadata": {
  "kernelspec": {
   "display_name": "Python 3 (ipykernel)",
   "language": "python",
   "name": "python3"
  },
  "language_info": {
   "codemirror_mode": {
    "name": "ipython",
    "version": 3
   },
   "file_extension": ".py",
   "mimetype": "text/x-python",
   "name": "python",
   "nbconvert_exporter": "python",
   "pygments_lexer": "ipython3",
   "version": "3.8.6"
  }
 },
 "nbformat": 4,
 "nbformat_minor": 5
}
