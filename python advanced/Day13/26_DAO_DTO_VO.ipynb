{
  "nbformat": 4,
  "nbformat_minor": 0,
  "metadata": {
    "colab": {
      "provenance": []
    },
    "kernelspec": {
      "name": "python3",
      "display_name": "Python 3"
    },
    "language_info": {
      "name": "python"
    }
  },
  "cells": [
    {
      "cell_type": "markdown",
      "source": [
        "# 1. DAO(Data Access Object)\n",
        "* DB의 data에 접근하기 위한 객체로 직접 DB에 접근하여 데이터를 삽입, 수정, 조회, 삭제 등을 조직할 수 있는 기능\n",
        "* DB 접근을 하기 위한 로직과 비즈니스 로직을 분리하기 위해 사용"
      ],
      "metadata": {
        "id": "JKUrJo8cd2a9"
      }
    },
    {
      "cell_type": "markdown",
      "source": [
        "✔ 비즈니스 로직\n",
        "* 업무에 필요한 데이터처리를 수행하는 응용프로그램의 일부\n",
        "* 데이터의 입력, 수정, 조회, 삭제 및 처리 등을 수행하는 각종 처리를 의미\n",
        "* 유저의 눈에는 보이지 않지만, 유저가 원하는 행위를 잘 전달하기 위해 짜여진 코드 로직"
      ],
      "metadata": {
        "id": "BPyQGvu1dsYe"
      }
    },
    {
      "cell_type": "markdown",
      "source": [
        "# 2. DTO(Data Transfer Object)\n",
        "* 데이터 전송(이동) 객체라는 의미\n",
        "* 로직을 가지지 않는 순수한 데이터 객체이며 getter / setter 메소드만 가진 클래스를 의미"
      ],
      "metadata": {
        "id": "HKEbDaUreqUs"
      }
    },
    {
      "cell_type": "markdown",
      "source": [
        "# 3. VO(Value Object)\n",
        "* Read-Only 속성을 가진 오브젝트\n",
        "* DTO와 유사하지만 VO는 setter를 가지고 있지 않아 값을 변경할 수 없음\n",
        "* DTO는 인스턴스 개념이라면 VO는 리터럴 개념\n",
        "* DTO는 Layer간의 통신 용도로 사용하는 객체이며,VO는 특정한 비즈니스 로직의 값을 담는 객체"
      ],
      "metadata": {
        "id": "bFQbUvV-e6IF"
      }
    },
    {
      "cell_type": "markdown",
      "source": [
        "# 4. DAO, DTO를 활용한 단어장 만들기"
      ],
      "metadata": {
        "id": "Hrz4zf6kfPtz"
      }
    },
    {
      "cell_type": "code",
      "source": [
        "# DTO 역할의 클래스\n",
        "class Words:\n",
        "    def __init__(self, eng, kor, lev=1):\n",
        "        self.eng = eng\n",
        "        self.kor = kor\n",
        "        self.lev = lev\n",
        "\n",
        "    def setEng(self, eng):\n",
        "        self.eng = eng\n",
        "\n",
        "    def getEng(self):\n",
        "        return self.eng\n",
        "\n",
        "    def setKor(self, kor):\n",
        "        self.kor = kor\n",
        "\n",
        "    def getKor(self):\n",
        "        return self.kor\n",
        "\n",
        "    def setLev(self, lev):\n",
        "        self.lev = lev\n",
        "\n",
        "    def getLev(self):\n",
        "        return self.lev\n",
        "    \n",
        "    def printWord(self):\n",
        "        print(f'단어: {self.eng}, 뜻: {self.kor}, 레벨: {self.lev}')"
      ],
      "metadata": {
        "id": "QR6-LO6xfyc6"
      },
      "execution_count": 24,
      "outputs": []
    },
    {
      "cell_type": "code",
      "source": [
        "word = Words('apple', '사과', 1)\n",
        "\n",
        "word.printWord()\n",
        "\n",
        "# word.lev = 2\n",
        "word.setLev(2)\n",
        "\n",
        "word.printWord()"
      ],
      "metadata": {
        "colab": {
          "base_uri": "https://localhost:8080/"
        },
        "id": "zrwm_VjRgSrz",
        "outputId": "16163423-384e-4168-aa14-4ed2b8ef7cf6"
      },
      "execution_count": 25,
      "outputs": [
        {
          "output_type": "stream",
          "name": "stdout",
          "text": [
            "단어: apple, 뜻: 사과, 레벨: 1\n",
            "단어: apple, 뜻: 사과, 레벨: 2\n"
          ]
        }
      ]
    },
    {
      "cell_type": "code",
      "source": [
        "# DAO 역할의 클래스\n",
        "class WordsDAO:\n",
        "    def __init__(self):\n",
        "        self.datas= []\n",
        "\n",
        "    def insert(self, word):\n",
        "        self.datas.append(word)\n",
        "\n",
        "    def update(self, word):\n",
        "        for i in self.datas:\n",
        "            if i.getEng() == word.getEng(): # 기존에 저장된 단어와 수정된 단어가 같다면\n",
        "                i.setKor(word.getKor()) # 기존에 저장된 뜻에 수정할 단어의 뜻을 설정\n",
        "                i.setLev(word.getLev()) # 기존에 저장된 레벨에 수정할 단어의 뜻을 설정\n",
        "        \n",
        "\n",
        "    def search(self, eng):\n",
        "        for i in self.datas:\n",
        "            if i.getEng() == eng:\n",
        "                return i\n",
        "    \n",
        "    def selectAll(self):\n",
        "        return self.datas\n",
        "\n",
        "    def delete(self, word):\n",
        "        self.datas.remove(word)"
      ],
      "metadata": {
        "id": "doti6A2Fk7gS"
      },
      "execution_count": 30,
      "outputs": []
    },
    {
      "cell_type": "code",
      "source": [
        "# Service를 담당하는 클래스\n",
        "class WordsService:\n",
        "    def __init__(self):\n",
        "        self.dao = WordsDAO()\n",
        "\n",
        "    def insertWord(self):\n",
        "        eng = input('단어를 입력하세요: ')\n",
        "        kor = input('뜻을 입력하세요: ')\n",
        "        lev = input('레벨을 입력하세요: ')\n",
        "        word = Words(eng, kor, lev)\n",
        "        self.dao.insert(word)\n",
        "\n",
        "    def printAll(self):\n",
        "        datas = self.dao.selectAll()\n",
        "        for i in datas:\n",
        "            i.printWord()\n",
        "\n",
        "    def searchWord(self):\n",
        "        eng = input('검색할 단어를 입력하세요: ')\n",
        "        word = self.dao.search(eng)\n",
        "        if word == None:\n",
        "            print('찾는 단어가 없습니다.')\n",
        "        else:\n",
        "            word.printWord()\n",
        "\n",
        "    def editWord(self):\n",
        "        eng = input('수정할 단어를 입력하세요: ')\n",
        "        word = self.dao.search(eng)\n",
        "        if word == None:\n",
        "            print('수정할 단어가 없습니다.')\n",
        "        else:\n",
        "            kor = input('새로운 뜻을 입력하세요: ')\n",
        "            lev = input('새로운 레벨을 입력하세요: ')\n",
        "            word = Words(eng, kor, lev)\n",
        "            self.dao.update(word)\n",
        "\n",
        "    def delWord(self):\n",
        "        eng = input('삭제할 단어를 입력하세요: ')\n",
        "        word = self.dao.search(eng)\n",
        "        if word == None:\n",
        "            print('삭제할 단어가 없습니다.')\n",
        "        else:\n",
        "            self.dao.delete(word)"
      ],
      "metadata": {
        "id": "bWRbQj82nrqS"
      },
      "execution_count": 31,
      "outputs": []
    },
    {
      "cell_type": "code",
      "source": [
        "# View 역할을 하는 클래스 만들기\n",
        "class Menu:\n",
        "    def __init__(self):\n",
        "        self.service = WordsService()\n",
        "\n",
        "    def run(self):\n",
        "        while True:\n",
        "            try:\n",
        "                menu = int(input('1. 등록하기\\n2. 출력하기\\n3. 검색하기\\n4. 수정하기\\n5. 삭제하기\\n6. 종료하기\\n'))\n",
        "                if menu == 1:\n",
        "                    self.service.insertWord()\n",
        "                elif menu == 2:\n",
        "                    self.service.printAll()\n",
        "                elif menu == 3:\n",
        "                    self.service.searchWord()\n",
        "                elif menu == 4:\n",
        "                    self.service.editWord()\n",
        "                elif menu == 5:\n",
        "                    self.service.delWord()\n",
        "                elif menu == 6:\n",
        "                    break\n",
        "            except:\n",
        "                print('다시 입력하세요')"
      ],
      "metadata": {
        "id": "wSl76O24qVuc"
      },
      "execution_count": 32,
      "outputs": []
    },
    {
      "cell_type": "code",
      "source": [
        "start = Menu()\n",
        "start.run()"
      ],
      "metadata": {
        "colab": {
          "base_uri": "https://localhost:8080/"
        },
        "id": "tK2Qu92DrUTT",
        "outputId": "33080cd2-6754-4eaa-8f6d-e05d34e471b9"
      },
      "execution_count": 33,
      "outputs": [
        {
          "name": "stdout",
          "output_type": "stream",
          "text": [
            "1. 등록하기\n",
            "2. 출력하기\n",
            "3. 검색하기\n",
            "4. 수정하기\n",
            "5. 삭제하기\n",
            "6. 종료하기\n",
            "1\n",
            "단어를 입력하세요: apple\n",
            "뜻을 입력하세요: 사과\n",
            "레벨을 입력하세요: 1\n",
            "1. 등록하기\n",
            "2. 출력하기\n",
            "3. 검색하기\n",
            "4. 수정하기\n",
            "5. 삭제하기\n",
            "6. 종료하기\n",
            "1\n",
            "단어를 입력하세요: banana\n",
            "뜻을 입력하세요: 바나나\n",
            "레벨을 입력하세요: 2\n",
            "1. 등록하기\n",
            "2. 출력하기\n",
            "3. 검색하기\n",
            "4. 수정하기\n",
            "5. 삭제하기\n",
            "6. 종료하기\n",
            "2\n",
            "단어: apple, 뜻: 사과, 레벨: 1\n",
            "단어: banana, 뜻: 바나나, 레벨: 2\n",
            "1. 등록하기\n",
            "2. 출력하기\n",
            "3. 검색하기\n",
            "4. 수정하기\n",
            "5. 삭제하기\n",
            "6. 종료하기\n",
            "3\n",
            "검색할 단어를 입력하세요: apple\n",
            "단어: apple, 뜻: 사과, 레벨: 1\n",
            "1. 등록하기\n",
            "2. 출력하기\n",
            "3. 검색하기\n",
            "4. 수정하기\n",
            "5. 삭제하기\n",
            "6. 종료하기\n",
            "4\n",
            "수정할 단어를 입력하세요: apple\n",
            "새로운 뜻을 입력하세요: 사과\n",
            "새로운 레벨을 입력하세요: 3\n",
            "1. 등록하기\n",
            "2. 출력하기\n",
            "3. 검색하기\n",
            "4. 수정하기\n",
            "5. 삭제하기\n",
            "6. 종료하기\n",
            "2\n",
            "단어: apple, 뜻: 사과, 레벨: 3\n",
            "단어: banana, 뜻: 바나나, 레벨: 2\n",
            "1. 등록하기\n",
            "2. 출력하기\n",
            "3. 검색하기\n",
            "4. 수정하기\n",
            "5. 삭제하기\n",
            "6. 종료하기\n",
            "5\n",
            "삭제할 단어를 입력하세요: apple\n",
            "1. 등록하기\n",
            "2. 출력하기\n",
            "3. 검색하기\n",
            "4. 수정하기\n",
            "5. 삭제하기\n",
            "6. 종료하기\n",
            "2\n",
            "단어: banana, 뜻: 바나나, 레벨: 2\n",
            "1. 등록하기\n",
            "2. 출력하기\n",
            "3. 검색하기\n",
            "4. 수정하기\n",
            "5. 삭제하기\n",
            "6. 종료하기\n",
            "5\n",
            "삭제할 단어를 입력하세요: 1\n",
            "삭제할 단어가 없습니다.\n",
            "1. 등록하기\n",
            "2. 출력하기\n",
            "3. 검색하기\n",
            "4. 수정하기\n",
            "5. 삭제하기\n",
            "6. 종료하기\n",
            "6\n"
          ]
        }
      ]
    },
    {
      "cell_type": "markdown",
      "source": [
        "# 5. MVC 패턴\n",
        "* 디자인 패턴 중 하나\n",
        "* M(Model), V(View), C(Controller)의 약자\n",
        "* 사용자가 view를 통해 controller를 조작하면 controller는 model을 통해 데이터를 가져오고, 그 정보를 통해 시각적인 담당을 하는 view를 다시 제어해서 사용자에게 전달됨\n",
        "* Model\n",
        "    - 애플리케이션의 정보, 데이터를 나타냄\n",
        "    - 사용자가 편집하길 원하는 모든 데이터를 가지고 있음\n",
        "    - 뷰나 컨트롤러에 대해서 어떤 정보도 알지 말아야 함\n",
        "    - 변경이 일어나면 변경 통지에 대한 처리방법을 구현해야 함\n",
        "* View\n",
        "    - 텍스트, 체크박스 등과 같은 사용자 인터페이스 요소를 나타냄\n",
        "    - 모델이 가지고 있는 정보를 따로 저장해서는 안됨\n",
        "    - 모델이나 컨트롤러와 같이 다른 구성요소들을 몰라야 함\n",
        "* Controller\n",
        "    - 데이터와 사용자 인터페이스 요소들을 연결하는 다리 역할\n",
        "    - 모델이나 뷰에 대해 알고 있어야 함\n",
        "    - 모델이나 뷰의 변경을 모니터링 해야 함\n",
        "    - 애플리케이션의 메인 로직은 컨트롤러가 담당\n",
        "\n",
        ">✔ 디자인 패턴\n",
        "* 프로그램이나 어떤 특정한 것을 개발하는 중에 발생했던 문제점들을 정리해서 상황에 따라 간편하게 적용하여 쓸 수 있는 것을 정리한 '규약'을 통해 형태로 만든 것"
      ],
      "metadata": {
        "id": "ob5u3cFOugXU"
      }
    }
  ]
}