{
  "nbformat": 4,
  "nbformat_minor": 0,
  "metadata": {
    "colab": {
      "provenance": []
    },
    "kernelspec": {
      "name": "python3",
      "display_name": "Python 3"
    },
    "language_info": {
      "name": "python"
    }
  },
  "cells": [
    {
      "cell_type": "markdown",
      "source": [
        "# 1. 콜백함수(Callback Function)\n",
        "* 직접 호출하는 것이 아닌 다른 함수에 의해 호출되는 함수"
      ],
      "metadata": {
        "id": "WaUVs4itDMti"
      }
    },
    {
      "cell_type": "code",
      "source": [
        "def callback_func(func): # 함수의 주소값으로 탐색\n",
        "    for i in range(5):\n",
        "        func()           # 주소값의 함수 호출\n",
        "\n",
        "def print_hello():\n",
        "    print('안녕하세요! Python!')"
      ],
      "metadata": {
        "id": "e4sg_VHJDsP2"
      },
      "execution_count": 1,
      "outputs": []
    },
    {
      "cell_type": "code",
      "source": [
        "print_hello()"
      ],
      "metadata": {
        "colab": {
          "base_uri": "https://localhost:8080/"
        },
        "id": "sokSTeItEkBt",
        "outputId": "d3dba176-cf7e-41b3-95a7-226b52ce454b"
      },
      "execution_count": 2,
      "outputs": [
        {
          "output_type": "stream",
          "name": "stdout",
          "text": [
            "안녕하세요! Python!\n"
          ]
        }
      ]
    },
    {
      "cell_type": "code",
      "source": [
        "callback_func(print_hello) # 소괄호 x\n",
        "# 가능한 이유: 파이썬에서는 함수도 객체로 되어있기에 주소가 있음"
      ],
      "metadata": {
        "colab": {
          "base_uri": "https://localhost:8080/"
        },
        "id": "KsSk6-OyEluk",
        "outputId": "abf305dc-a1fb-4fa3-d508-78cc627c1c08"
      },
      "execution_count": 3,
      "outputs": [
        {
          "output_type": "stream",
          "name": "stdout",
          "text": [
            "안녕하세요! Python!\n",
            "안녕하세요! Python!\n",
            "안녕하세요! Python!\n",
            "안녕하세요! Python!\n",
            "안녕하세요! Python!\n"
          ]
        }
      ]
    },
    {
      "cell_type": "code",
      "source": [
        "def callback_func(func):\n",
        "    for i in range(5):\n",
        "        func(i)\n",
        "\n",
        "def print_hello(num):\n",
        "    print(f'{num+1}번째 안녕하세요! Python!')"
      ],
      "metadata": {
        "id": "XzFeVb-cEoc0"
      },
      "execution_count": 4,
      "outputs": []
    },
    {
      "cell_type": "code",
      "source": [
        "callback_func(print_hello)"
      ],
      "metadata": {
        "colab": {
          "base_uri": "https://localhost:8080/"
        },
        "id": "M4yxBQcRFNaN",
        "outputId": "26b93cb1-815d-43a0-a80a-3e88c9b343dc"
      },
      "execution_count": 5,
      "outputs": [
        {
          "output_type": "stream",
          "name": "stdout",
          "text": [
            "1번째 안녕하세요! Python!\n",
            "2번째 안녕하세요! Python!\n",
            "3번째 안녕하세요! Python!\n",
            "4번째 안녕하세요! Python!\n",
            "5번째 안녕하세요! Python!\n"
          ]
        }
      ]
    },
    {
      "cell_type": "markdown",
      "source": [
        "# 2.람다 함수(Lambda Function)\n",
        "* 단일문으로 표현되는 익명함수(포인터 없음)\n",
        "* 코드상에서 한번만 사용되는 기능이 있을 때, 굳이 함수를 만들지 않고 일회성으로 만들어 사용(함수는 클래스를 통해 생성된 객체)\n",
        "* 무조건 Return 형"
      ],
      "metadata": {
        "id": "84i_WH_8FQGU"
      }
    },
    {
      "cell_type": "code",
      "source": [
        "def square(x):\n",
        "    return x ** 2\n",
        "\n",
        "print(square(4))"
      ],
      "metadata": {
        "colab": {
          "base_uri": "https://localhost:8080/"
        },
        "id": "x9ElGsZeFjjc",
        "outputId": "e866c693-a647-435d-e3e8-b11f97b7ffd4"
      },
      "execution_count": 6,
      "outputs": [
        {
          "output_type": "stream",
          "name": "stdout",
          "text": [
            "16\n"
          ]
        }
      ]
    },
    {
      "cell_type": "code",
      "source": [
        "lambda x : x ** 2\n",
        "\n",
        "square = lambda x : x ** 2 # 실제에서는 이렇게 사용되지 않음\n",
        "print(square(4))"
      ],
      "metadata": {
        "colab": {
          "base_uri": "https://localhost:8080/"
        },
        "id": "ClXapIjGJ-At",
        "outputId": "a2cff05e-e2ec-4736-e30d-ff8fe6dab146"
      },
      "execution_count": 7,
      "outputs": [
        {
          "output_type": "stream",
          "name": "stdout",
          "text": [
            "16\n"
          ]
        }
      ]
    },
    {
      "cell_type": "code",
      "source": [
        "(lambda x : x ** 2)(4)"
      ],
      "metadata": {
        "colab": {
          "base_uri": "https://localhost:8080/"
        },
        "id": "E74Qmo2pKYs0",
        "outputId": "a1ed91cd-2f8e-485a-bafe-3dc19ea065af"
      },
      "execution_count": 8,
      "outputs": [
        {
          "output_type": "execute_result",
          "data": {
            "text/plain": [
              "16"
            ]
          },
          "metadata": {},
          "execution_count": 8
        }
      ]
    },
    {
      "cell_type": "code",
      "source": [
        "def myData(string):\n",
        "    return len(string.strip())"
      ],
      "metadata": {
        "id": "dIUbZRXGK41M"
      },
      "execution_count": 9,
      "outputs": []
    },
    {
      "cell_type": "code",
      "source": [
        "print(myData('apple'))\n",
        "print(myData('   apple   '))"
      ],
      "metadata": {
        "colab": {
          "base_uri": "https://localhost:8080/"
        },
        "id": "crK0DioQLDs0",
        "outputId": "5a5be30b-a204-4294-97f5-8b1c50d7c796"
      },
      "execution_count": 10,
      "outputs": [
        {
          "output_type": "stream",
          "name": "stdout",
          "text": [
            "5\n",
            "5\n"
          ]
        }
      ]
    },
    {
      "cell_type": "code",
      "source": [
        "data = ['watermelon','            apple         ','     banana     ','   avocado   ','  strawberry  ']"
      ],
      "metadata": {
        "id": "cM7wjH_0LPVc"
      },
      "execution_count": 11,
      "outputs": []
    },
    {
      "cell_type": "code",
      "source": [
        "print(sorted(data))"
      ],
      "metadata": {
        "colab": {
          "base_uri": "https://localhost:8080/"
        },
        "id": "brFhxf9ZLcmJ",
        "outputId": "3903bade-042c-4c09-9201-a5763af04f85"
      },
      "execution_count": 12,
      "outputs": [
        {
          "output_type": "stream",
          "name": "stdout",
          "text": [
            "['            apple         ', '     banana     ', '   avocado   ', '  strawberry  ', 'watermelon']\n"
          ]
        }
      ]
    },
    {
      "cell_type": "code",
      "source": [
        "print(sorted(data, key=myData))"
      ],
      "metadata": {
        "colab": {
          "base_uri": "https://localhost:8080/"
        },
        "id": "VH1OcUpGLkj0",
        "outputId": "f96f8c9c-757a-4591-9dab-cf79f1d38098"
      },
      "execution_count": 13,
      "outputs": [
        {
          "output_type": "stream",
          "name": "stdout",
          "text": [
            "['            apple         ', '     banana     ', '   avocado   ', 'watermelon', '  strawberry  ']\n"
          ]
        }
      ]
    },
    {
      "cell_type": "code",
      "source": [
        "# 람다 함수를 사용하여 위 예제를 변경\n",
        "print(sorted(data, key=lambda string: len(string.strip())))"
      ],
      "metadata": {
        "colab": {
          "base_uri": "https://localhost:8080/"
        },
        "id": "e-aFoL2EL3K0",
        "outputId": "a88c49b4-ac26-44a7-8d68-1f0a274860b1"
      },
      "execution_count": 14,
      "outputs": [
        {
          "output_type": "stream",
          "name": "stdout",
          "text": [
            "['            apple         ', '     banana     ', '   avocado   ', 'watermelon', '  strawberry  ']\n"
          ]
        }
      ]
    },
    {
      "cell_type": "markdown",
      "source": [
        "## 2-1. 람다가 유용하게 사용되는 대표적인 함수"
      ],
      "metadata": {
        "id": "Ubo7Q14nMjm-"
      }
    },
    {
      "cell_type": "code",
      "source": [
        "# filter(): 특정 조건을 만족하는 요소만 남기고 필터링\n",
        "li = [1, 2, 3, 4, 7, 9, 10, 14, 15, 19, 20]\n",
        "\n",
        "result = list(filter(lambda n: n%2 == 0, li))\n",
        "print(result)"
      ],
      "metadata": {
        "colab": {
          "base_uri": "https://localhost:8080/"
        },
        "id": "YZfx_LrlNjAz",
        "outputId": "ca0b0117-8f46-4f7f-a07b-795d1da75ac1"
      },
      "execution_count": 15,
      "outputs": [
        {
          "output_type": "stream",
          "name": "stdout",
          "text": [
            "[2, 4, 10, 14, 20]\n"
          ]
        }
      ]
    },
    {
      "cell_type": "code",
      "source": [
        "def even(n):\n",
        "    if n % 2 ==0:\n",
        "        return True\n",
        "    else:\n",
        "        return False\n",
        "\n",
        "result = list(filter(even, li)) # filter()는 콜백함수!\n",
        "print(result)"
      ],
      "metadata": {
        "colab": {
          "base_uri": "https://localhost:8080/"
        },
        "id": "ZyeL3RJYN2GS",
        "outputId": "b57004eb-0e7b-4001-c88c-c2fbf92cc5ba"
      },
      "execution_count": 16,
      "outputs": [
        {
          "output_type": "stream",
          "name": "stdout",
          "text": [
            "[2, 4, 10, 14, 20]\n"
          ]
        }
      ]
    },
    {
      "cell_type": "code",
      "source": [
        "# map(): 각 원소를 주어진 수식에 따라 변형하여 새로운 값을 반환\n",
        "li = [1, 2, 3, 4, 7, 9, 10, 14, 15, 19, 20]\n",
        "\n",
        "per = list(map(lambda n: n * 0.01, li))\n",
        "print(per)"
      ],
      "metadata": {
        "colab": {
          "base_uri": "https://localhost:8080/"
        },
        "id": "xpKwK7MHPcUY",
        "outputId": "870ac834-95a0-4ffd-b321-0a460ac51aa7"
      },
      "execution_count": 17,
      "outputs": [
        {
          "output_type": "stream",
          "name": "stdout",
          "text": [
            "[0.01, 0.02, 0.03, 0.04, 0.07, 0.09, 0.1, 0.14, 0.15, 0.19, 0.2]\n"
          ]
        }
      ]
    },
    {
      "cell_type": "code",
      "source": [
        "def percent(n):\n",
        "    return n * 0.01\n",
        "\n",
        "per = list(map(percent, li)) # map()은 콜백함수!\n",
        "print(per)"
      ],
      "metadata": {
        "colab": {
          "base_uri": "https://localhost:8080/"
        },
        "id": "-W0X-pLgPvJ9",
        "outputId": "e2a9e8c6-c405-4bc3-b2cf-81768b32a446"
      },
      "execution_count": 18,
      "outputs": [
        {
          "output_type": "stream",
          "name": "stdout",
          "text": [
            "[0.01, 0.02, 0.03, 0.04, 0.07, 0.09, 0.1, 0.14, 0.15, 0.19, 0.2]\n"
          ]
        }
      ]
    }
  ]
}