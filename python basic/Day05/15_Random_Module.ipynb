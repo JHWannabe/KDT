{
  "cells": [
    {
      "cell_type": "markdown",
      "metadata": {
        "id": "R7puukQKkcYe"
      },
      "source": [
        "# 1. 랜덤(random) 모듈\n",
        "* 임의의 숫자를 무작위로 반환"
      ]
    },
    {
      "cell_type": "markdown",
      "metadata": {
        "id": "RU_QBGxOlLru"
      },
      "source": [
        "## 1-1. random()\n",
        "* 0이상 1미만의 실수 중에서 무작위로 하나를 뽑아 반환"
      ]
    },
    {
      "cell_type": "code",
      "execution_count": 1,
      "metadata": {
        "colab": {
          "base_uri": "https://localhost:8080/"
        },
        "id": "VgJ1-MrrlZkH",
        "outputId": "baf8d6f6-ab01-4b46-8416-10841553d77c"
      },
      "outputs": [
        {
          "name": "stdout",
          "output_type": "stream",
          "text": [
            "0.7639029319659469\n",
            "7.639029319659469\n",
            "7\n",
            "8\n"
          ]
        }
      ],
      "source": [
        "import random\n",
        "\n",
        "num = random.random()\n",
        "print(num)\n",
        "num = num * 10\n",
        "print(num)\n",
        "num = int(num) # 0~9까지 정수\n",
        "print(num)\n",
        "num = int(num + 1) # 1~10까지 정수\n",
        "print(num)"
      ]
    },
    {
      "cell_type": "code",
      "execution_count": 3,
      "metadata": {
        "colab": {
          "base_uri": "https://localhost:8080/"
        },
        "id": "6E5mEh8xmwVG",
        "outputId": "51a724cf-263a-4672-b720-c1bb4f3dfe22"
      },
      "outputs": [
        {
          "name": "stdout",
          "output_type": "stream",
          "text": [
            "7\n"
          ]
        }
      ],
      "source": [
        "# 1~10까지 정수\n",
        "num = int(random.random() * 10 + 1)\n",
        "print(num)"
      ]
    },
    {
      "cell_type": "markdown",
      "metadata": {
        "id": "kcG_bay4m6K9"
      },
      "source": [
        "## 1-2. randrange()\n",
        "* 원하는 범위를 입력하여 범위의 무작위 정수를 반환"
      ]
    },
    {
      "cell_type": "code",
      "execution_count": 5,
      "metadata": {
        "colab": {
          "base_uri": "https://localhost:8080/"
        },
        "id": "DJ7Mik0pngnH",
        "outputId": "18d51155-0b77-4fa8-d8e8-73029e81427a"
      },
      "outputs": [
        {
          "data": {
            "text/plain": [
              "23"
            ]
          },
          "execution_count": 5,
          "metadata": {},
          "output_type": "execute_result"
        }
      ],
      "source": [
        "random.randrange(1, 46)"
      ]
    },
    {
      "cell_type": "markdown",
      "metadata": {
        "id": "7egF3qfVnjfl"
      },
      "source": [
        "## 1-3. shuffle()\n",
        "* 자료구조에 저장된 값을 무작위로 섞음\n",
        "* inplace 연산"
      ]
    },
    {
      "cell_type": "code",
      "execution_count": 8,
      "metadata": {
        "colab": {
          "base_uri": "https://localhost:8080/"
        },
        "id": "qWdvfTzbn22t",
        "outputId": "20705be6-18e6-4775-e0ef-e19577224b9c"
      },
      "outputs": [
        {
          "data": {
            "text/plain": [
              "['오랜지', '이메론', '채애리', '김사과', '반하나']"
            ]
          },
          "execution_count": 8,
          "metadata": {},
          "output_type": "execute_result"
        }
      ],
      "source": [
        "li = ['김사과','반하나','오랜지','이메론','채애리']\n",
        "random.shuffle(li)\n",
        "li"
      ]
    },
    {
      "cell_type": "markdown",
      "metadata": {
        "id": "IMtM0d_hoCOu"
      },
      "source": [
        "## 1-4. choice()\n",
        "* 자료구조에 저장된 값 중 하나를 무작위로 반환"
      ]
    },
    {
      "cell_type": "code",
      "execution_count": 9,
      "metadata": {
        "colab": {
          "base_uri": "https://localhost:8080/",
          "height": 35
        },
        "id": "LmtGzK1PoeDm",
        "outputId": "ac0279be-d2ed-48ce-d0a0-579c0010bff7"
      },
      "outputs": [
        {
          "data": {
            "application/vnd.google.colaboratory.intrinsic+json": {
              "type": "string"
            },
            "text/plain": [
              "'반하나'"
            ]
          },
          "execution_count": 9,
          "metadata": {},
          "output_type": "execute_result"
        }
      ],
      "source": [
        "li = ['김사과','반하나','오랜지','이메론','채애리']\n",
        "random.choice(li)"
      ]
    },
    {
      "cell_type": "code",
      "execution_count": null,
      "metadata": {
        "id": "jmSEwRvmohvt"
      },
      "outputs": [],
      "source": [
        "bool1 = [True, False]\n",
        "random.choice(bool1)"
      ]
    },
    {
      "cell_type": "markdown",
      "metadata": {
        "id": "NVyhLAWTo93B"
      },
      "source": [
        "# 2. 과제"
      ]
    },
    {
      "attachments": {},
      "cell_type": "markdown",
      "metadata": {
        "id": "QmySEq_ppAI8"
      },
      "source": [
        "## 2-1. 주사위를 던져 주사위의 값을 맞추는 게임을 만들어보자\n",
        "\n",
        "* 주사위의 값을 입력하세요: 4\n",
        "* 주사위의 값: 3, 틀렸습니다.\n",
        "* 주사위의 값을 입력하세요: 3\n",
        "* 주사위의 값: 6, 틀렸습니다.\n",
        "* 주사위의 값을 입력하세요: 2\n",
        "* 주사위의 값: 2, 맞았습니다. 게임을 종료합니다."
      ]
    },
    {
      "cell_type": "markdown",
      "metadata": {
        "id": "OCyS8cu_pWKt"
      },
      "source": [
        "## 2-2. '가위바위보' 게임을 만들어보자\n",
        "```\n",
        "가위, 바위, 보 중 하나를 선택하세요: 가위\n",
        "컴퓨터 : 바위, 나: 가위 -> 졌습니다.\n",
        "\n",
        "가위, 바위, 보 중 하나를 선택하세요: 가위\n",
        "컴퓨터 : 가위, 나: 가위 -> 비겼습니다.\n",
        "\n",
        "가위, 바위, 보 중 하나를 선택하세요: 가위\n",
        "컴퓨터 : 보, 나: 가위 -> 이겼습니다.\n",
        "\n",
        "```"
      ]
    },
    {
      "cell_type": "markdown",
      "metadata": {
        "id": "a9M5MiJdqnmx"
      },
      "source": [
        "## 2-3. 로또 번호 예상 프로그램을 만들어보자\n",
        "* 조건\n",
        "    * 1~45까지 6개의 숫자를 무작위로 추출\n",
        "    * 중복되면 안됨\n",
        "    * 오름차순으로 정렬\n",
        "    * 보너스 숫자는 생각하지 않음\n"
      ]
    },
    {
      "attachments": {},
      "cell_type": "markdown",
      "metadata": {
        "id": "lv430gDTrNZR"
      },
      "source": [
        "## 2-4. 주민등록번호 유효성 검사 프로그램을 만들어보자\n",
        "* 001011-3068518\n",
        "* 0 0 1 0 1 1 3 0 6 8 5 1 8 (마지막 자리는 잠시 빼둠)\n",
        "* 2 3 4 5 6 7 8 9 2 3 4 5   (숫자를 각 자리에 곱함)\n",
        "* 0 0 4 0 6 7 24 0 12 24 20 5 (숫자를 모두 더함)\n",
        "* 102 % 11 (11로 나눈 나머지 값)\n",
        "* 11 - 3 (해당 값을 11에서 뺌, 단 값이 2자리인 경우 10으로 나눈 나머지 값을 구함)\n",
        "* 8 (주민등록번호의 마지막 자리와 일치하면 맞는 주민등록번호임)"
      ]
    },
    {
      "cell_type": "markdown",
      "metadata": {},
      "source": []
    }
  ],
  "metadata": {
    "colab": {
      "provenance": []
    },
    "kernelspec": {
      "display_name": "Python 3",
      "name": "python3"
    },
    "language_info": {
      "name": "python"
    }
  },
  "nbformat": 4,
  "nbformat_minor": 0
}
