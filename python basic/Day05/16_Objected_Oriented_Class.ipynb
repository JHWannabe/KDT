{
  "nbformat": 4,
  "nbformat_minor": 0,
  "metadata": {
    "colab": {
      "provenance": []
    },
    "kernelspec": {
      "name": "python3",
      "display_name": "Python 3"
    },
    "language_info": {
      "name": "python"
    }
  },
  "cells": [
    {
      "cell_type": "markdown",
      "source": [
        "# 1. 객체지향 프로그래밍\n",
        "* 문제를 여러 개의 객체 단위로 나눠 작업하는 방식"
      ],
      "metadata": {
        "id": "Atah-zwjx0Bj"
      }
    },
    {
      "cell_type": "markdown",
      "source": [
        "## 1-1. 객체(Object)란?\n",
        "* 물리적으로 존재하거나 추상적으로 생각할 수 있는 것 중에서 자신의 속성을 가지고 있고 다른 것과 식별 가능한 것을 말함"
      ],
      "metadata": {
        "id": "xQDdQWxlyISk"
      }
    },
    {
      "cell_type": "markdown",
      "source": [
        "##1-2. 클래스(Class)란?\n",
        "* 객체를 생성하기 위한 일종의 설계도와 같음\n",
        "* 클래스는 프로퍼티(필드), 메소드(함수)로 구성되어 있음\n",
        "    * 프로퍼티(Property): 데이터가 저장되는 곳\n",
        "    * 메소드(Method): 객체의 동작에 해당하는 실행 블럭"
      ],
      "metadata": {
        "id": "r8U2SjrzySQu"
      }
    },
    {
      "cell_type": "markdown",
      "source": [
        "## 1-3. 클래스와 객체\n",
        "* 건축 설계도가 클래스라면, 실제로 지어진 건물은 객체\n",
        "* 객체는 클래스로 생성되어 구체화된 인스턴스\n",
        "* 실제로 클래스가 인스턴스화되어 메모리에 상주하는 형태를 객체라고 부름.\n",
        "* 파이썬의 모든 변수와 함수는 객체로 저장"
      ],
      "metadata": {
        "id": "IKH449Su22iz"
      }
    },
    {
      "cell_type": "markdown",
      "source": [
        "# 2. 클래스 만들기\n",
        "```\n",
        "class 클래스명:\n",
        "    property명1 = 값1\n",
        "    property명2 = 값2\n",
        "    ...\n",
        "    def method명1(self, 변수1, 변수2,...):\n",
        "        메소드가 호출되면 실행할 문장1\n",
        "    def method명2(self, 변수1, 변수2,...):\n",
        "        메소드가 호출되면 실행할 문장2\n",
        "```\n",
        "\n",
        "* 클래스를 통해 호출되는 변수를 프로퍼티(필드)라고 부름\n",
        "* 클래스를 통해 호출되는 함수를 메소드라고 부름\n",
        "* 클래스의 각 호출한 객체를 가리킴"
      ],
      "metadata": {
        "id": "QbzEYnkL3Vix"
      }
    },
    {
      "cell_type": "code",
      "source": [
        "class Dog:\n",
        "    pass # 내용이 없는 블록을 만들 때 사용"
      ],
      "metadata": {
        "id": "6BnfqrtU3xIF"
      },
      "execution_count": 1,
      "outputs": []
    },
    {
      "cell_type": "code",
      "source": [
        "def func1():\n",
        "    pass"
      ],
      "metadata": {
        "id": "k83Hzi9V4STf"
      },
      "execution_count": 2,
      "outputs": []
    },
    {
      "cell_type": "code",
      "source": [
        "# 클래스를 통해 객체를 생성\n",
        "Rucy = Dog()\n",
        "print(Rucy)\n",
        "print(type(Rucy))"
      ],
      "metadata": {
        "colab": {
          "base_uri": "https://localhost:8080/"
        },
        "id": "TOrLqgPX4W-1",
        "outputId": "865b1c83-f1ea-42a6-a49e-89b624302d79"
      },
      "execution_count": 3,
      "outputs": [
        {
          "output_type": "stream",
          "name": "stdout",
          "text": [
            "<__main__.Dog object at 0x7fc364228910>\n",
            "<class '__main__.Dog'>\n"
          ]
        }
      ]
    },
    {
      "cell_type": "code",
      "source": [
        "li1 = [1, 2, 3, 4, 5]\n",
        "print(li1)\n",
        "print(type(li1))\n",
        "print(id(li1))"
      ],
      "metadata": {
        "colab": {
          "base_uri": "https://localhost:8080/"
        },
        "id": "YMLEGeG_5uW2",
        "outputId": "15963151-e1e0-414e-8ade-6f2180ea9b0e"
      },
      "execution_count": 4,
      "outputs": [
        {
          "output_type": "stream",
          "name": "stdout",
          "text": [
            "[1, 2, 3, 4, 5]\n",
            "<class 'list'>\n",
            "140477227565952\n"
          ]
        }
      ]
    },
    {
      "cell_type": "code",
      "source": [
        "PPomi = Dog()\n",
        "print(PPomi)\n",
        "print(type(PPomi))"
      ],
      "metadata": {
        "colab": {
          "base_uri": "https://localhost:8080/"
        },
        "id": "z6t6qFyI5zx8",
        "outputId": "f4bd8fbf-2857-4bbc-afd8-b2e5542cca1e"
      },
      "execution_count": 5,
      "outputs": [
        {
          "output_type": "stream",
          "name": "stdout",
          "text": [
            "<__main__.Dog object at 0x7fc3642288e0>\n",
            "<class '__main__.Dog'>\n"
          ]
        }
      ]
    },
    {
      "cell_type": "code",
      "source": [
        "li2 = list([1, 2, 3, 4, 5])\n",
        "print(li2)\n",
        "print(type(li2))\n",
        "print(id(li2))"
      ],
      "metadata": {
        "colab": {
          "base_uri": "https://localhost:8080/"
        },
        "id": "lHpaJokt573d",
        "outputId": "54f22099-7aa3-435a-f7e5-6d7f44b13474"
      },
      "execution_count": 6,
      "outputs": [
        {
          "output_type": "stream",
          "name": "stdout",
          "text": [
            "[1, 2, 3, 4, 5]\n",
            "<class 'list'>\n",
            "140477175370304\n"
          ]
        }
      ]
    },
    {
      "cell_type": "code",
      "source": [
        "class Dog:\n",
        "    name = '루시'\n",
        "    age = 13\n",
        "    family = '포메'\n",
        "\n",
        "    def eat(self):\n",
        "        print(self)\n",
        "        print('사료를 먹습니다.')"
      ],
      "metadata": {
        "id": "GAzJk5Dc6zu9"
      },
      "execution_count": 7,
      "outputs": []
    },
    {
      "cell_type": "code",
      "source": [
        "Rucy = Dog()\n",
        "print(Rucy.name)\n",
        "print(Rucy.age)\n",
        "print(Rucy.family)\n",
        "Rucy.eat()\n",
        "print(id(Rucy))"
      ],
      "metadata": {
        "colab": {
          "base_uri": "https://localhost:8080/"
        },
        "id": "mIAzzHiq7puv",
        "outputId": "c42ccacd-cb8b-43a4-d0ff-3d3beb5d1451"
      },
      "execution_count": 8,
      "outputs": [
        {
          "output_type": "stream",
          "name": "stdout",
          "text": [
            "루시\n",
            "13\n",
            "포메\n",
            "<__main__.Dog object at 0x7fc364233640>\n",
            "사료를 먹습니다.\n",
            "140477175379520\n"
          ]
        }
      ]
    },
    {
      "cell_type": "code",
      "source": [
        "PPomi = Dog()\n",
        "print(PPomi.name)\n",
        "print(PPomi.age)\n",
        "print(PPomi.family)\n",
        "PPomi.eat()\n",
        "print(id(PPomi))"
      ],
      "metadata": {
        "colab": {
          "base_uri": "https://localhost:8080/"
        },
        "id": "5rssS9Qx73dl",
        "outputId": "75881694-f772-449e-84b9-21a12924ea36"
      },
      "execution_count": 9,
      "outputs": [
        {
          "output_type": "stream",
          "name": "stdout",
          "text": [
            "루시\n",
            "13\n",
            "포메\n",
            "<__main__.Dog object at 0x7fc364228220>\n",
            "사료를 먹습니다.\n",
            "140477175333408\n"
          ]
        }
      ]
    },
    {
      "cell_type": "markdown",
      "source": [
        "# 3. 생성자(Constructor)\n",
        "* 클래스를 객체화 시킬 때 가장 먼저 자동으로 실행되는 메소드\n",
        "```\n",
        "__init__(self) \n",
        "```\n",
        "* 생성자에서는 해당 클래스가 다루는 데이터를 정의하고 초기화함"
      ],
      "metadata": {
        "id": "X-zk2yaF8ZjV"
      }
    },
    {
      "cell_type": "code",
      "source": [
        "class Dog:\n",
        "    def __init__(self):\n",
        "        print(self, 'init 호출!')"
      ],
      "metadata": {
        "id": "jlEXeXTEDNoP"
      },
      "execution_count": 10,
      "outputs": []
    },
    {
      "cell_type": "code",
      "source": [
        "Rucy = Dog()"
      ],
      "metadata": {
        "colab": {
          "base_uri": "https://localhost:8080/"
        },
        "id": "dpbpxIZLDeeO",
        "outputId": "618dc96e-03ea-4784-da00-82f82977d13c"
      },
      "execution_count": 11,
      "outputs": [
        {
          "output_type": "stream",
          "name": "stdout",
          "text": [
            "<__main__.Dog object at 0x7fc364228e50> init 호출!\n"
          ]
        }
      ]
    },
    {
      "cell_type": "code",
      "source": [
        "class Dog:\n",
        "    def __init__(self):\n",
        "        self.name = '이름없음'\n",
        "        self.age = 0"
      ],
      "metadata": {
        "id": "Z09lR6NwDif2"
      },
      "execution_count": 12,
      "outputs": []
    },
    {
      "cell_type": "code",
      "source": [
        "Rucy = Dog()\n",
        "print(Rucy)\n",
        "print(Rucy.name)\n",
        "print(Rucy.age)"
      ],
      "metadata": {
        "colab": {
          "base_uri": "https://localhost:8080/"
        },
        "id": "kZ9u0jBzElXH",
        "outputId": "a48879ac-3270-4521-c6c0-10f5b967ac5a"
      },
      "execution_count": 13,
      "outputs": [
        {
          "output_type": "stream",
          "name": "stdout",
          "text": [
            "<__main__.Dog object at 0x7fc364233250>\n",
            "이름없음\n",
            "0\n"
          ]
        }
      ]
    },
    {
      "cell_type": "code",
      "source": [
        "PPomi = Dog()\n",
        "print(PPomi)\n",
        "print(PPomi.name)\n",
        "print(PPomi.age)"
      ],
      "metadata": {
        "colab": {
          "base_uri": "https://localhost:8080/"
        },
        "id": "dnhm_3eWEvF-",
        "outputId": "3440a3f5-5655-445b-8152-34c02bea2023"
      },
      "execution_count": 14,
      "outputs": [
        {
          "output_type": "stream",
          "name": "stdout",
          "text": [
            "<__main__.Dog object at 0x7fc364233a90>\n",
            "이름없음\n",
            "0\n"
          ]
        }
      ]
    },
    {
      "cell_type": "code",
      "source": [
        "Rucy.name = 'Rucy'\n",
        "Rucy.age = 13\n",
        "PPomi.name = 'PPomi'\n",
        "PPomi.age = 7\n",
        "\n",
        "print(Rucy)\n",
        "print(Rucy.name)\n",
        "print(Rucy.age)\n",
        "\n",
        "print(PPomi)\n",
        "print(PPomi.name)\n",
        "print(PPomi.age)"
      ],
      "metadata": {
        "colab": {
          "base_uri": "https://localhost:8080/"
        },
        "id": "KrZeMf0vFCF-",
        "outputId": "b7b1bac1-13e2-4dca-fce9-b0f43f8a37bf"
      },
      "execution_count": 15,
      "outputs": [
        {
          "output_type": "stream",
          "name": "stdout",
          "text": [
            "<__main__.Dog object at 0x7fc364233250>\n",
            "Rucy\n",
            "13\n",
            "<__main__.Dog object at 0x7fc364233a90>\n",
            "PPomi\n",
            "7\n"
          ]
        }
      ]
    },
    {
      "cell_type": "code",
      "source": [
        "class Dog:\n",
        "    def __init__(self):\n",
        "        self.name = '이름없음'\n",
        "        self.age = 0\n",
        "        # nickname = '닉네임없음' # 메소드 안에서만 사용할 수 있는 지역변수\n",
        "        self.nickname = '닉네임없음'\n",
        "        # print(f'{nickname} 객체가 생성됨')\n",
        "    \n",
        "    # def go(self):\n",
        "        # print(f'{nickname}가 달립니다!') # NameError: name 'nickname' is not defined\n",
        "\n",
        "    def go(self):\n",
        "        print(f'{self.nickname}가 달립니다!')"
      ],
      "metadata": {
        "id": "d9PfULkgFYfn"
      },
      "execution_count": 16,
      "outputs": []
    },
    {
      "cell_type": "code",
      "source": [
        "Rucy = Dog()\n",
        "Rucy.name = '루시'\n",
        "Rucy.go()"
      ],
      "metadata": {
        "colab": {
          "base_uri": "https://localhost:8080/"
        },
        "id": "Hbzbp_xnGjeH",
        "outputId": "1f4a23aa-136d-47d6-8342-97ddc748c028"
      },
      "execution_count": 17,
      "outputs": [
        {
          "output_type": "stream",
          "name": "stdout",
          "text": [
            "닉네임없음가 달립니다!\n"
          ]
        }
      ]
    },
    {
      "cell_type": "code",
      "source": [
        "class Dog:\n",
        "    def __init__(self, name, age, nickname='닉네임없음'):\n",
        "        self.name = name\n",
        "        self.age = age\n",
        "        self.nickname = nickname"
      ],
      "metadata": {
        "id": "FWp8TlJWGnjX"
      },
      "execution_count": 18,
      "outputs": []
    },
    {
      "cell_type": "code",
      "source": [
        "# Rucy = Dog() # 매개변수를 보내지 않아 에러가 발생!"
      ],
      "metadata": {
        "id": "7kKnLuJGISNP"
      },
      "execution_count": 19,
      "outputs": []
    },
    {
      "cell_type": "code",
      "source": [
        "Rucy = Dog('루시', 13)\n",
        "\n",
        "print(Rucy.name)\n",
        "print(Rucy.age)\n",
        "print(Rucy.nickname)"
      ],
      "metadata": {
        "colab": {
          "base_uri": "https://localhost:8080/"
        },
        "id": "HprdWw7FIV9e",
        "outputId": "66669fed-639a-46fd-f8d5-8ea236664827"
      },
      "execution_count": 20,
      "outputs": [
        {
          "output_type": "stream",
          "name": "stdout",
          "text": [
            "루시\n",
            "13\n",
            "닉네임없음\n"
          ]
        }
      ]
    },
    {
      "cell_type": "code",
      "source": [
        "PPomi = Dog('뽀미', 7, '봄')\n",
        "\n",
        "print(PPomi.name)\n",
        "print(PPomi.age)\n",
        "print(PPomi.nickname)"
      ],
      "metadata": {
        "colab": {
          "base_uri": "https://localhost:8080/"
        },
        "id": "zfM2sqNvIaK4",
        "outputId": "2889a1ab-e15e-4927-fa91-83e13bf91a1d"
      },
      "execution_count": 21,
      "outputs": [
        {
          "output_type": "stream",
          "name": "stdout",
          "text": [
            "뽀미\n",
            "7\n",
            "봄\n"
          ]
        }
      ]
    },
    {
      "cell_type": "markdown",
      "source": [
        "# 4. 메소드\n",
        "* 해당 클래스의 객체에서만 호출가능한 함수\n",
        "* 해당 객체의 속성에 대한 연산을 행함\n",
        "* 객체이름.메소드명() 형태로 호출함"
      ],
      "metadata": {
        "id": "98ysDt4-3tvd"
      }
    },
    {
      "cell_type": "markdown",
      "source": [
        "## 4-1. 메소드 정의하기"
      ],
      "metadata": {
        "id": "MizoF5Fy-0Ll"
      }
    },
    {
      "cell_type": "code",
      "source": [
        "class Counter:\n",
        "    def __init__(self):\n",
        "        self.num = 0\n",
        "    def increment(self): # 은닉성. 메소드를 통해서 프로퍼티를 수정하게끔 함. (직접 수정 x)\n",
        "        self.num += 1\n",
        "    def decrement(self):\n",
        "        self.num -= 1\n",
        "    def current_value(self):\n",
        "        return self.num\n",
        "    def reset(self):\n",
        "        self.num = 0"
      ],
      "metadata": {
        "id": "58caSSWN5ytO"
      },
      "execution_count": 22,
      "outputs": []
    },
    {
      "cell_type": "code",
      "source": [
        "KBbank = Counter()\n",
        "print(KBbank.current_value())\n",
        "KBbank.increment()\n",
        "print(KBbank.current_value())\n",
        "KBbank.decrement()\n",
        "print(KBbank.current_value())"
      ],
      "metadata": {
        "colab": {
          "base_uri": "https://localhost:8080/"
        },
        "id": "MNyEQP7T60Oj",
        "outputId": "9bfc0f7e-7766-4554-fc8f-532b0138b353"
      },
      "execution_count": 23,
      "outputs": [
        {
          "output_type": "stream",
          "name": "stdout",
          "text": [
            "0\n",
            "1\n",
            "0\n"
          ]
        }
      ]
    },
    {
      "cell_type": "code",
      "source": [
        "for _ in range(5):\n",
        "    KBbank.increment()\n",
        "print(f'현재 대기인원 : {KBbank.current_value()}')"
      ],
      "metadata": {
        "colab": {
          "base_uri": "https://localhost:8080/"
        },
        "id": "iMyP_ENp65fT",
        "outputId": "716ec7bf-0670-436e-d728-708031ed774d"
      },
      "execution_count": 24,
      "outputs": [
        {
          "output_type": "stream",
          "name": "stdout",
          "text": [
            "현재 대기인원 : 5\n"
          ]
        }
      ]
    },
    {
      "cell_type": "code",
      "source": [
        "HanaBank = Counter()\n",
        "print(f'현재 대기인원 : {HanaBank.current_value()}')"
      ],
      "metadata": {
        "colab": {
          "base_uri": "https://localhost:8080/"
        },
        "id": "ZxAmTqEX9xND",
        "outputId": "9ac8f8b0-b960-4d72-8962-c217f01730bd"
      },
      "execution_count": 25,
      "outputs": [
        {
          "output_type": "stream",
          "name": "stdout",
          "text": [
            "현재 대기인원 : 0\n"
          ]
        }
      ]
    },
    {
      "cell_type": "code",
      "source": [
        "for _ in range(3):\n",
        "    HanaBank.increment()\n",
        "print(f'현재 대기인원 : {HanaBank.current_value()}')"
      ],
      "metadata": {
        "colab": {
          "base_uri": "https://localhost:8080/"
        },
        "id": "kf3NsHRv98e6",
        "outputId": "91ff8bea-4ee2-4ade-c880-1927ad01a962"
      },
      "execution_count": 26,
      "outputs": [
        {
          "output_type": "stream",
          "name": "stdout",
          "text": [
            "현재 대기인원 : 3\n"
          ]
        }
      ]
    },
    {
      "cell_type": "code",
      "source": [
        "HanaBank.reset()\n",
        "print(f'현재 대기인원 : {HanaBank.current_value()}')"
      ],
      "metadata": {
        "colab": {
          "base_uri": "https://localhost:8080/"
        },
        "id": "uA4gIPju-BFB",
        "outputId": "20456c87-b041-4adf-8d07-adb4fd892c50"
      },
      "execution_count": 27,
      "outputs": [
        {
          "output_type": "stream",
          "name": "stdout",
          "text": [
            "현재 대기인원 : 0\n"
          ]
        }
      ]
    },
    {
      "cell_type": "markdown",
      "source": [
        "## 4-2. 메소드 타입\n",
        "* instance method: 객체 형태로 호출되기 때문에 해당 메소드를 호출한 객체에서만 사용\n",
        "* class method: 클래스 이름으로 호출하는 메소드 (메소드 선언 위에 @staticmethod라고 표기)"
      ],
      "metadata": {
        "id": "5r3LIhSL-43g"
      }
    },
    {
      "cell_type": "code",
      "source": [
        "class Math:\n",
        "    def add(self, x, y):\n",
        "        return x + y\n",
        "    def multiply(self, x, y):\n",
        "        return x * y"
      ],
      "metadata": {
        "id": "KnOettJm_ppK"
      },
      "execution_count": 28,
      "outputs": []
    },
    {
      "cell_type": "code",
      "source": [
        "m = Math()\n",
        "result1 = m.add(8,5)\n",
        "print(result1)\n",
        "result2 = m.multiply(10,3)\n",
        "print(result2)"
      ],
      "metadata": {
        "colab": {
          "base_uri": "https://localhost:8080/"
        },
        "id": "HrvSz_iw_714",
        "outputId": "4c9195ff-7abe-4884-fe56-e984087e3c10"
      },
      "execution_count": 29,
      "outputs": [
        {
          "output_type": "stream",
          "name": "stdout",
          "text": [
            "13\n",
            "30\n"
          ]
        }
      ]
    },
    {
      "cell_type": "code",
      "source": [
        "class Math:\n",
        "    @staticmethod\n",
        "    def add(x, y): # self가 없음\n",
        "        return x + y\n",
        "    @staticmethod\n",
        "    def multiply(x, y):\n",
        "        return x * y"
      ],
      "metadata": {
        "id": "rrSwQ_mmAJQJ"
      },
      "execution_count": 30,
      "outputs": []
    },
    {
      "cell_type": "code",
      "source": [
        "result1 = Math.add(8,5)\n",
        "print(result1)\n",
        "result2 = Math.multiply(10,3)\n",
        "print(result2)"
      ],
      "metadata": {
        "colab": {
          "base_uri": "https://localhost:8080/"
        },
        "id": "Kf4zozgDBLo4",
        "outputId": "89c34fec-b078-4047-a919-dff221216d26"
      },
      "execution_count": 31,
      "outputs": [
        {
          "output_type": "stream",
          "name": "stdout",
          "text": [
            "13\n",
            "30\n"
          ]
        }
      ]
    },
    {
      "cell_type": "code",
      "source": [
        "class Math:\n",
        "    @staticmethod\n",
        "    def add(x, y):\n",
        "        return x + y\n",
        "    @staticmethod\n",
        "    def multiply(x, y):\n",
        "        return x * y\n",
        "    def divide(x, y): # 매개변수에 self가 없으면 annotation으로 @staticmethod가 자동으로 적용됨\n",
        "        return x / y\n",
        "    def div(self, x, y):\n",
        "        return x / y\n",
        "\n",
        "# @staticmethod를 사용하는 것은 프로퍼티에 접근하지 않는다고 할 때 주로 사용"
      ],
      "metadata": {
        "id": "-L4-G0APBTlY"
      },
      "execution_count": 32,
      "outputs": []
    },
    {
      "cell_type": "code",
      "source": [
        "result3 = Math.divide(10,3)\n",
        "print(result3)"
      ],
      "metadata": {
        "colab": {
          "base_uri": "https://localhost:8080/"
        },
        "id": "_yFQgr2eB5Fg",
        "outputId": "7473917f-4d13-4cc0-d066-781ca5cfbca8"
      },
      "execution_count": 33,
      "outputs": [
        {
          "output_type": "stream",
          "name": "stdout",
          "text": [
            "3.3333333333333335\n"
          ]
        }
      ]
    },
    {
      "cell_type": "code",
      "source": [
        "m = Math()\n",
        "result4 = m.div(10,3)\n",
        "print(result4)"
      ],
      "metadata": {
        "colab": {
          "base_uri": "https://localhost:8080/"
        },
        "id": "5sGqeedaCCEo",
        "outputId": "cf0c6081-dfda-45bd-f202-d1d99f6d898d"
      },
      "execution_count": 34,
      "outputs": [
        {
          "output_type": "stream",
          "name": "stdout",
          "text": [
            "3.3333333333333335\n"
          ]
        }
      ]
    }
  ]
}