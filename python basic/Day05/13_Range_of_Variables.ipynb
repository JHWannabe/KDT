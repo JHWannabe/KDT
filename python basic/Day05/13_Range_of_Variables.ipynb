{
  "nbformat": 4,
  "nbformat_minor": 0,
  "metadata": {
    "colab": {
      "provenance": []
    },
    "kernelspec": {
      "name": "python3",
      "display_name": "Python 3"
    },
    "language_info": {
      "name": "python"
    }
  },
  "cells": [
    {
      "cell_type": "markdown",
      "source": [
        "# 1. 스코프(Scope)\n",
        "* 변수의 접근할 수 있는 범위\n",
        "* local: 가장 가까운 함수안의 범위\n",
        "* global: 함수 바깥의 변수 또는 import된 module"
      ],
      "metadata": {
        "id": "dEuViCXR-PlB"
      }
    },
    {
      "cell_type": "code",
      "source": [
        "num1 = 10 # global variable (전역변수)\n",
        "\n",
        "def func1():\n",
        "    num2= 20 # local variable (지역변수)\n",
        "    print(num2)"
      ],
      "metadata": {
        "id": "oQmA-7Th-wJ8"
      },
      "execution_count": 1,
      "outputs": []
    },
    {
      "cell_type": "code",
      "source": [
        "print(num1)\n",
        "print(num2) # NameError: name 'num2' is not defined"
      ],
      "metadata": {
        "colab": {
          "base_uri": "https://localhost:8080/",
          "height": 210
        },
        "id": "noWhjXRQ-1Yd",
        "outputId": "c62e0e8b-44a7-4a82-ab5f-351baa2db383"
      },
      "execution_count": 2,
      "outputs": [
        {
          "output_type": "stream",
          "name": "stdout",
          "text": [
            "10\n"
          ]
        },
        {
          "output_type": "error",
          "ename": "NameError",
          "evalue": "ignored",
          "traceback": [
            "\u001b[0;31m---------------------------------------------------------------------------\u001b[0m",
            "\u001b[0;31mNameError\u001b[0m                                 Traceback (most recent call last)",
            "\u001b[0;32m<ipython-input-2-235389bf156e>\u001b[0m in \u001b[0;36m<module>\u001b[0;34m\u001b[0m\n\u001b[1;32m      1\u001b[0m \u001b[0mprint\u001b[0m\u001b[0;34m(\u001b[0m\u001b[0mnum1\u001b[0m\u001b[0;34m)\u001b[0m\u001b[0;34m\u001b[0m\u001b[0;34m\u001b[0m\u001b[0m\n\u001b[0;32m----> 2\u001b[0;31m \u001b[0mprint\u001b[0m\u001b[0;34m(\u001b[0m\u001b[0mnum2\u001b[0m\u001b[0;34m)\u001b[0m\u001b[0;34m\u001b[0m\u001b[0;34m\u001b[0m\u001b[0m\n\u001b[0m",
            "\u001b[0;31mNameError\u001b[0m: name 'num2' is not defined"
          ]
        }
      ]
    },
    {
      "cell_type": "code",
      "source": [
        "print(num1)\n",
        "func1()"
      ],
      "metadata": {
        "colab": {
          "base_uri": "https://localhost:8080/"
        },
        "id": "u9Ba4vr3-4ar",
        "outputId": "26d63d87-d22b-42e6-cf76-f36dad5e3f2e"
      },
      "execution_count": 3,
      "outputs": [
        {
          "output_type": "stream",
          "name": "stdout",
          "text": [
            "10\n",
            "20\n"
          ]
        }
      ]
    },
    {
      "cell_type": "code",
      "source": [
        "# locals(): 로컬 변수를 확인해주는 함수\n",
        "# globals(): 글로벌 변수를 확인해주는 함수\n",
        "\n",
        "def func1():\n",
        "    num2 = 20\n",
        "    print('num1 로컬 변수: ', 'num1' in locals())\n",
        "\n",
        "def func2():\n",
        "    num2 = 20\n",
        "    print('num2 로컬 변수: ', 'num2' in locals())\n",
        "\n",
        "def func3():\n",
        "    num2 = 20\n",
        "    print('num1 글로벌 변수: ', 'num1' in globals())\n",
        "\n",
        "def func4():\n",
        "    num2 = 20\n",
        "    print('num2 글로벌 변수: ', 'num2' in globals())"
      ],
      "metadata": {
        "id": "9eDbbSHC_VpF"
      },
      "execution_count": 5,
      "outputs": []
    },
    {
      "cell_type": "code",
      "source": [
        "func1()\n",
        "func2()\n",
        "func3()\n",
        "func4()"
      ],
      "metadata": {
        "colab": {
          "base_uri": "https://localhost:8080/"
        },
        "id": "tPydIWaWAEGi",
        "outputId": "7f866eaa-e507-4c14-ef79-71d330bcefac"
      },
      "execution_count": 6,
      "outputs": [
        {
          "output_type": "stream",
          "name": "stdout",
          "text": [
            "num1 로컬 변수:  False\n",
            "num2 로컬 변수:  True\n",
            "num1 글로벌 변수:  True\n",
            "num2 글로벌 변수:  False\n"
          ]
        }
      ]
    },
    {
      "cell_type": "code",
      "source": [
        "num1 = 10\n",
        "\n",
        "def func4():\n",
        "    num1 = 20\n",
        "    print(num1)"
      ],
      "metadata": {
        "id": "xf2ABJgLAfrE"
      },
      "execution_count": 7,
      "outputs": []
    },
    {
      "cell_type": "code",
      "source": [
        "func4()\n",
        "print(num1)"
      ],
      "metadata": {
        "colab": {
          "base_uri": "https://localhost:8080/"
        },
        "id": "H1NkcYAAAp1j",
        "outputId": "e97528fa-63d7-40b9-db01-60b29e47701b"
      },
      "execution_count": 9,
      "outputs": [
        {
          "output_type": "stream",
          "name": "stdout",
          "text": [
            "20\n",
            "10\n"
          ]
        }
      ]
    },
    {
      "cell_type": "markdown",
      "source": [
        "# 2. Global 키워드\n",
        "* 함수 내부에서 로컬변수가 아닌 글로벌 변수로 사용하게 함"
      ],
      "metadata": {
        "id": "-rvZFHjiCF7y"
      }
    },
    {
      "cell_type": "code",
      "source": [
        "num1 = 10\n",
        "\n",
        "def func5():\n",
        "    print(num1)\n",
        "\n",
        "def func6(num):\n",
        "    num1 = num # 로컬 변수에 값을 저장했으므로 글로벌 변수에 값이 변경되지 않음"
      ],
      "metadata": {
        "id": "qkv17feAA0gM"
      },
      "execution_count": 10,
      "outputs": []
    },
    {
      "cell_type": "code",
      "source": [
        "func5()\n",
        "func6(5)\n",
        "func5()"
      ],
      "metadata": {
        "colab": {
          "base_uri": "https://localhost:8080/"
        },
        "id": "RqJZXGayBh7k",
        "outputId": "b2675fb3-3f64-4cd1-eca4-179c525fffd4"
      },
      "execution_count": 13,
      "outputs": [
        {
          "output_type": "stream",
          "name": "stdout",
          "text": [
            "10\n",
            "10\n"
          ]
        }
      ]
    },
    {
      "cell_type": "code",
      "source": [
        "num1 = 10\n",
        "\n",
        "def func5():\n",
        "    print(num1)\n",
        "\n",
        "def func6(num):\n",
        "    global num1 # 글로벌 변수로 사용\n",
        "    num1 = num"
      ],
      "metadata": {
        "id": "I_DGSkmbBnt0"
      },
      "execution_count": 14,
      "outputs": []
    },
    {
      "cell_type": "code",
      "source": [
        "func5()\n",
        "func6(5)\n",
        "func5()"
      ],
      "metadata": {
        "colab": {
          "base_uri": "https://localhost:8080/"
        },
        "id": "OO7EAHUcCfGd",
        "outputId": "85bfcb02-1c2d-4f44-f390-f17681010280"
      },
      "execution_count": 15,
      "outputs": [
        {
          "output_type": "stream",
          "name": "stdout",
          "text": [
            "10\n",
            "5\n"
          ]
        }
      ]
    }
  ]
}