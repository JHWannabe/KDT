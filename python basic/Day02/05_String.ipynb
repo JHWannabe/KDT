{
  "cells": [
    {
      "cell_type": "code",
      "execution_count": 1,
      "metadata": {
        "colab": {
          "base_uri": "https://localhost:8080/"
        },
        "id": "iNXVjWXcnltB",
        "outputId": "c6eb5c52-2512-4714-fdc4-30e4904d974f"
      },
      "outputs": [
        {
          "name": "stdout",
          "output_type": "stream",
          "text": [
            "오늘은 파이썬 3일차 수업입니다.\n"
          ]
        }
      ],
      "source": [
        "str1 = '오늘은 파이썬 3일차 수업입니다.'\n",
        "print(str1)"
      ]
    },
    {
      "cell_type": "code",
      "execution_count": 2,
      "metadata": {
        "colab": {
          "base_uri": "https://localhost:8080/"
        },
        "id": "A6gT3EcdoAb3",
        "outputId": "e29d4e62-c24a-4c81-c1fe-630414fe4096"
      },
      "outputs": [
        {
          "name": "stdout",
          "output_type": "stream",
          "text": [
            "오늘은 파이썬 3일차 수업입니다.\n"
          ]
        }
      ],
      "source": [
        "str2 = \"오늘은 파이썬 3일차 수업입니다.\"\n",
        "print(str2)"
      ]
    },
    {
      "cell_type": "code",
      "execution_count": 3,
      "metadata": {
        "colab": {
          "base_uri": "https://localhost:8080/"
        },
        "id": "nelmG4GYoHQW",
        "outputId": "ce808826-4041-49f4-a3aa-0f6184064d3e"
      },
      "outputs": [
        {
          "name": "stdout",
          "output_type": "stream",
          "text": [
            "제이슨: \"오늘은 파이썬 3일차 수업입니다.\"\n",
            "제이슨: '오늘은 파이썬 3일차 수업입니다.'\n"
          ]
        }
      ],
      "source": [
        "str3 = '제이슨: \"오늘은 파이썬 3일차 수업입니다.\"'\n",
        "print(str3)\n",
        "str4 = \"제이슨: '오늘은 파이썬 3일차 수업입니다.'\"\n",
        "print(str4)"
      ]
    },
    {
      "cell_type": "code",
      "execution_count": 4,
      "metadata": {
        "colab": {
          "base_uri": "https://localhost:8080/"
        },
        "id": "6GI6Yh52ola2",
        "outputId": "e67c3168-1cbb-48a3-fd25-3c3423a02188"
      },
      "outputs": [
        {
          "name": "stdout",
          "output_type": "stream",
          "text": [
            " 제이슨:\n",
            "오늘은 파이썬 3일차\n",
            "수업입니다. \n",
            "\n"
          ]
        }
      ],
      "source": [
        "str5 = ''' 제이슨:\n",
        "오늘은 파이썬 3일차\n",
        "수업입니다. \n",
        "'''\n",
        "print(str5)"
      ]
    },
    {
      "cell_type": "markdown",
      "metadata": {
        "id": "334A0CbOqg6P"
      },
      "source": [
        "# 1. 문자열 인덱싱\n",
        "* 문자열에 번호를 매겨 특정 문자를 찾을 수 있는 기능"
      ]
    },
    {
      "cell_type": "code",
      "execution_count": 5,
      "metadata": {
        "colab": {
          "base_uri": "https://localhost:8080/"
        },
        "id": "MtK8aMCatAc3",
        "outputId": "f32f3fbe-9785-41d8-b292-583ed730d6a3"
      },
      "outputs": [
        {
          "name": "stdout",
          "output_type": "stream",
          "text": [
            "문자열에 번호를 매겨 특정 문자를 찾을 수 있는 기능\n"
          ]
        }
      ],
      "source": [
        "str = '문자열에 번호를 매겨 특정 문자를 찾을 수 있는 기능'\n",
        "print(str)"
      ]
    },
    {
      "cell_type": "code",
      "execution_count": 6,
      "metadata": {
        "colab": {
          "base_uri": "https://localhost:8080/"
        },
        "id": "EshOSfjgtf0s",
        "outputId": "c663160e-0ff1-4b43-f7a9-c0c439247e66"
      },
      "outputs": [
        {
          "name": "stdout",
          "output_type": "stream",
          "text": [
            "문\n",
            "자\n",
            "특\n",
            "능\n",
            "기\n"
          ]
        }
      ],
      "source": [
        "print(str[0])\n",
        "print(str[1])\n",
        "print(str[12])\n",
        "print(str[-1])\n",
        "print(str[-2])"
      ]
    },
    {
      "cell_type": "markdown",
      "metadata": {
        "id": "yNEZdbpVtkHt"
      },
      "source": [
        "# 2. 문자열 슬라이싱\n",
        "* 문자열에서 원하는 범위를 추출하는 기능"
      ]
    },
    {
      "cell_type": "code",
      "execution_count": 7,
      "metadata": {
        "colab": {
          "base_uri": "https://localhost:8080/"
        },
        "id": "IrRAlnOeuJIs",
        "outputId": "ab5bb7b4-c054-4f54-b1e2-358e78f5a366"
      },
      "outputs": [
        {
          "name": "stdout",
          "output_type": "stream",
          "text": [
            "문자열에서 원하는 범위를 추출하는 기능\n"
          ]
        }
      ],
      "source": [
        "str = '문자열에서 원하는 범위를 추출하는 기능'\n",
        "print(str)"
      ]
    },
    {
      "cell_type": "code",
      "execution_count": 8,
      "metadata": {
        "colab": {
          "base_uri": "https://localhost:8080/"
        },
        "id": "D9FJMKILuMM8",
        "outputId": "18202201-b7c2-41d3-b980-106be331afb9"
      },
      "outputs": [
        {
          "name": "stdout",
          "output_type": "stream",
          "text": [
            "문자열에서\n",
            "하는 범위를\n",
            "문자열에서 원하는 범위를\n",
            "원하는 범위를 추출하는 기능\n"
          ]
        }
      ],
      "source": [
        "print(str[0:5]) # 0부터 5 직전까지(5를 포함하지 않음)\n",
        "print(str[7:13])\n",
        "print(str[:13]) # 처음부터 13 직전까지\n",
        "print(str[6:]) # 6부터 끝까지"
      ]
    },
    {
      "cell_type": "markdown",
      "metadata": {
        "id": "p9B26bqFuO3z"
      },
      "source": [
        "# 3. 문자열 함수"
      ]
    },
    {
      "cell_type": "code",
      "execution_count": 9,
      "metadata": {
        "id": "GDA3tEREvBjl"
      },
      "outputs": [],
      "source": [
        "str = '문자열 함수는 문자열과 관련된 여러가지 기능들을 담고 있다'"
      ]
    },
    {
      "cell_type": "code",
      "execution_count": 10,
      "metadata": {
        "colab": {
          "base_uri": "https://localhost:8080/"
        },
        "id": "YJuMdqRgvIkE",
        "outputId": "1474b4ec-b3a9-4725-fd8b-f445478f9b1e"
      },
      "outputs": [
        {
          "name": "stdout",
          "output_type": "stream",
          "text": [
            "2\n",
            "2\n",
            "0\n"
          ]
        }
      ],
      "source": [
        "# count(): 문자열에서 매개변수로 전달된 문자열의 출현 횟수를 반환\n",
        "print(str.count('문'))\n",
        "print(str.count('문자'))\n",
        "print(str.count('문장'))"
      ]
    },
    {
      "cell_type": "code",
      "execution_count": 11,
      "metadata": {
        "colab": {
          "base_uri": "https://localhost:8080/"
        },
        "id": "z0iz8vnevRgV",
        "outputId": "53e84e93-4207-4dd6-de28-d3e6897300a4"
      },
      "outputs": [
        {
          "name": "stdout",
          "output_type": "stream",
          "text": [
            "0\n",
            "13\n",
            "-1\n",
            "8\n"
          ]
        }
      ],
      "source": [
        "# find(): 매개변수로 전달된 문자열이 처음 나오는 위치를 인덱스로 반환\n",
        "print(str.find('문')) # index 번호 = 0\n",
        "print(str.find('관')) # index 번호 = 13\n",
        "print(str.find('장')) # 없으면 -1\n",
        "print(str.rfind('문')) # 끝에서부터 문자열이 나오는 위치를 반환"
      ]
    },
    {
      "cell_type": "code",
      "execution_count": 12,
      "metadata": {
        "colab": {
          "base_uri": "https://localhost:8080/",
          "height": 246
        },
        "id": "Lt-SxQ_2xHEU",
        "outputId": "b6fc667e-2c27-42b4-bca4-0ac17f4f6ef4"
      },
      "outputs": [
        {
          "name": "stdout",
          "output_type": "stream",
          "text": [
            "0\n",
            "13\n"
          ]
        },
        {
          "ename": "ValueError",
          "evalue": "ignored",
          "output_type": "error",
          "traceback": [
            "\u001b[0;31m---------------------------------------------------------------------------\u001b[0m",
            "\u001b[0;31mValueError\u001b[0m                                Traceback (most recent call last)",
            "\u001b[0;32m<ipython-input-12-3ffa972ee274>\u001b[0m in \u001b[0;36m<module>\u001b[0;34m\u001b[0m\n\u001b[1;32m      3\u001b[0m \u001b[0mprint\u001b[0m\u001b[0;34m(\u001b[0m\u001b[0mstr\u001b[0m\u001b[0;34m.\u001b[0m\u001b[0mindex\u001b[0m\u001b[0;34m(\u001b[0m\u001b[0;34m'문'\u001b[0m\u001b[0;34m)\u001b[0m\u001b[0;34m)\u001b[0m \u001b[0;31m# index 번호 = 0\u001b[0m\u001b[0;34m\u001b[0m\u001b[0;34m\u001b[0m\u001b[0m\n\u001b[1;32m      4\u001b[0m \u001b[0mprint\u001b[0m\u001b[0;34m(\u001b[0m\u001b[0mstr\u001b[0m\u001b[0;34m.\u001b[0m\u001b[0mindex\u001b[0m\u001b[0;34m(\u001b[0m\u001b[0;34m'관'\u001b[0m\u001b[0;34m)\u001b[0m\u001b[0;34m)\u001b[0m \u001b[0;31m# index 번호 = 13\u001b[0m\u001b[0;34m\u001b[0m\u001b[0;34m\u001b[0m\u001b[0m\n\u001b[0;32m----> 5\u001b[0;31m \u001b[0mprint\u001b[0m\u001b[0;34m(\u001b[0m\u001b[0mstr\u001b[0m\u001b[0;34m.\u001b[0m\u001b[0mindex\u001b[0m\u001b[0;34m(\u001b[0m\u001b[0;34m'장'\u001b[0m\u001b[0;34m)\u001b[0m\u001b[0;34m)\u001b[0m \u001b[0;31m# 없으면 에러 ValueError: substring not found\u001b[0m\u001b[0;34m\u001b[0m\u001b[0;34m\u001b[0m\u001b[0m\n\u001b[0m",
            "\u001b[0;31mValueError\u001b[0m: substring not found"
          ]
        }
      ],
      "source": [
        "# index(): 매개변수로 전달된 문자열이 처음 나오는 위치를 인덱스로 반환\n",
        "# (찾지 못할 경우 에러!)\n",
        "print(str.index('문')) # index 번호 = 0\n",
        "print(str.index('관')) # index 번호 = 13\n",
        "print(str.index('장')) # 없으면 에러 ValueError: substring not found"
      ]
    },
    {
      "cell_type": "code",
      "execution_count": 13,
      "metadata": {
        "colab": {
          "base_uri": "https://localhost:8080/"
        },
        "id": "71c-Sd1Xywcs",
        "outputId": "62b88cda-a16e-4691-a99a-8adbd409ea9f"
      },
      "outputs": [
        {
          "name": "stdout",
          "output_type": "stream",
          "text": [
            "문자열 함수는 문자열과 관련된 여러가지 함수들을 담고 있다\n"
          ]
        }
      ],
      "source": [
        "# replace(): 특정 문자열을 치환\n",
        "print(str.replace('기능', '함수'))"
      ]
    },
    {
      "cell_type": "code",
      "execution_count": 14,
      "metadata": {
        "colab": {
          "base_uri": "https://localhost:8080/"
        },
        "id": "yC8oOzwGzTh6",
        "outputId": "a373cb0c-c0ca-4295-8955-81a0ad46dab6"
      },
      "outputs": [
        {
          "name": "stdout",
          "output_type": "stream",
          "text": [
            "문자열 함수는 문자열과 관련된 여러가지 기능들을 담고 있다\n"
          ]
        }
      ],
      "source": [
        "print(str)"
      ]
    },
    {
      "cell_type": "code",
      "execution_count": 15,
      "metadata": {
        "colab": {
          "base_uri": "https://localhost:8080/"
        },
        "id": "X-CtXMlMzyDD",
        "outputId": "0372bad0-a44f-4276-d0c4-ffe05a804850"
      },
      "outputs": [
        {
          "name": "stdout",
          "output_type": "stream",
          "text": [
            "APPLE APPLE APPLE\n",
            "apple apple apple\n",
            "APPLE apple Apple\n"
          ]
        }
      ],
      "source": [
        "# upper(): 문자열을 모두 대문자로 변환\n",
        "# lower(): 문자열을 모두 소문자로 변환\n",
        "str = 'APPLE apple Apple'\n",
        "print(str.upper())\n",
        "print(str.lower())\n",
        "print(str)"
      ]
    },
    {
      "cell_type": "code",
      "execution_count": 16,
      "metadata": {
        "colab": {
          "base_uri": "https://localhost:8080/"
        },
        "id": "8wU8Cdu00n_6",
        "outputId": "9fbd6808-f032-4ce0-9f96-367edd6ade6a"
      },
      "outputs": [
        {
          "name": "stdout",
          "output_type": "stream",
          "text": [
            "          Hello      Python!       \n",
            "Hello      Python!\n",
            "Hello      Python!       \n",
            "          Hello      Python!\n",
            "HelloPython!\n"
          ]
        }
      ],
      "source": [
        "# strip(): 문자열의 양쪽 공백을 제거\n",
        "# lstrip(): 문자열의 왼쪽 공백을 제거\n",
        "# rstrip(): 문자열의 오른쪽 공백을 제거\n",
        "str = '          Hello      Python!       '\n",
        "print(str)\n",
        "print(str.strip())\n",
        "print(str.lstrip())\n",
        "print(str.rstrip())\n",
        "\n",
        "print(str.replace(' ', ''))"
      ]
    },
    {
      "cell_type": "code",
      "execution_count": 17,
      "metadata": {
        "colab": {
          "base_uri": "https://localhost:8080/"
        },
        "id": "P_GUYGfJIcJU",
        "outputId": "69ff5b63-a80b-4489-b272-0cc736f7f7a1"
      },
      "outputs": [
        {
          "name": "stdout",
          "output_type": "stream",
          "text": [
            "H🙋‍♂️e🙋‍♂️l🙋‍♂️l🙋‍♂️o\n"
          ]
        }
      ],
      "source": [
        "# join(): 문자열에 특정 문자열을 삽입\n",
        "str = 'Hello'\n",
        "print('🙋‍♂️'.join(str))\n",
        "# print(str.join('🙋‍♂️'))"
      ]
    }
  ],
  "metadata": {
    "colab": {
      "provenance": []
    },
    "kernelspec": {
      "display_name": "Python 3",
      "name": "python3"
    },
    "language_info": {
      "name": "python"
    }
  },
  "nbformat": 4,
  "nbformat_minor": 0
}
