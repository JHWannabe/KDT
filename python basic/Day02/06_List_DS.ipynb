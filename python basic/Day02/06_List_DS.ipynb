{
  "nbformat": 4,
  "nbformat_minor": 0,
  "metadata": {
    "colab": {
      "provenance": []
    },
    "kernelspec": {
      "name": "python3",
      "display_name": "Python 3"
    },
    "language_info": {
      "name": "python"
    }
  },
  "cells": [
    {
      "cell_type": "markdown",
      "source": [
        "# 1. 자료구조(Data Structure)\n",
        "* 코드상에서 데이터를 효율적으로 처리하기 위해서 데이터 특징에 따라 체계적으로 구조화하여 저장하는 방식"
      ],
      "metadata": {
        "id": "Eslp6irNLK4k"
      }
    },
    {
      "cell_type": "markdown",
      "source": [
        "# 2. 리스트(List)\n",
        "* 여러가지 데이터 및 데이터 타입을 콤마로 구분하여 대괄호로 감싼 자료구조"
      ],
      "metadata": {
        "id": "sDDiU3BwLapb"
      }
    },
    {
      "cell_type": "code",
      "source": [
        "a = 10 # 스칼라\n",
        "print(a)"
      ],
      "metadata": {
        "colab": {
          "base_uri": "https://localhost:8080/"
        },
        "id": "hdItiDl3MhyN",
        "outputId": "9be784b8-8e2d-4e79-dc85-0f490d49e0a2"
      },
      "execution_count": null,
      "outputs": [
        {
          "output_type": "stream",
          "name": "stdout",
          "text": [
            "10\n"
          ]
        }
      ]
    },
    {
      "cell_type": "code",
      "source": [
        "li1= [1, 3, 5, 7, 9]\n",
        "print(li1)"
      ],
      "metadata": {
        "colab": {
          "base_uri": "https://localhost:8080/"
        },
        "id": "QDQTlOLwMPrK",
        "outputId": "6d31193b-63db-4fb0-a6ce-a61ca011786f"
      },
      "execution_count": null,
      "outputs": [
        {
          "output_type": "stream",
          "name": "stdout",
          "text": [
            "[1, 3, 5, 7, 9]\n"
          ]
        }
      ]
    },
    {
      "cell_type": "code",
      "source": [
        "# li2 = list(1, 3, 5, 7, 9) # TypeError: list expected at most 1 argument, got 5\n",
        "li2 = list([1, 3, 5, 7, 9])\n",
        "print(li2)"
      ],
      "metadata": {
        "colab": {
          "base_uri": "https://localhost:8080/"
        },
        "id": "MXRZjL2TMfwC",
        "outputId": "bcef1406-3495-4ef0-d1e4-c8371dbf9425"
      },
      "execution_count": null,
      "outputs": [
        {
          "output_type": "stream",
          "name": "stdout",
          "text": [
            "[1, 3, 5, 7, 9]\n"
          ]
        }
      ]
    },
    {
      "cell_type": "code",
      "source": [
        "li3 = ['김사과', '반하나', '오렌지', '이메론']\n",
        "print(li3)"
      ],
      "metadata": {
        "colab": {
          "base_uri": "https://localhost:8080/"
        },
        "id": "aS3B3RqBNZDg",
        "outputId": "df14a8f4-91ad-459d-a3cd-f3e8f67cc7aa"
      },
      "execution_count": null,
      "outputs": [
        {
          "output_type": "stream",
          "name": "stdout",
          "text": [
            "['김사과', '반하나', '오렌지', '이메론']\n"
          ]
        }
      ]
    },
    {
      "cell_type": "code",
      "source": [
        "li4 = [1, 50.5, '김사과', True] # 각자 타입이 다른 데이터를 저장\n",
        "print(li4)"
      ],
      "metadata": {
        "colab": {
          "base_uri": "https://localhost:8080/"
        },
        "id": "XDZeYy6oNqek",
        "outputId": "10e15424-28b4-4b8c-e688-a04a3739e073"
      },
      "execution_count": null,
      "outputs": [
        {
          "output_type": "stream",
          "name": "stdout",
          "text": [
            "[1, 50.5, '김사과', True]\n"
          ]
        }
      ]
    },
    {
      "cell_type": "code",
      "source": [
        "print(type(li4))\n",
        "print(type(li4[0]))\n",
        "print(type(li4[1]))\n",
        "print(type(li4[2]))\n",
        "print(type(li4[3]))\n",
        "print(type(li4[3:]))"
      ],
      "metadata": {
        "colab": {
          "base_uri": "https://localhost:8080/"
        },
        "id": "YhYyhV7RNvnj",
        "outputId": "48194b09-9588-4530-dfd5-de219cc3d2de"
      },
      "execution_count": null,
      "outputs": [
        {
          "output_type": "stream",
          "name": "stdout",
          "text": [
            "<class 'list'>\n",
            "<class 'int'>\n",
            "<class 'float'>\n",
            "<class 'str'>\n",
            "<class 'bool'>\n",
            "<class 'list'>\n"
          ]
        }
      ]
    },
    {
      "cell_type": "code",
      "source": [
        "li5 = [1, 2, '파이썬', ['김사과', '오렌지']]\n",
        "print(li5)"
      ],
      "metadata": {
        "colab": {
          "base_uri": "https://localhost:8080/"
        },
        "id": "KAlc_EZtOJr7",
        "outputId": "d52b9d9b-e403-4530-8e17-96d8e1163279"
      },
      "execution_count": null,
      "outputs": [
        {
          "output_type": "stream",
          "name": "stdout",
          "text": [
            "[1, 2, '파이썬', ['김사과', '오렌지']]\n"
          ]
        }
      ]
    },
    {
      "cell_type": "markdown",
      "source": [
        "## 2-1. 리스트 인덱싱"
      ],
      "metadata": {
        "id": "4SyqA1aIOQ9z"
      }
    },
    {
      "cell_type": "code",
      "source": [
        "li1 = [1, 3, 5, 7, 9]\n",
        "print(li1)\n",
        "print(li1[2])\n",
        "print(li1[-1])"
      ],
      "metadata": {
        "colab": {
          "base_uri": "https://localhost:8080/"
        },
        "id": "7EzbQ3dROrg8",
        "outputId": "e8d4bcdc-7756-4426-f863-2b9fc336bf28"
      },
      "execution_count": null,
      "outputs": [
        {
          "output_type": "stream",
          "name": "stdout",
          "text": [
            "[1, 3, 5, 7, 9]\n",
            "5\n",
            "9\n"
          ]
        }
      ]
    },
    {
      "cell_type": "code",
      "source": [
        "li2 = ['김사과', '반하나', '오렌지', ['🍕','🍔','🥨','🍙']]\n",
        "print(li2[3])\n",
        "print(li2[3][1])"
      ],
      "metadata": {
        "colab": {
          "base_uri": "https://localhost:8080/"
        },
        "id": "c8_JODnGO7lU",
        "outputId": "42d74ce9-0116-42ce-f938-48db4925af1d"
      },
      "execution_count": null,
      "outputs": [
        {
          "output_type": "stream",
          "name": "stdout",
          "text": [
            "['🍕', '🍔', '🥨', '🍙']\n",
            "🍔\n"
          ]
        }
      ]
    },
    {
      "cell_type": "code",
      "source": [
        "li3 = [1, 2, 3, ['김사과', '반하나', '오렌지', ['🍕','🍔','🥨','🍙']]]\n",
        "print(li3[2])\n",
        "print(li3[-2])\n",
        "print(li3[-1])\n",
        "print(li3[3][-2])\n",
        "print(li3[-1][-1][-1])"
      ],
      "metadata": {
        "colab": {
          "base_uri": "https://localhost:8080/"
        },
        "id": "1lEd-xmKPaBE",
        "outputId": "6b16691e-6323-4a20-a75a-909414984d04"
      },
      "execution_count": null,
      "outputs": [
        {
          "output_type": "stream",
          "name": "stdout",
          "text": [
            "3\n",
            "3\n",
            "['김사과', '반하나', '오렌지', ['🍕', '🍔', '🥨', '🍙']]\n",
            "오렌지\n",
            "🍙\n"
          ]
        }
      ]
    },
    {
      "cell_type": "markdown",
      "source": [
        "## 2-2. 리스트 슬라이싱"
      ],
      "metadata": {
        "id": "ZqdYzOsuQoVe"
      }
    },
    {
      "cell_type": "code",
      "source": [
        "li4 = [10, 20, 30, 40, 50]\n",
        "print(li4)\n",
        "print(li4[1:3])\n",
        "print(li4[3:])\n",
        "print(li4[4:])"
      ],
      "metadata": {
        "colab": {
          "base_uri": "https://localhost:8080/"
        },
        "id": "oxu34RhjQrZM",
        "outputId": "d5e6569a-6284-4e1b-e93f-4a534440edab"
      },
      "execution_count": null,
      "outputs": [
        {
          "output_type": "stream",
          "name": "stdout",
          "text": [
            "[10, 20, 30, 40, 50]\n",
            "[20, 30]\n",
            "[40, 50]\n",
            "[50]\n"
          ]
        }
      ]
    },
    {
      "cell_type": "code",
      "source": [
        "li5 = li4\n",
        "print(li5)\n",
        "li5[0] = 100\n",
        "print(li5)\n",
        "print(li4)"
      ],
      "metadata": {
        "colab": {
          "base_uri": "https://localhost:8080/"
        },
        "id": "agTMQVqjQ9Cz",
        "outputId": "77a9d732-9415-4ebd-a0a9-b866c045e3d1"
      },
      "execution_count": null,
      "outputs": [
        {
          "output_type": "stream",
          "name": "stdout",
          "text": [
            "[10, 20, 30, 40, 50]\n",
            "[100, 20, 30, 40, 50]\n",
            "[100, 20, 30, 40, 50]\n"
          ]
        }
      ]
    },
    {
      "cell_type": "code",
      "source": [
        "li6 = [10 ,20, 30, ['김사과', ' 오렌지', '반하나'], 40, ['🍕', '🍔']]\n",
        "print(li6[2:6])\n",
        "print(li6[5][:1])"
      ],
      "metadata": {
        "colab": {
          "base_uri": "https://localhost:8080/"
        },
        "id": "X0w593vrRydD",
        "outputId": "92c754b9-a25d-4ce6-e4a4-3dfe325dfbf3"
      },
      "execution_count": null,
      "outputs": [
        {
          "output_type": "stream",
          "name": "stdout",
          "text": [
            "[30, ['김사과', ' 오렌지', '반하나'], 40, ['🍕', '🍔']]\n",
            "['🍕']\n"
          ]
        }
      ]
    },
    {
      "cell_type": "markdown",
      "source": [
        "## 2-3. 리스트 연산자"
      ],
      "metadata": {
        "id": "DE2PAQKISNMb"
      }
    },
    {
      "cell_type": "code",
      "source": [
        "li7 = [10 ,20, 30]\n",
        "li8 = [40, 50 ,60]\n",
        "\n",
        "print(li7 + li8) # 리스트 연결연산 [10, 20, 30, 40, 50, 60]\n",
        "print(li8 + li7) # 리스트 연결연산 [40, 50, 60, 10, 20, 30]\n",
        "# print(li7 - li8) # TypeError: unsupported operand type(s) for -: 'list' and 'list'\n",
        "# print(li7 * li8) # TypeError: can't multiply sequence by non-int of type 'list'\n",
        "print(li7 * 3) # [10, 20, 30, 10, 20, 30, 10, 20, 30]"
      ],
      "metadata": {
        "colab": {
          "base_uri": "https://localhost:8080/"
        },
        "id": "eQTpanJkVX_6",
        "outputId": "84522e41-df6d-4e21-e0ed-77560a843f3d"
      },
      "execution_count": null,
      "outputs": [
        {
          "output_type": "stream",
          "name": "stdout",
          "text": [
            "[10, 20, 30, 40, 50, 60]\n",
            "[40, 50, 60, 10, 20, 30]\n",
            "[10, 20, 30, 10, 20, 30, 10, 20, 30]\n"
          ]
        }
      ]
    },
    {
      "cell_type": "code",
      "source": [
        "li9 = [10, 20, 30]\n",
        "print(li9[0] + li9[2])\n",
        "li9[1] = '💜'\n",
        "# print(li9[0] + li9[1]) # TypeError: unsupported operand type(s) for +: 'int' and 'str'"
      ],
      "metadata": {
        "colab": {
          "base_uri": "https://localhost:8080/"
        },
        "id": "PGnP-O74Vgry",
        "outputId": "e61419de-d846-4f6a-c4ac-ca7d5b5a28d3"
      },
      "execution_count": null,
      "outputs": [
        {
          "output_type": "stream",
          "name": "stdout",
          "text": [
            "40\n"
          ]
        }
      ]
    },
    {
      "cell_type": "markdown",
      "source": [
        "## 2-4. 리스트의 수정 및 삭제"
      ],
      "metadata": {
        "id": "63dGq0QFWYdZ"
      }
    },
    {
      "cell_type": "code",
      "source": [
        "li10 = [10, 20, 30]\n",
        "li10[1] = 100\n",
        "print(li10)"
      ],
      "metadata": {
        "colab": {
          "base_uri": "https://localhost:8080/"
        },
        "id": "ysW3rEs7WzYT",
        "outputId": "31c8e13b-9fc4-49c8-a440-5ab0e90e6550"
      },
      "execution_count": null,
      "outputs": [
        {
          "output_type": "stream",
          "name": "stdout",
          "text": [
            "[10, 100, 30]\n"
          ]
        }
      ]
    },
    {
      "cell_type": "code",
      "source": [
        "# 슬라이싱을 이용하여 리스트 데이터를 추가한 경우 리스트에 데이터만 포함\n",
        "li10[1:2] = ['💥','💢','💘']\n",
        "print(li10) # [10, '💥', '💢', '💘', 30]"
      ],
      "metadata": {
        "colab": {
          "base_uri": "https://localhost:8080/"
        },
        "id": "cpV4utddW7lS",
        "outputId": "4d3a79b0-4723-42b0-d7d4-f026c21be547"
      },
      "execution_count": null,
      "outputs": [
        {
          "output_type": "stream",
          "name": "stdout",
          "text": [
            "[10, '💥', '💢', '💘', 30]\n"
          ]
        }
      ]
    },
    {
      "cell_type": "code",
      "source": [
        "# 인덱싱을 이용하여 리스트 데이터를 추가한 경우 리스트 안에 리스트를 포함\n",
        "li10 = [10, 20, 30]\n",
        "li10[1] = ['💥','💢','💘']\n",
        "print(li10) # [10, ['💥', '💢', '💘'], 30]"
      ],
      "metadata": {
        "colab": {
          "base_uri": "https://localhost:8080/"
        },
        "id": "9boAQN-cXIpI",
        "outputId": "0d61f4b5-ec76-47a5-c534-8d89c87892f6"
      },
      "execution_count": null,
      "outputs": [
        {
          "output_type": "stream",
          "name": "stdout",
          "text": [
            "[10, ['💥', '💢', '💘'], 30]\n"
          ]
        }
      ]
    },
    {
      "cell_type": "code",
      "source": [
        "print(li10[1:3])"
      ],
      "metadata": {
        "colab": {
          "base_uri": "https://localhost:8080/"
        },
        "id": "5oBjbQ5VXSkQ",
        "outputId": "7757271d-e4da-4c1e-e97a-e34858c3098e"
      },
      "execution_count": null,
      "outputs": [
        {
          "output_type": "stream",
          "name": "stdout",
          "text": [
            "[['💥', '💢', '💘'], 30]\n"
          ]
        }
      ]
    },
    {
      "cell_type": "code",
      "source": [
        "li10[1:3] = [] # 빈 리스트를 저장하면 요소가 삭제됨\n",
        "print(li10)"
      ],
      "metadata": {
        "colab": {
          "base_uri": "https://localhost:8080/"
        },
        "id": "pKGsdSiHXwdB",
        "outputId": "2b6cbb6c-6be0-43f2-a81e-dd1a879cc833"
      },
      "execution_count": null,
      "outputs": [
        {
          "output_type": "stream",
          "name": "stdout",
          "text": [
            "[10]\n"
          ]
        }
      ]
    },
    {
      "cell_type": "code",
      "source": [
        "del li10[0] # 인덱스 0번 요소 삭제\n",
        "print(li10)"
      ],
      "metadata": {
        "colab": {
          "base_uri": "https://localhost:8080/"
        },
        "id": "5Bmo2OcHX5Vb",
        "outputId": "dbc2934f-27a2-4566-b5e6-0d699d37a20e"
      },
      "execution_count": null,
      "outputs": [
        {
          "output_type": "stream",
          "name": "stdout",
          "text": [
            "[]\n"
          ]
        }
      ]
    },
    {
      "cell_type": "markdown",
      "source": [
        "## 2-5. 리스트 함수 "
      ],
      "metadata": {
        "id": "_SQF6jKOYJFR"
      }
    },
    {
      "cell_type": "code",
      "source": [
        "li11 = [10, 20, 30]\n",
        "\n",
        "# append(): 리스트의 요소 맨 마지막 자리에 데이터를 추가\n",
        "print(li11) # [10, 20, 30]\n",
        "\n",
        "li11.append(100)\n",
        "print(li11) # [10, 20, 30, 100]\n",
        "# li11.append(200, 300) # TypeError: append() takes exactly one argument (2 given)\n",
        "li11.append([200, 300])\n",
        "print(li11) # [10, 20, 30, 100, [200, 300]]"
      ],
      "metadata": {
        "colab": {
          "base_uri": "https://localhost:8080/"
        },
        "id": "3A79UWP_ZOcJ",
        "outputId": "01ab7e8f-e445-4f38-dd4c-4cf51022d9d8"
      },
      "execution_count": null,
      "outputs": [
        {
          "output_type": "stream",
          "name": "stdout",
          "text": [
            "[10, 20, 30]\n",
            "[10, 20, 30, 100]\n",
            "[10, 20, 30, 100, [200, 300]]\n"
          ]
        }
      ]
    },
    {
      "cell_type": "code",
      "source": [
        "# extend(): 리스트에 요소를 추가\n",
        "print(li11) # [10, 20, 30, 100, [200, 300]]\n",
        "# li11.extend(50) # TypeError: 'int' object is not iterable\n",
        "li11.extend([50])\n",
        "print(li11) # [10, 20, 30, 100, [200, 300], 50]\n",
        "li11.extend([60, 70])\n",
        "print(li11) # [10, 20, 30, 100, [200, 300], 50, 60, 70]"
      ],
      "metadata": {
        "colab": {
          "base_uri": "https://localhost:8080/"
        },
        "id": "mTMWyaAjZnpZ",
        "outputId": "63886304-685c-4b8d-f47a-b32a663f1095"
      },
      "execution_count": null,
      "outputs": [
        {
          "output_type": "stream",
          "name": "stdout",
          "text": [
            "[10, 20, 30, 100, [200, 300]]\n",
            "[10, 20, 30, 100, [200, 300], 50]\n",
            "[10, 20, 30, 100, [200, 300], 50, 60, 70]\n"
          ]
        }
      ]
    },
    {
      "cell_type": "code",
      "source": [
        "# inplace 연산\n",
        "li11 = [10, 20, 30]\n",
        "li11 = li11 + [40, 50] # li11 += [40, 50]\n",
        "print(li11) # [10, 20, 30, 40, 50]"
      ],
      "metadata": {
        "colab": {
          "base_uri": "https://localhost:8080/"
        },
        "id": "GQUIZp-AZ5tB",
        "outputId": "df4dd09b-904d-4793-e126-cf828e9820e9"
      },
      "execution_count": null,
      "outputs": [
        {
          "output_type": "stream",
          "name": "stdout",
          "text": [
            "[10, 20, 30, 40, 50]\n"
          ]
        }
      ]
    },
    {
      "cell_type": "code",
      "source": [
        "li12 = [10, 20, 30, 40, 50]\n",
        "\n",
        "# pop(): 리스트에 맨 마지막에 저장된 데이터를 반환하고 해당 데이터를 삭제\n",
        "print(li12) # [10, 20, 30, 40, 50]\n",
        "print(li12.pop()) # 50\n",
        "print(li12) # [10, 20, 30, 40]\n",
        "temp = li12.pop()\n",
        "print(temp) # 40"
      ],
      "metadata": {
        "colab": {
          "base_uri": "https://localhost:8080/"
        },
        "id": "T7PC5ttLb0UO",
        "outputId": "7b477244-94b7-4ef7-9a8b-443b2c7062b1"
      },
      "execution_count": null,
      "outputs": [
        {
          "output_type": "stream",
          "name": "stdout",
          "text": [
            "[10, 20, 30, 40, 50]\n",
            "50\n",
            "[10, 20, 30, 40]\n",
            "40\n"
          ]
        }
      ]
    },
    {
      "cell_type": "code",
      "source": [
        "li13 = [10, 20, 30, 40, 50, 20, 40]\n",
        "\n",
        "# remove(): 매개변수로 전달된 데이터를 제거. 같은 데이터가 여러개 있는 경우 처음 출현하는 데이터만 제거\n",
        "print(li13) # [10, 20, 30, 40, 50, 20, 40]\n",
        "li13.remove(30)\n",
        "print(li13) # [10, 20, 40, 50, 20, 40]\n",
        "li13.remove(20)\n",
        "print(li13) # [10, 40, 50, 20, 40]\n",
        "li13.remove(20)\n",
        "print(li13) # [10, 40, 50, 40]\n",
        "# li13.remove(20) # 지우려는 데이터가 없다면 에러! ValueError: list.remove(x): x not in list"
      ],
      "metadata": {
        "colab": {
          "base_uri": "https://localhost:8080/"
        },
        "id": "nJYBh5wUcB9f",
        "outputId": "4f1eb360-3cf2-4ed7-cdbd-e6355795287d"
      },
      "execution_count": null,
      "outputs": [
        {
          "output_type": "stream",
          "name": "stdout",
          "text": [
            "[10, 20, 30, 40, 50, 20, 40]\n",
            "[10, 20, 40, 50, 20, 40]\n",
            "[10, 40, 50, 20, 40]\n",
            "[10, 40, 50, 40]\n"
          ]
        }
      ]
    },
    {
      "cell_type": "code",
      "source": [
        "li14 = [10, 20, 30]\n",
        "\n",
        "# insert(): 리스트의 특정 위치(인덱스)에 데이터를 삽입\n",
        "li14.insert(1, 100)\n",
        "print(li14) # [10, 100, 20, 30]"
      ],
      "metadata": {
        "colab": {
          "base_uri": "https://localhost:8080/"
        },
        "id": "ZZKLnIm5c6FX",
        "outputId": "8fd80ddf-df29-45c4-c90d-0a6eb8f1f9d7"
      },
      "execution_count": null,
      "outputs": [
        {
          "output_type": "stream",
          "name": "stdout",
          "text": [
            "[10, 100, 20, 30]\n"
          ]
        }
      ]
    },
    {
      "cell_type": "code",
      "source": [
        "# index(): 리스트에 저장된 데이터가 있을 경우 위치를 인덱스로 반환, 없으면 에러!\n",
        "print(li14.index(100))\n",
        "# print(li14.index(50)) # ValueError: 50 is not in list"
      ],
      "metadata": {
        "colab": {
          "base_uri": "https://localhost:8080/"
        },
        "id": "VgHiZag2ddhA",
        "outputId": "d2131d34-d1a9-4dab-8892-a835ef1e70cb"
      },
      "execution_count": null,
      "outputs": [
        {
          "output_type": "stream",
          "name": "stdout",
          "text": [
            "1\n"
          ]
        }
      ]
    },
    {
      "cell_type": "code",
      "source": [
        "li15 = [100, 50, 70, 60, 20]\n",
        "\n",
        "# reverse(): 리스트에 저장된 데이터를 반대 순서로 반환\n",
        "li15.reverse()\n",
        "print(li15) # [20, 60, 70, 50, 100]\n",
        "\n",
        "li16 = ['김사과','오렌지', '반하나', '이메론']\n",
        "li16.reverse()\n",
        "print(li16) # ['이메론', '반하나', '오렌지', '김사과']"
      ],
      "metadata": {
        "colab": {
          "base_uri": "https://localhost:8080/"
        },
        "id": "gPHgjAe9dvhH",
        "outputId": "5923eac1-166d-4fbd-ef86-d02d5fa3df80"
      },
      "execution_count": null,
      "outputs": [
        {
          "output_type": "stream",
          "name": "stdout",
          "text": [
            "[20, 60, 70, 50, 100]\n",
            "['이메론', '반하나', '오렌지', '김사과']\n"
          ]
        }
      ]
    },
    {
      "cell_type": "code",
      "source": [
        "li17 = [10, 40, 30, 100, 90, 50]\n",
        "\n",
        "# sort(): 리스트에 저장된 데이터를 오름차순 또는 내림차순으로 정렬. inplace 연산(재저장)을 수행\n",
        "li17.sort()\n",
        "print(li17) # [10, 30, 40, 50, 90, 100]\n",
        "li17.sort(reverse=1)\n",
        "print(li17) # [100, 90, 50, 40, 30, 10]"
      ],
      "metadata": {
        "colab": {
          "base_uri": "https://localhost:8080/"
        },
        "id": "ocNyF-SDeKaI",
        "outputId": "81defc77-58a0-4ae1-cdec-aeb4df125406"
      },
      "execution_count": null,
      "outputs": [
        {
          "output_type": "stream",
          "name": "stdout",
          "text": [
            "[10, 30, 40, 50, 90, 100]\n",
            "[100, 90, 50, 40, 30, 10]\n"
          ]
        }
      ]
    },
    {
      "cell_type": "code",
      "source": [
        "li18 = ['Apple', 'apple','Banana', 'banana']\n",
        "li18.sort()\n",
        "print(li18) # ['Apple', 'Banana', 'apple', 'banana']\n",
        "li18.sort(reverse=1)\n",
        "print(li18) # ['banana', 'apple', 'Banana', 'Apple']"
      ],
      "metadata": {
        "colab": {
          "base_uri": "https://localhost:8080/"
        },
        "id": "aCo8nOu2e2bv",
        "outputId": "88111d8d-3650-4f92-c4bc-ed7428446f34"
      },
      "execution_count": null,
      "outputs": [
        {
          "output_type": "stream",
          "name": "stdout",
          "text": [
            "['Apple', 'Banana', 'apple', 'banana']\n",
            "['banana', 'apple', 'Banana', 'Apple']\n"
          ]
        }
      ]
    },
    {
      "cell_type": "code",
      "source": [
        "li19 = ['김사과','반하나','오렌지','이메론']\n",
        "li19.sort()\n",
        "print(li19) # ['김사과', '반하나', '오렌지', '이메론']\n",
        "li19.sort(reverse=1)\n",
        "print(li19) # ['이메론', '오렌지', '반하나', '김사과']"
      ],
      "metadata": {
        "colab": {
          "base_uri": "https://localhost:8080/"
        },
        "id": "fuviAeDCfkLm",
        "outputId": "9789f195-95ef-4130-aab9-0aa4aa37418d"
      },
      "execution_count": null,
      "outputs": [
        {
          "output_type": "stream",
          "name": "stdout",
          "text": [
            "['김사과', '반하나', '오렌지', '이메론']\n",
            "['이메론', '오렌지', '반하나', '김사과']\n"
          ]
        }
      ]
    },
    {
      "cell_type": "code",
      "source": [
        "# ✔ 비교\n",
        "# sorted(): 이터러블(iterable) 객체로부터 정렬된 리스트를 생성함.\n",
        "# inplace 연산 수행 X. 재저장 X\n",
        "li17 = [10, 40, 30, 100, 90, 50]\n",
        "print(sorted(li17)) # 오름차순 [10, 30, 40, 50, 90, 100]\n",
        "print(sorted(li17, reverse=1)) # 내림차순 [100, 90, 50, 40, 30, 10]\n",
        "\n",
        "li18 = ['Apple', 'apple','Banana', 'banana']\n",
        "print(sorted(li18)) # ['Apple', 'Banana', 'apple', 'banana']\n",
        "print(sorted(li18, reverse=1)) # ['banana', 'apple', 'Banana', 'Apple']"
      ],
      "metadata": {
        "colab": {
          "base_uri": "https://localhost:8080/"
        },
        "id": "3geQ_pdWf5qW",
        "outputId": "780e9b67-88c1-4cc7-beae-79868eddb208"
      },
      "execution_count": null,
      "outputs": [
        {
          "output_type": "stream",
          "name": "stdout",
          "text": [
            "[10, 30, 40, 50, 90, 100]\n",
            "[100, 90, 50, 40, 30, 10]\n",
            "['Apple', 'Banana', 'apple', 'banana']\n",
            "['banana', 'apple', 'Banana', 'Apple']\n"
          ]
        }
      ]
    },
    {
      "cell_type": "code",
      "source": [
        "li17 = sorted(li17) # 값을 유지하려면 다시 저장해야 함\n",
        "print(li17) # [10, 30, 40, 50, 90, 100]"
      ],
      "metadata": {
        "id": "C63jWnQAg1RH",
        "colab": {
          "base_uri": "https://localhost:8080/"
        },
        "outputId": "cf4d2950-28ca-44a1-95d6-09dcee9f4a05"
      },
      "execution_count": null,
      "outputs": [
        {
          "output_type": "stream",
          "name": "stdout",
          "text": [
            "[10, 30, 40, 50, 90, 100]\n"
          ]
        }
      ]
    },
    {
      "cell_type": "code",
      "source": [
        "li18 = [10, 20, 30, 50, 20, 40, 30, 20]\n",
        "\n",
        "# count(): 리스트에 포함된 특정 데이터의 갯수를 반환\n",
        "print(li18.count(20)) # 3\n",
        "print(li18.count(16)) # 0"
      ],
      "metadata": {
        "colab": {
          "base_uri": "https://localhost:8080/"
        },
        "id": "je16SdAukNZN",
        "outputId": "807fb0a8-f6a1-40b9-b4d1-e87a25a1909e"
      },
      "execution_count": null,
      "outputs": [
        {
          "output_type": "stream",
          "name": "stdout",
          "text": [
            "3\n",
            "0\n"
          ]
        }
      ]
    },
    {
      "cell_type": "code",
      "source": [
        "# ✔ 추가\n",
        "# len(): 요소의 갯수를 반환\n",
        "print(len(li18)) # 8"
      ],
      "metadata": {
        "colab": {
          "base_uri": "https://localhost:8080/"
        },
        "id": "fIM2jT4JkaC2",
        "outputId": "51aec041-c94a-48c3-af9a-ad080c343c52"
      },
      "execution_count": null,
      "outputs": [
        {
          "output_type": "stream",
          "name": "stdout",
          "text": [
            "8\n"
          ]
        }
      ]
    }
  ]
}