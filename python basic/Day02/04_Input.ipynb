{
  "nbformat": 4,
  "nbformat_minor": 0,
  "metadata": {
    "colab": {
      "provenance": []
    },
    "kernelspec": {
      "name": "python3",
      "display_name": "Python 3"
    },
    "language_info": {
      "name": "python"
    }
  },
  "cells": [
    {
      "cell_type": "markdown",
      "source": [
        "# 1. input 함수\n",
        "* 사용자에게 데이터를 입력받을 수 있는 함수\n",
        "* 데이터를 문자열로 입력받음"
      ],
      "metadata": {
        "id": "Y-_pqd4Qfv0L"
      }
    },
    {
      "cell_type": "code",
      "source": [
        "input()"
      ],
      "metadata": {
        "colab": {
          "base_uri": "https://localhost:8080/",
          "height": 54
        },
        "id": "Ab8aEgq8gOKz",
        "outputId": "a49941ee-8c30-4834-de44-54e372ceadcb"
      },
      "execution_count": 1,
      "outputs": [
        {
          "name": "stdout",
          "output_type": "stream",
          "text": [
            "김사과\n"
          ]
        },
        {
          "output_type": "execute_result",
          "data": {
            "text/plain": [
              "'김사과'"
            ],
            "application/vnd.google.colaboratory.intrinsic+json": {
              "type": "string"
            }
          },
          "metadata": {},
          "execution_count": 1
        }
      ]
    },
    {
      "cell_type": "code",
      "source": [
        "name = input()\n",
        "print(name)"
      ],
      "metadata": {
        "colab": {
          "base_uri": "https://localhost:8080/"
        },
        "id": "5FAj3cTZgs6I",
        "outputId": "167ee10a-3dfe-47b8-e0ea-ff540124a193"
      },
      "execution_count": 2,
      "outputs": [
        {
          "output_type": "stream",
          "name": "stdout",
          "text": [
            "김사과\n",
            "김사과\n"
          ]
        }
      ]
    },
    {
      "cell_type": "code",
      "source": [
        "name = input(\"이름을 입력하세요: \")"
      ],
      "metadata": {
        "colab": {
          "base_uri": "https://localhost:8080/"
        },
        "id": "_3grdKbmg0x1",
        "outputId": "80d63681-d0cc-4039-d79d-8d2ea3c5de09"
      },
      "execution_count": 3,
      "outputs": [
        {
          "name": "stdout",
          "output_type": "stream",
          "text": [
            "이름을 입력하세요: 김사과\n"
          ]
        }
      ]
    },
    {
      "cell_type": "code",
      "source": [
        "print(\"%s님 안녕하세요!\" % name)"
      ],
      "metadata": {
        "colab": {
          "base_uri": "https://localhost:8080/"
        },
        "id": "R6QtC6EFg8_q",
        "outputId": "f3497d76-af2d-499c-febe-c3570d4320fd"
      },
      "execution_count": 4,
      "outputs": [
        {
          "output_type": "stream",
          "name": "stdout",
          "text": [
            "김사과님 안녕하세요!\n"
          ]
        }
      ]
    },
    {
      "cell_type": "code",
      "source": [
        "# split(): 매개변수로 전달된 문자를 기준으로 데이터를 나눠서 저장\n",
        "name, age, weight = input(\"이름, 나이, 몸무게 순으로 입력하세요: \").split()"
      ],
      "metadata": {
        "colab": {
          "base_uri": "https://localhost:8080/"
        },
        "id": "0gmVlyBchCHi",
        "outputId": "7599997f-45f1-497e-fb9d-38ff64b8662c"
      },
      "execution_count": 5,
      "outputs": [
        {
          "name": "stdout",
          "output_type": "stream",
          "text": [
            "이름, 나이, 몸무게 순으로 입력하세요: 김사과 20 50.5\n"
          ]
        }
      ]
    },
    {
      "cell_type": "code",
      "source": [
        "print(\"{}님은 {}세이고, {}kg입니다.\" .format(name, age, weight))"
      ],
      "metadata": {
        "colab": {
          "base_uri": "https://localhost:8080/"
        },
        "id": "qqICjYDphYfu",
        "outputId": "5a6e4228-38c6-45bf-dcfc-c4c03e92a80a"
      },
      "execution_count": 6,
      "outputs": [
        {
          "output_type": "stream",
          "name": "stdout",
          "text": [
            "김사과님은 20세이고, 50.5kg입니다.\n"
          ]
        }
      ]
    },
    {
      "cell_type": "code",
      "source": [
        "emoji1, emoji2, emoji3 = '🎁 💎 🎹'.split()"
      ],
      "metadata": {
        "id": "9pW9Op1mhkcN"
      },
      "execution_count": 7,
      "outputs": []
    },
    {
      "cell_type": "code",
      "source": [
        "print(emoji1, emoji2, emoji3)"
      ],
      "metadata": {
        "colab": {
          "base_uri": "https://localhost:8080/"
        },
        "id": "wQYrXABuibQq",
        "outputId": "ab979dd5-6efd-4c9d-d4d4-eed717eea193"
      },
      "execution_count": 8,
      "outputs": [
        {
          "output_type": "stream",
          "name": "stdout",
          "text": [
            "🎁 💎 🎹\n"
          ]
        }
      ]
    },
    {
      "cell_type": "code",
      "source": [
        "name, age, weight = input(\"이름, 나이, 몸무게 순으로 입력하세요: \").split('/')\n",
        "print(\"{}님은 {}세이고, {}kg입니다.\" .format(name, age, weight))"
      ],
      "metadata": {
        "colab": {
          "base_uri": "https://localhost:8080/"
        },
        "id": "HzM3TlXoisYH",
        "outputId": "87d68845-0d35-43c0-d4b0-0480c4de79b1"
      },
      "execution_count": 9,
      "outputs": [
        {
          "output_type": "stream",
          "name": "stdout",
          "text": [
            "이름, 나이, 몸무게 순으로 입력하세요: 반하나/22/48.5\n",
            "반하나님은 22세이고, 48.5kg입니다.\n"
          ]
        }
      ]
    },
    {
      "cell_type": "code",
      "source": [
        "# int(): 문자열을 숫자(정수)타입으로 변환\n",
        "num1 = input(\"첫번째 숫자를 입력하세요: \")\n",
        "num2 = input(\"두번째 숫자를 입력하세요: \")\n",
        "print(\"결과: \", num1+num2)\n",
        "num1 = int(num1)\n",
        "num2 = int(num2)\n",
        "print(\"결과: \", num1+num2)"
      ],
      "metadata": {
        "colab": {
          "base_uri": "https://localhost:8080/"
        },
        "id": "pbefCVxKjU-Z",
        "outputId": "fc75ab5d-92d0-4c1f-90d7-bf4a06affbe3"
      },
      "execution_count": 10,
      "outputs": [
        {
          "output_type": "stream",
          "name": "stdout",
          "text": [
            "첫번째 숫자를 입력하세요: 5\n",
            "두번째 숫자를 입력하세요: 7\n",
            "결과:  57\n",
            "결과:  12\n"
          ]
        }
      ]
    },
    {
      "cell_type": "code",
      "source": [
        "num1 = int(input(\"첫번째 숫자를 입력하세요: \"))\n",
        "num2 = int(input(\"두번째 숫자를 입력하세요: \"))\n",
        "print(\"결과: \", num1+num2)"
      ],
      "metadata": {
        "colab": {
          "base_uri": "https://localhost:8080/"
        },
        "id": "-CzswvqCjlNn",
        "outputId": "5c6bbc41-df33-4161-9a2f-f15cc7fb9e72"
      },
      "execution_count": 11,
      "outputs": [
        {
          "output_type": "stream",
          "name": "stdout",
          "text": [
            "첫번째 숫자를 입력하세요: 5\n",
            "두번째 숫자를 입력하세요: 8\n",
            "결과:  13\n"
          ]
        }
      ]
    },
    {
      "cell_type": "markdown",
      "source": [
        "### 문제\n",
        "* 국어점수, 영어점수, 수학점수를 입력받아 총점, 평균을 구하는 프로그램을 작성해보자"
      ],
      "metadata": {
        "id": "ZdkwL-DdkIoi"
      }
    },
    {
      "cell_type": "code",
      "source": [
        "kor, eng, math = input(\"국어, 영어, 수학 점수를 입력하세요: \").split()\n",
        "kor = int(kor)\n",
        "eng = int(eng)\n",
        "math = int(math)\n",
        "print(\"총점: %d점\" % (kor+eng+math))\n",
        "print(\"평균: %.1f점\" % ((kor+eng+math)/3))"
      ],
      "metadata": {
        "colab": {
          "base_uri": "https://localhost:8080/"
        },
        "id": "aW1CtjMNkIJf",
        "outputId": "0bb84c79-b7b1-46ad-ddd2-036c42ffa678"
      },
      "execution_count": 15,
      "outputs": [
        {
          "output_type": "stream",
          "name": "stdout",
          "text": [
            "국어, 영어, 수학 점수를 입력하세요: 90 84 92\n",
            "총점: 266점\n",
            "평균: 88.7점\n"
          ]
        }
      ]
    }
  ]
}