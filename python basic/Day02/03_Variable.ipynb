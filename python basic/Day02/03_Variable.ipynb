{
  "nbformat": 4,
  "nbformat_minor": 0,
  "metadata": {
    "colab": {
      "provenance": []
    },
    "kernelspec": {
      "name": "python3",
      "display_name": "Python 3"
    },
    "language_info": {
      "name": "python"
    }
  },
  "cells": [
    {
      "cell_type": "markdown",
      "source": [
        "# 1. 변수"
      ],
      "metadata": {
        "id": "3Ox05xLFOAyP"
      }
    },
    {
      "cell_type": "markdown",
      "source": [
        "## 1-1. 변수의 이름을 작성하는 방법\n",
        "* 데이터를 표현할 수 있는 이름으로 지어야 함\n",
        "* 문자부터 시작해야 함\n",
        "* 대소문자를 구분함\n",
        "* _로 시작할 수 있음\n",
        "* 미리 예약된 키워드는 사용할 수 없음"
      ],
      "metadata": {
        "id": "HliFUsiCRNKH"
      }
    },
    {
      "cell_type": "code",
      "source": [
        "name = \"제이슨\"\n",
        "age = 25\n",
        "a = 10 # 모호한 변수명은 자제\n",
        "\n",
        "num1 = 10\n",
        "# 1num = 10 (x)\n",
        "\n",
        "NUM = 10\n",
        "num = 10\n",
        "Num = 10\n",
        "_num = 10"
      ],
      "metadata": {
        "id": "XHkcUDnLTAiE"
      },
      "execution_count": 1,
      "outputs": []
    },
    {
      "cell_type": "code",
      "source": [
        "name = \"김사과\"\n",
        "age = 20"
      ],
      "metadata": {
        "id": "zO4HcXc3Uuel"
      },
      "execution_count": 2,
      "outputs": []
    },
    {
      "cell_type": "code",
      "source": [
        "print(name)\n",
        "print(age)"
      ],
      "metadata": {
        "colab": {
          "base_uri": "https://localhost:8080/"
        },
        "id": "xIlGLoklVgrJ",
        "outputId": "e270f64f-bf16-4fae-89fd-40f00498846f"
      },
      "execution_count": 3,
      "outputs": [
        {
          "output_type": "stream",
          "name": "stdout",
          "text": [
            "김사과\n",
            "20\n"
          ]
        }
      ]
    },
    {
      "cell_type": "code",
      "source": [
        "name = \"반하나\"\n",
        "print(name)"
      ],
      "metadata": {
        "colab": {
          "base_uri": "https://localhost:8080/"
        },
        "id": "wwMrUei-Vicz",
        "outputId": "1d1ed7a0-4a77-4c15-dd47-283db26caf49"
      },
      "execution_count": 4,
      "outputs": [
        {
          "output_type": "stream",
          "name": "stdout",
          "text": [
            "반하나\n"
          ]
        }
      ]
    },
    {
      "cell_type": "code",
      "source": [
        "num1 = 10\n",
        "num2 = 3\n",
        "print('%d / %d = %4.2f' % (num1,num2,num1/num2))"
      ],
      "metadata": {
        "colab": {
          "base_uri": "https://localhost:8080/"
        },
        "id": "G2NR-ar2WVR7",
        "outputId": "638328d3-2e78-48a1-e3d4-707ed257bbf3"
      },
      "execution_count": 5,
      "outputs": [
        {
          "output_type": "stream",
          "name": "stdout",
          "text": [
            "10 / 3 = 3.33\n"
          ]
        }
      ]
    },
    {
      "cell_type": "markdown",
      "source": [
        "# 2. 변수의 데이터 타입\n",
        "* 데이터 타입(자료형): 자료가 저장되는 형태를 의미"
      ],
      "metadata": {
        "id": "cZeuYGX1XUAc"
      }
    },
    {
      "cell_type": "code",
      "source": [
        "name = \"김사과\"\n",
        "age = 20\n",
        "weight = 50.5\n",
        "isLover = False"
      ],
      "metadata": {
        "id": "L646VX0GYVoE"
      },
      "execution_count": 6,
      "outputs": []
    },
    {
      "cell_type": "code",
      "source": [
        "# type(): 변수의 데이터 타입을 반환해주는 함수\n",
        "print(type(name))\n",
        "print(type(age))\n",
        "print(type(weight))\n",
        "print(type(isLover))"
      ],
      "metadata": {
        "colab": {
          "base_uri": "https://localhost:8080/"
        },
        "id": "dENpzd4rYyt6",
        "outputId": "fa37e2bb-776b-48c6-8021-9e19b2eada60"
      },
      "execution_count": 7,
      "outputs": [
        {
          "output_type": "stream",
          "name": "stdout",
          "text": [
            "<class 'str'>\n",
            "<class 'int'>\n",
            "<class 'float'>\n",
            "<class 'bool'>\n"
          ]
        }
      ]
    },
    {
      "cell_type": "markdown",
      "source": [
        "# 3. 변수의 삭제\n",
        "* del: 객체를 삭제하는데 사용. (파이썬은 데이터를 저장할 수 있는 모든 것이 객체)"
      ],
      "metadata": {
        "id": "ar_3XxYAZnTp"
      }
    },
    {
      "cell_type": "code",
      "source": [
        "print(isLover)"
      ],
      "metadata": {
        "colab": {
          "base_uri": "https://localhost:8080/"
        },
        "id": "kbVCZ7yzekio",
        "outputId": "06250bee-2608-479b-e1ce-b9256897a390"
      },
      "execution_count": 8,
      "outputs": [
        {
          "output_type": "stream",
          "name": "stdout",
          "text": [
            "False\n"
          ]
        }
      ]
    },
    {
      "cell_type": "code",
      "source": [
        "del isLover"
      ],
      "metadata": {
        "id": "HUv6H84qfWfQ"
      },
      "execution_count": 9,
      "outputs": []
    },
    {
      "cell_type": "code",
      "source": [
        "print(isLover) # NameError: name 'isLover' is not defined"
      ],
      "metadata": {
        "colab": {
          "base_uri": "https://localhost:8080/",
          "height": 173
        },
        "id": "DMd-fYByfXmX",
        "outputId": "455af611-ff49-4b35-c891-ff91e59f2de2"
      },
      "execution_count": 10,
      "outputs": [
        {
          "output_type": "error",
          "ename": "NameError",
          "evalue": "ignored",
          "traceback": [
            "\u001b[0;31m---------------------------------------------------------------------------\u001b[0m",
            "\u001b[0;31mNameError\u001b[0m                                 Traceback (most recent call last)",
            "\u001b[0;32m<ipython-input-10-6053910d0aff>\u001b[0m in \u001b[0;36m<module>\u001b[0;34m\u001b[0m\n\u001b[0;32m----> 1\u001b[0;31m \u001b[0mprint\u001b[0m\u001b[0;34m(\u001b[0m\u001b[0misLover\u001b[0m\u001b[0;34m)\u001b[0m\u001b[0;34m\u001b[0m\u001b[0;34m\u001b[0m\u001b[0m\n\u001b[0m",
            "\u001b[0;31mNameError\u001b[0m: name 'isLover' is not defined"
          ]
        }
      ]
    }
  ]
}