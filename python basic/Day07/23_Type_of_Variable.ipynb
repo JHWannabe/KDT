{
  "nbformat": 4,
  "nbformat_minor": 0,
  "metadata": {
    "colab": {
      "provenance": []
    },
    "kernelspec": {
      "name": "python3",
      "display_name": "Python 3"
    },
    "language_info": {
      "name": "python"
    }
  },
  "cells": [
    {
      "cell_type": "markdown",
      "source": [
        "# 1. 변수 타입 어노테이션"
      ],
      "metadata": {
        "id": "iBaLhQPfrwVu"
      }
    },
    {
      "cell_type": "markdown",
      "source": [
        "## 1-1. 타입 어노테이션(Type Annotation)\n",
        "* 변수나 상수를 선언할 때 타입을 명시적으로 선언해줌으로써 어떤 타입의 값이 저장될 것인지를 직접 알려주는 방법\n",
        "* 프로그램은 수많은 함수, 클래스 등으로 복잡하게 얽혀있는 경우가 많은데 변수 타입이 맞지 않으면 에러나 버그의 발생 가능성이 매우 높아짐\n",
        "* 타입 어노테이션을 사용하면 코드 가독성과 협업 효율성이 매우 높아짐\n",
        "* 파이썬 3.5부터 기능이 지원되어 많은 라이브러리 프로젝트에서 사용이 확산되는 추세\n",
        "* Java, C, C++ 등은 컴파일 시 변수 타입이 결정되는 정적 프로그래밍 언어이며, Python은 프로그램은 실행 도중에 변수 타입을 결정하는 동적 프로그래밍 언어다."
      ],
      "metadata": {
        "id": "ZY1GJUAhsGMx"
      }
    },
    {
      "cell_type": "markdown",
      "source": [
        "## 1-2. 동적 프로그래밍 언어의 장단점\n",
        "* 장점\n",
        "    * 타입이 자유로워 유연한 코딩이 가능하므로 빠르게 프로그램을 만들 수 있음\n",
        "    * 타입 체크를 위한 코드가 없으므로 깔끔한 소스코드를 작성할 수 있음\n",
        "* 단점\n",
        "    * 프로젝트의 규모가 커질수록 잘못된 타입 사용으로 버그가 생길 확률이 높아짐\n",
        "    * 정적 프로그래밍 언어와 타입버그 발생 시, 원인 찾기 어려움\n",
        "    * 실행 속도 느림"
      ],
      "metadata": {
        "id": "ZOaXhHTQsJ8k"
      }
    },
    {
      "cell_type": "markdown",
      "source": [
        "Java\n",
        "```\n",
        "int a = 10;\n",
        "a = \"십\"; //Error\n",
        "```\n",
        "\n",
        "Python\n",
        "```\n",
        "a = 1\n",
        "type(a) # int\n",
        "a = '십'\n",
        "type(a) # str\n",
        "```"
      ],
      "metadata": {
        "id": "hZw2FtZau1Dp"
      }
    },
    {
      "cell_type": "code",
      "source": [
        "a: int = 10\n",
        "\n",
        "print(a) # 10\n",
        "print(type(a)) # <class 'int'>"
      ],
      "metadata": {
        "colab": {
          "base_uri": "https://localhost:8080/"
        },
        "id": "tOSp4pukvgqV",
        "outputId": "1747f11a-6892-45d9-f771-0b87f92495fa"
      },
      "execution_count": 2,
      "outputs": [
        {
          "output_type": "stream",
          "name": "stdout",
          "text": [
            "10\n",
            "<class 'int'>\n"
          ]
        }
      ]
    },
    {
      "cell_type": "code",
      "source": [
        "def add(a: int, b: int) -> int: # a는 int, b는 int, 결과는 int자료형으로 처리\n",
        "    return a + b"
      ],
      "metadata": {
        "id": "OowfP4bSvjod"
      },
      "execution_count": 3,
      "outputs": []
    },
    {
      "cell_type": "code",
      "source": [
        "add(10, 3) # 13\n",
        "add('10', '3') # 103\n",
        "# Error 발생 x"
      ],
      "metadata": {
        "colab": {
          "base_uri": "https://localhost:8080/"
        },
        "id": "9CBCdG21vuqU",
        "outputId": "9a879e35-a64f-4e6f-8a86-1cb1a7837d78"
      },
      "execution_count": 4,
      "outputs": [
        {
          "output_type": "execute_result",
          "data": {
            "text/plain": [
              "13"
            ]
          },
          "metadata": {},
          "execution_count": 4
        }
      ]
    },
    {
      "cell_type": "code",
      "source": [
        "# 타입 어노테이션을 확인\n",
        "add.__annotations__\n",
        "# {'a': int, 'b': int, 'return': int}"
      ],
      "metadata": {
        "colab": {
          "base_uri": "https://localhost:8080/"
        },
        "id": "OhpzvE4Rvy2c",
        "outputId": "d3e53bf5-72a5-46df-f82d-1f5fea356d8f"
      },
      "execution_count": 6,
      "outputs": [
        {
          "output_type": "execute_result",
          "data": {
            "text/plain": [
              "{'a': int, 'b': int, 'return': int}"
            ]
          },
          "metadata": {},
          "execution_count": 6
        }
      ]
    }
  ]
}