{
  "nbformat": 4,
  "nbformat_minor": 0,
  "metadata": {
    "colab": {
      "provenance": []
    },
    "kernelspec": {
      "name": "python3",
      "display_name": "Python 3"
    },
    "language_info": {
      "name": "python"
    }
  },
  "cells": [
    {
      "cell_type": "markdown",
      "source": [
        "# 1. 클로저(Closure)\n",
        "* 함수 안의 함수를 결과로 반환할 때, 그 내부함수를 클로저라고 함\n",
        "* 콜백함수, 함수의 순차적 실행, 데코레이터 함수에 사용"
      ],
      "metadata": {
        "id": "Yo-RQU90eqLs"
      }
    },
    {
      "cell_type": "code",
      "source": [
        "def mul2(n):\n",
        "    return n * 2\n",
        "\n",
        "print(mul2(10)) # 20\n",
        "print(mul2(5)) # 10\n",
        "\n",
        "def mul5(n):\n",
        "    return n * 5\n",
        "\n",
        "mul5(10) # 50\n",
        "mul5(5) # 25"
      ],
      "metadata": {
        "colab": {
          "base_uri": "https://localhost:8080/"
        },
        "id": "kfcLKkKVfnWE",
        "outputId": "a11f8d84-2a6d-4d79-9f59-c18027f0682e"
      },
      "execution_count": 1,
      "outputs": [
        {
          "output_type": "stream",
          "name": "stdout",
          "text": [
            "20\n",
            "10\n"
          ]
        },
        {
          "output_type": "execute_result",
          "data": {
            "text/plain": [
              "25"
            ]
          },
          "metadata": {},
          "execution_count": 1
        }
      ]
    },
    {
      "cell_type": "code",
      "source": [
        "# mul1, mul2, mul3, ... mul100도 만들어야 하나?\n",
        "\n",
        "class Mul:\n",
        "    def __init__(self, m):\n",
        "        self.m = m\n",
        "    \n",
        "    def mul(self, n):\n",
        "        return self.m * n\n",
        "\n",
        "mul2 = Mul(2)\n",
        "print(mul2.mul(10)) # 20\n",
        "print(mul2.mul(5)) # 10\n",
        "\n",
        "mul5 = Mul(5)\n",
        "print(mul5.mul(10)) # 50\n",
        "print(mul5.mul(5)) # 25"
      ],
      "metadata": {
        "colab": {
          "base_uri": "https://localhost:8080/"
        },
        "id": "X0269xSZgWTK",
        "outputId": "a24641bf-d562-467c-9672-12b7b38fef37"
      },
      "execution_count": 2,
      "outputs": [
        {
          "output_type": "stream",
          "name": "stdout",
          "text": [
            "20\n",
            "10\n",
            "50\n",
            "25\n"
          ]
        }
      ]
    },
    {
      "cell_type": "code",
      "source": [
        "class Mul:\n",
        "    def __init__(self, m): # 객체를 생성할 때 호출\n",
        "        print('생성자 호출')\n",
        "        self.m = m\n",
        "    \n",
        "    def __call__(self, n): # 객체를 실행할 때 호출\n",
        "        print('call 호출')\n",
        "        return self.m * n\n",
        "\n",
        "mul2 = Mul(2) # 생성자 호출\n",
        "mul2(10)\n",
        "# call 호출\n",
        "# 20\n",
        "\n",
        "mul5 = Mul(5) # 생성자 호출\n",
        "mul5(10)\n",
        "# call 호출\n",
        "# 50"
      ],
      "metadata": {
        "colab": {
          "base_uri": "https://localhost:8080/"
        },
        "id": "UjZKqgVehy0G",
        "outputId": "0293416d-6fb2-4ca2-fc38-1b0cd16f2e20"
      },
      "execution_count": 3,
      "outputs": [
        {
          "output_type": "stream",
          "name": "stdout",
          "text": [
            "생성자 호출\n",
            "call 호출\n",
            "생성자 호출\n",
            "call 호출\n"
          ]
        },
        {
          "output_type": "execute_result",
          "data": {
            "text/plain": [
              "50"
            ]
          },
          "metadata": {},
          "execution_count": 3
        }
      ]
    },
    {
      "cell_type": "code",
      "source": [
        "# 클로저 사용하기\n",
        "def mul(m):         # 외부 함수\n",
        "    def wrapper(n): # 내부 함수(클로저)\n",
        "        return m * n\n",
        "    return wrapper\n",
        "\n",
        "mul2 = mul(2)   # m = 2인 wrapper 함수가 mul2에 저장\n",
        "print(mul2(10)) # m = 2, n = 10인 wrapper 함수가 실행\n",
        "# 20\n",
        "\n",
        "mul5 = mul(5)\n",
        "print(mul5(10))\n",
        "# 50"
      ],
      "metadata": {
        "colab": {
          "base_uri": "https://localhost:8080/"
        },
        "id": "Vmn3qHUoiYLL",
        "outputId": "a6ebcf42-e1fe-4370-af09-84cabc60bf64"
      },
      "execution_count": 4,
      "outputs": [
        {
          "output_type": "stream",
          "name": "stdout",
          "text": [
            "20\n",
            "50\n"
          ]
        }
      ]
    },
    {
      "cell_type": "markdown",
      "source": [
        "# 2. 데코레이터(Decorator)\n",
        "* 함수를 꾸며주는 함수\n",
        "* 함수를 인수로 받는 클로저\n",
        "* @(어노테이션)을 이용하여 사용\n",
        "* 반복되는 작업을 여러 함수에 적용할 경우\n",
        "* 기존 함수를 수정하지 않고 추가 기능을 구현하고 싶은 경우"
      ],
      "metadata": {
        "id": "D6S3yhDunSrR"
      }
    },
    {
      "cell_type": "code",
      "source": [
        "import time\n",
        "\n",
        "def func1(a, b):\n",
        "    print('함수가 시작되었습니다.')\n",
        "    start = time.time()\n",
        "    result = a + b\n",
        "    end = time.time()\n",
        "    print('함수가 종료되었습니다.')\n",
        "\n",
        "    print(f'함수 수행시간: {end - start}')\n",
        "    return result\n",
        "\n",
        "def func2(a, b):\n",
        "    print('함수가 시작되었습니다.')\n",
        "    start = time.time()\n",
        "    result = a * b\n",
        "    end = time.time()\n",
        "    print('함수가 종료되었습니다.')\n",
        "\n",
        "    print(f'함수 수행시간: {end - start}')\n",
        "    return result"
      ],
      "metadata": {
        "id": "XQiGBXn-n7kz"
      },
      "execution_count": 5,
      "outputs": []
    },
    {
      "cell_type": "code",
      "source": [
        "result = func1(10, 3)"
      ],
      "metadata": {
        "colab": {
          "base_uri": "https://localhost:8080/"
        },
        "id": "kLIcjBOtomgq",
        "outputId": "0bcb4fbd-c6fd-464c-8ad5-909f9a1c2bfc"
      },
      "execution_count": 6,
      "outputs": [
        {
          "output_type": "stream",
          "name": "stdout",
          "text": [
            "함수가 시작되었습니다.\n",
            "함수가 종료되었습니다.\n",
            "함수 수행시간: 4.76837158203125e-07\n"
          ]
        }
      ]
    },
    {
      "cell_type": "code",
      "source": [
        "result = func2(10, 3)"
      ],
      "metadata": {
        "colab": {
          "base_uri": "https://localhost:8080/"
        },
        "id": "BXYV_TWqpSIq",
        "outputId": "8317f350-5526-40eb-aac3-afe1c3da22cc"
      },
      "execution_count": 7,
      "outputs": [
        {
          "output_type": "stream",
          "name": "stdout",
          "text": [
            "함수가 시작되었습니다.\n",
            "함수가 종료되었습니다.\n",
            "함수 수행시간: 9.5367431640625e-07\n"
          ]
        }
      ]
    },
    {
      "cell_type": "code",
      "source": [
        "# 데코레이터 만들기\n",
        "def func1(a, b):\n",
        "    result = a + b\n",
        "    return result\n",
        "\n",
        "def func2(a, b):\n",
        "    result = a * b\n",
        "    return result"
      ],
      "metadata": {
        "id": "HOGA6rKzpU5x"
      },
      "execution_count": 8,
      "outputs": []
    },
    {
      "cell_type": "code",
      "source": [
        "def elapsed(func):\n",
        "    def wrapper(a, b):\n",
        "        print('함수가 시작되었습니다.')\n",
        "        start = time.time()\n",
        "\n",
        "        result = func(a,b)\n",
        "\n",
        "        end = time.time()\n",
        "        print('함수가 종료되었습니다.')\n",
        "\n",
        "        print(f'함수 수행시간: {end - start}')\n",
        "        return result\n",
        "    return wrapper"
      ],
      "metadata": {
        "id": "FPHITzoVp5pB"
      },
      "execution_count": 9,
      "outputs": []
    },
    {
      "cell_type": "code",
      "source": [
        "deco1 = elapsed(func1)\n",
        "result1 = deco1(10, 3)\n",
        "print(result1)\n",
        "\n",
        "deco2 = elapsed(func2)\n",
        "result2 = deco2(10, 3)\n",
        "print(result2)"
      ],
      "metadata": {
        "colab": {
          "base_uri": "https://localhost:8080/"
        },
        "id": "nUzhDE4vqPR6",
        "outputId": "54e272eb-b275-4a37-ac6d-8813da50d8b7"
      },
      "execution_count": 10,
      "outputs": [
        {
          "output_type": "stream",
          "name": "stdout",
          "text": [
            "함수가 시작되었습니다.\n",
            "함수가 종료되었습니다.\n",
            "함수 수행시간: 2.1457672119140625e-06\n",
            "13\n",
            "함수가 시작되었습니다.\n",
            "함수가 종료되었습니다.\n",
            "함수 수행시간: 1.6689300537109375e-06\n",
            "30\n"
          ]
        }
      ]
    },
    {
      "cell_type": "code",
      "source": [
        "@elapsed\n",
        "def func1(a, b):\n",
        "    result = a + b\n",
        "    return result\n",
        "\n",
        "@elapsed\n",
        "def func2(a, b):\n",
        "    result = a * b\n",
        "    return result"
      ],
      "metadata": {
        "id": "BPSKbhuNqU3w"
      },
      "execution_count": 15,
      "outputs": []
    },
    {
      "cell_type": "code",
      "source": [
        "result1 = func1(10, 3)\n",
        "print(result1)"
      ],
      "metadata": {
        "colab": {
          "base_uri": "https://localhost:8080/"
        },
        "id": "mjsDF54PrR5R",
        "outputId": "57a6f9f7-6182-4e3f-9f82-2f154902c423"
      },
      "execution_count": 16,
      "outputs": [
        {
          "output_type": "stream",
          "name": "stdout",
          "text": [
            "함수가 시작되었습니다.\n",
            "함수가 종료되었습니다.\n",
            "함수 수행시간: 1.6689300537109375e-06\n",
            "13\n"
          ]
        }
      ]
    },
    {
      "cell_type": "code",
      "source": [
        "result2 = func2(10, 3)\n",
        "print(result2)"
      ],
      "metadata": {
        "colab": {
          "base_uri": "https://localhost:8080/"
        },
        "id": "Moe5a495rekY",
        "outputId": "732e1340-08cd-4bca-93ec-4fc7d0de6a25"
      },
      "execution_count": 17,
      "outputs": [
        {
          "output_type": "stream",
          "name": "stdout",
          "text": [
            "함수가 시작되었습니다.\n",
            "함수가 종료되었습니다.\n",
            "함수 수행시간: 1.9073486328125e-06\n",
            "30\n"
          ]
        }
      ]
    }
  ]
}