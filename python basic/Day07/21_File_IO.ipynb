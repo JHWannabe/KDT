{
  "nbformat": 4,
  "nbformat_minor": 0,
  "metadata": {
    "colab": {
      "provenance": []
    },
    "kernelspec": {
      "name": "python3",
      "display_name": "Python 3"
    },
    "language_info": {
      "name": "python"
    }
  },
  "cells": [
    {
      "cell_type": "markdown",
      "source": [
        "# 1. 파일 열기\n",
        "```\n",
        "파일변수 = open('파일이름', '파일 열기 모드')\n",
        "```\n",
        "* 파일 열기 모드: w(출력), r(입력), a(추가출력)\n",
        "* w는 지정된 경로에 파일이 없으면 파일을 만든 후 저장하고, 파일이 있으면 기존의 모든 데이터를 지우고 다시 저장\n",
        "* r은 지정된 경로에 파일이 없으면 에러, 있으면 해당 파일의 데이터를 읽어옴\n",
        "* a는 지정된 경로에 파일이 없으면 파일을 만든 후 저장하고, 파일이 있으면 기존의 데이터 뒤에 이어서 저장\n",
        "* 파일 종류 모드: t(텍스트 파일, 생략 가능), b(바이너리 파일)\n",
        "\n",
        "```\n",
        "input = open('test.txt', 'r') # 텍스트파일 열기 모드\n",
        "input = open('test.txt', 'rt') # 텍스트파일 열기 모드\n",
        "input = open('test.jpg', 'rb') # 바이너리파일 열기 모드\n",
        "```\n",
        "✔ 파일을 출력할 때 작업이 모두 완료되면 반드시 close() 메소드를 사용해서 파일을 닫아야 정상적으로 데이터가 저장"
      ],
      "metadata": {
        "id": "jKx6koVY0nQ6"
      }
    },
    {
      "cell_type": "markdown",
      "source": [
        "## 1-1. 파일 저장하기\n",
        "* write(): 파일에 데이터를 씀"
      ],
      "metadata": {
        "id": "Lm_fHj4xONmK"
      }
    },
    {
      "cell_type": "code",
      "source": [
        "file = open('data.txt', 'wt')\n",
        "for i in range(10):\n",
        "    file.write('파일 열기 테스트:' + str(i) + '\\n') # \\n: 파일 내에서 개행\n",
        "file.close()\n",
        "print('data.txt 파일에 쓰기 완료!')"
      ],
      "metadata": {
        "colab": {
          "base_uri": "https://localhost:8080/"
        },
        "id": "w32bwxMe2U7y",
        "outputId": "74cf7a98-65e3-4e02-cc44-c9575f087de9"
      },
      "execution_count": null,
      "outputs": [
        {
          "output_type": "stream",
          "name": "stdout",
          "text": [
            "data.txt 파일에 쓰기 완료!\n"
          ]
        }
      ]
    },
    {
      "cell_type": "markdown",
      "source": [
        "## 1-2. 파일 경로\n",
        "* 절대 경로: 디스크 드라이브의 최상위(root) 디렉토리부터 파일이 저장 또는 읽어올 디렉토리까지의 경로  \n",
        "    예) C:/jhwannabe/python/Day07\n",
        "* 상대 경로: 현재 화면에 표시되는 소스파일이 위치한 디렉토리부터 파일이 저장 또는 읽어올 디렉토리까지의 경로  \n",
        "    * 같은 디렉토리: 파일명 또는 ./파일명\n",
        "    * 상위 디렉토리: ../파일명 또는 ./../파일명\n",
        "    * 하위 디렉토리: 디렉토리명/파일명\n",
        "\n",
        "※ \\표기를 /로 변환할 것!"
      ],
      "metadata": {
        "id": "XoEdeJDOLsGN"
      }
    },
    {
      "cell_type": "code",
      "source": [
        "file = open('data/data.txt', 'wt')\n",
        "for i in range(10):\n",
        "    file.write('파일 열기 테스트:' + str(i) + '\\n') # \\n: 파일 내에서 개행\n",
        "file.close()\n",
        "print('data.txt 파일에 쓰기 완료!')"
      ],
      "metadata": {
        "colab": {
          "base_uri": "https://localhost:8080/"
        },
        "id": "5CihiJT9NQhl",
        "outputId": "2a419ab8-3ac9-4596-e8e0-461d81756f23"
      },
      "execution_count": null,
      "outputs": [
        {
          "output_type": "stream",
          "name": "stdout",
          "text": [
            "data.txt 파일에 쓰기 완료!\n"
          ]
        }
      ]
    },
    {
      "cell_type": "markdown",
      "source": [
        "## 1-3. 파일 읽어오기\n",
        "* read(): 파일로부터 데이터를 읽어옴\n",
        "* read(size): 사이즈만큼 데이터를 읽어옴"
      ],
      "metadata": {
        "id": "wX4ddYEtNU9N"
      }
    },
    {
      "cell_type": "code",
      "source": [
        "file = open('./data/data.txt', 'rt')\n",
        "data = file.read()\n",
        "file.close()\n",
        "print('data.txt 전체 데이터 읽기 완료')\n",
        "print(data)"
      ],
      "metadata": {
        "colab": {
          "base_uri": "https://localhost:8080/"
        },
        "id": "d9X0yGEvOkv2",
        "outputId": "40c019f7-871e-45f2-b114-5b1e60856dca"
      },
      "execution_count": null,
      "outputs": [
        {
          "output_type": "stream",
          "name": "stdout",
          "text": [
            "data.txt 전체 데이터 읽기 완료\n",
            "파일 열기 테스트:0\n",
            "파일 열기 테스트:1\n",
            "파일 열기 테스트:2\n",
            "파일 열기 테스트:3\n",
            "파일 열기 테스트:4\n",
            "파일 열기 테스트:5\n",
            "파일 열기 테스트:6\n",
            "파일 열기 테스트:7\n",
            "파일 열기 테스트:8\n",
            "파일 열기 테스트:9\n",
            "\n"
          ]
        }
      ]
    },
    {
      "cell_type": "code",
      "source": [
        "file = open('./data/data.txt', 'rt')\n",
        "data = file.read(10) # 유니코드 10글자 읽어옴\n",
        "file.close()\n",
        "print('data.txt 전체 데이터 읽기 완료')\n",
        "print(data)"
      ],
      "metadata": {
        "colab": {
          "base_uri": "https://localhost:8080/"
        },
        "id": "nHk54GdxOsVV",
        "outputId": "f4a90980-1116-4e8c-f9e2-8908b7eeb360"
      },
      "execution_count": null,
      "outputs": [
        {
          "output_type": "stream",
          "name": "stdout",
          "text": [
            "data.txt 전체 데이터 읽기 완료\n",
            "파일 열기 테스트:\n"
          ]
        }
      ]
    },
    {
      "cell_type": "code",
      "source": [
        "# read(10)을 이용하여 data.txt에 있는 모든 데이터를 출력하기\n",
        "file = open('./data/data.txt', 'rt')\n",
        "while (1):\n",
        "    data = file.read(10)\n",
        "    if not data:\n",
        "        break\n",
        "    print(data, end='')"
      ],
      "metadata": {
        "colab": {
          "base_uri": "https://localhost:8080/"
        },
        "id": "d3pHM4eAPCl0",
        "outputId": "4f9b223a-5a47-4fcb-d346-5da701204fd9"
      },
      "execution_count": null,
      "outputs": [
        {
          "output_type": "stream",
          "name": "stdout",
          "text": [
            "파일 열기 테스트:0\n",
            "파일 열기 테스트:1\n",
            "파일 열기 테스트:2\n",
            "파일 열기 테스트:3\n",
            "파일 열기 테스트:4\n",
            "파일 열기 테스트:5\n",
            "파일 열기 테스트:6\n",
            "파일 열기 테스트:7\n",
            "파일 열기 테스트:8\n",
            "파일 열기 테스트:9\n"
          ]
        }
      ]
    },
    {
      "cell_type": "markdown",
      "source": [
        "## 문제\n",
        "* 키보드로 데이터를 입력하고 텍스트 파일에 저장하는 프로그램을 작성해보자. (단, 'quit'이 입력되면, 저장을 끝내고 프로그램을 종료하자.)\n",
        "\n",
        "* 단어를 입력하세요: apple\n",
        "* 단어를 입력하세요: banana\n",
        "* 단어를 입력하세요: orange\n",
        "* 단어를 입력하세요: quit 저장되었습니다."
      ],
      "metadata": {
        "id": "4x3kM9MrPto9"
      }
    },
    {
      "cell_type": "code",
      "source": [
        "file = open('data/fruit.txt', 'w')\n",
        "while 1:\n",
        "    fruit = input('단어를 입력하세요: ')\n",
        "    if fruit.lower() == 'quit':\n",
        "        file.close()\n",
        "        break\n",
        "    file.write(fruit + '\\n')\n",
        "print('저장되었습니다.')"
      ],
      "metadata": {
        "colab": {
          "base_uri": "https://localhost:8080/"
        },
        "id": "xavpuP-JQfpg",
        "outputId": "c0ff2f09-0d5e-4af9-d857-f654ebe13c6c"
      },
      "execution_count": null,
      "outputs": [
        {
          "output_type": "stream",
          "name": "stdout",
          "text": [
            "단어를 입력하세요: apple\n",
            "단어를 입력하세요: banana\n",
            "단어를 입력하세요: orange\n",
            "단어를 입력하세요: melon\n",
            "단어를 입력하세요: quit\n",
            "저장되었습니다.\n"
          ]
        }
      ]
    },
    {
      "cell_type": "markdown",
      "source": [
        "## 1-4. with 문\n",
        "* 자원을 획득하고 사용 후 반납해야하는 경우 블록으로 사용하는 문장\n"
      ],
      "metadata": {
        "id": "qIcl0HSkTm2c"
      }
    },
    {
      "cell_type": "code",
      "source": [
        "with open('data/fruit.txt', 'w') as f:\n",
        "    while 1:\n",
        "        fruit = input('단어를 입력하세요: ')\n",
        "        if fruit.lower() == 'quit':\n",
        "            break\n",
        "        f.write(fruit + '\\n')\n",
        "    print('저장되었습니다.')"
      ],
      "metadata": {
        "colab": {
          "base_uri": "https://localhost:8080/"
        },
        "id": "SyeOdxOdTyfD",
        "outputId": "cafa33a9-d792-4b6c-e7e9-e9110e79cbbf"
      },
      "execution_count": null,
      "outputs": [
        {
          "output_type": "stream",
          "name": "stdout",
          "text": [
            "단어를 입력하세요: apple\n",
            "단어를 입력하세요: banana\n",
            "단어를 입력하세요: orange\n",
            "단어를 입력하세요: melon\n",
            "단어를 입력하세요: quit\n",
            "저장되었습니다.\n"
          ]
        }
      ]
    },
    {
      "cell_type": "markdown",
      "source": [
        "## 1-5. readline()\n",
        "* 텍스트 파일을 한 줄씩 읽어서 처리\n",
        "* 파일이 종료되어 더이상 읽을 수 없으면 빈 문자열 ''을 읽어옴"
      ],
      "metadata": {
        "id": "JPE8JCz6YEKF"
      }
    },
    {
      "cell_type": "code",
      "source": [
        "with open('./data/fruit.txt', 'r') as f:\n",
        "    lines = []\n",
        "    while 1:\n",
        "        line = f.readline()\n",
        "        if not line:\n",
        "            break\n",
        "        if len(line.strip()) != 0:\n",
        "            print(line, end='')\n",
        "            lines.append(line.strip())\n",
        "print(lines)"
      ],
      "metadata": {
        "colab": {
          "base_uri": "https://localhost:8080/"
        },
        "id": "D3fq39vPYDqD",
        "outputId": "e8efdc67-2ee9-4b70-c55d-02af716e88c9"
      },
      "execution_count": null,
      "outputs": [
        {
          "output_type": "stream",
          "name": "stdout",
          "text": [
            "apple\n",
            "banana\n",
            "orange\n",
            "melon\n",
            "['apple', 'banana', 'orange', 'melon']\n"
          ]
        }
      ]
    },
    {
      "cell_type": "markdown",
      "source": [
        "## 1-6. readlines()\n",
        "* 전체 라인을 모두 읽어서 각 라인 단위로 리스트에 저장 (raw string으로 저장)\n"
      ],
      "metadata": {
        "id": "PaeAq2aSY-tD"
      }
    },
    {
      "cell_type": "code",
      "source": [
        "with open('./data/fruit.txt', 'r') as f:\n",
        "    lines = f.readlines() # \\n도 표기됨\n",
        "    print(lines)"
      ],
      "metadata": {
        "colab": {
          "base_uri": "https://localhost:8080/"
        },
        "id": "MW6J9e9EZjbK",
        "outputId": "fbe800e4-aecc-42e9-adc8-67c127f98597"
      },
      "execution_count": null,
      "outputs": [
        {
          "output_type": "stream",
          "name": "stdout",
          "text": [
            "['apple\\n', 'banana\\n', 'orange\\n', 'melon\\n']\n"
          ]
        }
      ]
    },
    {
      "cell_type": "code",
      "source": [
        "for i in lines:\n",
        "    print(i, end='')"
      ],
      "metadata": {
        "colab": {
          "base_uri": "https://localhost:8080/"
        },
        "id": "SfWi1gsMZrxD",
        "outputId": "72fb7310-9d6e-4977-c2e6-09446a493efb"
      },
      "execution_count": null,
      "outputs": [
        {
          "output_type": "stream",
          "name": "stdout",
          "text": [
            "apple\n",
            "banana\n",
            "orange\n",
            "melon\n"
          ]
        }
      ]
    },
    {
      "cell_type": "markdown",
      "source": [
        "# 2. 인코딩과 디코딩"
      ],
      "metadata": {
        "id": "oikbF3q5crK_"
      }
    },
    {
      "cell_type": "markdown",
      "source": [
        "## 2-1. 인코딩(Encoding)\n",
        "* 컴퓨터에서 사람이 인지할 수 있는 형태의 데이터를 약속된 규칙에 의해 컴퓨터가 사용하는 0과 1로 변환하는 과정\n",
        "* 인코딩 = 코드화 = 암호화 = 부호화\n",
        "* 예) 아스키코드 인코딩, URL 인코딩, Base64 인코딩, 유니코드 인코딩..\n",
        "* [유니코드](https://home.unicode.org/)"
      ],
      "metadata": {
        "id": "1l8GxeW9alJL"
      }
    },
    {
      "cell_type": "code",
      "source": [
        "txt1 = 'Hello Python!'\n",
        "print(type(txt1))"
      ],
      "metadata": {
        "colab": {
          "base_uri": "https://localhost:8080/"
        },
        "id": "4EOj9JG7an7R",
        "outputId": "c1069868-d77f-470e-8940-6b980a1a7fde"
      },
      "execution_count": null,
      "outputs": [
        {
          "output_type": "stream",
          "name": "stdout",
          "text": [
            "<class 'str'>\n"
          ]
        }
      ]
    },
    {
      "cell_type": "code",
      "source": [
        "txt2 = txt1.encode('utf-8')\n",
        "print(type(txt2))\n",
        "print(txt2)"
      ],
      "metadata": {
        "colab": {
          "base_uri": "https://localhost:8080/"
        },
        "id": "mg5vgj1Fbx5T",
        "outputId": "269af6ca-b644-4081-deed-f61ba72105b4"
      },
      "execution_count": null,
      "outputs": [
        {
          "output_type": "stream",
          "name": "stdout",
          "text": [
            "<class 'bytes'>\n",
            "b'Hello Python!'\n"
          ]
        }
      ]
    },
    {
      "cell_type": "code",
      "source": [
        "txt3 = '안녕하세요 파이썬'\n",
        "print(txt3.encode('utf-8'))"
      ],
      "metadata": {
        "colab": {
          "base_uri": "https://localhost:8080/"
        },
        "id": "cmAib0JPb15a",
        "outputId": "33bcdf88-1511-49d4-f191-ece6859ff8f0"
      },
      "execution_count": null,
      "outputs": [
        {
          "output_type": "stream",
          "name": "stdout",
          "text": [
            "b'\\xec\\x95\\x88\\xeb\\x85\\x95\\xed\\x95\\x98\\xec\\x84\\xb8\\xec\\x9a\\x94 \\xed\\x8c\\x8c\\xec\\x9d\\xb4\\xec\\x8d\\xac'\n"
          ]
        }
      ]
    },
    {
      "cell_type": "markdown",
      "source": [
        "## 2-2. 디코딩(Decoding)\n",
        "* 사람이 이해할 수 있는 언어로 되돌리는 것\n",
        "* 디코딩 = 역코드화 = 복호화\n",
        "* [유니코드 변환 사이트](https://checkserp.com/encode/unicode/)"
      ],
      "metadata": {
        "id": "Isx6LErvcTQN"
      }
    },
    {
      "cell_type": "code",
      "source": [
        "txt3 = '안녕하세요 파이썬'\n",
        "txt4 = txt3.encode('utf-8')\n",
        "print(txt4)"
      ],
      "metadata": {
        "colab": {
          "base_uri": "https://localhost:8080/"
        },
        "id": "2FURvaQQdOgt",
        "outputId": "3d460507-a092-4452-d060-24d71ff98dcc"
      },
      "execution_count": null,
      "outputs": [
        {
          "output_type": "stream",
          "name": "stdout",
          "text": [
            "b'\\xec\\x95\\x88\\xeb\\x85\\x95\\xed\\x95\\x98\\xec\\x84\\xb8\\xec\\x9a\\x94 \\xed\\x8c\\x8c\\xec\\x9d\\xb4\\xec\\x8d\\xac'\n"
          ]
        }
      ]
    },
    {
      "cell_type": "code",
      "source": [
        "print(txt4.decode('utf-8'))"
      ],
      "metadata": {
        "colab": {
          "base_uri": "https://localhost:8080/"
        },
        "id": "G4uEKwLDdUHD",
        "outputId": "87aa395c-4f2e-4a0a-9169-64426ae0f5cc"
      },
      "execution_count": null,
      "outputs": [
        {
          "output_type": "stream",
          "name": "stdout",
          "text": [
            "안녕하세요 파이썬\n"
          ]
        }
      ]
    },
    {
      "cell_type": "markdown",
      "source": [
        "## 과제\n",
        "* 영어 단어장 프로그램을 만들어보자\n",
        "    * 아래 번호를 선택하세요\n",
        "    * 1. 단어 입력(단어, 뜻, 레벨)\n",
        "    * 2. 단어 출력\n",
        "    * 3. 단어 저장\n",
        "    * 4. 프로그램 종료\n",
        "\n",
        "* 아래 번호를 선택하세요: 1\n",
        "* 단어를 입력하세요: apple, 사과, 1\n",
        "* 입력되었습니다.\n",
        "* 아래 번호를 선택하세요: 1\n",
        "* 단어를 입력하세요: banana, 바나나, 1\n",
        "* 입력되었습니다.\n",
        "* 아래 번호를 선택하세요: 2\n",
        "apple(사과, level 1)\n",
        "banana(바나나, level 1)\n",
        "* 아래 번호를 선택하세요: 3\n",
        "* 저장되었습니다.\n",
        "* 아래 번호를 선택하세요: 4\n",
        "* 프로그램을 종료합니다.\n",
        "\n",
        "> 단, 저장된 파일이 있는 경우 프로그램 재실행시 데이터를 읽어 메모리에 저장"
      ],
      "metadata": {
        "id": "rmTsDSBYwh9j"
      }
    }
  ]
}