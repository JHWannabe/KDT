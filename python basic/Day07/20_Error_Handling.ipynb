{
  "cells": [
    {
      "cell_type": "markdown",
      "metadata": {
        "id": "uQydrViqXxxs"
      },
      "source": [
        "# 1. 예외 처리\n",
        "* 오류가 발생되었을 때 별도의 처리를 하거나 무시하고 프로그램을 실행하는 것\n",
        "* 오류가 발생될 것으로 예상되는 문장을 try 블록에 코딩하고, try 블록에 코딩된 내용을 실행하다가 오류가 발생하면 더이상 try 블록의 내용을 실행하지 않고 해당 오류의 except 블록에 코딩된 내용을 실행\n",
        "* 파이썬은 발생할 수 있는 모든 문제를 예외 클래스로 만들어 놓음"
      ]
    },
    {
      "cell_type": "markdown",
      "metadata": {
        "id": "vVJ7FpdxaGbT"
      },
      "source": [
        "## 1-1. Try - Except 사용하기\n",
        "```\n",
        "try:\n",
        "    오류가 발생할 것으로 예상되는 문장\n",
        "    ...\n",
        "    ...\n",
        "except:\n",
        "    오류가 발생했을 경우 실행할 문장\n",
        "    ...\n",
        "```"
      ]
    },
    {
      "cell_type": "code",
      "execution_count": 1,
      "metadata": {
        "colab": {
          "base_uri": "https://localhost:8080/",
          "height": 228
        },
        "id": "L_3Gug06iE1Y",
        "outputId": "fa9ad46c-88ac-4107-8f5e-40df98bf8968"
      },
      "outputs": [
        {
          "name": "stdout",
          "output_type": "stream",
          "text": [
            "3.3333333333333335\n"
          ]
        },
        {
          "ename": "ZeroDivisionError",
          "evalue": "ignored",
          "output_type": "error",
          "traceback": [
            "\u001b[0;31m---------------------------------------------------------------------------\u001b[0m",
            "\u001b[0;31mZeroDivisionError\u001b[0m                         Traceback (most recent call last)",
            "\u001b[0;32m<ipython-input-1-5340b6c8dc82>\u001b[0m in \u001b[0;36m<module>\u001b[0;34m\u001b[0m\n\u001b[1;32m      1\u001b[0m \u001b[0mprint\u001b[0m\u001b[0;34m(\u001b[0m\u001b[0;36m10\u001b[0m \u001b[0;34m/\u001b[0m \u001b[0;36m3\u001b[0m\u001b[0;34m)\u001b[0m\u001b[0;34m\u001b[0m\u001b[0;34m\u001b[0m\u001b[0m\n\u001b[0;32m----> 2\u001b[0;31m \u001b[0mprint\u001b[0m\u001b[0;34m(\u001b[0m\u001b[0;36m5\u001b[0m \u001b[0;34m/\u001b[0m \u001b[0;36m0\u001b[0m\u001b[0;34m)\u001b[0m \u001b[0;31m# ZeroDivisionError: division by zero\u001b[0m\u001b[0;34m\u001b[0m\u001b[0;34m\u001b[0m\u001b[0m\n\u001b[0m\u001b[1;32m      3\u001b[0m \u001b[0mprint\u001b[0m\u001b[0;34m(\u001b[0m\u001b[0;36m4\u001b[0m \u001b[0;34m/\u001b[0m \u001b[0;36m2\u001b[0m\u001b[0;34m)\u001b[0m\u001b[0;34m\u001b[0m\u001b[0;34m\u001b[0m\u001b[0m\n",
            "\u001b[0;31mZeroDivisionError\u001b[0m: division by zero"
          ]
        }
      ],
      "source": [
        "print(10 / 3)\n",
        "print(5 / 0) # ZeroDivisionError: division by zero\n",
        "print(4 / 2)"
      ]
    },
    {
      "cell_type": "code",
      "execution_count": 2,
      "metadata": {
        "colab": {
          "base_uri": "https://localhost:8080/"
        },
        "id": "yJ98Ui_yilQz",
        "outputId": "06feb514-80d4-41c1-e29b-abf093165a20"
      },
      "outputs": [
        {
          "name": "stdout",
          "output_type": "stream",
          "text": [
            "3.3333333333333335\n",
            "0으로 나눌 수 없습니다.\n",
            "프로그램을 종료합니다\n"
          ]
        }
      ],
      "source": [
        "try:\n",
        "    print(10 / 3)\n",
        "    print(5 / 0)\n",
        "    print(4 / 2)\n",
        "except:\n",
        "    print('0으로 나눌 수 없습니다.')\n",
        "print('프로그램을 종료합니다')"
      ]
    },
    {
      "cell_type": "code",
      "execution_count": 3,
      "metadata": {
        "colab": {
          "base_uri": "https://localhost:8080/",
          "height": 210
        },
        "id": "hpX1VYiwiy3i",
        "outputId": "06d3e486-d8e5-4ce9-af48-e672bdef7e7f"
      },
      "outputs": [
        {
          "ename": "IndexError",
          "evalue": "ignored",
          "output_type": "error",
          "traceback": [
            "\u001b[0;31m---------------------------------------------------------------------------\u001b[0m",
            "\u001b[0;31mIndexError\u001b[0m                                Traceback (most recent call last)",
            "\u001b[0;32m<ipython-input-3-544875c86974>\u001b[0m in \u001b[0;36m<module>\u001b[0;34m\u001b[0m\n\u001b[1;32m      1\u001b[0m \u001b[0mdata\u001b[0m \u001b[0;34m=\u001b[0m \u001b[0;34m[\u001b[0m\u001b[0;36m10\u001b[0m\u001b[0;34m,\u001b[0m \u001b[0;36m20\u001b[0m\u001b[0;34m,\u001b[0m \u001b[0;36m30\u001b[0m\u001b[0;34m,\u001b[0m \u001b[0;36m40\u001b[0m\u001b[0;34m,\u001b[0m \u001b[0;36m50\u001b[0m\u001b[0;34m]\u001b[0m\u001b[0;34m\u001b[0m\u001b[0;34m\u001b[0m\u001b[0m\n\u001b[1;32m      2\u001b[0m \u001b[0;34m\u001b[0m\u001b[0m\n\u001b[0;32m----> 3\u001b[0;31m \u001b[0mprint\u001b[0m\u001b[0;34m(\u001b[0m\u001b[0mdata\u001b[0m\u001b[0;34m[\u001b[0m\u001b[0;36m5\u001b[0m\u001b[0;34m]\u001b[0m\u001b[0;34m)\u001b[0m \u001b[0;31m# IndexError: list index out of range\u001b[0m\u001b[0;34m\u001b[0m\u001b[0;34m\u001b[0m\u001b[0m\n\u001b[0m",
            "\u001b[0;31mIndexError\u001b[0m: list index out of range"
          ]
        }
      ],
      "source": [
        "data = [10, 20, 30, 40, 50]\n",
        "\n",
        "print(data[5]) # IndexError: list index out of range"
      ]
    },
    {
      "cell_type": "code",
      "execution_count": 4,
      "metadata": {
        "colab": {
          "base_uri": "https://localhost:8080/"
        },
        "id": "eYwQSGv2jTg6",
        "outputId": "ca5fc345-f5b4-4a96-bb40-bdd345a3b5dc"
      },
      "outputs": [
        {
          "name": "stdout",
          "output_type": "stream",
          "text": [
            "10\n",
            "20\n",
            "인덱스 지정이 올바르지 않습니다.\n",
            "프로그램을 종료합니다.\n"
          ]
        }
      ],
      "source": [
        "try:\n",
        "    data = [10, 20, 30, 40, 50]\n",
        "    print(data[0])\n",
        "    print(data[1])\n",
        "    print(data[5])\n",
        "    print(data[3])\n",
        "except:\n",
        "    print('인덱스 지정이 올바르지 않습니다.')\n",
        "print('프로그램을 종료합니다.')"
      ]
    },
    {
      "cell_type": "markdown",
      "metadata": {
        "id": "OZDCvrNXjohT"
      },
      "source": [
        "## 1-2. 특정 예외만 처리하기\n",
        "```\n",
        "try:\n",
        "    오류가 발생할 것으로 예상되는 문장\n",
        "    ...\n",
        "    ...\n",
        "except 예외 이름:\n",
        "    오류가 발생했을 경우 실행할 문장\n",
        "    ...\n",
        "```"
      ]
    },
    {
      "cell_type": "code",
      "execution_count": 5,
      "metadata": {
        "colab": {
          "base_uri": "https://localhost:8080/"
        },
        "id": "1b2FY-bEj4X7",
        "outputId": "44a7751f-dd7a-47ca-e561-23237fe63f3e"
      },
      "outputs": [
        {
          "name": "stdout",
          "output_type": "stream",
          "text": [
            "3.3333333333333335\n",
            "0으로 나눌 수 없습니다.\n",
            "프로그램을 종료합니다\n"
          ]
        }
      ],
      "source": [
        "try:\n",
        "    print(10 / 3)\n",
        "    print(5 / 0)\n",
        "    print(4 / 2)\n",
        "except ZeroDivisionError:\n",
        "    print('0으로 나눌 수 없습니다.')\n",
        "print('프로그램을 종료합니다')"
      ]
    },
    {
      "cell_type": "code",
      "execution_count": 6,
      "metadata": {
        "colab": {
          "base_uri": "https://localhost:8080/"
        },
        "id": "y0CvMb0VkYiC",
        "outputId": "7b94c307-cd25-443d-9efc-a7f50bd346e0"
      },
      "outputs": [
        {
          "name": "stdout",
          "output_type": "stream",
          "text": [
            "3.3333333333333335\n",
            "2.0\n",
            "인덱스 지정이 올바르지 않습니다.\n",
            "프로그램을 종료합니다\n"
          ]
        }
      ],
      "source": [
        "try:\n",
        "    data = [10, 20, 30, 40, 50]\n",
        "    print(10 / 3)\n",
        "    # print(5 / 0)\n",
        "    print(4 / 2)\n",
        "    print(data[5])\n",
        "except ZeroDivisionError:\n",
        "    print('0으로 나눌 수 없습니다.')\n",
        "except IndexError:\n",
        "    print('인덱스 지정이 올바르지 않습니다.')\n",
        "print('프로그램을 종료합니다')"
      ]
    },
    {
      "cell_type": "markdown",
      "metadata": {
        "id": "WDhFYqlmlEqL"
      },
      "source": [
        "## 1-3. 예외 에러 메세지 받기\n",
        "```\n",
        "try:\n",
        "    오류가 발생할 것으로 예상되는 문장\n",
        "    ...\n",
        "    ...\n",
        "except 예외 이름 as 변수:\n",
        "    오류가 발생했을 경우 실행할 문장\n",
        "    ...\n",
        "```"
      ]
    },
    {
      "cell_type": "code",
      "execution_count": 7,
      "metadata": {
        "colab": {
          "base_uri": "https://localhost:8080/"
        },
        "id": "aS4Y5c9Qlevg",
        "outputId": "3add7a18-bf17-49d9-a033-9b8631f9da68"
      },
      "outputs": [
        {
          "name": "stdout",
          "output_type": "stream",
          "text": [
            "3.3333333333333335\n",
            "2.0\n",
            "인덱스 지정이 올바르지 않습니다. list index out of range\n",
            "프로그램을 종료합니다\n"
          ]
        }
      ],
      "source": [
        "try:\n",
        "    data = [10, 20, 30, 40, 50]\n",
        "    print(10 / 3)\n",
        "    # print(5 / 0)\n",
        "    print(4 / 2)\n",
        "    print(data[5])\n",
        "except ZeroDivisionError as e:\n",
        "    print('0으로 나눌 수 없습니다.', e)\n",
        "except IndexError as e:\n",
        "    print('인덱스 지정이 올바르지 않습니다.', e)\n",
        "print('프로그램을 종료합니다')"
      ]
    },
    {
      "cell_type": "markdown",
      "metadata": {
        "id": "aNz3Un42lu0D"
      },
      "source": [
        "## 1-4. 예외가 발생하지 않았을 경우 처리하기\n",
        "```\n",
        "try:\n",
        "    오류가 발생할 것으로 예상되는 문장\n",
        "    ...\n",
        "    ...\n",
        "except 예외 이름 as 변수:\n",
        "    오류가 발생했을 경우 실행할 문장\n",
        "    ...\n",
        "else:\n",
        "    오류가 발생하지 않았을 경우 실행할 문장\n",
        "```"
      ]
    },
    {
      "cell_type": "code",
      "execution_count": 8,
      "metadata": {
        "colab": {
          "base_uri": "https://localhost:8080/"
        },
        "id": "eDhhqubemPqV",
        "outputId": "247d39d5-2401-4678-d908-ce938ff1b033"
      },
      "outputs": [
        {
          "name": "stdout",
          "output_type": "stream",
          "text": [
            "3.3333333333333335\n",
            "2.0\n",
            "데이터 타입이 올바르지 않습니다. %d format: a number is required, not str\n",
            "프로그램을 종료합니다\n"
          ]
        }
      ],
      "source": [
        "try:\n",
        "    data = [10, 20, 30, 40, 50]\n",
        "    string = '오늘은 즐거운 예외처리 시간!'\n",
        "    print(10 / 3)\n",
        "    # print(5 / 0)\n",
        "    print(4 / 2)\n",
        "    # print(data[5])\n",
        "    print('%d' %string)\n",
        "except ZeroDivisionError as e:\n",
        "    print('0으로 나눌 수 없습니다.', e)\n",
        "except IndexError as e:\n",
        "    print('인덱스 지정이 올바르지 않습니다.', e)\n",
        "except TypeError as e:\n",
        "    print('데이터 타입이 올바르지 않습니다.', e)\n",
        "else:\n",
        "    print('정상적인 프로그램 진행')\n",
        "print('프로그램을 종료합니다')"
      ]
    },
    {
      "cell_type": "markdown",
      "metadata": {
        "id": "dnTMt1CJmd1y"
      },
      "source": [
        "## 1-5. 예외와 관계없이 코드 실행하기\n",
        "```\n",
        "try:\n",
        "    오류가 발생할 것으로 예상되는 문장\n",
        "    ...\n",
        "    ...\n",
        "except 예외 이름 as 변수:\n",
        "    오류가 발생했을 경우 실행할 문장\n",
        "    ...\n",
        "else:\n",
        "    오류가 발생하지 않았을 경우 실행할 문장\n",
        "(옵션)finally:\n",
        "    예외 발생 여부와 관계없이 항상 실행할 코드\n",
        "```\n",
        "\n",
        "* 네트워크, DB연결, 파일 열기, 캠 사용 등의 상황에 사용가능"
      ]
    },
    {
      "cell_type": "code",
      "execution_count": 9,
      "metadata": {
        "colab": {
          "base_uri": "https://localhost:8080/"
        },
        "id": "qAu18vBSnKmZ",
        "outputId": "993d27a5-17cb-4985-e483-f40511d449dc"
      },
      "outputs": [
        {
          "name": "stdout",
          "output_type": "stream",
          "text": [
            "3.3333333333333335\n",
            "2.0\n",
            "데이터 타입이 올바르지 않습니다. %d format: a number is required, not str\n",
            "오류에 관계없이 무조건 실행되는 문장\n",
            "프로그램을 종료합니다\n"
          ]
        }
      ],
      "source": [
        "try:\n",
        "    data = [10, 20, 30, 40, 50]\n",
        "    string = '오늘은 즐거운 예외처리 시간!'\n",
        "    print(10 / 3)\n",
        "    # print(5 / 0)\n",
        "    print(4 / 2)\n",
        "    # print(data[5])\n",
        "    print('%d' %string)\n",
        "except ZeroDivisionError as e:\n",
        "    print('0으로 나눌 수 없습니다.', e)\n",
        "except IndexError as e:\n",
        "    print('인덱스 지정이 올바르지 않습니다.', e)\n",
        "except TypeError as e:\n",
        "    print('데이터 타입이 올바르지 않습니다.', e)\n",
        "else:\n",
        "    print('정상적인 프로그램 진행')\n",
        "finally:\n",
        "    print('오류에 관계없이 무조건 실행되는 문장')\n",
        "print('프로그램을 종료합니다')"
      ]
    },
    {
      "cell_type": "markdown",
      "metadata": {
        "id": "8ryT5Us4nqvy"
      },
      "source": [
        "## 문제\n",
        "* 데이터를 입력하면 오름차순 정렬하여 출력하는 프로그램을 작성해보자. (단, 숫자와 문자를 섞어 입력하면 숫자+문자 형식으로 정렬, 000을 입력하면 정렬을 시작함)\n",
        "\n",
        "* 데이터를 입력하세요: abc\n",
        "* 데이터를 입력하세요: 1\n",
        "* 데이터를 입력하세요: 123\n",
        "* 데이터를 입력하세요: bbb\n",
        "* 데이터를 입력하세요: 000\n",
        "\n",
        "결과 [1, 123, 'abc', 'bbb'] "
      ]
    },
    {
      "cell_type": "code",
      "execution_count": 10,
      "metadata": {
        "colab": {
          "base_uri": "https://localhost:8080/"
        },
        "id": "7tUFtjhTo3Th",
        "outputId": "8f77dadb-e08f-43e4-f47e-9c835b18e571"
      },
      "outputs": [
        {
          "name": "stdout",
          "output_type": "stream",
          "text": [
            "데이터를 입력하세요: abc\n",
            "데이터를 입력하세요: 1\n",
            "데이터를 입력하세요: 123\n",
            "데이터를 입력하세요: bbb\n",
            "데이터를 입력하세요: 000\n",
            "[1, 123, 'abc', 'bbb']\n"
          ]
        }
      ],
      "source": [
        "num = []\n",
        "string = []\n",
        "\n",
        "while(1):\n",
        "    data = input('데이터를 입력하세요: ')\n",
        "    if data == '000':\n",
        "        break\n",
        "    try:\n",
        "        num.append(int(data))\n",
        "    except ValueError:\n",
        "        string.append(data)\n",
        "\n",
        "num.sort()\n",
        "string.sort()\n",
        "print(num + string)"
      ]
    },
    {
      "cell_type": "markdown",
      "metadata": {
        "id": "92tCBbPPp3AK"
      },
      "source": [
        "# 2. 예외 발생시키기"
      ]
    },
    {
      "cell_type": "code",
      "execution_count": 11,
      "metadata": {
        "colab": {
          "base_uri": "https://localhost:8080/"
        },
        "id": "CD3Gu9SrtCFb",
        "outputId": "cb573cb4-a621-4535-dd7a-378bf99ab344"
      },
      "outputs": [
        {
          "name": "stdout",
          "output_type": "stream",
          "text": [
            "짝수를 입력하세요: 7\n",
            "예외가 발생했습니다. 짝수가 아닙니다.\n"
          ]
        }
      ],
      "source": [
        "try:\n",
        "    n = int(input('짝수를 입력하세요: '))\n",
        "    if n % 2 != 0:\n",
        "        raise Exception('짝수가 아닙니다.') # 예외를 발생시킴\n",
        "    print(n)\n",
        "except Exception as e:\n",
        "    print('예외가 발생했습니다.', e)"
      ]
    },
    {
      "cell_type": "code",
      "execution_count": 12,
      "metadata": {
        "colab": {
          "base_uri": "https://localhost:8080/"
        },
        "id": "JRRV-d3ktpsB",
        "outputId": "5588982c-ea69-467f-ef99-86dd46f787e3"
      },
      "outputs": [
        {
          "name": "stdout",
          "output_type": "stream",
          "text": [
            "짝수를 입력하세요: 7\n",
            "예외가 발생했습니다. 짝수가 아닙니다.\n"
          ]
        }
      ],
      "source": [
        "def func1():\n",
        "    n = int(input('짝수를 입력하세요: '))\n",
        "    if n % 2 != 0:\n",
        "        raise Exception('짝수가 아닙니다.')\n",
        "    print(n)\n",
        "\n",
        "try:\n",
        "    func1()\n",
        "except Exception as e:\n",
        "    print('예외가 발생했습니다.', e)"
      ]
    },
    {
      "cell_type": "code",
      "execution_count": 13,
      "metadata": {
        "colab": {
          "base_uri": "https://localhost:8080/"
        },
        "id": "4G50bh58xNXA",
        "outputId": "e0c66f21-d0b2-4b1d-88fa-3bf6a21a32f2"
      },
      "outputs": [
        {
          "name": "stdout",
          "output_type": "stream",
          "text": [
            "타입이 올바르지 않습니다.\n"
          ]
        }
      ],
      "source": [
        "def func1():\n",
        "    func2()\n",
        "\n",
        "def func2():\n",
        "    func3()\n",
        "\n",
        "def func3():\n",
        "    try:\n",
        "        print('%d' % '문자열 출력')\n",
        "    except TypeError:\n",
        "        print('타입이 올바르지 않습니다.')\n",
        "\n",
        "func1()"
      ]
    },
    {
      "cell_type": "code",
      "execution_count": 14,
      "metadata": {
        "colab": {
          "base_uri": "https://localhost:8080/"
        },
        "id": "NeFf-DFoxxdI",
        "outputId": "f70e0b0a-db40-4c4a-d46e-47de7d825a8b"
      },
      "outputs": [
        {
          "name": "stdout",
          "output_type": "stream",
          "text": [
            "타입이 올바르지 않습니다.\n"
          ]
        }
      ],
      "source": [
        "def func1():\n",
        "    try:\n",
        "        func2()\n",
        "    except TypeError:\n",
        "        print('타입이 올바르지 않습니다.')\n",
        "\n",
        "def func2():\n",
        "    func3()\n",
        "\n",
        "def func3():\n",
        "    print('%d' % '문자열 출력')\n",
        "\n",
        "func1()"
      ]
    }
  ],
  "metadata": {
    "colab": {
      "provenance": []
    },
    "kernelspec": {
      "display_name": "Python 3",
      "name": "python3"
    },
    "language_info": {
      "name": "python"
    }
  },
  "nbformat": 4,
  "nbformat_minor": 0
}
