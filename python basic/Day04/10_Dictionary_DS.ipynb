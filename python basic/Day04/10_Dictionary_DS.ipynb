{
  "nbformat": 4,
  "nbformat_minor": 0,
  "metadata": {
    "colab": {
      "provenance": []
    },
    "kernelspec": {
      "name": "python3",
      "display_name": "Python 3"
    },
    "language_info": {
      "name": "python"
    }
  },
  "cells": [
    {
      "cell_type": "markdown",
      "source": [
        "# 1. 딕셔너리(Dictionary)\n",
        "* 대응관계를 나타내는 자료형으로 key와 value라는 것을 한 쌍으로 갖는 형태\n",
        "* 하나의 딕셔너리의 key는 중복 불가\n",
        "* 하나의 딕셔너리의 value는 중복 가능"
      ],
      "metadata": {
        "id": "pl-QeGUMax63"
      }
    },
    {
      "cell_type": "markdown",
      "source": [
        "## 1-1. 딕셔너리 만들기\n",
        "\n",
        "```\n",
        "변수 = {key1 : value1, key2 : value2}\n",
        "```"
      ],
      "metadata": {
        "id": "bg8UHgoUbmpJ"
      }
    },
    {
      "cell_type": "code",
      "source": [
        "dic1 = {} # 빈 딕셔너리 생성\n",
        "print(dic1)"
      ],
      "metadata": {
        "colab": {
          "base_uri": "https://localhost:8080/"
        },
        "id": "yxIjUv-Obw8Z",
        "outputId": "ec1d9172-9f79-4471-f1e9-8317189eb4d9"
      },
      "execution_count": 1,
      "outputs": [
        {
          "output_type": "stream",
          "name": "stdout",
          "text": [
            "{}\n"
          ]
        }
      ]
    },
    {
      "cell_type": "code",
      "source": [
        "dic2 = {1:'김사과', 2:'반하나', 3:'오랜지', 4:'이메론'}\n",
        "print(dic2)"
      ],
      "metadata": {
        "colab": {
          "base_uri": "https://localhost:8080/"
        },
        "id": "w9VeqEgyb2oa",
        "outputId": "b4bb8df0-c202-4084-9f2f-04ce011c746c"
      },
      "execution_count": 2,
      "outputs": [
        {
          "output_type": "stream",
          "name": "stdout",
          "text": [
            "{1: '김사과', 2: '반하나', 3: '오랜지', 4: '이메론'}\n"
          ]
        }
      ]
    },
    {
      "cell_type": "markdown",
      "source": [
        "## 1-2. key를 통해 value 찾기"
      ],
      "metadata": {
        "id": "ob5sm57xcnwr"
      }
    },
    {
      "cell_type": "code",
      "source": [
        "dic2 = {1:'김사과', 2:'반하나', 3:'오랜지', 4:'이메론'}\n",
        "print(dic2[1]) # 김사과\n",
        "print(dic2[3]) # 오랜지"
      ],
      "metadata": {
        "colab": {
          "base_uri": "https://localhost:8080/"
        },
        "id": "nPFowOOMcq3L",
        "outputId": "e7687818-aef3-494e-8784-841e8804c2ae"
      },
      "execution_count": 3,
      "outputs": [
        {
          "output_type": "stream",
          "name": "stdout",
          "text": [
            "김사과\n",
            "오랜지\n"
          ]
        }
      ]
    },
    {
      "cell_type": "code",
      "source": [
        "dic3 = {'no':1, 'userid':'apple', 'name':'김사과', 'hp':'010-1111-1111'}\n",
        "print(dic3['no'])\n",
        "print(dic3['userid'])"
      ],
      "metadata": {
        "colab": {
          "base_uri": "https://localhost:8080/"
        },
        "id": "ZUwY3Td0czlK",
        "outputId": "8ddb09bf-1e6d-4dbf-a394-1cf4f0791b6c"
      },
      "execution_count": 4,
      "outputs": [
        {
          "output_type": "stream",
          "name": "stdout",
          "text": [
            "1\n",
            "apple\n"
          ]
        }
      ]
    },
    {
      "cell_type": "markdown",
      "source": [
        "## 1-3. 데이터 추가 및 삭제"
      ],
      "metadata": {
        "id": "8L3Oe8P0dQn5"
      }
    },
    {
      "cell_type": "code",
      "source": [
        "# 삽입\n",
        "dic4 = {1:'apple'}\n",
        "print(dic4)\n",
        "\n",
        "dic4[100] = 'orange'\n",
        "print(dic4)\n",
        "\n",
        "dic4[50] = 'melon'\n",
        "print(dic4)\n",
        "\n",
        "# 삭제\n",
        "del dic4[1]\n",
        "print(dic4)\n",
        "\n",
        "print(type(dic4))"
      ],
      "metadata": {
        "colab": {
          "base_uri": "https://localhost:8080/"
        },
        "id": "RkYL-5-UdfbJ",
        "outputId": "82f3fca6-5f2b-4a52-bab8-9bf1c3af0f7d"
      },
      "execution_count": 5,
      "outputs": [
        {
          "output_type": "stream",
          "name": "stdout",
          "text": [
            "{1: 'apple'}\n",
            "{1: 'apple', 100: 'orange'}\n",
            "{1: 'apple', 100: 'orange', 50: 'melon'}\n",
            "{100: 'orange', 50: 'melon'}\n",
            "<class 'dict'>\n"
          ]
        }
      ]
    },
    {
      "cell_type": "markdown",
      "source": [
        "## 1-4. 딕셔너리 함수"
      ],
      "metadata": {
        "id": "1ZkW_-HKdrNK"
      }
    },
    {
      "cell_type": "code",
      "source": [
        "dic3 = {'no':1, 'userid':'apple', 'name':'김사과', 'hp':'010-1111-1111'}"
      ],
      "metadata": {
        "id": "m0GsFy9DeV0B"
      },
      "execution_count": 6,
      "outputs": []
    },
    {
      "cell_type": "code",
      "source": [
        "# keys(): key 리스트를 반환\n",
        "print(dic3.keys())\n",
        "\n",
        "# values(): value 리스트를 반환\n",
        "print(dic3.values())\n",
        "\n",
        "# items(): key와 value를 한 싸으로 묶는 튜플을 반환\n",
        "print(dic3.items())"
      ],
      "metadata": {
        "colab": {
          "base_uri": "https://localhost:8080/"
        },
        "id": "gA9VHY-4ebqx",
        "outputId": "87e49514-29df-4888-cd6d-8580367feff7"
      },
      "execution_count": 7,
      "outputs": [
        {
          "output_type": "stream",
          "name": "stdout",
          "text": [
            "dict_keys(['no', 'userid', 'name', 'hp'])\n",
            "dict_values([1, 'apple', '김사과', '010-1111-1111'])\n",
            "dict_items([('no', 1), ('userid', 'apple'), ('name', '김사과'), ('hp', '010-1111-1111')])\n"
          ]
        }
      ]
    },
    {
      "cell_type": "code",
      "source": [
        "print(dic3['userid'])\n",
        "\n",
        "# get(): key를 이용해서 value를 반환\n",
        "print(dic3.get('userid'))"
      ],
      "metadata": {
        "colab": {
          "base_uri": "https://localhost:8080/"
        },
        "id": "g7hgZvYaef8Z",
        "outputId": "c0b361b9-affb-4bca-825f-71902ae12fe0"
      },
      "execution_count": 8,
      "outputs": [
        {
          "output_type": "stream",
          "name": "stdout",
          "text": [
            "apple\n",
            "apple\n"
          ]
        }
      ]
    },
    {
      "cell_type": "code",
      "source": [
        "# print(dic3['age']) # 키가 존재하지 않으면 에러"
      ],
      "metadata": {
        "id": "Hz_6QCMNfPOj"
      },
      "execution_count": 9,
      "outputs": []
    },
    {
      "cell_type": "code",
      "source": [
        "print(dic3.get('age')) # None\n",
        "print(dic3.get('age', '나이를 알 수 없음')) "
      ],
      "metadata": {
        "colab": {
          "base_uri": "https://localhost:8080/"
        },
        "id": "NS5ymrPmfTxz",
        "outputId": "424f49bd-59a4-4d9f-fc93-d5a22d97b4a9"
      },
      "execution_count": 10,
      "outputs": [
        {
          "output_type": "stream",
          "name": "stdout",
          "text": [
            "None\n",
            "나이를 알 수 없음\n"
          ]
        }
      ]
    },
    {
      "cell_type": "code",
      "source": [
        "# in 키워드: key가 딕셔너리 안에 있는지 확인\n",
        "print('name' in dic3)\n",
        "print('age' in dic3)"
      ],
      "metadata": {
        "colab": {
          "base_uri": "https://localhost:8080/"
        },
        "id": "79k59QsVfW4y",
        "outputId": "583f5d6a-858a-40b7-ad2d-bf3d3c188478"
      },
      "execution_count": 11,
      "outputs": [
        {
          "output_type": "stream",
          "name": "stdout",
          "text": [
            "True\n",
            "False\n"
          ]
        }
      ]
    },
    {
      "cell_type": "markdown",
      "source": [
        "## 1-5. 반복문을 이용한 딕셔너리 활용"
      ],
      "metadata": {
        "id": "DnA8sAMVf3Xi"
      }
    },
    {
      "cell_type": "code",
      "source": [
        "dic3 = {'no':1, 'userid':'apple', 'name':'김사과', 'hp':'010-1111-1111'}"
      ],
      "metadata": {
        "id": "6DbapGB6gETb"
      },
      "execution_count": 12,
      "outputs": []
    },
    {
      "cell_type": "code",
      "source": [
        "for i in dic3:\n",
        "    print(i, end=' ')\n",
        "# no userid name hp : key만 가져옴\n",
        "\n",
        "print()\n",
        "\n",
        "for i in dic3.keys():\n",
        "    print(i, end=' ')\n",
        "\n",
        "print()\n",
        "\n",
        "for i in dic3.values():\n",
        "    print(i, end=' ')\n",
        "\n",
        "print()\n",
        "\n",
        "for i in dic3:\n",
        "    print(dic3[i], end=' ')\n",
        "\n",
        "print()\n",
        "\n",
        "for i in dic3:\n",
        "    print(dic3.get(i), end=' ')\n",
        "\n",
        "print()\n",
        "\n",
        "for i in dic3.items():\n",
        "    print(i, end=' ')"
      ],
      "metadata": {
        "colab": {
          "base_uri": "https://localhost:8080/"
        },
        "id": "f0kMtlUfgJNx",
        "outputId": "653fe90c-9fa3-49a0-f31b-769e93fbaaad"
      },
      "execution_count": 13,
      "outputs": [
        {
          "output_type": "stream",
          "name": "stdout",
          "text": [
            "no userid name hp \n",
            "no userid name hp \n",
            "1 apple 김사과 010-1111-1111 \n",
            "1 apple 김사과 010-1111-1111 \n",
            "1 apple 김사과 010-1111-1111 \n",
            "('no', 1) ('userid', 'apple') ('name', '김사과') ('hp', '010-1111-1111') "
          ]
        }
      ]
    },
    {
      "cell_type": "code",
      "source": [
        "# 각 키를 순회하면서 키에 해당하는 값이 apple이 있는지 확인\n",
        "dic3 = {'no':1, 'userid':'apple', 'name':'김사과', 'hp':'010-1111-1111'}\n",
        "\n",
        "for i in dic3:\n",
        "    if dic3[i] == 'apple':\n",
        "        print('찾았습니다.')\n",
        "    else:\n",
        "        print('찾지 못했음!')"
      ],
      "metadata": {
        "colab": {
          "base_uri": "https://localhost:8080/"
        },
        "id": "Tupo4ffMgPxZ",
        "outputId": "971ca8b0-e898-4ffe-ca31-3941e0f37d24"
      },
      "execution_count": 14,
      "outputs": [
        {
          "output_type": "stream",
          "name": "stdout",
          "text": [
            "찾지 못했음!\n",
            "찾았습니다.\n",
            "찾지 못했음!\n",
            "찾지 못했음!\n"
          ]
        }
      ]
    }
  ]
}