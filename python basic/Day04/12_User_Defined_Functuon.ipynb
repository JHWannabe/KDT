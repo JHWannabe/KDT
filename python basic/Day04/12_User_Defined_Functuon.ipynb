{
  "nbformat": 4,
  "nbformat_minor": 0,
  "metadata": {
    "colab": {
      "provenance": []
    },
    "kernelspec": {
      "name": "python3",
      "display_name": "Python 3"
    },
    "language_info": {
      "name": "python"
    }
  },
  "cells": [
    {
      "cell_type": "markdown",
      "source": [
        "# 사용자 정의 함수"
      ],
      "metadata": {
        "id": "EfLrWUIdxK9u"
      }
    },
    {
      "cell_type": "markdown",
      "source": [
        "# 1. 함수\n",
        "* 변수 x, y에 대해 x값이 정해지면 그에 따라 y값을 결정하는 것\n",
        "* 반복적으로 사용되는 가치있는 부분을 묶어서 하나의 집합으로 만듦\n",
        "* 코드를 재활용하기 위한 목적"
      ],
      "metadata": {
        "id": "MoZflQhBxNM6"
      }
    },
    {
      "cell_type": "markdown",
      "source": [
        "## 1-1. 이름만 있는 함수\n",
        "```\n",
        "def 함수명():\n",
        "    함수가 호출되면 실행할 문장\n",
        "```\n",
        "```\n",
        "함수명() # 호출\n",
        "```"
      ],
      "metadata": {
        "id": "8dmO0523xstb"
      }
    },
    {
      "cell_type": "code",
      "source": [
        "def func1():\n",
        "    print('처음으로 만드는 함수!')"
      ],
      "metadata": {
        "id": "QQtNShy_yQTi"
      },
      "execution_count": 1,
      "outputs": []
    },
    {
      "cell_type": "code",
      "source": [
        "func1()"
      ],
      "metadata": {
        "colab": {
          "base_uri": "https://localhost:8080/"
        },
        "id": "2pfwG8J9yVZC",
        "outputId": "d29e8518-38fb-409d-f31f-6ab2a68f9991"
      },
      "execution_count": 2,
      "outputs": [
        {
          "output_type": "stream",
          "name": "stdout",
          "text": [
            "처음으로 만드는 함수!\n"
          ]
        }
      ]
    },
    {
      "cell_type": "code",
      "source": [
        "for i in range(5):\n",
        "    func1()"
      ],
      "metadata": {
        "colab": {
          "base_uri": "https://localhost:8080/"
        },
        "id": "b5b9lhXNyWe4",
        "outputId": "45d36f85-7e90-43b0-9506-ebed5cf741d3"
      },
      "execution_count": 3,
      "outputs": [
        {
          "output_type": "stream",
          "name": "stdout",
          "text": [
            "처음으로 만드는 함수!\n",
            "처음으로 만드는 함수!\n",
            "처음으로 만드는 함수!\n",
            "처음으로 만드는 함수!\n",
            "처음으로 만드는 함수!\n"
          ]
        }
      ]
    },
    {
      "cell_type": "markdown",
      "source": [
        "## 1-2. 매개변수가 있는 함수\n",
        "```\n",
        "def 함수명(변수1, 변수2, ...)\n",
        "    함수가 호출되면 실행할 문장\n",
        "```\n",
        "\n",
        "```\n",
        "함수명(값1, 값2, ...) # 호출\n",
        "```"
      ],
      "metadata": {
        "id": "hTLxp-0lypfJ"
      }
    },
    {
      "cell_type": "code",
      "source": [
        "def func2(num):\n",
        "    print(f'입력받은 숫자는 {num}')"
      ],
      "metadata": {
        "id": "WBmsyJ7ky99x"
      },
      "execution_count": 4,
      "outputs": []
    },
    {
      "cell_type": "code",
      "source": [
        "func2(4)"
      ],
      "metadata": {
        "colab": {
          "base_uri": "https://localhost:8080/"
        },
        "id": "kELCOCCgzNPy",
        "outputId": "418b3530-c099-4236-8257-b607ae87ff01"
      },
      "execution_count": 5,
      "outputs": [
        {
          "output_type": "stream",
          "name": "stdout",
          "text": [
            "입력받은 숫자는 4\n"
          ]
        }
      ]
    },
    {
      "cell_type": "code",
      "source": [
        "def func3(start, end):\n",
        "    sum = 0\n",
        "    for i in range(start, end+1):\n",
        "        sum += i\n",
        "    print(f'{start}부터 {end}까지의 합은 {sum}')"
      ],
      "metadata": {
        "id": "FS52faaTzPAC"
      },
      "execution_count": 6,
      "outputs": []
    },
    {
      "cell_type": "code",
      "source": [
        "func3(5,23)"
      ],
      "metadata": {
        "colab": {
          "base_uri": "https://localhost:8080/"
        },
        "id": "_pHSpos0zu4o",
        "outputId": "26c4df48-d979-40ef-c09f-73381aec8ccb"
      },
      "execution_count": 7,
      "outputs": [
        {
          "output_type": "stream",
          "name": "stdout",
          "text": [
            "5부터 23까지의 합은 266\n"
          ]
        }
      ]
    },
    {
      "cell_type": "markdown",
      "source": [
        "## 1-3. Return 값이 있는 함수\n",
        "```\n",
        "def 함수명(변수1, 변수2, ...):\n",
        "    함수가 호출되면 실행할 문장\n",
        "    ...\n",
        "    return 값\n",
        "```\n",
        "\n",
        "```\n",
        "변수 = 함수명(값1, 값2, ...) # 호출\n",
        "```"
      ],
      "metadata": {
        "id": "DNewyppvt3q_"
      }
    },
    {
      "cell_type": "code",
      "source": [
        "def func4():\n",
        "    print('안녕하세요 Python!')"
      ],
      "metadata": {
        "id": "Tt84NmFhuZ9-"
      },
      "execution_count": 8,
      "outputs": []
    },
    {
      "cell_type": "code",
      "source": [
        "a = func4()\n",
        "print(a)"
      ],
      "metadata": {
        "colab": {
          "base_uri": "https://localhost:8080/"
        },
        "id": "BKkSzrN_vBy9",
        "outputId": "d276c601-f372-461e-c0a7-e843a118a253"
      },
      "execution_count": 9,
      "outputs": [
        {
          "output_type": "stream",
          "name": "stdout",
          "text": [
            "안녕하세요 Python!\n",
            "None\n"
          ]
        }
      ]
    },
    {
      "cell_type": "code",
      "source": [
        "def func5():\n",
        "    return '🎁'"
      ],
      "metadata": {
        "id": "oj8t3ZPvvWLT"
      },
      "execution_count": 10,
      "outputs": []
    },
    {
      "cell_type": "code",
      "source": [
        "presents = func5()\n",
        "print(presents)"
      ],
      "metadata": {
        "colab": {
          "base_uri": "https://localhost:8080/"
        },
        "id": "sfFwOAidvv00",
        "outputId": "4202ecce-1947-4d13-e17d-26c979c851be"
      },
      "execution_count": 11,
      "outputs": [
        {
          "output_type": "stream",
          "name": "stdout",
          "text": [
            "🎁\n"
          ]
        }
      ]
    },
    {
      "cell_type": "code",
      "source": [
        "def func6(num1, num2):\n",
        "    sum = num1 + num2\n",
        "    return sum"
      ],
      "metadata": {
        "id": "2j-llAw6vz_k"
      },
      "execution_count": 12,
      "outputs": []
    },
    {
      "cell_type": "code",
      "source": [
        "sum1 = func6(10) # TypeError: func6() missing 1 required positional argument: 'num2'\n",
        "print(sum1)"
      ],
      "metadata": {
        "colab": {
          "base_uri": "https://localhost:8080/",
          "height": 191
        },
        "id": "qi8Py50WwB9s",
        "outputId": "817d10b0-de6b-4a53-8f43-e689e8f627d2"
      },
      "execution_count": 13,
      "outputs": [
        {
          "output_type": "error",
          "ename": "TypeError",
          "evalue": "ignored",
          "traceback": [
            "\u001b[0;31m---------------------------------------------------------------------------\u001b[0m",
            "\u001b[0;31mTypeError\u001b[0m                                 Traceback (most recent call last)",
            "\u001b[0;32m<ipython-input-13-74ba39398719>\u001b[0m in \u001b[0;36m<module>\u001b[0;34m\u001b[0m\n\u001b[0;32m----> 1\u001b[0;31m \u001b[0msum1\u001b[0m \u001b[0;34m=\u001b[0m \u001b[0mfunc6\u001b[0m\u001b[0;34m(\u001b[0m\u001b[0;36m10\u001b[0m\u001b[0;34m)\u001b[0m \u001b[0;31m# TypeError: func6() missing 1 required positional argument: 'num2'\u001b[0m\u001b[0;34m\u001b[0m\u001b[0;34m\u001b[0m\u001b[0m\n\u001b[0m\u001b[1;32m      2\u001b[0m \u001b[0mprint\u001b[0m\u001b[0;34m(\u001b[0m\u001b[0msum1\u001b[0m\u001b[0;34m)\u001b[0m\u001b[0;34m\u001b[0m\u001b[0;34m\u001b[0m\u001b[0m\n",
            "\u001b[0;31mTypeError\u001b[0m: func6() missing 1 required positional argument: 'num2'"
          ]
        }
      ]
    },
    {
      "cell_type": "code",
      "source": [
        "sum2 = func6(10,5)\n",
        "print(sum2)\n",
        "# print(sum) # <built-in function sum>\n",
        "# print(num1, num2) # NameError"
      ],
      "metadata": {
        "colab": {
          "base_uri": "https://localhost:8080/"
        },
        "id": "bCXI3KgUwR37",
        "outputId": "bd350fca-a527-47a2-81fa-000d771dac62"
      },
      "execution_count": 14,
      "outputs": [
        {
          "output_type": "stream",
          "name": "stdout",
          "text": [
            "15\n"
          ]
        }
      ]
    },
    {
      "cell_type": "markdown",
      "source": [
        "## 1-4. Default 매개변수\n",
        "```\n",
        "def 함수명(변수1=값1, 변수2=값2, ...):\n",
        "    함수가 호출되면 실행할 문장\n",
        "    ...\n",
        "    return 값\n",
        "```\n",
        "```\n",
        "변수 = 함수명(값1, 값2, ...) # 호출\n",
        "변수 = 함수명() # 호출\n",
        "\n",
        "```"
      ],
      "metadata": {
        "id": "v7SGQr9NwZbk"
      }
    },
    {
      "cell_type": "code",
      "source": [
        "print(func6()) # 매개변수를 입력하지 않아 Error"
      ],
      "metadata": {
        "colab": {
          "base_uri": "https://localhost:8080/",
          "height": 173
        },
        "id": "tAcc431XyzKz",
        "outputId": "1ec525f2-8699-4042-d2c2-23ac55e81a05"
      },
      "execution_count": 15,
      "outputs": [
        {
          "output_type": "error",
          "ename": "TypeError",
          "evalue": "ignored",
          "traceback": [
            "\u001b[0;31m---------------------------------------------------------------------------\u001b[0m",
            "\u001b[0;31mTypeError\u001b[0m                                 Traceback (most recent call last)",
            "\u001b[0;32m<ipython-input-15-e13ba3f294ba>\u001b[0m in \u001b[0;36m<module>\u001b[0;34m\u001b[0m\n\u001b[0;32m----> 1\u001b[0;31m \u001b[0mprint\u001b[0m\u001b[0;34m(\u001b[0m\u001b[0mfunc6\u001b[0m\u001b[0;34m(\u001b[0m\u001b[0;34m)\u001b[0m\u001b[0;34m)\u001b[0m \u001b[0;31m# 매개변수를 입력하지 않아 Error\u001b[0m\u001b[0;34m\u001b[0m\u001b[0;34m\u001b[0m\u001b[0m\n\u001b[0m",
            "\u001b[0;31mTypeError\u001b[0m: func6() missing 2 required positional arguments: 'num1' and 'num2'"
          ]
        }
      ]
    },
    {
      "cell_type": "code",
      "source": [
        "def func6(num1=1, num2=1):\n",
        "    sum = num1 + num2\n",
        "    return sum"
      ],
      "metadata": {
        "id": "6obkSqLRy4gZ"
      },
      "execution_count": null,
      "outputs": []
    },
    {
      "cell_type": "code",
      "source": [
        "print(func6())\n",
        "print(func6(10, 5))"
      ],
      "metadata": {
        "colab": {
          "base_uri": "https://localhost:8080/",
          "height": 191
        },
        "id": "uuAXlTFyzAwj",
        "outputId": "e332e347-db20-40a4-e892-9faeb66f0de6"
      },
      "execution_count": 16,
      "outputs": [
        {
          "output_type": "error",
          "ename": "TypeError",
          "evalue": "ignored",
          "traceback": [
            "\u001b[0;31m---------------------------------------------------------------------------\u001b[0m",
            "\u001b[0;31mTypeError\u001b[0m                                 Traceback (most recent call last)",
            "\u001b[0;32m<ipython-input-16-a20bfee2ae59>\u001b[0m in \u001b[0;36m<module>\u001b[0;34m\u001b[0m\n\u001b[0;32m----> 1\u001b[0;31m \u001b[0mprint\u001b[0m\u001b[0;34m(\u001b[0m\u001b[0mfunc6\u001b[0m\u001b[0;34m(\u001b[0m\u001b[0;34m)\u001b[0m\u001b[0;34m)\u001b[0m\u001b[0;34m\u001b[0m\u001b[0;34m\u001b[0m\u001b[0m\n\u001b[0m\u001b[1;32m      2\u001b[0m \u001b[0mprint\u001b[0m\u001b[0;34m(\u001b[0m\u001b[0mfunc6\u001b[0m\u001b[0;34m(\u001b[0m\u001b[0;36m10\u001b[0m\u001b[0;34m,\u001b[0m \u001b[0;36m5\u001b[0m\u001b[0;34m)\u001b[0m\u001b[0;34m)\u001b[0m\u001b[0;34m\u001b[0m\u001b[0;34m\u001b[0m\u001b[0m\n",
            "\u001b[0;31mTypeError\u001b[0m: func6() missing 2 required positional arguments: 'num1' and 'num2'"
          ]
        }
      ]
    },
    {
      "cell_type": "code",
      "source": [
        "result = func6(7)\n",
        "print(result)"
      ],
      "metadata": {
        "colab": {
          "base_uri": "https://localhost:8080/",
          "height": 191
        },
        "id": "VEIOu5fazB8D",
        "outputId": "4570cf01-eef3-4389-bbcc-bf87a332f8aa"
      },
      "execution_count": 17,
      "outputs": [
        {
          "output_type": "error",
          "ename": "TypeError",
          "evalue": "ignored",
          "traceback": [
            "\u001b[0;31m---------------------------------------------------------------------------\u001b[0m",
            "\u001b[0;31mTypeError\u001b[0m                                 Traceback (most recent call last)",
            "\u001b[0;32m<ipython-input-17-4a9d39f8907b>\u001b[0m in \u001b[0;36m<module>\u001b[0;34m\u001b[0m\n\u001b[0;32m----> 1\u001b[0;31m \u001b[0mresult\u001b[0m \u001b[0;34m=\u001b[0m \u001b[0mfunc6\u001b[0m\u001b[0;34m(\u001b[0m\u001b[0;36m7\u001b[0m\u001b[0;34m)\u001b[0m\u001b[0;34m\u001b[0m\u001b[0;34m\u001b[0m\u001b[0m\n\u001b[0m\u001b[1;32m      2\u001b[0m \u001b[0mprint\u001b[0m\u001b[0;34m(\u001b[0m\u001b[0mresult\u001b[0m\u001b[0;34m)\u001b[0m\u001b[0;34m\u001b[0m\u001b[0;34m\u001b[0m\u001b[0m\n",
            "\u001b[0;31mTypeError\u001b[0m: func6() missing 1 required positional argument: 'num2'"
          ]
        }
      ]
    },
    {
      "cell_type": "markdown",
      "source": [
        "## 1-5. 매개변수의 개수가 가변적인 경우\n",
        "```\n",
        "def 함수명(*변수):\n",
        "    함수가 호출되면 실행할 문장\n",
        "    ...\n",
        "    return 값\n",
        "```\n",
        "\n",
        "```\n",
        "변수 = 함수명(값1, 값2, ...) # 호출\n",
        "변수 = 함수명(값1) # 호출\n",
        "변수 = 함수명() # 호출\n",
        "```\n",
        "> 가변적인 매개변수를 전달할 경우 함수안에서 튜플형태로 사용"
      ],
      "metadata": {
        "id": "cxS1aBDFzV9r"
      }
    },
    {
      "cell_type": "code",
      "source": [
        "def func7(*args):\n",
        "    result = 0\n",
        "    # print(args)\n",
        "    for i in args:\n",
        "        result += i\n",
        "    return result"
      ],
      "metadata": {
        "id": "nNDIl2oi0NWC"
      },
      "execution_count": 18,
      "outputs": []
    },
    {
      "cell_type": "code",
      "source": [
        "print(func7())\n",
        "print(func7(10, 20, 30, 70))\n",
        "print(func7(10))\n",
        "\n",
        "# None이 찍히는 이유 : def에서 print를 넣었기 때문"
      ],
      "metadata": {
        "colab": {
          "base_uri": "https://localhost:8080/"
        },
        "id": "KWXNV2TW0i87",
        "outputId": "122b56a7-a17f-4724-ebc4-004cf478b1aa"
      },
      "execution_count": 19,
      "outputs": [
        {
          "output_type": "stream",
          "name": "stdout",
          "text": [
            "0\n",
            "130\n",
            "10\n"
          ]
        }
      ]
    },
    {
      "cell_type": "markdown",
      "source": [
        "## 1-6. 매개변수를 딕셔너리 구조로 전달받는 함수\n",
        "```\n",
        "def 함수명(**변수):\n",
        "    함수가 호출되면 실행할 문장\n",
        "    ...\n",
        "    return 값\n",
        "```\n",
        "```\n",
        "변수 = 함수명(변수1=값1, 변수2=값2, ...) # 호출\n",
        "```\n",
        "\n",
        ">  Default 매개변수는 첫번째 파라미터에만 적용할 수 없음"
      ],
      "metadata": {
        "id": "03lL16Zm0lps"
      }
    },
    {
      "cell_type": "code",
      "source": [
        "def func8(id, name, age):\n",
        "    print(f'아이디: {id}')\n",
        "    print(f'이름: {name}')\n",
        "    print(f'나이: {age}')"
      ],
      "metadata": {
        "id": "81eLvYZX2BVd"
      },
      "execution_count": 20,
      "outputs": []
    },
    {
      "cell_type": "code",
      "source": [
        "# 매개변수명과 딕셔너리의 키가 같아야 함\n",
        "# 딕셔너리의 키는 반드시 문자열 형태\n",
        "dic1 = {'id':'apple', 'name':'김사과', 'age': 20}"
      ],
      "metadata": {
        "id": "KD8719mq2fKb"
      },
      "execution_count": 21,
      "outputs": []
    },
    {
      "cell_type": "code",
      "source": [
        "func8(**dic1)"
      ],
      "metadata": {
        "colab": {
          "base_uri": "https://localhost:8080/"
        },
        "id": "kvjXRx1v2oAj",
        "outputId": "010f418f-f641-421c-ed54-9aace55a1e38"
      },
      "execution_count": 22,
      "outputs": [
        {
          "output_type": "stream",
          "name": "stdout",
          "text": [
            "아이디: apple\n",
            "이름: 김사과\n",
            "나이: 20\n"
          ]
        }
      ]
    },
    {
      "cell_type": "code",
      "source": [
        "# 키는 *, 값은 **이다\n",
        "# *의 데이터를 보낼 경우 키가 저장\n",
        "func8(*dic1)"
      ],
      "metadata": {
        "colab": {
          "base_uri": "https://localhost:8080/"
        },
        "id": "jX7gPiWd2qJ6",
        "outputId": "53bc750a-ed69-45bc-ec8f-1025344bed35"
      },
      "execution_count": 23,
      "outputs": [
        {
          "output_type": "stream",
          "name": "stdout",
          "text": [
            "아이디: id\n",
            "이름: name\n",
            "나이: age\n"
          ]
        }
      ]
    },
    {
      "cell_type": "code",
      "source": [
        "def func9(**args):\n",
        "    # print(args)\n",
        "    for i in args:\n",
        "        if i == 'id':\n",
        "            id = args[i]\n",
        "        return id"
      ],
      "metadata": {
        "id": "b4opd5X-3Sn5"
      },
      "execution_count": 24,
      "outputs": []
    },
    {
      "cell_type": "code",
      "source": [
        "user = func9(id='apple', name='김사과', age=20)\n",
        "print(user)"
      ],
      "metadata": {
        "colab": {
          "base_uri": "https://localhost:8080/"
        },
        "id": "MrTL_IRX3XbI",
        "outputId": "685ceac6-5fe7-483e-eb56-91381d7a5431"
      },
      "execution_count": 25,
      "outputs": [
        {
          "output_type": "stream",
          "name": "stdout",
          "text": [
            "apple\n"
          ]
        }
      ]
    },
    {
      "cell_type": "markdown",
      "source": [
        "## 1-7. Return 값이 여러 개인 함수\n",
        "```\n",
        "def 함수명(변수1, 변수2, ...):\n",
        "    함수가 호출되면 실행할 문장\n",
        "    ...\n",
        "    return 값1, 값2, ...\n",
        "```\n",
        "```\n",
        "변수1, 변수2, ... = 함수명(변수1, 변수2, ...) # 호출\n",
        "```"
      ],
      "metadata": {
        "id": "fewiNyW459mQ"
      }
    },
    {
      "cell_type": "code",
      "source": [
        "def func10(num1, num2):\n",
        "    return num1 + num2, num1 - num2, num1 * num2, num1 / num2"
      ],
      "metadata": {
        "id": "KDCNH7rG8s-E"
      },
      "execution_count": 26,
      "outputs": []
    },
    {
      "cell_type": "code",
      "source": [
        "result1, result2, result3, result4 = func10(10, 3)"
      ],
      "metadata": {
        "id": "AMQ5FuQf89Tk"
      },
      "execution_count": 27,
      "outputs": []
    },
    {
      "cell_type": "code",
      "source": [
        "print(f'덧셈 : {result1}, 뺄셈 : {result2}, 곱셈 : {result3}, 나눗셈 : {result4}')"
      ],
      "metadata": {
        "colab": {
          "base_uri": "https://localhost:8080/"
        },
        "id": "WhuckIXX9ET8",
        "outputId": "9dff6ff3-449c-468a-b1a9-8710cf548be0"
      },
      "execution_count": 28,
      "outputs": [
        {
          "output_type": "stream",
          "name": "stdout",
          "text": [
            "덧셈 : 13, 뺄셈 : 7, 곱셈 : 30, 나눗셈 : 3.3333333333333335\n"
          ]
        }
      ]
    },
    {
      "cell_type": "code",
      "source": [
        "_, _, result3, _ = func10(10, 3) # 곱셈의 결과만 필요할 때\n",
        "print(result3)"
      ],
      "metadata": {
        "colab": {
          "base_uri": "https://localhost:8080/"
        },
        "id": "XO1o0_Zu9muM",
        "outputId": "63c101fc-5f9b-4ac2-bc0b-d7c66b4b3d83"
      },
      "execution_count": 29,
      "outputs": [
        {
          "output_type": "stream",
          "name": "stdout",
          "text": [
            "30\n"
          ]
        }
      ]
    }
  ]
}