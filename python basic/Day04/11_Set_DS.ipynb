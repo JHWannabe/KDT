{
  "nbformat": 4,
  "nbformat_minor": 0,
  "metadata": {
    "colab": {
      "provenance": []
    },
    "kernelspec": {
      "name": "python3",
      "display_name": "Python 3"
    },
    "language_info": {
      "name": "python"
    }
  },
  "cells": [
    {
      "cell_type": "markdown",
      "source": [
        "# 1. 세트(Set)\n",
        "* 수학의 집합과 비슷한 형태로 순서가 없어서 어떤 값이 먼저 나올지 알 수 없고, 중복되는 데이터를 허용하지 않음\n",
        "* 딕셔너리처럼 중괄호를 사용해서 선언하지만, key는 존재하지 않고 value만 존재함."
      ],
      "metadata": {
        "id": "cEDdQoLSiZz1"
      }
    },
    {
      "cell_type": "markdown",
      "source": [
        "## 1-1. set 만들기"
      ],
      "metadata": {
        "id": "5xbCiI_Ai6sG"
      }
    },
    {
      "cell_type": "code",
      "source": [
        "s1 ={}\n",
        "print(s1)\n",
        "print(type(s1))"
      ],
      "metadata": {
        "colab": {
          "base_uri": "https://localhost:8080/"
        },
        "id": "3TVJK5ixjL3o",
        "outputId": "c4a89f94-5fbf-4c51-e942-aaa508f6d00f"
      },
      "execution_count": 1,
      "outputs": [
        {
          "output_type": "stream",
          "name": "stdout",
          "text": [
            "{}\n",
            "<class 'dict'>\n"
          ]
        }
      ]
    },
    {
      "cell_type": "code",
      "source": [
        "s1 = {1, 3, 5, 7}\n",
        "print(s1)\n",
        "print(type(s1))\n",
        "\n",
        "li1 = [1, 3, 5, 7]\n",
        "s2 = set(li1)\n",
        "print(s2)\n",
        "\n",
        "s3 = {1, 3, 5, 3, 7, 9, 1}\n",
        "print(s3)\n",
        "\n",
        "li2 = [1, 3, 5, 3, 7, 9, 1]\n",
        "print(li2)\n",
        "s4 = set(li2)\n",
        "print(s4)"
      ],
      "metadata": {
        "colab": {
          "base_uri": "https://localhost:8080/"
        },
        "id": "hGjU4TQKjQFp",
        "outputId": "3d526f36-f896-48fe-8516-6ff0a5969443"
      },
      "execution_count": 2,
      "outputs": [
        {
          "output_type": "stream",
          "name": "stdout",
          "text": [
            "{1, 3, 5, 7}\n",
            "<class 'set'>\n",
            "{1, 3, 5, 7}\n",
            "{1, 3, 5, 7, 9}\n",
            "[1, 3, 5, 3, 7, 9, 1]\n",
            "{1, 3, 5, 7, 9}\n"
          ]
        }
      ]
    },
    {
      "cell_type": "code",
      "source": [
        "print(3 in s4) # True\n",
        "print(8 in s4) # False\n",
        "print(8 not in s4) # True"
      ],
      "metadata": {
        "colab": {
          "base_uri": "https://localhost:8080/"
        },
        "id": "g0NsDT0IkDHI",
        "outputId": "7a6aa1a9-0305-4781-c1ee-a4c717762e72"
      },
      "execution_count": 3,
      "outputs": [
        {
          "output_type": "stream",
          "name": "stdout",
          "text": [
            "True\n",
            "False\n",
            "True\n"
          ]
        }
      ]
    },
    {
      "cell_type": "markdown",
      "source": [
        "## 1-2. Set 함수"
      ],
      "metadata": {
        "id": "6f3BQdwPkV9i"
      }
    },
    {
      "cell_type": "code",
      "source": [
        "# add(): set에 단일 데이터 추가\n",
        "s1 = {100, 200}\n",
        "s1.add(150)\n",
        "print(s1) # 순서가 일정하지 않음\n",
        "s1.add(50)\n",
        "print(s1)"
      ],
      "metadata": {
        "colab": {
          "base_uri": "https://localhost:8080/"
        },
        "id": "iPZjsBAepbIJ",
        "outputId": "88b6680f-9529-485b-d730-25c560338cd8"
      },
      "execution_count": 4,
      "outputs": [
        {
          "output_type": "stream",
          "name": "stdout",
          "text": [
            "{200, 100, 150}\n",
            "{200, 50, 100, 150}\n"
          ]
        }
      ]
    },
    {
      "cell_type": "code",
      "source": [
        "# update(): set에 여러 데이터를 한번에 추가\n",
        "s2 = {10, 20, 30}\n",
        "s2.update([40, 50, 60, 20])\n",
        "print(s2)"
      ],
      "metadata": {
        "colab": {
          "base_uri": "https://localhost:8080/"
        },
        "id": "Ch-vV3G4plDS",
        "outputId": "78c2cf91-ef46-41c5-bbfc-f39e19c416ae"
      },
      "execution_count": 5,
      "outputs": [
        {
          "output_type": "stream",
          "name": "stdout",
          "text": [
            "{40, 10, 50, 20, 60, 30}\n"
          ]
        }
      ]
    },
    {
      "cell_type": "code",
      "source": [
        "# remove(): set의 데이터를 제거, 제거할 데이터가 없으면 에러\n",
        "s2.remove(50)\n",
        "print(s2)\n",
        "s2.remove(50) # 에러"
      ],
      "metadata": {
        "colab": {
          "base_uri": "https://localhost:8080/",
          "height": 229
        },
        "id": "owQDkcV0p_8J",
        "outputId": "a3e509aa-6519-4e80-dba1-5a3c8218c258"
      },
      "execution_count": 6,
      "outputs": [
        {
          "output_type": "stream",
          "name": "stdout",
          "text": [
            "{40, 10, 20, 60, 30}\n"
          ]
        },
        {
          "output_type": "error",
          "ename": "KeyError",
          "evalue": "ignored",
          "traceback": [
            "\u001b[0;31m---------------------------------------------------------------------------\u001b[0m",
            "\u001b[0;31mKeyError\u001b[0m                                  Traceback (most recent call last)",
            "\u001b[0;32m<ipython-input-6-fb4630dd1f9f>\u001b[0m in \u001b[0;36m<module>\u001b[0;34m\u001b[0m\n\u001b[1;32m      2\u001b[0m \u001b[0ms2\u001b[0m\u001b[0;34m.\u001b[0m\u001b[0mremove\u001b[0m\u001b[0;34m(\u001b[0m\u001b[0;36m50\u001b[0m\u001b[0;34m)\u001b[0m\u001b[0;34m\u001b[0m\u001b[0;34m\u001b[0m\u001b[0m\n\u001b[1;32m      3\u001b[0m \u001b[0mprint\u001b[0m\u001b[0;34m(\u001b[0m\u001b[0ms2\u001b[0m\u001b[0;34m)\u001b[0m\u001b[0;34m\u001b[0m\u001b[0;34m\u001b[0m\u001b[0m\n\u001b[0;32m----> 4\u001b[0;31m \u001b[0ms2\u001b[0m\u001b[0;34m.\u001b[0m\u001b[0mremove\u001b[0m\u001b[0;34m(\u001b[0m\u001b[0;36m50\u001b[0m\u001b[0;34m)\u001b[0m\u001b[0;34m\u001b[0m\u001b[0;34m\u001b[0m\u001b[0m\n\u001b[0m",
            "\u001b[0;31mKeyError\u001b[0m: 50"
          ]
        }
      ]
    },
    {
      "cell_type": "code",
      "source": [
        "# discard(): set의 데이터를 제거, 제거할 데이터가 없어도 에러가 발생하지 않음\n",
        "s2.discard(30)\n",
        "print(30)\n",
        "s2.discard(30)"
      ],
      "metadata": {
        "colab": {
          "base_uri": "https://localhost:8080/"
        },
        "id": "9liVWT9TqWHh",
        "outputId": "16763e81-b403-4e88-9f50-267069440817"
      },
      "execution_count": 7,
      "outputs": [
        {
          "output_type": "stream",
          "name": "stdout",
          "text": [
            "30\n"
          ]
        }
      ]
    },
    {
      "cell_type": "code",
      "source": [
        "# copy(): set을 복사\n",
        "# id(): 저장된 메모리주소를 10진수로 표현\n",
        "s3 = {10, 20, 30}\n",
        "s4 = s3.copy()\n",
        "print(s3)\n",
        "print(s4)\n",
        "print(id(s3))\n",
        "print(id(s4))"
      ],
      "metadata": {
        "colab": {
          "base_uri": "https://localhost:8080/"
        },
        "id": "tGj9kfIgqlUJ",
        "outputId": "3081b60f-98b2-4e4e-d0a5-5e2380567c27"
      },
      "execution_count": 9,
      "outputs": [
        {
          "output_type": "stream",
          "name": "stdout",
          "text": [
            "{10, 20, 30}\n",
            "{10, 20, 30}\n",
            "140058086917952\n",
            "140058086917056\n"
          ]
        }
      ]
    },
    {
      "cell_type": "markdown",
      "source": [
        "## 1-3. set의 연산자"
      ],
      "metadata": {
        "id": "YPzhz633q07S"
      }
    },
    {
      "cell_type": "code",
      "source": [
        "s1 = {10, 20, 30, 40, 50}\n",
        "s2 = {30, 40, 50, 60, 70}"
      ],
      "metadata": {
        "id": "0FCTU9ZirfCo"
      },
      "execution_count": 10,
      "outputs": []
    },
    {
      "cell_type": "code",
      "source": [
        "# 합집합(Union)\n",
        "result = s1 | s2\n",
        "print(result)\n",
        "result = s1.union(s2)\n",
        "print(result)"
      ],
      "metadata": {
        "colab": {
          "base_uri": "https://localhost:8080/"
        },
        "id": "BParUUfCsJYK",
        "outputId": "c5e5bb94-635d-49fc-ae4a-8a63a58a962d"
      },
      "execution_count": 11,
      "outputs": [
        {
          "output_type": "stream",
          "name": "stdout",
          "text": [
            "{70, 40, 10, 50, 20, 60, 30}\n",
            "{70, 40, 10, 50, 20, 60, 30}\n"
          ]
        }
      ]
    },
    {
      "cell_type": "code",
      "source": [
        "# 교집합(Intersection)\n",
        "result = s1 & s2\n",
        "print(result)\n",
        "result = s1.intersection(s2)\n",
        "print(result)"
      ],
      "metadata": {
        "colab": {
          "base_uri": "https://localhost:8080/"
        },
        "id": "lQ04bGbpsV7Q",
        "outputId": "543dd132-466e-469c-aff2-1d416e8e6a40"
      },
      "execution_count": 12,
      "outputs": [
        {
          "output_type": "stream",
          "name": "stdout",
          "text": [
            "{40, 50, 30}\n",
            "{40, 50, 30}\n"
          ]
        }
      ]
    },
    {
      "cell_type": "code",
      "source": [
        "# 차집합(difference)\n",
        "result = s1 - s2\n",
        "print(result)\n",
        "result = s1.difference(s2)\n",
        "print(result)"
      ],
      "metadata": {
        "colab": {
          "base_uri": "https://localhost:8080/"
        },
        "id": "a3T0XZl0s9Sh",
        "outputId": "827d0e44-ff34-4750-8312-31c9a2e68435"
      },
      "execution_count": 14,
      "outputs": [
        {
          "output_type": "stream",
          "name": "stdout",
          "text": [
            "{10, 20}\n",
            "{10, 20}\n"
          ]
        }
      ]
    },
    {
      "cell_type": "code",
      "source": [
        "# 대칭차집합(symmetric_difference)\n",
        "result = s1 ^ s2\n",
        "print(result)\n",
        "result = s1.symmetric_difference(s2)\n",
        "print(result)"
      ],
      "metadata": {
        "colab": {
          "base_uri": "https://localhost:8080/"
        },
        "id": "LdsUeY3mtF3o",
        "outputId": "4468931d-941a-4bad-e9ee-da156cf81d46"
      },
      "execution_count": 15,
      "outputs": [
        {
          "output_type": "stream",
          "name": "stdout",
          "text": [
            "{20, 70, 10, 60}\n",
            "{20, 70, 10, 60}\n"
          ]
        }
      ]
    },
    {
      "cell_type": "markdown",
      "source": [
        "# 2. Set과 zip()함수"
      ],
      "metadata": {
        "id": "nSAQTnT-tvYi"
      }
    },
    {
      "cell_type": "code",
      "source": [
        "string = 'apple'\n",
        "li = [1, 2, 3, 4, 5]\n",
        "tu = ('김사과','반하나','오렌지','이메론','채애리')"
      ],
      "metadata": {
        "id": "mOjW4ztVt9IK"
      },
      "execution_count": 16,
      "outputs": []
    },
    {
      "cell_type": "code",
      "source": [
        "print(zip(string, li, tu))"
      ],
      "metadata": {
        "colab": {
          "base_uri": "https://localhost:8080/"
        },
        "id": "Gfu2yV0LuUMC",
        "outputId": "98ccbb2f-7b45-4815-a521-ceabfeb6fe85"
      },
      "execution_count": 17,
      "outputs": [
        {
          "output_type": "stream",
          "name": "stdout",
          "text": [
            "<zip object at 0x7f61d1ae7240>\n"
          ]
        }
      ]
    },
    {
      "cell_type": "code",
      "source": [
        "print(list(zip(string, li ,tu)))"
      ],
      "metadata": {
        "colab": {
          "base_uri": "https://localhost:8080/"
        },
        "id": "I_SfxYHMuWc5",
        "outputId": "7ca6ab2c-7315-408e-99b5-e23978748718"
      },
      "execution_count": 18,
      "outputs": [
        {
          "output_type": "stream",
          "name": "stdout",
          "text": [
            "[('a', 1, '김사과'), ('p', 2, '반하나'), ('p', 3, '오렌지'), ('l', 4, '이메론'), ('e', 5, '채애리')]\n"
          ]
        }
      ]
    },
    {
      "cell_type": "code",
      "source": [
        "print(set(zip(string, li ,tu)))"
      ],
      "metadata": {
        "colab": {
          "base_uri": "https://localhost:8080/"
        },
        "id": "lOxcu0hIuk4Z",
        "outputId": "0dfceffb-b889-4cd3-87f1-10b0cca7be22"
      },
      "execution_count": 19,
      "outputs": [
        {
          "output_type": "stream",
          "name": "stdout",
          "text": [
            "{('e', 5, '채애리'), ('a', 1, '김사과'), ('p', 2, '반하나'), ('l', 4, '이메론'), ('p', 3, '오렌지')}\n"
          ]
        }
      ]
    },
    {
      "cell_type": "code",
      "source": [
        "print(dict(zip(string, li ,tu)))"
      ],
      "metadata": {
        "colab": {
          "base_uri": "https://localhost:8080/",
          "height": 174
        },
        "id": "5T5pNP-surkS",
        "outputId": "cce13763-4241-4056-d221-44d18547e761"
      },
      "execution_count": 20,
      "outputs": [
        {
          "output_type": "error",
          "ename": "ValueError",
          "evalue": "ignored",
          "traceback": [
            "\u001b[0;31m---------------------------------------------------------------------------\u001b[0m",
            "\u001b[0;31mValueError\u001b[0m                                Traceback (most recent call last)",
            "\u001b[0;32m<ipython-input-20-c2c79a8eeaf5>\u001b[0m in \u001b[0;36m<module>\u001b[0;34m\u001b[0m\n\u001b[0;32m----> 1\u001b[0;31m \u001b[0mprint\u001b[0m\u001b[0;34m(\u001b[0m\u001b[0mdict\u001b[0m\u001b[0;34m(\u001b[0m\u001b[0mzip\u001b[0m\u001b[0;34m(\u001b[0m\u001b[0mstring\u001b[0m\u001b[0;34m,\u001b[0m \u001b[0mli\u001b[0m \u001b[0;34m,\u001b[0m\u001b[0mtu\u001b[0m\u001b[0;34m)\u001b[0m\u001b[0;34m)\u001b[0m\u001b[0;34m)\u001b[0m\u001b[0;34m\u001b[0m\u001b[0;34m\u001b[0m\u001b[0m\n\u001b[0m",
            "\u001b[0;31mValueError\u001b[0m: dictionary update sequence element #0 has length 3; 2 is required"
          ]
        }
      ]
    },
    {
      "cell_type": "code",
      "source": [
        "print(dict(zip(li ,tu)))"
      ],
      "metadata": {
        "colab": {
          "base_uri": "https://localhost:8080/"
        },
        "id": "yRZTqiYeu8Lw",
        "outputId": "800b2b85-1697-47cd-f488-8a82aae72dcb"
      },
      "execution_count": 21,
      "outputs": [
        {
          "output_type": "stream",
          "name": "stdout",
          "text": [
            "{1: '김사과', 2: '반하나', 3: '오렌지', 4: '이메론', 5: '채애리'}\n"
          ]
        }
      ]
    },
    {
      "cell_type": "code",
      "source": [
        "print(dict(zip(string ,tu))) # p가 두개여서 하나가 날아감"
      ],
      "metadata": {
        "colab": {
          "base_uri": "https://localhost:8080/"
        },
        "id": "1rFq1lbpv8hD",
        "outputId": "c791f393-d26e-4d58-8a49-19d14f5db84a"
      },
      "execution_count": 22,
      "outputs": [
        {
          "output_type": "stream",
          "name": "stdout",
          "text": [
            "{'a': '김사과', 'p': '오렌지', 'l': '이메론', 'e': '채애리'}\n"
          ]
        }
      ]
    }
  ]
}