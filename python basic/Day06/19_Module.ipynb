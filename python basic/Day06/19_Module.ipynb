{
  "nbformat": 4,
  "nbformat_minor": 0,
  "metadata": {
    "colab": {
      "provenance": []
    },
    "kernelspec": {
      "name": "python3",
      "display_name": "Python 3"
    },
    "language_info": {
      "name": "python"
    }
  },
  "cells": [
    {
      "cell_type": "markdown",
      "source": [
        "# 1. 모듈\n",
        "* .py파일은 모듈\n",
        "* 클래스 또는 함수를 모아놓은 파일\n",
        "\n",
        "```\n",
        "# 모든 모듈의 전체 함수 가져오기\n",
        "import 모듈명\n",
        "\n",
        "# 사용\n",
        "모델명.함수명()\n",
        "\n",
        "```"
      ],
      "metadata": {
        "id": "nBshv-D_xV_8"
      }
    },
    {
      "cell_type": "code",
      "source": [
        "import util\n",
        "\n",
        "print(util.total(1, 100))\n",
        "print(util.calc(10, 3))"
      ],
      "metadata": {
        "colab": {
          "base_uri": "https://localhost:8080/"
        },
        "id": "Zn-OrtJex5T8",
        "outputId": "5dc2ae84-8692-4601-a78b-9dab179acd7e"
      },
      "execution_count": 1,
      "outputs": [
        {
          "output_type": "stream",
          "name": "stdout",
          "text": [
            "5050\n",
            "(13, 7, 30, 3.3333333333333335)\n"
          ]
        }
      ]
    },
    {
      "cell_type": "markdown",
      "source": [
        "```\n",
        "# 특정 함수만 골라서 가져오기\n",
        "from 모듈명 import 함수1, 함수2, ...\n",
        "\n",
        "# 사용\n",
        "함수명()\n",
        "\n",
        "```\n"
      ],
      "metadata": {
        "id": "bwhn0yOz0DtT"
      }
    },
    {
      "cell_type": "code",
      "source": [
        "from util import calc\n",
        "\n",
        "_, _, _, result = calc(10, 3)\n",
        "print(result)"
      ],
      "metadata": {
        "colab": {
          "base_uri": "https://localhost:8080/"
        },
        "id": "4w2HXBMM0q25",
        "outputId": "0faefa45-cb4a-4ebd-e081-d8ac85f561a6"
      },
      "execution_count": 2,
      "outputs": [
        {
          "output_type": "stream",
          "name": "stdout",
          "text": [
            "3.3333333333333335\n"
          ]
        }
      ]
    },
    {
      "cell_type": "markdown",
      "source": [
        "```\n",
        "# 모든 모듈의 함수 가져오기\n",
        "from 모듈명 import *\n",
        "\n",
        "# 사용\n",
        "함수명()\n",
        "```"
      ],
      "metadata": {
        "id": "BVvDVfGR00FZ"
      }
    },
    {
      "cell_type": "code",
      "source": [
        "from util import *\n",
        "\n",
        "print(total(1, 100))\n",
        "print(calc(10,3))"
      ],
      "metadata": {
        "colab": {
          "base_uri": "https://localhost:8080/"
        },
        "id": "aTpydpyu1j5B",
        "outputId": "28ee9999-f13d-4ef3-bd91-8ec3429ebea1"
      },
      "execution_count": 3,
      "outputs": [
        {
          "output_type": "stream",
          "name": "stdout",
          "text": [
            "5050\n",
            "(13, 7, 30, 3.3333333333333335)\n"
          ]
        }
      ]
    },
    {
      "cell_type": "markdown",
      "source": [
        "```\n",
        "# 모듈에 별명 붙여 불러오기\n",
        "import 모듈명 as 별명\n",
        "\n",
        "# 사용\n",
        "별명.함수명()\n",
        "```"
      ],
      "metadata": {
        "id": "RCYyA65W2R-o"
      }
    },
    {
      "cell_type": "code",
      "source": [
        "import util as ut\n",
        "print(ut.total(1, 100))\n",
        "print(ut.calc(10, 3))"
      ],
      "metadata": {
        "colab": {
          "base_uri": "https://localhost:8080/"
        },
        "id": "fHs0ZiGk2bgy",
        "outputId": "f19d98d0-8e45-43a1-adfe-078ab9f22488"
      },
      "execution_count": 4,
      "outputs": [
        {
          "output_type": "stream",
          "name": "stdout",
          "text": [
            "5050\n",
            "(13, 7, 30, 3.3333333333333335)\n"
          ]
        }
      ]
    },
    {
      "cell_type": "markdown",
      "source": [
        "# 2. 구글드라이브 활용"
      ],
      "metadata": {
        "id": "z9DIetrF3hoS"
      }
    },
    {
      "cell_type": "code",
      "source": [
        "util = '/content/drive/MyDrive'\n",
        "import sys\n",
        "sys.path.append(util)"
      ],
      "metadata": {
        "id": "HVxnr7XK3hAA"
      },
      "execution_count": 5,
      "outputs": []
    },
    {
      "cell_type": "markdown",
      "source": [
        "# 3. 클래스를 포함한 모듈"
      ],
      "metadata": {
        "id": "DKYs7IBN-Z__"
      }
    },
    {
      "cell_type": "code",
      "source": [
        "import util2 as ut2"
      ],
      "metadata": {
        "id": "r3tHaScy-b_n"
      },
      "execution_count": 6,
      "outputs": []
    },
    {
      "cell_type": "code",
      "source": [
        "ut2.PI"
      ],
      "metadata": {
        "colab": {
          "base_uri": "https://localhost:8080/"
        },
        "id": "ReHypiYu_-U9",
        "outputId": "f08939e5-ebb2-47d2-e884-aa2ea737519b"
      },
      "execution_count": 7,
      "outputs": [
        {
          "output_type": "execute_result",
          "data": {
            "text/plain": [
              "3.141592653589793"
            ]
          },
          "metadata": {},
          "execution_count": 7
        }
      ]
    },
    {
      "cell_type": "code",
      "source": [
        "math = ut2.Math()"
      ],
      "metadata": {
        "id": "DxYGIG7iBbaD"
      },
      "execution_count": 8,
      "outputs": []
    },
    {
      "cell_type": "code",
      "source": [
        "print(math.circle(5))\n",
        "print(math.add(10,4))"
      ],
      "metadata": {
        "colab": {
          "base_uri": "https://localhost:8080/"
        },
        "id": "ONQjxDFSCEXb",
        "outputId": "75ba74bb-55cf-4966-a3cc-8e73aeb3accc"
      },
      "execution_count": 9,
      "outputs": [
        {
          "output_type": "stream",
          "name": "stdout",
          "text": [
            "78.53981633974483\n",
            "14\n"
          ]
        }
      ]
    },
    {
      "cell_type": "markdown",
      "source": [
        "# 4. 패키지(Package)\n",
        "* 모듈의 상위 개념\n",
        "* 모듈이 모여있는 디렉터리"
      ],
      "metadata": {
        "id": "IG-vh7_9CI8T"
      }
    },
    {
      "cell_type": "markdown",
      "source": [
        "## 4-1. 패키지 관리자\n",
        "* 패키지 관리자에 의해서 설치하는 것\n",
        "* 외부 모듈을 설치 또는 삭제하기 위한 프로그램\n",
        "* pip 명령 사용(파이썬을 설치하면 pip가 함께 설치됨)\n",
        "* 윈도우 cmd 또는 터미널에서 사용\n",
        "* pip --version으로 버전 확인 가능"
      ],
      "metadata": {
        "id": "52F6hmBkCQd7"
      }
    }
  ]
}