{
  "nbformat": 4,
  "nbformat_minor": 0,
  "metadata": {
    "colab": {
      "provenance": []
    },
    "kernelspec": {
      "name": "python3",
      "display_name": "Python 3"
    },
    "language_info": {
      "name": "python"
    }
  },
  "cells": [
    {
      "cell_type": "markdown",
      "source": [
        "# 1. 상속\n",
        "* 기존의 정의해둔 클래스의 기능을 그대로 물려받음\n",
        "* 기존 클래스에 기능 일부를 추가하거나, 변경하여 새로운 클래스를 정의함\n",
        "* 코드를 재사용할 수 있게 됨\n",
        "* 안정적이고 유지보수에 용이함\n",
        "* 상속을 받고자 하는 대상인 기존 클래스를 부모, parent, super, base 클래스라고 부름\n",
        "* 상속을 받는 새로운 클래스는 자식, child, sub 클래스라고 부름"
      ],
      "metadata": {
        "id": "_OewXT9kInXg"
      }
    },
    {
      "cell_type": "code",
      "source": [
        "class Animal:\n",
        "    def __init__(self, name, age):\n",
        "        self.name = name\n",
        "        self.age = age\n",
        "\n",
        "    def eat(self, food):\n",
        "        print(f'{self.name}는 {food}를 먹습니다.')\n",
        "\n",
        "    def sleep(self, hour):\n",
        "        print(f'{self.name}는 {hour}시간동안 잡니다.')"
      ],
      "metadata": {
        "id": "N90xf8wYKel4"
      },
      "execution_count": 1,
      "outputs": []
    },
    {
      "cell_type": "code",
      "source": [
        "animal = Animal('동물', 10)\n",
        "animal.eat('먹이')\n",
        "animal.sleep(14)"
      ],
      "metadata": {
        "colab": {
          "base_uri": "https://localhost:8080/"
        },
        "id": "_OEA4TZpLT5c",
        "outputId": "b37c9856-1f6e-442d-e3c0-c874555996e4"
      },
      "execution_count": 2,
      "outputs": [
        {
          "output_type": "stream",
          "name": "stdout",
          "text": [
            "동물는 먹이를 먹습니다.\n",
            "동물는 14시간동안 잡니다.\n"
          ]
        }
      ]
    },
    {
      "cell_type": "code",
      "source": [
        "class Dog(Animal): # Animal 클래스를 상속\n",
        "    pass"
      ],
      "metadata": {
        "id": "nYmw5e0KLbc8"
      },
      "execution_count": 3,
      "outputs": []
    },
    {
      "cell_type": "code",
      "source": [
        "# Rucy = Dog() # Animal 클래스의 생성자를 상속받았기 때문에 에러!"
      ],
      "metadata": {
        "id": "Qz4dNDLxMAcF"
      },
      "execution_count": 4,
      "outputs": []
    },
    {
      "cell_type": "code",
      "source": [
        "Rucy = Dog('루시', 12)\n",
        "Rucy.eat('사료')\n",
        "Rucy.sleep(10)"
      ],
      "metadata": {
        "colab": {
          "base_uri": "https://localhost:8080/"
        },
        "id": "7anvATlpMMo8",
        "outputId": "3a572521-fad0-4a8b-805d-18587ad81308"
      },
      "execution_count": 5,
      "outputs": [
        {
          "output_type": "stream",
          "name": "stdout",
          "text": [
            "루시는 사료를 먹습니다.\n",
            "루시는 10시간동안 잡니다.\n"
          ]
        }
      ]
    },
    {
      "cell_type": "markdown",
      "source": [
        "# 2. 메소드 오버라이딩(overriding)\n",
        "* 부모 클래스의 method를 재정의\n",
        "* 자식 클래스의 인스턴스로 호출 시 재정의된 메소드가 호출"
      ],
      "metadata": {
        "id": "IQX1w7cOMRxU"
      }
    },
    {
      "cell_type": "code",
      "source": [
        "class Animal:\n",
        "    def __init__(self, name, age):\n",
        "        self.name = name\n",
        "        self.age = age\n",
        "\n",
        "    def eat(self, food):\n",
        "        print(f'{self.name}는 {food}를 먹습니다.')\n",
        "\n",
        "    def sleep(self, hour):\n",
        "        print(f'{self.name}는 {hour}시간동안 잡니다.')"
      ],
      "metadata": {
        "id": "96IeEWGiMxmD"
      },
      "execution_count": 6,
      "outputs": []
    },
    {
      "cell_type": "code",
      "source": [
        "class Dog(Animal):\n",
        "    def run(self):\n",
        "        print(f'{self.name}는 달립니다.')\n",
        "\n",
        "    def eat(self, food): # 메소드 오버라이딩\n",
        "        print(f'{self.name}는 {food}를 아주 맛있게 먹습니다.')\n",
        "    \n",
        "    def superEat(self, food):\n",
        "        super().eat(food)"
      ],
      "metadata": {
        "id": "o1_7Phx-NSnr"
      },
      "execution_count": 7,
      "outputs": []
    },
    {
      "cell_type": "code",
      "source": [
        "Rucy = Dog('루시', 12)\n",
        "Rucy.eat('사료')\n",
        "Rucy.run()"
      ],
      "metadata": {
        "colab": {
          "base_uri": "https://localhost:8080/"
        },
        "id": "epbG9rWSNj06",
        "outputId": "a3f5aeb7-16f6-4489-c7fd-d507051e52a2"
      },
      "execution_count": 8,
      "outputs": [
        {
          "output_type": "stream",
          "name": "stdout",
          "text": [
            "루시는 사료를 아주 맛있게 먹습니다.\n",
            "루시는 달립니다.\n"
          ]
        }
      ]
    },
    {
      "cell_type": "code",
      "source": [
        "animal = Animal('동물', 10)\n",
        "animal.eat('먹이')"
      ],
      "metadata": {
        "colab": {
          "base_uri": "https://localhost:8080/"
        },
        "id": "N7Pv4wmsNt2H",
        "outputId": "f22e6619-c1a4-41c2-b9ca-75c4456ac506"
      },
      "execution_count": 9,
      "outputs": [
        {
          "output_type": "stream",
          "name": "stdout",
          "text": [
            "동물는 먹이를 먹습니다.\n"
          ]
        }
      ]
    },
    {
      "cell_type": "markdown",
      "source": [
        "# 3. 다중 상속\n",
        "* C#, Java는 다중상속이 불가능\n",
        "* 파이썬은 C++과 같이 다중상속이 가능\n",
        "* 여러 클래스를 상속(갯수 제한 x)\n"
      ],
      "metadata": {
        "id": "zp4i3yLHOexD"
      }
    },
    {
      "cell_type": "code",
      "source": [
        "class Animal:\n",
        "    def __init__(self, name, age):\n",
        "        self.name = name\n",
        "        self.age = age\n",
        "\n",
        "    def eat(self, food):\n",
        "        print(f'{self.name}는 {food}를 먹습니다.')\n",
        "\n",
        "    def sleep(self, hour):\n",
        "        print(f'{self.name}는 {hour}시간동안 잡니다.')\n",
        "\n",
        "class Human:\n",
        "    def __init__(self, name, age):\n",
        "        self.name = name\n",
        "        self.age = age\n",
        "    \n",
        "    def study(self, hour):\n",
        "        print(f'{self.name}는 {hour}시간 동안 공부합니다.')"
      ],
      "metadata": {
        "id": "i5fyGaNZQgm6"
      },
      "execution_count": 10,
      "outputs": []
    },
    {
      "cell_type": "code",
      "source": [
        "class KimApple(Animal, Human):\n",
        "    pass"
      ],
      "metadata": {
        "id": "z6H1LlYwQ_Uh"
      },
      "execution_count": 11,
      "outputs": []
    },
    {
      "cell_type": "code",
      "source": [
        "kim = KimApple('김사과', 20)\n",
        "kim.eat('밥')\n",
        "kim.study(2)"
      ],
      "metadata": {
        "colab": {
          "base_uri": "https://localhost:8080/"
        },
        "id": "kQgqVU5hRMpB",
        "outputId": "467b4789-5850-45f8-fd3e-3dbb84f599ea"
      },
      "execution_count": 12,
      "outputs": [
        {
          "output_type": "stream",
          "name": "stdout",
          "text": [
            "김사과는 밥를 먹습니다.\n",
            "김사과는 2시간 동안 공부합니다.\n"
          ]
        }
      ]
    },
    {
      "cell_type": "code",
      "source": [
        "KimApple.mro() # 상속 받은 클래스를 확인할 수 있음"
      ],
      "metadata": {
        "colab": {
          "base_uri": "https://localhost:8080/"
        },
        "id": "WqIThMVCU9O6",
        "outputId": "b0e50219-c10e-4aae-a1fc-1382e9e94647"
      },
      "execution_count": 13,
      "outputs": [
        {
          "output_type": "execute_result",
          "data": {
            "text/plain": [
              "[__main__.KimApple, __main__.Animal, __main__.Human, object]"
            ]
          },
          "metadata": {},
          "execution_count": 13
        }
      ]
    }
  ]
}