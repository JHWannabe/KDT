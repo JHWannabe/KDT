{
  "nbformat": 4,
  "nbformat_minor": 0,
  "metadata": {
    "colab": {
      "provenance": []
    },
    "kernelspec": {
      "name": "python3",
      "display_name": "Python 3"
    },
    "language_info": {
      "name": "python"
    }
  },
  "cells": [
    {
      "cell_type": "markdown",
      "source": [
        "# 1. 스페셜 메소드(Special Method)\n",
        "* __로 시작해서 __로 끝나는 특수함수\n",
        "* 해당 메소드들을 재구현하면 객체에 여러가지 파이썬 내장 함수나 연산자에 원하는 기능을 부여할 수 있음"
      ],
      "metadata": {
        "id": "9EgevQUCVMWI"
      }
    },
    {
      "cell_type": "code",
      "source": [
        "class Point:\n",
        "    def __init__(self, x, y):\n",
        "        self.x = x\n",
        "        self.y = y\n",
        "\n",
        "    def print_point(self): # (3, 4)\n",
        "        print(f'({self.x}, {self.y})')\n",
        "\n",
        "    def __str__(self): # str() 함수를 오버라이딩\n",
        "        return (f'({self.x}, {self.y})')\n",
        "\n",
        "    def __add__(self, pt): # + 연산자를 오버라이딩 (객체 + 객체)\n",
        "        new_x = self.x + pt.x\n",
        "        new_y = self.y + pt.y\n",
        "        return Point(new_x, new_y)\n",
        "\n",
        "    def __sub__(self, pt): # - 연산자를 오버라이딩 (객체 - 객체)\n",
        "        new_x = self.x - pt.x\n",
        "        new_y = self.y - pt.y\n",
        "        return Point(new_x, new_y)\n",
        "\n",
        "    def __len__(self): # len()\n",
        "        return self.x + self.y\n",
        "\n",
        "    def __getitem__(self, index): # 인덱싱을 오버라이딩 (객체[인덱스])\n",
        "        if index == 0:\n",
        "            return self.x\n",
        "        elif index == 1:\n",
        "            return self.y\n",
        "        else:\n",
        "            return -1"
      ],
      "metadata": {
        "id": "dud0_fkKWcZe"
      },
      "execution_count": 1,
      "outputs": []
    },
    {
      "cell_type": "code",
      "source": [
        "p1 = Point(3, 4)\n",
        "p1.print_point()"
      ],
      "metadata": {
        "colab": {
          "base_uri": "https://localhost:8080/"
        },
        "id": "8QsYOLbvWuF_",
        "outputId": "2b616f71-3091-41a2-c8a3-02275c589ce8"
      },
      "execution_count": 2,
      "outputs": [
        {
          "output_type": "stream",
          "name": "stdout",
          "text": [
            "(3, 4)\n"
          ]
        }
      ]
    },
    {
      "cell_type": "code",
      "source": [
        "print(p1) # str() 생략\n",
        "print(str(p1))"
      ],
      "metadata": {
        "colab": {
          "base_uri": "https://localhost:8080/"
        },
        "id": "3-khPw0rXbNH",
        "outputId": "e8c3ec2a-88fe-444a-d06b-4c951ddbe43e"
      },
      "execution_count": 3,
      "outputs": [
        {
          "output_type": "stream",
          "name": "stdout",
          "text": [
            "(3, 4)\n",
            "(3, 4)\n"
          ]
        }
      ]
    },
    {
      "cell_type": "code",
      "source": [
        "num1 = 10\n",
        "num2 = 20\n",
        "print(num1 + num2)\n",
        "\n",
        "print(str(p1))\n",
        "\n",
        "p2 = Point(5,8)\n",
        "print(str(p2))\n",
        "\n",
        "print(p1 + p2)\n",
        "print(p2 - p1)"
      ],
      "metadata": {
        "colab": {
          "base_uri": "https://localhost:8080/"
        },
        "id": "IZc1XD2KYdy1",
        "outputId": "5fd00c2c-d15a-42b1-8c44-dfa4285f460b"
      },
      "execution_count": 4,
      "outputs": [
        {
          "output_type": "stream",
          "name": "stdout",
          "text": [
            "30\n",
            "(3, 4)\n",
            "(5, 8)\n",
            "(8, 12)\n",
            "(2, 4)\n"
          ]
        }
      ]
    },
    {
      "cell_type": "code",
      "source": [
        "print(len(p1))\n",
        "print(p1[0], p1[1], p1[100])"
      ],
      "metadata": {
        "colab": {
          "base_uri": "https://localhost:8080/"
        },
        "id": "X47WimUNutqm",
        "outputId": "4bafae48-a826-4cdc-b2e4-6452fe51d53e"
      },
      "execution_count": 5,
      "outputs": [
        {
          "output_type": "stream",
          "name": "stdout",
          "text": [
            "7\n",
            "3 4 -1\n"
          ]
        }
      ]
    }
  ]
}