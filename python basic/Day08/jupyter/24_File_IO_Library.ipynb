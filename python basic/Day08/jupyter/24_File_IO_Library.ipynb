{
 "cells": [
  {
   "cell_type": "markdown",
   "id": "c73248e6",
   "metadata": {},
   "source": [
    "# 1. 파일 읽기 및 저장하기"
   ]
  },
  {
   "cell_type": "markdown",
   "id": "a0b4876d",
   "metadata": {},
   "source": [
    "### 1-1. fileinput\n",
    "* 텍스트 파일을 읽고, 쓰고, 저장하는 기능을 편리하게 사용할 수 있도록 해주는 라이브러리\n",
    "* 여러개의 파일을 읽어서 수정할 수 있음"
   ]
  },
  {
   "cell_type": "code",
   "execution_count": 1,
   "id": "2416a915",
   "metadata": {},
   "outputs": [],
   "source": [
    "import fileinput\n",
    "import os\n",
    "import glob"
   ]
  },
  {
   "cell_type": "code",
   "execution_count": 2,
   "id": "995f9462",
   "metadata": {},
   "outputs": [
    {
     "data": {
      "text/plain": [
       "'C:\\\\Users\\\\Administrator\\\\Desktop\\\\KDT\\\\jhwannabe\\\\python\\\\Day08\\\\jupyter'"
      ]
     },
     "execution_count": 2,
     "metadata": {},
     "output_type": "execute_result"
    }
   ],
   "source": [
    "# 현재 경로 확인\n",
    "os.getcwd()"
   ]
  },
  {
   "cell_type": "code",
   "execution_count": 3,
   "id": "b46e217f",
   "metadata": {},
   "outputs": [
    {
     "data": {
      "text/plain": [
       "['.ipynb_checkpoints',\n",
       " '24_File_IO_Library.ipynb',\n",
       " 'dict.pkl',\n",
       " 'Jupyter Notebook Installation.txt',\n",
       " 'list.pkl',\n",
       " 'project',\n",
       " 'sample',\n",
       " '점심시간.txt']"
      ]
     },
     "execution_count": 3,
     "metadata": {},
     "output_type": "execute_result"
    }
   ],
   "source": [
    "# 디렉토리 내 파일 확인하기\n",
    "os.listdir(os.getcwd())"
   ]
  },
  {
   "cell_type": "code",
   "execution_count": 4,
   "id": "3175e455",
   "metadata": {},
   "outputs": [],
   "source": [
    "# 경로 설정\n",
    "path = 'sample/'"
   ]
  },
  {
   "cell_type": "code",
   "execution_count": 5,
   "id": "652cd97f",
   "metadata": {},
   "outputs": [
    {
     "data": {
      "text/plain": [
       "['sample\\\\새파일1.txt',\n",
       " 'sample\\\\새파일2.txt',\n",
       " 'sample\\\\새파일3.txt',\n",
       " 'sample\\\\새파일4.txt',\n",
       " 'sample\\\\새파일5.txt']"
      ]
     },
     "execution_count": 5,
     "metadata": {},
     "output_type": "execute_result"
    }
   ],
   "source": [
    "# glob(): 해당 경로의 파일 이름을 리스트로 반환\n",
    "glob.glob(os.path.join(path, '*.txt'))"
   ]
  },
  {
   "cell_type": "code",
   "execution_count": 6,
   "id": "57ca50d8",
   "metadata": {},
   "outputs": [
    {
     "name": "stdout",
     "output_type": "stream",
     "text": [
      "1번째 줄입니다.\n",
      "\n",
      "2번째 줄입니다.\n",
      "\n",
      "3번째 줄입니다.\n",
      "4번째 줄입니다.\n",
      "\n",
      "5번째 줄입니다.\n",
      "\n",
      "6번째 줄입니다.\n",
      "7번째 줄입니다.\n",
      "\n",
      "8번째 줄입니다.\n",
      "\n",
      "9번째 줄입니다.\n",
      "10번째 줄입니다.\n",
      "\n",
      "11번째 줄입니다.\n",
      "\n",
      "12번째 줄입니다.\n",
      "13번째 줄입니다.\n",
      "\n",
      "14번째 줄입니다.\n",
      "\n",
      "15번째 줄입니다.\n"
     ]
    }
   ],
   "source": [
    "with fileinput.input(glob.glob(os.path.join(path, '*.txt'))) as f:\n",
    "    for line in f:\n",
    "        print(line)\n",
    "\n",
    "# 1번째 줄입니다.\n",
    "\n",
    "# 2번째 줄입니다.\n",
    "\n",
    "# 3번째 줄입니다.\n",
    "# 4번째 줄입니다.\n",
    "\n",
    "# 5번째 줄입니다.\n",
    "\n",
    "# 6번째 줄입니다.\n",
    "# 7번째 줄입니다.\n",
    "\n",
    "# 8번째 줄입니다.\n",
    "\n",
    "# 9번째 줄입니다.\n",
    "# 10번째 줄입니다.\n",
    "\n",
    "# 11번째 줄입니다.\n",
    "\n",
    "# 12번째 줄입니다.\n",
    "# 13번째 줄입니다.\n",
    "\n",
    "# 14번째 줄입니다.\n",
    "\n",
    "# 15번째 줄입니다."
   ]
  },
  {
   "cell_type": "code",
   "execution_count": 7,
   "id": "40af1ad6",
   "metadata": {},
   "outputs": [],
   "source": [
    "txt_files = glob.glob(os.path.join(path, '*.txt'))"
   ]
  },
  {
   "cell_type": "code",
   "execution_count": 8,
   "id": "ddd7da06",
   "metadata": {},
   "outputs": [],
   "source": [
    "with fileinput.input(txt_files, inplace=True) as f:\n",
    "    for line in f:\n",
    "        if f.isfirstline(): # 첫번째 라인인지 확인하는 함수(Bool)\n",
    "            print('첫번째 라인입니다.', end='\\n')\n",
    "        else:\n",
    "            print(line, end='')"
   ]
  },
  {
   "cell_type": "code",
   "execution_count": 9,
   "id": "ea7306ca",
   "metadata": {},
   "outputs": [],
   "source": [
    "# 검색된 라인 변경하기\n",
    "with fileinput.input(txt_files, inplace=True) as f:\n",
    "    for line in f:\n",
    "        if line == '첫번째 라인입니다.\\n':\n",
    "            print('1번째 라인입니다.',end='\\n')\n",
    "        else:\n",
    "            print(line, end='')"
   ]
  },
  {
   "cell_type": "code",
   "execution_count": 10,
   "id": "26e5efd8",
   "metadata": {},
   "outputs": [],
   "source": [
    "# 키워드 포함 라인 변경하기\n",
    "with fileinput.input(txt_files, inplace=True) as f:\n",
    "    for line in f:\n",
    "        if '1번째' in line:\n",
    "            print('첫번째 줄입니다.',end='\\n')\n",
    "        else:\n",
    "            print(line, end='')"
   ]
  },
  {
   "cell_type": "code",
   "execution_count": 11,
   "id": "a4116a8a",
   "metadata": {},
   "outputs": [],
   "source": [
    "# 텍스트 치환하기\n",
    "with fileinput.input(txt_files, inplace=True) as f:\n",
    "    for line in f:\n",
    "        if '12번째' in line:\n",
    "            print('첫번째 줄입니다.',end='')\n",
    "        else:\n",
    "            print(line, end='')"
   ]
  },
  {
   "cell_type": "markdown",
   "id": "ff4953f4",
   "metadata": {},
   "source": [
    "### 1-2. pickle\n",
    "* 파이썬에서 사용하는 딕셔너리, 리스트, 클래스 등의 자료형을 변환없이 그대로 파일로 저장하고 불러올 때 사용하는 모듈"
   ]
  },
  {
   "cell_type": "code",
   "execution_count": 12,
   "id": "6d68d2bd",
   "metadata": {},
   "outputs": [],
   "source": [
    "import pickle"
   ]
  },
  {
   "cell_type": "code",
   "execution_count": 13,
   "id": "bca3df21",
   "metadata": {},
   "outputs": [],
   "source": [
    "data = ['apple', 'banana', 'orange']"
   ]
  },
  {
   "cell_type": "code",
   "execution_count": 14,
   "id": "8a3fbaf8",
   "metadata": {},
   "outputs": [],
   "source": [
    "# 파일 저장\n",
    "with open('list.pkl', 'wb') as f:\n",
    "    pickle.dump(data, f)"
   ]
  },
  {
   "cell_type": "code",
   "execution_count": 15,
   "id": "a4d7a8ba",
   "metadata": {},
   "outputs": [],
   "source": [
    "# 파일 읽기\n",
    "with open('list.pkl', 'rb') as f:\n",
    "    data = pickle.load(f)"
   ]
  },
  {
   "cell_type": "code",
   "execution_count": 16,
   "id": "20a6861b",
   "metadata": {},
   "outputs": [
    {
     "data": {
      "text/plain": [
       "list"
      ]
     },
     "execution_count": 16,
     "metadata": {},
     "output_type": "execute_result"
    }
   ],
   "source": [
    "type(data) # list"
   ]
  },
  {
   "cell_type": "code",
   "execution_count": 17,
   "id": "f9c5cdec",
   "metadata": {},
   "outputs": [
    {
     "name": "stdout",
     "output_type": "stream",
     "text": [
      "['apple', 'banana', 'orange']\n"
     ]
    }
   ],
   "source": [
    "print(data) # ['apple', 'banana', 'orange']"
   ]
  },
  {
   "cell_type": "code",
   "execution_count": 18,
   "id": "6554852d",
   "metadata": {},
   "outputs": [],
   "source": [
    "# 딕셔너리 저장\n",
    "data = {}\n",
    "data[1] = {'id':1, 'userid':'apple', 'name':'김사과','gender':'여자', 'age':20}"
   ]
  },
  {
   "cell_type": "code",
   "execution_count": 19,
   "id": "1c0d5f9e",
   "metadata": {},
   "outputs": [],
   "source": [
    "with open('dict.pkl', 'wb') as f:\n",
    "    pickle.dump(data, f)"
   ]
  },
  {
   "cell_type": "code",
   "execution_count": 21,
   "id": "6e56d4c6",
   "metadata": {},
   "outputs": [],
   "source": [
    "with open('dict.pkl', 'rb') as f:\n",
    "    data = pickle.load(f)"
   ]
  },
  {
   "cell_type": "code",
   "execution_count": 22,
   "id": "9dc1f548",
   "metadata": {},
   "outputs": [
    {
     "data": {
      "text/plain": [
       "dict"
      ]
     },
     "execution_count": 22,
     "metadata": {},
     "output_type": "execute_result"
    }
   ],
   "source": [
    "type(data) # dict"
   ]
  },
  {
   "cell_type": "code",
   "execution_count": 23,
   "id": "c962648f",
   "metadata": {},
   "outputs": [
    {
     "name": "stdout",
     "output_type": "stream",
     "text": [
      "{1: {'id': 1, 'userid': 'apple', 'name': '김사과', 'gender': '여자', 'age': 20}}\n"
     ]
    }
   ],
   "source": [
    "print(data) # {1: {'id': 1, 'userid': 'apple', 'name': '김사과', 'gender': '여자', 'age': 20}}"
   ]
  },
  {
   "cell_type": "markdown",
   "id": "8da92f0f",
   "metadata": {},
   "source": [
    "# 2. 파일 찾기, 복사, 이동하기"
   ]
  },
  {
   "cell_type": "markdown",
   "id": "39ce8666",
   "metadata": {},
   "source": [
    "### 2-1. 파일 확장자로 찾기"
   ]
  },
  {
   "cell_type": "code",
   "execution_count": 24,
   "id": "6cf00615",
   "metadata": {},
   "outputs": [
    {
     "data": {
      "text/plain": [
       "'C:\\\\Users\\\\Administrator\\\\Desktop\\\\KDT\\\\jhwannabe\\\\python\\\\Day08\\\\jupyter'"
      ]
     },
     "execution_count": 24,
     "metadata": {},
     "output_type": "execute_result"
    }
   ],
   "source": [
    "os.getcwd()"
   ]
  },
  {
   "cell_type": "code",
   "execution_count": 25,
   "id": "712f7dcf",
   "metadata": {},
   "outputs": [
    {
     "name": "stdout",
     "output_type": "stream",
     "text": [
      "Jupyter Notebook Installation.txt\n",
      "점심시간.txt\n"
     ]
    }
   ],
   "source": [
    "for filename in glob.glob('*.txt'):\n",
    "    print(filename)"
   ]
  },
  {
   "cell_type": "code",
   "execution_count": 26,
   "id": "ae29c57b",
   "metadata": {},
   "outputs": [
    {
     "name": "stdout",
     "output_type": "stream",
     "text": [
      "project\\프로젝트 개요.txt\n",
      "sample\\새파일1.txt\n",
      "sample\\새파일2.txt\n",
      "sample\\새파일3.txt\n",
      "sample\\새파일4.txt\n",
      "sample\\새파일5.txt\n"
     ]
    }
   ],
   "source": [
    "# txt 파일 찾기: 하위 경로\n",
    "for filename in glob.glob('**/*.txt'):\n",
    "    print(filename)\n",
    "    \n",
    "# sample\\새파일1.txt\n",
    "# sample\\새파일2.txt\n",
    "# sample\\새파일3.txt\n",
    "# sample\\새파일4.txt\n",
    "# sample\\새파일5.txt"
   ]
  },
  {
   "cell_type": "code",
   "execution_count": 27,
   "id": "6ac7d00e",
   "metadata": {},
   "outputs": [
    {
     "name": "stdout",
     "output_type": "stream",
     "text": [
      "Jupyter Notebook Installation.txt\n",
      "점심시간.txt\n",
      "project\\프로젝트 개요.txt\n",
      "sample\\새파일1.txt\n",
      "sample\\새파일2.txt\n",
      "sample\\새파일3.txt\n",
      "sample\\새파일4.txt\n",
      "sample\\새파일5.txt\n"
     ]
    }
   ],
   "source": [
    "# txt 파일 찾기: 현재와 하위 경로 모두 포함\n",
    "for filename in glob.glob('**/*.txt', recursive=True):\n",
    "    print(filename)\n",
    "    \n",
    "# Jupyter Notebook Installation.txt\n",
    "# sample\\새파일1.txt\n",
    "# sample\\새파일2.txt\n",
    "# sample\\새파일3.txt\n",
    "# sample\\새파일4.txt\n",
    "# sample\\새파일5.txt"
   ]
  },
  {
   "cell_type": "code",
   "execution_count": 28,
   "id": "4091d3b9",
   "metadata": {},
   "outputs": [
    {
     "name": "stdout",
     "output_type": "stream",
     "text": [
      "dict.pkl\n",
      "list.pkl\n",
      "점심시간.txt\n"
     ]
    }
   ],
   "source": [
    "# 파일명 글자수로 찾기\n",
    "for filename in glob.glob('????.*', recursive=True): # 글자수 4개\n",
    "    print(filename)"
   ]
  },
  {
   "cell_type": "code",
   "execution_count": 29,
   "id": "7ba9d6a7",
   "metadata": {},
   "outputs": [
    {
     "name": "stdout",
     "output_type": "stream",
     "text": [
      "dict.pkl\n",
      "list.pkl\n"
     ]
    }
   ],
   "source": [
    "# 문자열 패턴 포함 파일명 찾기\n",
    "for filename in glob.glob('[a-z][a-z][a-z][a-z].*', recursive=True): # 알파벳 글자수 4개\n",
    "    print(filename)"
   ]
  },
  {
   "cell_type": "code",
   "execution_count": 30,
   "id": "41967cff",
   "metadata": {},
   "outputs": [
    {
     "name": "stdout",
     "output_type": "stream",
     "text": [
      "sample\\새파일1.txt\n",
      "sample\\새파일2.txt\n",
      "sample\\새파일3.txt\n",
      "sample\\새파일4.txt\n",
      "sample\\새파일5.txt\n"
     ]
    }
   ],
   "source": [
    "for filename in glob.glob('**/새파일*.*'):\n",
    "    print(filename)"
   ]
  },
  {
   "cell_type": "code",
   "execution_count": 31,
   "id": "272b5629",
   "metadata": {},
   "outputs": [
    {
     "name": "stdout",
     "output_type": "stream",
     "text": [
      "project\\25_프로젝트.ipynb\n",
      "project\\프로젝트 개요.txt\n"
     ]
    }
   ],
   "source": [
    "for filename in glob.glob('**/*프로젝트*.*'):\n",
    "    print(filename)"
   ]
  },
  {
   "cell_type": "markdown",
   "id": "6c0b8be5",
   "metadata": {},
   "source": [
    "### 2-2. fnmatch\n",
    "* glob과 동일하게 특정한 패턴을 따르는 파일명을 찾아주는 모듈\n",
    "* 파일명 매칭 여부를 True, False 형태로 반환하기 때문에 os.listdir() 함수와 함께 사용"
   ]
  },
  {
   "cell_type": "code",
   "execution_count": 41,
   "id": "e59d431e",
   "metadata": {},
   "outputs": [],
   "source": [
    "import fnmatch"
   ]
  },
  {
   "cell_type": "code",
   "execution_count": 42,
   "id": "d247a165",
   "metadata": {},
   "outputs": [
    {
     "name": "stdout",
     "output_type": "stream",
     "text": [
      "새파일1.txt\n",
      "새파일2.txt\n",
      "새파일3.txt\n",
      "새파일4.txt\n",
      "새파일5.txt\n"
     ]
    }
   ],
   "source": [
    "# 파일명은 '새' 시작하고 확장명은 .txt를 검색\n",
    "# 확장자를 제외한 파일명의 길이는 4개이며, 파일명의 마지막 문자는 숫자임\n",
    "for filename in os.listdir('./sample'):\n",
    "    if fnmatch.fnmatch(filename,'새??[0-9].txt'):\n",
    "        print(filename)"
   ]
  },
  {
   "cell_type": "markdown",
   "id": "bfcd36e2",
   "metadata": {},
   "source": [
    "### 2-3. shutil\n",
    "* 파일을 복사하거나 이동할 때 사용하는 내장 모듈"
   ]
  },
  {
   "cell_type": "code",
   "execution_count": 43,
   "id": "e6efc063",
   "metadata": {},
   "outputs": [],
   "source": [
    "import shutil"
   ]
  },
  {
   "cell_type": "code",
   "execution_count": 44,
   "id": "72c38f47",
   "metadata": {},
   "outputs": [
    {
     "data": {
      "text/plain": [
       "'./sample/새파일1_복사본.txt'"
      ]
     },
     "execution_count": 44,
     "metadata": {},
     "output_type": "execute_result"
    }
   ],
   "source": [
    "# 파일 복사하기\n",
    "shutil.copy('./sample/새파일1.txt', './sample/새파일1_복사본.txt')"
   ]
  },
  {
   "cell_type": "code",
   "execution_count": 45,
   "id": "c23920bc",
   "metadata": {},
   "outputs": [
    {
     "data": {
      "text/plain": [
       "'./새파일1_복사본.txt'"
      ]
     },
     "execution_count": 45,
     "metadata": {},
     "output_type": "execute_result"
    }
   ],
   "source": [
    "# 파일 이동하기\n",
    "shutil.move('./sample/새파일1_복사본.txt', './새파일1_복사본.txt')"
   ]
  },
  {
   "cell_type": "code",
   "execution_count": 46,
   "id": "c4dd8e08",
   "metadata": {},
   "outputs": [
    {
     "data": {
      "text/plain": [
       "'./새파일1_복사본.py'"
      ]
     },
     "execution_count": 46,
     "metadata": {},
     "output_type": "execute_result"
    }
   ],
   "source": [
    "# 파일 확장명 바꾸기\n",
    "shutil.move('./새파일1_복사본.txt', './새파일1_복사본.py')"
   ]
  },
  {
   "cell_type": "code",
   "execution_count": 47,
   "id": "49fc948d",
   "metadata": {},
   "outputs": [
    {
     "data": {
      "text/plain": [
       "'./새파일1_복사본.txt'"
      ]
     },
     "execution_count": 47,
     "metadata": {},
     "output_type": "execute_result"
    }
   ],
   "source": [
    "# 파일 확장명 바꾸기\n",
    "shutil.move('./새파일1_복사본.py', './새파일1_복사본.txt')"
   ]
  },
  {
   "cell_type": "markdown",
   "id": "7f6b0e83",
   "metadata": {},
   "source": [
    "# 3. 파일 압축하기"
   ]
  },
  {
   "cell_type": "markdown",
   "id": "c752bd7a",
   "metadata": {},
   "source": [
    "### 3-1. 데이터 압축\n",
    "* 대용량 데이터 및 대량의 파일을 전송 시, 전송 속도가 느리며 전송 문제가 발생할 가능성이 매우 높음\n",
    "* 데이터 압축의 종류\n",
    "    * 손실 압축: 사람이 눈치재지 못할 수준의 정보만 버리고 압축하는 방법\n",
    "    * 무손실 압축: 데이터 손실이 전혀 없는 압축\n",
    "* 압축률: 압축된 자료량(압축된 데이터 크기) / 원시 자료량(원래 데이터 크기)\n",
    "* 다양한 압축 알고리즘에 따라 압축 성능 및 시간이 좌우됨\n",
    "* 압축 - 인코딩(Encoding) / 압축 해제 - 디코딩(Decoding)"
   ]
  },
  {
   "cell_type": "markdown",
   "id": "1bf25269",
   "metadata": {},
   "source": [
    "### 3-2. zlib\n",
    "* 데이터를 압축하거나 해제할 때 사용하는 모듈\n",
    "* compress()와 decompres()로 문자열을 압축하거나 해제\n",
    "* 데이터 크기를 줄여서 전송이 필요한 경우 사용"
   ]
  },
  {
   "cell_type": "code",
   "execution_count": 51,
   "id": "6d24de69",
   "metadata": {},
   "outputs": [],
   "source": [
    "import zlib"
   ]
  },
  {
   "cell_type": "code",
   "execution_count": 60,
   "id": "c8097416",
   "metadata": {},
   "outputs": [
    {
     "data": {
      "text/plain": [
       "'Hello Python!Hello Python!Hello Python!Hello Python!Hello Python!Hello Python!Hello Python!Hello Python!Hello Python!Hello Python!Hello Python!Hello Python!Hello Python!Hello Python!Hello Python!Hello Python!Hello Python!Hello Python!Hello Python!Hello Python!Hello Python!Hello Python!Hello Python!Hello Python!Hello Python!Hello Python!Hello Python!Hello Python!Hello Python!Hello Python!Hello Python!Hello Python!Hello Python!Hello Python!Hello Python!Hello Python!Hello Python!Hello Python!Hello Python!Hello Python!Hello Python!Hello Python!Hello Python!Hello Python!Hello Python!Hello Python!Hello Python!Hello Python!Hello Python!Hello Python!Hello Python!Hello Python!Hello Python!Hello Python!Hello Python!Hello Python!Hello Python!Hello Python!Hello Python!Hello Python!Hello Python!Hello Python!Hello Python!Hello Python!Hello Python!Hello Python!Hello Python!Hello Python!Hello Python!Hello Python!Hello Python!Hello Python!Hello Python!Hello Python!Hello Python!Hello Python!Hello Python!Hello Python!Hello Python!Hello Python!Hello Python!Hello Python!Hello Python!Hello Python!Hello Python!Hello Python!Hello Python!Hello Python!Hello Python!Hello Python!Hello Python!Hello Python!Hello Python!Hello Python!Hello Python!Hello Python!Hello Python!Hello Python!Hello Python!Hello Python!Hello Python!Hello Python!Hello Python!Hello Python!Hello Python!Hello Python!Hello Python!Hello Python!Hello Python!Hello Python!Hello Python!Hello Python!Hello Python!Hello Python!Hello Python!Hello Python!Hello Python!Hello Python!Hello Python!Hello Python!Hello Python!Hello Python!Hello Python!Hello Python!Hello Python!Hello Python!Hello Python!Hello Python!Hello Python!Hello Python!Hello Python!Hello Python!Hello Python!Hello Python!Hello Python!Hello Python!Hello Python!Hello Python!Hello Python!Hello Python!Hello Python!Hello Python!Hello Python!Hello Python!Hello Python!Hello Python!Hello Python!Hello Python!Hello Python!Hello Python!Hello Python!Hello Python!Hello Python!Hello Python!Hello Python!Hello Python!Hello Python!Hello Python!Hello Python!Hello Python!Hello Python!Hello Python!Hello Python!Hello Python!Hello Python!Hello Python!Hello Python!Hello Python!Hello Python!Hello Python!Hello Python!Hello Python!Hello Python!Hello Python!Hello Python!Hello Python!Hello Python!Hello Python!Hello Python!Hello Python!Hello Python!Hello Python!Hello Python!Hello Python!Hello Python!Hello Python!Hello Python!Hello Python!Hello Python!Hello Python!Hello Python!Hello Python!Hello Python!Hello Python!Hello Python!Hello Python!Hello Python!Hello Python!Hello Python!Hello Python!Hello Python!Hello Python!Hello Python!Hello Python!Hello Python!Hello Python!Hello Python!Hello Python!Hello Python!Hello Python!Hello Python!Hello Python!Hello Python!Hello Python!Hello Python!Hello Python!Hello Python!Hello Python!Hello Python!Hello Python!Hello Python!Hello Python!Hello Python!Hello Python!Hello Python!Hello Python!Hello Python!Hello Python!Hello Python!Hello Python!Hello Python!Hello Python!Hello Python!Hello Python!Hello Python!Hello Python!Hello Python!Hello Python!Hello Python!Hello Python!Hello Python!Hello Python!Hello Python!Hello Python!Hello Python!Hello Python!Hello Python!Hello Python!Hello Python!Hello Python!Hello Python!Hello Python!Hello Python!Hello Python!Hello Python!Hello Python!Hello Python!Hello Python!Hello Python!Hello Python!Hello Python!Hello Python!Hello Python!Hello Python!Hello Python!Hello Python!Hello Python!Hello Python!Hello Python!Hello Python!Hello Python!Hello Python!Hello Python!Hello Python!Hello Python!Hello Python!Hello Python!Hello Python!Hello Python!Hello Python!Hello Python!Hello Python!Hello Python!Hello Python!Hello Python!Hello Python!Hello Python!Hello Python!Hello Python!Hello Python!Hello Python!Hello Python!Hello Python!Hello Python!Hello Python!Hello Python!Hello Python!Hello Python!Hello Python!Hello Python!Hello Python!Hello Python!Hello Python!Hello Python!Hello Python!Hello Python!Hello Python!Hello Python!Hello Python!Hello Python!Hello Python!Hello Python!Hello Python!Hello Python!Hello Python!Hello Python!Hello Python!Hello Python!Hello Python!Hello Python!Hello Python!Hello Python!Hello Python!Hello Python!Hello Python!Hello Python!Hello Python!Hello Python!Hello Python!Hello Python!Hello Python!Hello Python!Hello Python!Hello Python!Hello Python!Hello Python!Hello Python!Hello Python!Hello Python!Hello Python!Hello Python!Hello Python!Hello Python!Hello Python!Hello Python!Hello Python!Hello Python!Hello Python!Hello Python!Hello Python!Hello Python!Hello Python!Hello Python!Hello Python!Hello Python!Hello Python!Hello Python!Hello Python!Hello Python!Hello Python!Hello Python!Hello Python!Hello Python!Hello Python!Hello Python!Hello Python!Hello Python!Hello Python!Hello Python!Hello Python!Hello Python!Hello Python!Hello Python!Hello Python!Hello Python!Hello Python!Hello Python!Hello Python!Hello Python!Hello Python!Hello Python!Hello Python!Hello Python!Hello Python!Hello Python!Hello Python!Hello Python!Hello Python!Hello Python!Hello Python!Hello Python!Hello Python!Hello Python!Hello Python!Hello Python!Hello Python!Hello Python!Hello Python!Hello Python!Hello Python!Hello Python!Hello Python!Hello Python!Hello Python!Hello Python!Hello Python!Hello Python!Hello Python!Hello Python!Hello Python!Hello Python!Hello Python!Hello Python!Hello Python!Hello Python!Hello Python!Hello Python!Hello Python!Hello Python!Hello Python!Hello Python!Hello Python!Hello Python!Hello Python!Hello Python!Hello Python!Hello Python!Hello Python!Hello Python!Hello Python!Hello Python!Hello Python!Hello Python!Hello Python!Hello Python!Hello Python!Hello Python!Hello Python!Hello Python!Hello Python!Hello Python!Hello Python!Hello Python!Hello Python!Hello Python!Hello Python!Hello Python!Hello Python!Hello Python!Hello Python!Hello Python!Hello Python!Hello Python!Hello Python!Hello Python!Hello Python!Hello Python!Hello Python!Hello Python!Hello Python!Hello Python!Hello Python!Hello Python!Hello Python!Hello Python!Hello Python!Hello Python!Hello Python!Hello Python!Hello Python!Hello Python!Hello Python!Hello Python!Hello Python!Hello Python!Hello Python!Hello Python!Hello Python!Hello Python!Hello Python!Hello Python!Hello Python!Hello Python!Hello Python!Hello Python!Hello Python!Hello Python!Hello Python!Hello Python!Hello Python!Hello Python!Hello Python!Hello Python!Hello Python!Hello Python!Hello Python!Hello Python!Hello Python!Hello Python!Hello Python!Hello Python!Hello Python!Hello Python!Hello Python!Hello Python!Hello Python!Hello Python!Hello Python!Hello Python!Hello Python!Hello Python!Hello Python!Hello Python!Hello Python!Hello Python!Hello Python!Hello Python!Hello Python!Hello Python!Hello Python!Hello Python!Hello Python!Hello Python!Hello Python!Hello Python!Hello Python!Hello Python!Hello Python!Hello Python!Hello Python!Hello Python!Hello Python!Hello Python!Hello Python!Hello Python!Hello Python!Hello Python!Hello Python!Hello Python!Hello Python!Hello Python!Hello Python!Hello Python!Hello Python!Hello Python!Hello Python!Hello Python!Hello Python!Hello Python!Hello Python!Hello Python!Hello Python!Hello Python!Hello Python!Hello Python!Hello Python!Hello Python!Hello Python!Hello Python!Hello Python!Hello Python!Hello Python!Hello Python!Hello Python!Hello Python!Hello Python!Hello Python!Hello Python!Hello Python!Hello Python!Hello Python!Hello Python!Hello Python!Hello Python!Hello Python!Hello Python!Hello Python!Hello Python!Hello Python!Hello Python!Hello Python!Hello Python!Hello Python!Hello Python!Hello Python!Hello Python!Hello Python!Hello Python!Hello Python!Hello Python!Hello Python!Hello Python!Hello Python!Hello Python!Hello Python!Hello Python!Hello Python!Hello Python!Hello Python!Hello Python!Hello Python!Hello Python!Hello Python!Hello Python!Hello Python!Hello Python!Hello Python!Hello Python!Hello Python!Hello Python!Hello Python!Hello Python!Hello Python!Hello Python!Hello Python!Hello Python!Hello Python!Hello Python!Hello Python!Hello Python!Hello Python!Hello Python!Hello Python!Hello Python!Hello Python!Hello Python!Hello Python!Hello Python!Hello Python!Hello Python!Hello Python!Hello Python!Hello Python!Hello Python!Hello Python!Hello Python!Hello Python!Hello Python!Hello Python!Hello Python!Hello Python!Hello Python!Hello Python!Hello Python!Hello Python!Hello Python!Hello Python!Hello Python!Hello Python!Hello Python!Hello Python!Hello Python!Hello Python!Hello Python!Hello Python!Hello Python!Hello Python!Hello Python!Hello Python!Hello Python!Hello Python!Hello Python!Hello Python!Hello Python!Hello Python!Hello Python!Hello Python!Hello Python!Hello Python!Hello Python!Hello Python!Hello Python!Hello Python!Hello Python!Hello Python!Hello Python!Hello Python!Hello Python!Hello Python!Hello Python!Hello Python!Hello Python!Hello Python!Hello Python!Hello Python!Hello Python!Hello Python!Hello Python!Hello Python!Hello Python!Hello Python!Hello Python!Hello Python!Hello Python!Hello Python!Hello Python!Hello Python!Hello Python!Hello Python!Hello Python!Hello Python!Hello Python!Hello Python!Hello Python!Hello Python!Hello Python!Hello Python!Hello Python!Hello Python!Hello Python!Hello Python!Hello Python!Hello Python!Hello Python!Hello Python!Hello Python!Hello Python!Hello Python!Hello Python!Hello Python!Hello Python!Hello Python!Hello Python!Hello Python!Hello Python!Hello Python!Hello Python!Hello Python!Hello Python!Hello Python!Hello Python!Hello Python!Hello Python!Hello Python!Hello Python!Hello Python!Hello Python!Hello Python!Hello Python!Hello Python!Hello Python!Hello Python!Hello Python!Hello Python!Hello Python!Hello Python!Hello Python!Hello Python!Hello Python!Hello Python!Hello Python!Hello Python!Hello Python!Hello Python!Hello Python!Hello Python!Hello Python!Hello Python!Hello Python!Hello Python!Hello Python!Hello Python!Hello Python!Hello Python!Hello Python!Hello Python!Hello Python!Hello Python!Hello Python!Hello Python!Hello Python!Hello Python!Hello Python!Hello Python!Hello Python!Hello Python!Hello Python!Hello Python!Hello Python!Hello Python!Hello Python!Hello Python!Hello Python!Hello Python!Hello Python!Hello Python!Hello Python!Hello Python!Hello Python!Hello Python!Hello Python!Hello Python!Hello Python!Hello Python!Hello Python!Hello Python!Hello Python!Hello Python!Hello Python!Hello Python!Hello Python!Hello Python!Hello Python!Hello Python!Hello Python!Hello Python!Hello Python!Hello Python!Hello Python!Hello Python!Hello Python!Hello Python!Hello Python!Hello Python!Hello Python!Hello Python!Hello Python!Hello Python!Hello Python!Hello Python!Hello Python!Hello Python!Hello Python!Hello Python!Hello Python!Hello Python!Hello Python!Hello Python!Hello Python!Hello Python!Hello Python!Hello Python!Hello Python!Hello Python!Hello Python!Hello Python!Hello Python!Hello Python!Hello Python!Hello Python!Hello Python!Hello Python!Hello Python!Hello Python!Hello Python!Hello Python!Hello Python!Hello Python!Hello Python!Hello Python!Hello Python!Hello Python!Hello Python!Hello Python!Hello Python!Hello Python!Hello Python!Hello Python!Hello Python!Hello Python!Hello Python!Hello Python!Hello Python!Hello Python!Hello Python!Hello Python!Hello Python!Hello Python!Hello Python!Hello Python!Hello Python!Hello Python!Hello Python!Hello Python!Hello Python!Hello Python!Hello Python!Hello Python!Hello Python!Hello Python!Hello Python!Hello Python!Hello Python!Hello Python!Hello Python!Hello Python!Hello Python!Hello Python!Hello Python!Hello Python!Hello Python!Hello Python!Hello Python!Hello Python!Hello Python!Hello Python!Hello Python!Hello Python!Hello Python!Hello Python!Hello Python!Hello Python!Hello Python!Hello Python!Hello Python!Hello Python!Hello Python!Hello Python!Hello Python!Hello Python!Hello Python!Hello Python!Hello Python!Hello Python!Hello Python!Hello Python!Hello Python!Hello Python!Hello Python!Hello Python!Hello Python!Hello Python!Hello Python!Hello Python!Hello Python!Hello Python!Hello Python!Hello Python!Hello Python!Hello Python!Hello Python!Hello Python!Hello Python!Hello Python!Hello Python!Hello Python!Hello Python!Hello Python!Hello Python!Hello Python!Hello Python!Hello Python!Hello Python!Hello Python!Hello Python!Hello Python!Hello Python!Hello Python!Hello Python!Hello Python!Hello Python!Hello Python!Hello Python!Hello Python!Hello Python!Hello Python!Hello Python!Hello Python!Hello Python!Hello Python!Hello Python!Hello Python!Hello Python!Hello Python!Hello Python!Hello Python!Hello Python!Hello Python!Hello Python!Hello Python!Hello Python!Hello Python!Hello Python!Hello Python!Hello Python!Hello Python!Hello Python!Hello Python!Hello Python!Hello Python!Hello Python!Hello Python!Hello Python!Hello Python!Hello Python!Hello Python!Hello Python!Hello Python!Hello Python!Hello Python!Hello Python!Hello Python!Hello Python!Hello Python!Hello Python!Hello Python!Hello Python!Hello Python!Hello Python!Hello Python!Hello Python!Hello Python!Hello Python!Hello Python!Hello Python!Hello Python!Hello Python!Hello Python!Hello Python!Hello Python!Hello Python!Hello Python!Hello Python!Hello Python!Hello Python!Hello Python!Hello Python!Hello Python!Hello Python!Hello Python!Hello Python!Hello Python!Hello Python!Hello Python!Hello Python!Hello Python!Hello Python!Hello Python!Hello Python!Hello Python!Hello Python!Hello Python!Hello Python!Hello Python!Hello Python!Hello Python!Hello Python!Hello Python!Hello Python!Hello Python!Hello Python!Hello Python!Hello Python!Hello Python!Hello Python!Hello Python!Hello Python!Hello Python!Hello Python!Hello Python!Hello Python!Hello Python!Hello Python!Hello Python!Hello Python!Hello Python!Hello Python!Hello Python!Hello Python!Hello Python!Hello Python!Hello Python!Hello Python!Hello Python!Hello Python!Hello Python!Hello Python!Hello Python!Hello Python!Hello Python!Hello Python!Hello Python!Hello Python!Hello Python!Hello Python!Hello Python!Hello Python!Hello Python!Hello Python!Hello Python!Hello Python!Hello Python!Hello Python!Hello Python!Hello Python!Hello Python!Hello Python!Hello Python!Hello Python!Hello Python!Hello Python!Hello Python!Hello Python!Hello Python!Hello Python!Hello Python!Hello Python!Hello Python!Hello Python!Hello Python!Hello Python!Hello Python!Hello Python!Hello Python!Hello Python!Hello Python!Hello Python!Hello Python!Hello Python!Hello Python!Hello Python!Hello Python!Hello Python!Hello Python!Hello Python!Hello Python!Hello Python!Hello Python!Hello Python!Hello Python!Hello Python!Hello Python!Hello Python!Hello Python!Hello Python!Hello Python!Hello Python!Hello Python!Hello Python!Hello Python!Hello Python!Hello Python!Hello Python!Hello Python!Hello Python!Hello Python!Hello Python!Hello Python!Hello Python!Hello Python!Hello Python!Hello Python!Hello Python!Hello Python!Hello Python!Hello Python!Hello Python!Hello Python!Hello Python!Hello Python!Hello Python!Hello Python!Hello Python!Hello Python!Hello Python!Hello Python!Hello Python!Hello Python!Hello Python!Hello Python!Hello Python!Hello Python!Hello Python!Hello Python!Hello Python!Hello Python!Hello Python!Hello Python!Hello Python!Hello Python!Hello Python!Hello Python!Hello Python!Hello Python!Hello Python!Hello Python!Hello Python!Hello Python!Hello Python!Hello Python!Hello Python!Hello Python!Hello Python!Hello Python!Hello Python!Hello Python!Hello Python!Hello Python!Hello Python!Hello Python!Hello Python!Hello Python!Hello Python!Hello Python!Hello Python!Hello Python!Hello Python!Hello Python!Hello Python!Hello Python!Hello Python!Hello Python!Hello Python!Hello Python!Hello Python!Hello Python!Hello Python!Hello Python!Hello Python!Hello Python!Hello Python!Hello Python!Hello Python!Hello Python!Hello Python!Hello Python!Hello Python!Hello Python!Hello Python!Hello Python!Hello Python!Hello Python!Hello Python!Hello Python!Hello Python!Hello Python!Hello Python!Hello Python!Hello Python!Hello Python!Hello Python!Hello Python!Hello Python!Hello Python!Hello Python!Hello Python!Hello Python!Hello Python!Hello Python!Hello Python!Hello Python!Hello Python!Hello Python!Hello Python!Hello Python!Hello Python!Hello Python!Hello Python!Hello Python!Hello Python!Hello Python!Hello Python!Hello Python!Hello Python!Hello Python!Hello Python!Hello Python!Hello Python!Hello Python!Hello Python!Hello Python!Hello Python!Hello Python!Hello Python!Hello Python!Hello Python!Hello Python!Hello Python!Hello Python!Hello Python!Hello Python!Hello Python!Hello Python!Hello Python!Hello Python!Hello Python!Hello Python!Hello Python!Hello Python!Hello Python!Hello Python!Hello Python!Hello Python!Hello Python!Hello Python!Hello Python!Hello Python!Hello Python!Hello Python!Hello Python!Hello Python!Hello Python!Hello Python!Hello Python!Hello Python!Hello Python!Hello Python!Hello Python!Hello Python!Hello Python!Hello Python!Hello Python!Hello Python!Hello Python!Hello Python!Hello Python!Hello Python!Hello Python!Hello Python!Hello Python!Hello Python!Hello Python!Hello Python!Hello Python!Hello Python!Hello Python!Hello Python!Hello Python!Hello Python!Hello Python!Hello Python!Hello Python!Hello Python!Hello Python!Hello Python!Hello Python!Hello Python!Hello Python!Hello Python!Hello Python!Hello Python!Hello Python!Hello Python!Hello Python!Hello Python!Hello Python!Hello Python!Hello Python!Hello Python!Hello Python!Hello Python!Hello Python!Hello Python!Hello Python!Hello Python!Hello Python!Hello Python!Hello Python!Hello Python!Hello Python!Hello Python!Hello Python!Hello Python!Hello Python!Hello Python!Hello Python!Hello Python!Hello Python!Hello Python!Hello Python!Hello Python!Hello Python!Hello Python!Hello Python!Hello Python!Hello Python!Hello Python!Hello Python!Hello Python!Hello Python!Hello Python!Hello Python!Hello Python!Hello Python!Hello Python!Hello Python!Hello Python!Hello Python!Hello Python!Hello Python!Hello Python!Hello Python!Hello Python!Hello Python!Hello Python!Hello Python!Hello Python!Hello Python!Hello Python!Hello Python!Hello Python!Hello Python!Hello Python!Hello Python!Hello Python!Hello Python!Hello Python!Hello Python!Hello Python!Hello Python!Hello Python!Hello Python!Hello Python!Hello Python!Hello Python!Hello Python!Hello Python!Hello Python!Hello Python!Hello Python!Hello Python!Hello Python!Hello Python!Hello Python!Hello Python!Hello Python!Hello Python!Hello Python!Hello Python!Hello Python!Hello Python!Hello Python!Hello Python!Hello Python!Hello Python!Hello Python!Hello Python!Hello Python!Hello Python!Hello Python!Hello Python!Hello Python!Hello Python!Hello Python!Hello Python!Hello Python!Hello Python!Hello Python!Hello Python!Hello Python!Hello Python!Hello Python!Hello Python!Hello Python!Hello Python!Hello Python!Hello Python!Hello Python!Hello Python!Hello Python!Hello Python!Hello Python!Hello Python!Hello Python!Hello Python!Hello Python!Hello Python!Hello Python!Hello Python!Hello Python!Hello Python!Hello Python!Hello Python!Hello Python!Hello Python!Hello Python!Hello Python!Hello Python!Hello Python!Hello Python!Hello Python!Hello Python!Hello Python!Hello Python!Hello Python!Hello Python!Hello Python!Hello Python!Hello Python!Hello Python!Hello Python!Hello Python!Hello Python!Hello Python!Hello Python!Hello Python!Hello Python!Hello Python!Hello Python!Hello Python!Hello Python!Hello Python!Hello Python!Hello Python!Hello Python!Hello Python!Hello Python!Hello Python!Hello Python!Hello Python!Hello Python!Hello Python!Hello Python!Hello Python!Hello Python!Hello Python!Hello Python!Hello Python!Hello Python!Hello Python!Hello Python!Hello Python!Hello Python!Hello Python!Hello Python!Hello Python!Hello Python!Hello Python!Hello Python!Hello Python!Hello Python!Hello Python!Hello Python!Hello Python!Hello Python!Hello Python!Hello Python!Hello Python!Hello Python!Hello Python!Hello Python!Hello Python!Hello Python!Hello Python!Hello Python!Hello Python!Hello Python!Hello Python!Hello Python!Hello Python!Hello Python!Hello Python!Hello Python!Hello Python!Hello Python!Hello Python!Hello Python!Hello Python!Hello Python!Hello Python!Hello Python!Hello Python!Hello Python!Hello Python!Hello Python!Hello Python!Hello Python!Hello Python!Hello Python!Hello Python!Hello Python!Hello Python!Hello Python!Hello Python!Hello Python!Hello Python!Hello Python!Hello Python!Hello Python!Hello Python!Hello Python!Hello Python!Hello Python!Hello Python!Hello Python!Hello Python!Hello Python!Hello Python!Hello Python!Hello Python!Hello Python!Hello Python!Hello Python!Hello Python!Hello Python!Hello Python!Hello Python!Hello Python!Hello Python!Hello Python!Hello Python!Hello Python!Hello Python!Hello Python!Hello Python!Hello Python!Hello Python!Hello Python!Hello Python!Hello Python!Hello Python!Hello Python!Hello Python!Hello Python!Hello Python!Hello Python!Hello Python!Hello Python!Hello Python!Hello Python!Hello Python!Hello Python!Hello Python!Hello Python!Hello Python!Hello Python!Hello Python!Hello Python!Hello Python!Hello Python!Hello Python!Hello Python!Hello Python!Hello Python!Hello Python!Hello Python!Hello Python!Hello Python!Hello Python!Hello Python!Hello Python!Hello Python!Hello Python!Hello Python!Hello Python!Hello Python!Hello Python!Hello Python!Hello Python!Hello Python!Hello Python!Hello Python!Hello Python!Hello Python!Hello Python!Hello Python!Hello Python!Hello Python!Hello Python!Hello Python!Hello Python!Hello Python!Hello Python!Hello Python!Hello Python!Hello Python!Hello Python!Hello Python!Hello Python!Hello Python!Hello Python!Hello Python!Hello Python!Hello Python!Hello Python!Hello Python!Hello Python!Hello Python!Hello Python!Hello Python!Hello Python!Hello Python!Hello Python!Hello Python!Hello Python!Hello Python!Hello Python!Hello Python!Hello Python!Hello Python!Hello Python!Hello Python!Hello Python!Hello Python!Hello Python!Hello Python!Hello Python!Hello Python!Hello Python!Hello Python!Hello Python!Hello Python!Hello Python!Hello Python!Hello Python!Hello Python!Hello Python!Hello Python!Hello Python!Hello Python!Hello Python!Hello Python!Hello Python!Hello Python!Hello Python!Hello Python!Hello Python!Hello Python!Hello Python!Hello Python!Hello Python!Hello Python!Hello Python!Hello Python!Hello Python!Hello Python!Hello Python!Hello Python!Hello Python!Hello Python!Hello Python!Hello Python!Hello Python!Hello Python!Hello Python!Hello Python!Hello Python!Hello Python!Hello Python!Hello Python!Hello Python!Hello Python!Hello Python!Hello Python!Hello Python!Hello Python!Hello Python!Hello Python!Hello Python!Hello Python!Hello Python!Hello Python!Hello Python!Hello Python!Hello Python!Hello Python!Hello Python!Hello Python!Hello Python!Hello Python!Hello Python!Hello Python!Hello Python!Hello Python!Hello Python!Hello Python!Hello Python!Hello Python!Hello Python!Hello Python!Hello Python!Hello Python!Hello Python!Hello Python!Hello Python!Hello Python!Hello Python!Hello Python!Hello Python!Hello Python!Hello Python!Hello Python!Hello Python!Hello Python!Hello Python!Hello Python!Hello Python!Hello Python!Hello Python!Hello Python!Hello Python!Hello Python!Hello Python!Hello Python!Hello Python!Hello Python!Hello Python!Hello Python!Hello Python!Hello Python!Hello Python!Hello Python!Hello Python!Hello Python!Hello Python!Hello Python!Hello Python!Hello Python!Hello Python!Hello Python!Hello Python!Hello Python!Hello Python!Hello Python!Hello Python!Hello Python!Hello Python!Hello Python!Hello Python!Hello Python!Hello Python!Hello Python!Hello Python!Hello Python!Hello Python!Hello Python!Hello Python!Hello Python!Hello Python!Hello Python!Hello Python!Hello Python!Hello Python!Hello Python!Hello Python!Hello Python!Hello Python!Hello Python!Hello Python!Hello Python!Hello Python!Hello Python!Hello Python!Hello Python!Hello Python!Hello Python!Hello Python!Hello Python!Hello Python!Hello Python!Hello Python!Hello Python!Hello Python!Hello Python!Hello Python!Hello Python!Hello Python!Hello Python!Hello Python!Hello Python!Hello Python!Hello Python!Hello Python!Hello Python!Hello Python!Hello Python!Hello Python!Hello Python!Hello Python!Hello Python!Hello Python!Hello Python!Hello Python!Hello Python!Hello Python!Hello Python!Hello Python!Hello Python!Hello Python!Hello Python!Hello Python!Hello Python!Hello Python!Hello Python!Hello Python!Hello Python!Hello Python!Hello Python!Hello Python!Hello Python!Hello Python!Hello Python!Hello Python!Hello Python!Hello Python!Hello Python!Hello Python!Hello Python!Hello Python!Hello Python!Hello Python!Hello Python!Hello Python!Hello Python!Hello Python!Hello Python!Hello Python!Hello Python!Hello Python!Hello Python!Hello Python!Hello Python!Hello Python!Hello Python!Hello Python!Hello Python!Hello Python!Hello Python!Hello Python!Hello Python!Hello Python!Hello Python!Hello Python!Hello Python!Hello Python!Hello Python!Hello Python!Hello Python!Hello Python!Hello Python!Hello Python!Hello Python!Hello Python!Hello Python!Hello Python!Hello Python!Hello Python!Hello Python!Hello Python!Hello Python!Hello Python!Hello Python!Hello Python!Hello Python!Hello Python!Hello Python!Hello Python!Hello Python!Hello Python!Hello Python!Hello Python!Hello Python!Hello Python!Hello Python!Hello Python!Hello Python!Hello Python!Hello Python!Hello Python!Hello Python!Hello Python!Hello Python!Hello Python!Hello Python!Hello Python!Hello Python!Hello Python!Hello Python!Hello Python!Hello Python!Hello Python!Hello Python!Hello Python!Hello Python!Hello Python!Hello Python!Hello Python!Hello Python!Hello Python!Hello Python!Hello Python!Hello Python!Hello Python!Hello Python!Hello Python!Hello Python!Hello Python!Hello Python!Hello Python!Hello Python!Hello Python!Hello Python!Hello Python!Hello Python!Hello Python!Hello Python!Hello Python!Hello Python!Hello Python!Hello Python!Hello Python!Hello Python!Hello Python!Hello Python!Hello Python!Hello Python!Hello Python!Hello Python!Hello Python!Hello Python!Hello Python!Hello Python!Hello Python!Hello Python!Hello Python!Hello Python!Hello Python!Hello Python!Hello Python!Hello Python!Hello Python!Hello Python!Hello Python!Hello Python!Hello Python!Hello Python!Hello Python!Hello Python!Hello Python!Hello Python!Hello Python!Hello Python!Hello Python!Hello Python!Hello Python!Hello Python!Hello Python!Hello Python!Hello Python!Hello Python!Hello Python!Hello Python!Hello Python!Hello Python!Hello Python!Hello Python!Hello Python!Hello Python!Hello Python!Hello Python!Hello Python!Hello Python!Hello Python!Hello Python!Hello Python!Hello Python!Hello Python!Hello Python!Hello Python!Hello Python!Hello Python!Hello Python!Hello Python!Hello Python!Hello Python!Hello Python!Hello Python!Hello Python!Hello Python!Hello Python!Hello Python!Hello Python!Hello Python!Hello Python!Hello Python!Hello Python!Hello Python!Hello Python!Hello Python!Hello Python!Hello Python!Hello Python!Hello Python!Hello Python!Hello Python!Hello Python!Hello Python!Hello Python!Hello Python!Hello Python!Hello Python!Hello Python!Hello Python!Hello Python!Hello Python!Hello Python!Hello Python!Hello Python!Hello Python!Hello Python!Hello Python!Hello Python!Hello Python!Hello Python!Hello Python!Hello Python!Hello Python!Hello Python!Hello Python!Hello Python!Hello Python!Hello Python!Hello Python!Hello Python!Hello Python!Hello Python!Hello Python!Hello Python!Hello Python!Hello Python!Hello Python!Hello Python!Hello Python!Hello Python!Hello Python!Hello Python!Hello Python!Hello Python!Hello Python!Hello Python!Hello Python!Hello Python!Hello Python!Hello Python!Hello Python!Hello Python!Hello Python!Hello Python!Hello Python!Hello Python!Hello Python!Hello Python!Hello Python!Hello Python!Hello Python!Hello Python!Hello Python!Hello Python!Hello Python!Hello Python!Hello Python!Hello Python!Hello Python!Hello Python!Hello Python!Hello Python!Hello Python!Hello Python!Hello Python!Hello Python!Hello Python!Hello Python!Hello Python!Hello Python!Hello Python!Hello Python!Hello Python!Hello Python!Hello Python!Hello Python!Hello Python!Hello Python!Hello Python!Hello Python!Hello Python!Hello Python!Hello Python!Hello Python!Hello Python!Hello Python!Hello Python!Hello Python!Hello Python!Hello Python!Hello Python!Hello Python!Hello Python!Hello Python!Hello Python!Hello Python!Hello Python!Hello Python!Hello Python!Hello Python!Hello Python!Hello Python!Hello Python!Hello Python!Hello Python!Hello Python!Hello Python!Hello Python!Hello Python!Hello Python!Hello Python!Hello Python!Hello Python!Hello Python!Hello Python!Hello Python!Hello Python!Hello Python!Hello Python!Hello Python!Hello Python!Hello Python!Hello Python!Hello Python!Hello Python!Hello Python!Hello Python!Hello Python!Hello Python!Hello Python!Hello Python!Hello Python!Hello Python!Hello Python!Hello Python!Hello Python!Hello Python!Hello Python!Hello Python!Hello Python!Hello Python!Hello Python!Hello Python!Hello Python!Hello Python!Hello Python!Hello Python!Hello Python!Hello Python!Hello Python!Hello Python!Hello Python!Hello Python!Hello Python!Hello Python!Hello Python!Hello Python!Hello Python!Hello Python!Hello Python!Hello Python!Hello Python!Hello Python!Hello Python!Hello Python!Hello Python!Hello Python!Hello Python!Hello Python!Hello Python!Hello Python!Hello Python!Hello Python!Hello Python!Hello Python!Hello Python!Hello Python!Hello Python!Hello Python!Hello Python!Hello Python!Hello Python!Hello Python!Hello Python!Hello Python!Hello Python!Hello Python!Hello Python!Hello Python!Hello Python!Hello Python!Hello Python!Hello Python!Hello Python!Hello Python!Hello Python!Hello Python!Hello Python!Hello Python!Hello Python!Hello Python!Hello Python!Hello Python!Hello Python!Hello Python!Hello Python!Hello Python!Hello Python!Hello Python!Hello Python!Hello Python!Hello Python!Hello Python!Hello Python!Hello Python!Hello Python!Hello Python!Hello Python!Hello Python!Hello Python!Hello Python!Hello Python!Hello Python!Hello Python!Hello Python!Hello Python!Hello Python!Hello Python!Hello Python!Hello Python!Hello Python!Hello Python!Hello Python!Hello Python!Hello Python!Hello Python!Hello Python!Hello Python!Hello Python!Hello Python!Hello Python!Hello Python!Hello Python!Hello Python!Hello Python!Hello Python!Hello Python!Hello Python!Hello Python!Hello Python!Hello Python!Hello Python!Hello Python!Hello Python!Hello Python!Hello Python!Hello Python!Hello Python!Hello Python!Hello Python!Hello Python!Hello Python!Hello Python!Hello Python!Hello Python!Hello Python!Hello Python!Hello Python!Hello Python!Hello Python!Hello Python!Hello Python!Hello Python!Hello Python!Hello Python!Hello Python!Hello Python!Hello Python!Hello Python!Hello Python!Hello Python!Hello Python!Hello Python!Hello Python!Hello Python!Hello Python!Hello Python!Hello Python!Hello Python!Hello Python!Hello Python!Hello Python!Hello Python!Hello Python!Hello Python!Hello Python!Hello Python!Hello Python!Hello Python!Hello Python!Hello Python!Hello Python!Hello Python!Hello Python!Hello Python!Hello Python!Hello Python!Hello Python!Hello Python!Hello Python!Hello Python!Hello Python!Hello Python!Hello Python!Hello Python!Hello Python!Hello Python!Hello Python!Hello Python!Hello Python!Hello Python!Hello Python!Hello Python!Hello Python!Hello Python!Hello Python!Hello Python!Hello Python!Hello Python!Hello Python!Hello Python!Hello Python!Hello Python!Hello Python!Hello Python!Hello Python!Hello Python!Hello Python!Hello Python!Hello Python!Hello Python!Hello Python!Hello Python!Hello Python!Hello Python!Hello Python!Hello Python!Hello Python!Hello Python!Hello Python!Hello Python!Hello Python!Hello Python!Hello Python!Hello Python!Hello Python!Hello Python!Hello Python!Hello Python!Hello Python!Hello Python!Hello Python!Hello Python!Hello Python!Hello Python!Hello Python!Hello Python!Hello Python!Hello Python!Hello Python!Hello Python!Hello Python!Hello Python!Hello Python!Hello Python!Hello Python!Hello Python!Hello Python!Hello Python!Hello Python!Hello Python!Hello Python!Hello Python!Hello Python!Hello Python!Hello Python!Hello Python!Hello Python!Hello Python!Hello Python!Hello Python!Hello Python!Hello Python!Hello Python!Hello Python!Hello Python!Hello Python!Hello Python!Hello Python!Hello Python!Hello Python!Hello Python!Hello Python!Hello Python!Hello Python!Hello Python!Hello Python!Hello Python!Hello Python!Hello Python!Hello Python!Hello Python!Hello Python!Hello Python!Hello Python!Hello Python!Hello Python!Hello Python!Hello Python!Hello Python!Hello Python!Hello Python!Hello Python!Hello Python!Hello Python!Hello Python!Hello Python!Hello Python!Hello Python!Hello Python!Hello Python!Hello Python!Hello Python!Hello Python!Hello Python!Hello Python!Hello Python!Hello Python!Hello Python!Hello Python!Hello Python!Hello Python!Hello Python!Hello Python!Hello Python!Hello Python!Hello Python!Hello Python!Hello Python!Hello Python!Hello Python!Hello Python!Hello Python!Hello Python!Hello Python!Hello Python!Hello Python!Hello Python!Hello Python!Hello Python!Hello Python!Hello Python!Hello Python!Hello Python!Hello Python!Hello Python!Hello Python!Hello Python!Hello Python!Hello Python!Hello Python!Hello Python!Hello Python!Hello Python!Hello Python!Hello Python!Hello Python!Hello Python!Hello Python!Hello Python!Hello Python!Hello Python!Hello Python!Hello Python!Hello Python!Hello Python!Hello Python!Hello Python!Hello Python!Hello Python!Hello Python!Hello Python!Hello Python!Hello Python!Hello Python!Hello Python!Hello Python!Hello Python!Hello Python!Hello Python!Hello Python!Hello Python!Hello Python!Hello Python!Hello Python!Hello Python!Hello Python!Hello Python!Hello Python!Hello Python!Hello Python!Hello Python!Hello Python!Hello Python!Hello Python!Hello Python!Hello Python!Hello Python!Hello Python!Hello Python!Hello Python!Hello Python!Hello Python!Hello Python!Hello Python!Hello Python!Hello Python!Hello Python!Hello Python!Hello Python!Hello Python!Hello Python!Hello Python!Hello Python!Hello Python!Hello Python!Hello Python!Hello Python!Hello Python!Hello Python!Hello Python!Hello Python!Hello Python!Hello Python!Hello Python!Hello Python!Hello Python!Hello Python!Hello Python!Hello Python!Hello Python!Hello Python!Hello Python!Hello Python!Hello Python!Hello Python!Hello Python!Hello Python!Hello Python!Hello Python!Hello Python!Hello Python!Hello Python!Hello Python!Hello Python!Hello Python!Hello Python!Hello Python!Hello Python!Hello Python!Hello Python!Hello Python!Hello Python!Hello Python!Hello Python!Hello Python!Hello Python!Hello Python!Hello Python!Hello Python!Hello Python!Hello Python!Hello Python!Hello Python!Hello Python!Hello Python!Hello Python!Hello Python!Hello Python!Hello Python!Hello Python!Hello Python!Hello Python!Hello Python!Hello Python!Hello Python!Hello Python!Hello Python!Hello Python!Hello Python!Hello Python!Hello Python!Hello Python!Hello Python!Hello Python!Hello Python!Hello Python!Hello Python!Hello Python!Hello Python!Hello Python!Hello Python!Hello Python!Hello Python!Hello Python!Hello Python!Hello Python!Hello Python!Hello Python!Hello Python!Hello Python!Hello Python!Hello Python!Hello Python!Hello Python!Hello Python!Hello Python!Hello Python!Hello Python!Hello Python!Hello Python!Hello Python!Hello Python!Hello Python!Hello Python!Hello Python!Hello Python!Hello Python!Hello Python!Hello Python!Hello Python!Hello Python!Hello Python!Hello Python!Hello Python!Hello Python!Hello Python!Hello Python!Hello Python!Hello Python!Hello Python!Hello Python!Hello Python!Hello Python!Hello Python!Hello Python!Hello Python!Hello Python!Hello Python!Hello Python!Hello Python!Hello Python!Hello Python!Hello Python!Hello Python!Hello Python!Hello Python!Hello Python!Hello Python!Hello Python!Hello Python!Hello Python!Hello Python!Hello Python!Hello Python!Hello Python!Hello Python!Hello Python!Hello Python!Hello Python!Hello Python!Hello Python!Hello Python!Hello Python!Hello Python!Hello Python!Hello Python!Hello Python!Hello Python!Hello Python!Hello Python!Hello Python!Hello Python!Hello Python!Hello Python!Hello Python!Hello Python!Hello Python!Hello Python!Hello Python!Hello Python!Hello Python!Hello Python!Hello Python!Hello Python!Hello Python!Hello Python!Hello Python!Hello Python!Hello Python!Hello Python!Hello Python!Hello Python!Hello Python!Hello Python!Hello Python!Hello Python!Hello Python!Hello Python!Hello Python!Hello Python!Hello Python!Hello Python!Hello Python!Hello Python!Hello Python!Hello Python!Hello Python!Hello Python!Hello Python!Hello Python!Hello Python!Hello Python!Hello Python!Hello Python!Hello Python!Hello Python!Hello Python!Hello Python!Hello Python!Hello Python!Hello Python!Hello Python!Hello Python!Hello Python!Hello Python!Hello Python!Hello Python!Hello Python!Hello Python!Hello Python!Hello Python!Hello Python!Hello Python!Hello Python!Hello Python!Hello Python!Hello Python!Hello Python!Hello Python!Hello Python!Hello Python!Hello Python!Hello Python!Hello Python!Hello Python!Hello Python!Hello Python!Hello Python!Hello Python!Hello Python!Hello Python!Hello Python!Hello Python!Hello Python!Hello Python!Hello Python!Hello Python!Hello Python!Hello Python!Hello Python!Hello Python!Hello Python!Hello Python!Hello Python!Hello Python!Hello Python!Hello Python!Hello Python!Hello Python!Hello Python!Hello Python!Hello Python!Hello Python!Hello Python!Hello Python!Hello Python!Hello Python!Hello Python!Hello Python!Hello Python!Hello Python!Hello Python!Hello Python!Hello Python!Hello Python!Hello Python!Hello Python!Hello Python!Hello Python!Hello Python!Hello Python!Hello Python!Hello Python!Hello Python!Hello Python!Hello Python!Hello Python!Hello Python!Hello Python!Hello Python!Hello Python!Hello Python!Hello Python!Hello Python!Hello Python!Hello Python!Hello Python!Hello Python!Hello Python!Hello Python!Hello Python!Hello Python!Hello Python!Hello Python!Hello Python!Hello Python!Hello Python!Hello Python!Hello Python!Hello Python!Hello Python!Hello Python!Hello Python!Hello Python!Hello Python!Hello Python!Hello Python!Hello Python!Hello Python!Hello Python!Hello Python!Hello Python!Hello Python!Hello Python!Hello Python!Hello Python!Hello Python!Hello Python!Hello Python!Hello Python!Hello Python!Hello Python!Hello Python!Hello Python!Hello Python!Hello Python!Hello Python!Hello Python!Hello Python!Hello Python!Hello Python!Hello Python!Hello Python!Hello Python!Hello Python!Hello Python!Hello Python!Hello Python!Hello Python!Hello Python!Hello Python!Hello Python!Hello Python!Hello Python!Hello Python!Hello Python!Hello Python!Hello Python!Hello Python!Hello Python!Hello Python!Hello Python!Hello Python!Hello Python!Hello Python!Hello Python!Hello Python!Hello Python!Hello Python!Hello Python!Hello Python!Hello Python!Hello Python!Hello Python!Hello Python!Hello Python!Hello Python!Hello Python!Hello Python!Hello Python!Hello Python!Hello Python!Hello Python!Hello Python!Hello Python!Hello Python!Hello Python!Hello Python!Hello Python!Hello Python!Hello Python!Hello Python!Hello Python!Hello Python!Hello Python!Hello Python!Hello Python!Hello Python!Hello Python!Hello Python!Hello Python!Hello Python!Hello Python!Hello Python!Hello Python!Hello Python!Hello Python!Hello Python!Hello Python!Hello Python!Hello Python!Hello Python!Hello Python!Hello Python!Hello Python!Hello Python!Hello Python!Hello Python!Hello Python!Hello Python!Hello Python!Hello Python!Hello Python!Hello Python!Hello Python!Hello Python!Hello Python!Hello Python!Hello Python!Hello Python!Hello Python!Hello Python!Hello Python!Hello Python!Hello Python!Hello Python!Hello Python!Hello Python!Hello Python!Hello Python!Hello Python!Hello Python!Hello Python!Hello Python!Hello Python!Hello Python!Hello Python!Hello Python!Hello Python!Hello Python!Hello Python!Hello Python!Hello Python!Hello Python!Hello Python!Hello Python!Hello Python!Hello Python!Hello Python!Hello Python!Hello Python!Hello Python!Hello Python!Hello Python!Hello Python!Hello Python!Hello Python!Hello Python!Hello Python!Hello Python!Hello Python!Hello Python!Hello Python!Hello Python!Hello Python!Hello Python!Hello Python!Hello Python!Hello Python!Hello Python!Hello Python!Hello Python!Hello Python!Hello Python!Hello Python!Hello Python!Hello Python!Hello Python!Hello Python!Hello Python!Hello Python!Hello Python!Hello Python!Hello Python!Hello Python!Hello Python!Hello Python!Hello Python!Hello Python!Hello Python!Hello Python!Hello Python!Hello Python!Hello Python!Hello Python!Hello Python!Hello Python!Hello Python!Hello Python!Hello Python!Hello Python!Hello Python!Hello Python!Hello Python!Hello Python!Hello Python!Hello Python!Hello Python!Hello Python!Hello Python!Hello Python!Hello Python!Hello Python!Hello Python!Hello Python!Hello Python!Hello Python!Hello Python!Hello Python!Hello Python!Hello Python!Hello Python!Hello Python!Hello Python!Hello Python!Hello Python!Hello Python!Hello Python!Hello Python!Hello Python!Hello Python!Hello Python!Hello Python!Hello Python!Hello Python!Hello Python!Hello Python!Hello Python!Hello Python!Hello Python!Hello Python!Hello Python!Hello Python!Hello Python!Hello Python!Hello Python!Hello Python!Hello Python!Hello Python!Hello Python!Hello Python!Hello Python!Hello Python!Hello Python!Hello Python!Hello Python!Hello Python!Hello Python!Hello Python!Hello Python!Hello Python!Hello Python!Hello Python!Hello Python!Hello Python!Hello Python!Hello Python!Hello Python!Hello Python!Hello Python!Hello Python!Hello Python!Hello Python!Hello Python!Hello Python!Hello Python!Hello Python!Hello Python!Hello Python!Hello Python!Hello Python!Hello Python!Hello Python!Hello Python!Hello Python!Hello Python!Hello Python!Hello Python!Hello Python!Hello Python!Hello Python!Hello Python!Hello Python!Hello Python!Hello Python!Hello Python!Hello Python!Hello Python!Hello Python!Hello Python!Hello Python!Hello Python!Hello Python!Hello Python!Hello Python!Hello Python!Hello Python!Hello Python!Hello Python!Hello Python!Hello Python!Hello Python!Hello Python!Hello Python!Hello Python!Hello Python!Hello Python!Hello Python!Hello Python!Hello Python!Hello Python!Hello Python!Hello Python!Hello Python!Hello Python!Hello Python!Hello Python!Hello Python!Hello Python!Hello Python!Hello Python!Hello Python!Hello Python!Hello Python!Hello Python!Hello Python!Hello Python!Hello Python!Hello Python!Hello Python!Hello Python!Hello Python!Hello Python!Hello Python!Hello Python!Hello Python!Hello Python!Hello Python!Hello Python!Hello Python!Hello Python!Hello Python!Hello Python!Hello Python!Hello Python!Hello Python!Hello Python!Hello Python!Hello Python!Hello Python!Hello Python!Hello Python!Hello Python!Hello Python!Hello Python!Hello Python!Hello Python!Hello Python!Hello Python!Hello Python!Hello Python!Hello Python!Hello Python!Hello Python!Hello Python!Hello Python!Hello Python!Hello Python!Hello Python!Hello Python!Hello Python!Hello Python!Hello Python!Hello Python!Hello Python!Hello Python!Hello Python!Hello Python!Hello Python!Hello Python!Hello Python!Hello Python!Hello Python!Hello Python!Hello Python!Hello Python!Hello Python!Hello Python!Hello Python!Hello Python!Hello Python!Hello Python!Hello Python!Hello Python!Hello Python!Hello Python!Hello Python!Hello Python!Hello Python!Hello Python!Hello Python!Hello Python!Hello Python!Hello Python!Hello Python!Hello Python!Hello Python!Hello Python!Hello Python!Hello Python!Hello Python!Hello Python!Hello Python!Hello Python!Hello Python!Hello Python!Hello Python!Hello Python!Hello Python!Hello Python!Hello Python!Hello Python!Hello Python!Hello Python!Hello Python!Hello Python!Hello Python!Hello Python!Hello Python!Hello Python!Hello Python!Hello Python!Hello Python!Hello Python!Hello Python!Hello Python!Hello Python!Hello Python!Hello Python!Hello Python!Hello Python!Hello Python!Hello Python!Hello Python!Hello Python!Hello Python!Hello Python!Hello Python!Hello Python!Hello Python!Hello Python!Hello Python!Hello Python!Hello Python!Hello Python!Hello Python!Hello Python!Hello Python!Hello Python!Hello Python!Hello Python!Hello Python!Hello Python!Hello Python!Hello Python!Hello Python!Hello Python!Hello Python!Hello Python!Hello Python!Hello Python!Hello Python!Hello Python!Hello Python!Hello Python!Hello Python!Hello Python!Hello Python!Hello Python!Hello Python!Hello Python!Hello Python!Hello Python!Hello Python!Hello Python!Hello Python!Hello Python!Hello Python!Hello Python!Hello Python!Hello Python!Hello Python!Hello Python!Hello Python!Hello Python!Hello Python!Hello Python!Hello Python!Hello Python!Hello Python!Hello Python!Hello Python!Hello Python!Hello Python!Hello Python!Hello Python!Hello Python!Hello Python!Hello Python!Hello Python!Hello Python!Hello Python!Hello Python!Hello Python!Hello Python!Hello Python!Hello Python!Hello Python!Hello Python!Hello Python!Hello Python!Hello Python!Hello Python!Hello Python!Hello Python!Hello Python!Hello Python!Hello Python!Hello Python!Hello Python!Hello Python!Hello Python!Hello Python!Hello Python!Hello Python!Hello Python!Hello Python!Hello Python!Hello Python!Hello Python!Hello Python!Hello Python!Hello Python!Hello Python!Hello Python!Hello Python!Hello Python!Hello Python!Hello Python!Hello Python!Hello Python!Hello Python!Hello Python!Hello Python!Hello Python!Hello Python!Hello Python!Hello Python!Hello Python!Hello Python!Hello Python!Hello Python!Hello Python!Hello Python!Hello Python!Hello Python!Hello Python!Hello Python!Hello Python!Hello Python!Hello Python!Hello Python!Hello Python!Hello Python!Hello Python!Hello Python!Hello Python!Hello Python!Hello Python!Hello Python!Hello Python!Hello Python!Hello Python!Hello Python!Hello Python!Hello Python!Hello Python!Hello Python!Hello Python!Hello Python!Hello Python!Hello Python!Hello Python!Hello Python!Hello Python!Hello Python!Hello Python!Hello Python!Hello Python!Hello Python!Hello Python!Hello Python!Hello Python!Hello Python!Hello Python!Hello Python!Hello Python!Hello Python!Hello Python!Hello Python!Hello Python!Hello Python!Hello Python!Hello Python!Hello Python!Hello Python!Hello Python!Hello Python!Hello Python!Hello Python!Hello Python!Hello Python!Hello Python!Hello Python!Hello Python!Hello Python!Hello Python!Hello Python!Hello Python!Hello Python!Hello Python!Hello Python!Hello Python!Hello Python!Hello Python!Hello Python!Hello Python!Hello Python!Hello Python!Hello Python!Hello Python!Hello Python!Hello Python!Hello Python!Hello Python!Hello Python!Hello Python!Hello Python!Hello Python!Hello Python!Hello Python!Hello Python!Hello Python!Hello Python!Hello Python!Hello Python!Hello Python!Hello Python!Hello Python!Hello Python!Hello Python!Hello Python!Hello Python!Hello Python!Hello Python!Hello Python!Hello Python!Hello Python!Hello Python!Hello Python!Hello Python!Hello Python!Hello Python!Hello Python!Hello Python!Hello Python!Hello Python!Hello Python!Hello Python!Hello Python!Hello Python!Hello Python!Hello Python!Hello Python!Hello Python!Hello Python!Hello Python!Hello Python!Hello Python!Hello Python!Hello Python!Hello Python!Hello Python!Hello Python!Hello Python!Hello Python!Hello Python!Hello Python!Hello Python!Hello Python!Hello Python!Hello Python!Hello Python!Hello Python!Hello Python!Hello Python!Hello Python!Hello Python!Hello Python!Hello Python!Hello Python!Hello Python!Hello Python!Hello Python!Hello Python!Hello Python!Hello Python!Hello Python!Hello Python!Hello Python!Hello Python!Hello Python!Hello Python!Hello Python!Hello Python!Hello Python!Hello Python!Hello Python!Hello Python!Hello Python!Hello Python!Hello Python!Hello Python!Hello Python!Hello Python!Hello Python!Hello Python!Hello Python!Hello Python!Hello Python!Hello Python!Hello Python!Hello Python!Hello Python!Hello Python!Hello Python!Hello Python!Hello Python!Hello Python!Hello Python!Hello Python!Hello Python!Hello Python!Hello Python!Hello Python!Hello Python!Hello Python!Hello Python!Hello Python!Hello Python!Hello Python!Hello Python!Hello Python!Hello Python!Hello Python!Hello Python!Hello Python!Hello Python!Hello Python!Hello Python!Hello Python!Hello Python!Hello Python!Hello Python!Hello Python!Hello Python!Hello Python!Hello Python!Hello Python!Hello Python!Hello Python!Hello Python!Hello Python!Hello Python!Hello Python!Hello Python!Hello Python!Hello Python!Hello Python!Hello Python!Hello Python!Hello Python!Hello Python!Hello Python!Hello Python!Hello Python!Hello Python!Hello Python!Hello Python!Hello Python!Hello Python!Hello Python!Hello Python!Hello Python!Hello Python!Hello Python!Hello Python!Hello Python!Hello Python!Hello Python!Hello Python!Hello Python!Hello Python!Hello Python!Hello Python!Hello Python!Hello Python!Hello Python!Hello Python!Hello Python!Hello Python!Hello Python!Hello Python!Hello Python!Hello Python!Hello Python!Hello Python!Hello Python!Hello Python!Hello Python!Hello Python!Hello Python!Hello Python!Hello Python!Hello Python!Hello Python!Hello Python!Hello Python!Hello Python!Hello Python!Hello Python!Hello Python!Hello Python!Hello Python!Hello Python!Hello Python!Hello Python!Hello Python!Hello Python!Hello Python!Hello Python!Hello Python!Hello Python!Hello Python!Hello Python!Hello Python!Hello Python!Hello Python!Hello Python!Hello Python!Hello Python!Hello Python!Hello Python!Hello Python!Hello Python!Hello Python!Hello Python!Hello Python!Hello Python!Hello Python!Hello Python!Hello Python!Hello Python!Hello Python!Hello Python!Hello Python!Hello Python!Hello Python!Hello Python!Hello Python!Hello Python!Hello Python!Hello Python!Hello Python!Hello Python!Hello Python!Hello Python!Hello Python!Hello Python!Hello Python!Hello Python!Hello Python!Hello Python!Hello Python!Hello Python!Hello Python!Hello Python!Hello Python!Hello Python!Hello Python!Hello Python!Hello Python!Hello Python!Hello Python!Hello Python!Hello Python!Hello Python!Hello Python!Hello Python!Hello Python!Hello Python!Hello Python!Hello Python!Hello Python!Hello Python!Hello Python!Hello Python!Hello Python!Hello Python!Hello Python!Hello Python!Hello Python!Hello Python!Hello Python!Hello Python!Hello Python!Hello Python!Hello Python!Hello Python!Hello Python!Hello Python!Hello Python!Hello Python!Hello Python!Hello Python!Hello Python!Hello Python!Hello Python!Hello Python!Hello Python!Hello Python!Hello Python!Hello Python!Hello Python!Hello Python!Hello Python!Hello Python!Hello Python!Hello Python!Hello Python!Hello Python!Hello Python!Hello Python!Hello Python!Hello Python!Hello Python!Hello Python!Hello Python!Hello Python!Hello Python!Hello Python!Hello Python!Hello Python!Hello Python!Hello Python!Hello Python!Hello Python!Hello Python!Hello Python!Hello Python!Hello Python!Hello Python!Hello Python!Hello Python!Hello Python!Hello Python!Hello Python!Hello Python!Hello Python!Hello Python!Hello Python!Hello Python!Hello Python!Hello Python!Hello Python!Hello Python!Hello Python!Hello Python!Hello Python!Hello Python!Hello Python!Hello Python!Hello Python!Hello Python!Hello Python!Hello Python!Hello Python!Hello Python!Hello Python!Hello Python!Hello Python!Hello Python!Hello Python!Hello Python!Hello Python!Hello Python!Hello Python!Hello Python!Hello Python!Hello Python!Hello Python!Hello Python!Hello Python!Hello Python!Hello Python!Hello Python!Hello Python!Hello Python!Hello Python!Hello Python!Hello Python!Hello Python!Hello Python!Hello Python!Hello Python!Hello Python!Hello Python!Hello Python!Hello Python!Hello Python!Hello Python!Hello Python!Hello Python!Hello Python!Hello Python!Hello Python!Hello Python!Hello Python!Hello Python!Hello Python!Hello Python!Hello Python!Hello Python!Hello Python!Hello Python!Hello Python!Hello Python!Hello Python!Hello Python!Hello Python!Hello Python!Hello Python!Hello Python!Hello Python!Hello Python!Hello Python!Hello Python!Hello Python!Hello Python!Hello Python!Hello Python!Hello Python!Hello Python!Hello Python!Hello Python!Hello Python!Hello Python!Hello Python!Hello Python!Hello Python!Hello Python!Hello Python!Hello Python!Hello Python!Hello Python!Hello Python!Hello Python!Hello Python!Hello Python!Hello Python!Hello Python!Hello Python!Hello Python!Hello Python!Hello Python!Hello Python!Hello Python!Hello Python!Hello Python!Hello Python!Hello Python!Hello Python!Hello Python!Hello Python!Hello Python!Hello Python!Hello Python!Hello Python!Hello Python!Hello Python!Hello Python!Hello Python!Hello Python!Hello Python!Hello Python!Hello Python!Hello Python!Hello Python!Hello Python!Hello Python!Hello Python!Hello Python!Hello Python!Hello Python!Hello Python!Hello Python!Hello Python!Hello Python!Hello Python!Hello Python!Hello Python!Hello Python!Hello Python!Hello Python!Hello Python!Hello Python!Hello Python!Hello Python!Hello Python!Hello Python!Hello Python!Hello Python!Hello Python!Hello Python!Hello Python!Hello Python!Hello Python!Hello Python!Hello Python!Hello Python!Hello Python!Hello Python!Hello Python!Hello Python!Hello Python!Hello Python!Hello Python!Hello Python!Hello Python!Hello Python!Hello Python!Hello Python!Hello Python!Hello Python!Hello Python!Hello Python!Hello Python!Hello Python!Hello Python!Hello Python!Hello Python!Hello Python!Hello Python!Hello Python!Hello Python!Hello Python!Hello Python!Hello Python!Hello Python!Hello Python!Hello Python!Hello Python!Hello Python!Hello Python!Hello Python!Hello Python!Hello Python!Hello Python!Hello Python!Hello Python!Hello Python!Hello Python!Hello Python!Hello Python!Hello Python!Hello Python!Hello Python!Hello Python!Hello Python!Hello Python!Hello Python!Hello Python!Hello Python!Hello Python!Hello Python!Hello Python!Hello Python!Hello Python!Hello Python!Hello Python!Hello Python!Hello Python!Hello Python!Hello Python!Hello Python!Hello Python!Hello Python!Hello Python!Hello Python!Hello Python!Hello Python!Hello Python!Hello Python!Hello Python!Hello Python!Hello Python!Hello Python!Hello Python!Hello Python!Hello Python!Hello Python!Hello Python!Hello Python!Hello Python!Hello Python!Hello Python!Hello Python!Hello Python!Hello Python!Hello Python!Hello Python!Hello Python!Hello Python!Hello Python!Hello Python!Hello Python!Hello Python!Hello Python!Hello Python!Hello Python!Hello Python!Hello Python!Hello Python!Hello Python!Hello Python!Hello Python!Hello Python!Hello Python!Hello Python!Hello Python!Hello Python!Hello Python!Hello Python!Hello Python!Hello Python!Hello Python!Hello Python!Hello Python!Hello Python!Hello Python!Hello Python!Hello Python!Hello Python!Hello Python!Hello Python!Hello Python!Hello Python!Hello Python!Hello Python!Hello Python!Hello Python!Hello Python!Hello Python!Hello Python!Hello Python!Hello Python!Hello Python!Hello Python!Hello Python!Hello Python!Hello Python!Hello Python!Hello Python!Hello Python!Hello Python!Hello Python!Hello Python!Hello Python!Hello Python!Hello Python!Hello Python!Hello Python!Hello Python!Hello Python!Hello Python!Hello Python!Hello Python!Hello Python!Hello Python!Hello Python!Hello Python!Hello Python!Hello Python!Hello Python!Hello Python!Hello Python!Hello Python!Hello Python!Hello Python!Hello Python!Hello Python!Hello Python!Hello Python!Hello Python!Hello Python!Hello Python!Hello Python!Hello Python!Hello Python!Hello Python!Hello Python!Hello Python!Hello Python!Hello Python!Hello Python!Hello Python!Hello Python!Hello Python!Hello Python!Hello Python!Hello Python!Hello Python!Hello Python!Hello Python!Hello Python!Hello Python!Hello Python!Hello Python!Hello Python!Hello Python!Hello Python!Hello Python!Hello Python!Hello Python!Hello Python!Hello Python!Hello Python!Hello Python!Hello Python!Hello Python!Hello Python!Hello Python!Hello Python!Hello Python!Hello Python!Hello Python!Hello Python!Hello Python!Hello Python!Hello Python!Hello Python!Hello Python!Hello Python!Hello Python!Hello Python!Hello Python!Hello Python!Hello Python!Hello Python!Hello Python!Hello Python!Hello Python!Hello Python!Hello Python!Hello Python!Hello Python!Hello Python!Hello Python!Hello Python!Hello Python!Hello Python!Hello Python!Hello Python!Hello Python!Hello Python!Hello Python!Hello Python!Hello Python!Hello Python!Hello Python!Hello Python!Hello Python!Hello Python!Hello Python!Hello Python!Hello Python!Hello Python!Hello Python!Hello Python!Hello Python!Hello Python!Hello Python!Hello Python!Hello Python!Hello Python!Hello Python!Hello Python!Hello Python!Hello Python!Hello Python!Hello Python!Hello Python!Hello Python!Hello Python!Hello Python!Hello Python!Hello Python!Hello Python!Hello Python!Hello Python!Hello Python!Hello Python!Hello Python!Hello Python!Hello Python!Hello Python!Hello Python!Hello Python!Hello Python!Hello Python!Hello Python!Hello Python!Hello Python!Hello Python!Hello Python!Hello Python!Hello Python!Hello Python!Hello Python!Hello Python!Hello Python!Hello Python!Hello Python!Hello Python!Hello Python!Hello Python!Hello Python!Hello Python!Hello Python!Hello Python!Hello Python!Hello Python!Hello Python!Hello Python!Hello Python!Hello Python!Hello Python!Hello Python!Hello Python!Hello Python!Hello Python!Hello Python!Hello Python!Hello Python!Hello Python!Hello Python!Hello Python!Hello Python!Hello Python!Hello Python!Hello Python!Hello Python!Hello Python!Hello Python!Hello Python!Hello Python!Hello Python!Hello Python!Hello Python!Hello Python!Hello Python!Hello Python!Hello Python!Hello Python!Hello Python!Hello Python!Hello Python!Hello Python!Hello Python!Hello Python!Hello Python!Hello Python!Hello Python!Hello Python!Hello Python!Hello Python!Hello Python!Hello Python!Hello Python!Hello Python!Hello Python!Hello Python!Hello Python!Hello Python!Hello Python!Hello Python!Hello Python!Hello Python!Hello Python!Hello Python!Hello Python!Hello Python!Hello Python!Hello Python!Hello Python!Hello Python!Hello Python!Hello Python!Hello Python!Hello Python!Hello Python!Hello Python!Hello Python!Hello Python!Hello Python!Hello Python!Hello Python!Hello Python!Hello Python!Hello Python!Hello Python!Hello Python!Hello Python!Hello Python!Hello Python!Hello Python!Hello Python!Hello Python!Hello Python!Hello Python!Hello Python!Hello Python!Hello Python!Hello Python!Hello Python!Hello Python!Hello Python!Hello Python!Hello Python!Hello Python!Hello Python!Hello Python!Hello Python!Hello Python!Hello Python!Hello Python!Hello Python!Hello Python!Hello Python!Hello Python!Hello Python!Hello Python!Hello Python!Hello Python!Hello Python!Hello Python!Hello Python!Hello Python!Hello Python!Hello Python!Hello Python!Hello Python!Hello Python!Hello Python!Hello Python!Hello Python!Hello Python!Hello Python!Hello Python!Hello Python!Hello Python!Hello Python!Hello Python!Hello Python!Hello Python!Hello Python!Hello Python!Hello Python!Hello Python!Hello Python!Hello Python!Hello Python!Hello Python!Hello Python!Hello Python!Hello Python!Hello Python!Hello Python!Hello Python!Hello Python!Hello Python!Hello Python!Hello Python!Hello Python!Hello Python!Hello Python!Hello Python!Hello Python!Hello Python!Hello Python!Hello Python!Hello Python!Hello Python!Hello Python!Hello Python!Hello Python!Hello Python!Hello Python!Hello Python!Hello Python!Hello Python!Hello Python!Hello Python!Hello Python!Hello Python!Hello Python!Hello Python!Hello Python!Hello Python!Hello Python!Hello Python!Hello Python!Hello Python!Hello Python!Hello Python!Hello Python!Hello Python!Hello Python!Hello Python!Hello Python!Hello Python!Hello Python!Hello Python!Hello Python!Hello Python!Hello Python!Hello Python!Hello Python!Hello Python!Hello Python!Hello Python!Hello Python!Hello Python!Hello Python!Hello Python!Hello Python!Hello Python!Hello Python!Hello Python!Hello Python!Hello Python!Hello Python!Hello Python!Hello Python!Hello Python!Hello Python!Hello Python!Hello Python!Hello Python!Hello Python!Hello Python!Hello Python!Hello Python!Hello Python!Hello Python!Hello Python!Hello Python!Hello Python!Hello Python!Hello Python!Hello Python!Hello Python!Hello Python!Hello Python!Hello Python!Hello Python!Hello Python!Hello Python!Hello Python!Hello Python!Hello Python!Hello Python!Hello Python!Hello Python!Hello Python!Hello Python!Hello Python!Hello Python!Hello Python!Hello Python!Hello Python!Hello Python!Hello Python!Hello Python!Hello Python!Hello Python!Hello Python!Hello Python!Hello Python!Hello Python!Hello Python!Hello Python!Hello Python!Hello Python!Hello Python!Hello Python!Hello Python!Hello Python!Hello Python!Hello Python!Hello Python!Hello Python!Hello Python!Hello Python!Hello Python!Hello Python!Hello Python!Hello Python!Hello Python!Hello Python!Hello Python!Hello Python!Hello Python!Hello Python!Hello Python!Hello Python!Hello Python!Hello Python!Hello Python!Hello Python!Hello Python!Hello Python!Hello Python!Hello Python!Hello Python!Hello Python!Hello Python!Hello Python!Hello Python!Hello Python!Hello Python!Hello Python!Hello Python!Hello Python!Hello Python!Hello Python!Hello Python!Hello Python!Hello Python!Hello Python!Hello Python!Hello Python!Hello Python!Hello Python!Hello Python!Hello Python!Hello Python!Hello Python!Hello Python!Hello Python!Hello Python!Hello Python!Hello Python!Hello Python!Hello Python!Hello Python!Hello Python!Hello Python!Hello Python!Hello Python!Hello Python!Hello Python!Hello Python!Hello Python!Hello Python!Hello Python!Hello Python!Hello Python!Hello Python!Hello Python!Hello Python!Hello Python!Hello Python!Hello Python!Hello Python!Hello Python!Hello Python!Hello Python!Hello Python!Hello Python!Hello Python!Hello Python!Hello Python!Hello Python!Hello Python!Hello Python!Hello Python!Hello Python!Hello Python!Hello Python!Hello Python!Hello Python!Hello Python!Hello Python!Hello Python!Hello Python!Hello Python!Hello Python!Hello Python!Hello Python!Hello Python!Hello Python!Hello Python!Hello Python!Hello Python!Hello Python!Hello Python!Hello Python!Hello Python!Hello Python!Hello Python!Hello Python!Hello Python!Hello Python!Hello Python!Hello Python!Hello Python!Hello Python!Hello Python!Hello Python!Hello Python!Hello Python!Hello Python!Hello Python!Hello Python!Hello Python!Hello Python!Hello Python!Hello Python!Hello Python!Hello Python!Hello Python!Hello Python!Hello Python!Hello Python!Hello Python!Hello Python!Hello Python!Hello Python!Hello Python!Hello Python!Hello Python!Hello Python!Hello Python!Hello Python!Hello Python!Hello Python!Hello Python!Hello Python!Hello Python!Hello Python!Hello Python!Hello Python!Hello Python!Hello Python!Hello Python!Hello Python!Hello Python!Hello Python!Hello Python!Hello Python!Hello Python!Hello Python!Hello Python!Hello Python!Hello Python!Hello Python!Hello Python!Hello Python!Hello Python!Hello Python!Hello Python!Hello Python!Hello Python!Hello Python!Hello Python!Hello Python!Hello Python!Hello Python!Hello Python!Hello Python!Hello Python!Hello Python!Hello Python!Hello Python!Hello Python!Hello Python!Hello Python!Hello Python!Hello Python!Hello Python!Hello Python!Hello Python!Hello Python!Hello Python!Hello Python!Hello Python!Hello Python!Hello Python!Hello Python!Hello Python!Hello Python!Hello Python!Hello Python!Hello Python!Hello Python!Hello Python!Hello Python!Hello Python!Hello Python!Hello Python!Hello Python!Hello Python!Hello Python!Hello Python!Hello Python!Hello Python!Hello Python!Hello Python!Hello Python!Hello Python!Hello Python!Hello Python!Hello Python!Hello Python!Hello Python!Hello Python!Hello Python!Hello Python!Hello Python!Hello Python!Hello Python!Hello Python!Hello Python!Hello Python!Hello Python!Hello Python!Hello Python!Hello Python!Hello Python!Hello Python!Hello Python!Hello Python!Hello Python!Hello Python!Hello Python!Hello Python!Hello Python!Hello Python!Hello Python!Hello Python!Hello Python!Hello Python!Hello Python!Hello Python!Hello Python!Hello Python!Hello Python!Hello Python!Hello Python!Hello Python!Hello Python!Hello Python!Hello Python!Hello Python!Hello Python!Hello Python!Hello Python!Hello Python!Hello Python!Hello Python!Hello Python!Hello Python!Hello Python!Hello Python!Hello Python!Hello Python!Hello Python!Hello Python!Hello Python!Hello Python!Hello Python!Hello Python!Hello Python!Hello Python!Hello Python!Hello Python!Hello Python!Hello Python!Hello Python!Hello Python!Hello Python!Hello Python!Hello Python!Hello Python!Hello Python!Hello Python!Hello Python!Hello Python!Hello Python!Hello Python!Hello Python!Hello Python!Hello Python!Hello Python!Hello Python!Hello Python!Hello Python!Hello Python!Hello Python!Hello Python!Hello Python!Hello Python!Hello Python!Hello Python!Hello Python!Hello Python!Hello Python!Hello Python!Hello Python!Hello Python!Hello Python!Hello Python!Hello Python!Hello Python!Hello Python!Hello Python!Hello Python!Hello Python!Hello Python!Hello Python!Hello Python!Hello Python!Hello Python!Hello Python!Hello Python!Hello Python!Hello Python!Hello Python!Hello Python!Hello Python!Hello Python!Hello Python!Hello Python!Hello Python!Hello Python!Hello Python!Hello Python!Hello Python!Hello Python!Hello Python!Hello Python!Hello Python!Hello Python!Hello Python!Hello Python!Hello Python!Hello Python!Hello Python!Hello Python!Hello Python!Hello Python!Hello Python!Hello Python!Hello Python!Hello Python!Hello Python!Hello Python!Hello Python!Hello Python!Hello Python!Hello Python!Hello Python!Hello Python!Hello Python!Hello Python!Hello Python!Hello Python!Hello Python!Hello Python!Hello Python!Hello Python!Hello Python!Hello Python!Hello Python!Hello Python!Hello Python!Hello Python!Hello Python!Hello Python!Hello Python!Hello Python!Hello Python!Hello Python!Hello Python!Hello Python!Hello Python!Hello Python!Hello Python!Hello Python!Hello Python!Hello Python!Hello Python!Hello Python!Hello Python!Hello Python!Hello Python!Hello Python!Hello Python!Hello Python!Hello Python!Hello Python!Hello Python!Hello Python!Hello Python!Hello Python!Hello Python!Hello Python!Hello Python!Hello Python!Hello Python!Hello Python!Hello Python!Hello Python!Hello Python!Hello Python!Hello Python!Hello Python!Hello Python!Hello Python!Hello Python!Hello Python!Hello Python!Hello Python!Hello Python!Hello Python!Hello Python!Hello Python!Hello Python!Hello Python!Hello Python!Hello Python!Hello Python!Hello Python!Hello Python!Hello Python!Hello Python!Hello Python!Hello Python!Hello Python!Hello Python!Hello Python!Hello Python!Hello Python!Hello Python!Hello Python!Hello Python!Hello Python!Hello Python!Hello Python!Hello Python!Hello Python!Hello Python!Hello Python!Hello Python!Hello Python!Hello Python!Hello Python!Hello Python!Hello Python!Hello Python!Hello Python!Hello Python!Hello Python!Hello Python!Hello Python!Hello Python!Hello Python!Hello Python!Hello Python!Hello Python!Hello Python!Hello Python!Hello Python!Hello Python!Hello Python!Hello Python!Hello Python!Hello Python!Hello Python!Hello Python!Hello Python!Hello Python!Hello Python!Hello Python!Hello Python!Hello Python!Hello Python!Hello Python!Hello Python!Hello Python!Hello Python!Hello Python!Hello Python!Hello Python!Hello Python!Hello Python!Hello Python!Hello Python!Hello Python!Hello Python!Hello Python!Hello Python!Hello Python!Hello Python!Hello Python!Hello Python!Hello Python!Hello Python!Hello Python!Hello Python!Hello Python!Hello Python!Hello Python!Hello Python!Hello Python!Hello Python!Hello Python!Hello Python!Hello Python!Hello Python!Hello Python!Hello Python!Hello Python!Hello Python!Hello Python!Hello Python!Hello Python!Hello Python!Hello Python!Hello Python!Hello Python!Hello Python!Hello Python!Hello Python!Hello Python!Hello Python!Hello Python!Hello Python!Hello Python!Hello Python!Hello Python!Hello Python!Hello Python!Hello Python!Hello Python!Hello Python!Hello Python!Hello Python!Hello Python!Hello Python!Hello Python!Hello Python!Hello Python!Hello Python!Hello Python!Hello Python!Hello Python!Hello Python!Hello Python!Hello Python!Hello Python!Hello Python!Hello Python!Hello Python!Hello Python!Hello Python!Hello Python!Hello Python!Hello Python!Hello Python!Hello Python!Hello Python!Hello Python!Hello Python!Hello Python!Hello Python!Hello Python!Hello Python!Hello Python!Hello Python!Hello Python!Hello Python!Hello Python!Hello Python!Hello Python!Hello Python!Hello Python!Hello Python!Hello Python!Hello Python!Hello Python!Hello Python!Hello Python!Hello Python!Hello Python!Hello Python!Hello Python!Hello Python!Hello Python!Hello Python!Hello Python!Hello Python!Hello Python!Hello Python!Hello Python!Hello Python!Hello Python!Hello Python!Hello Python!Hello Python!Hello Python!Hello Python!Hello Python!Hello Python!Hello Python!Hello Python!Hello Python!Hello Python!Hello Python!Hello Python!Hello Python!Hello Python!Hello Python!Hello Python!Hello Python!Hello Python!Hello Python!Hello Python!Hello Python!Hello Python!Hello Python!Hello Python!Hello Python!Hello Python!Hello Python!Hello Python!Hello Python!Hello Python!Hello Python!Hello Python!Hello Python!Hello Python!Hello Python!Hello Python!Hello Python!Hello Python!Hello Python!Hello Python!Hello Python!Hello Python!Hello Python!Hello Python!Hello Python!Hello Python!Hello Python!Hello Python!Hello Python!Hello Python!Hello Python!Hello Python!Hello Python!Hello Python!Hello Python!Hello Python!Hello Python!Hello Python!Hello Python!Hello Python!Hello Python!Hello Python!Hello Python!Hello Python!Hello Python!Hello Python!Hello Python!Hello Python!Hello Python!Hello Python!Hello Python!Hello Python!Hello Python!Hello Python!Hello Python!Hello Python!Hello Python!Hello Python!Hello Python!Hello Python!Hello Python!Hello Python!Hello Python!Hello Python!Hello Python!Hello Python!Hello Python!Hello Python!Hello Python!Hello Python!Hello Python!Hello Python!Hello Python!Hello Python!Hello Python!Hello Python!Hello Python!Hello Python!Hello Python!Hello Python!Hello Python!Hello Python!Hello Python!Hello Python!Hello Python!Hello Python!Hello Python!Hello Python!Hello Python!Hello Python!Hello Python!Hello Python!Hello Python!Hello Python!Hello Python!Hello Python!Hello Python!Hello Python!Hello Python!Hello Python!Hello Python!Hello Python!Hello Python!Hello Python!Hello Python!Hello Python!Hello Python!Hello Python!Hello Python!Hello Python!Hello Python!Hello Python!Hello Python!Hello Python!Hello Python!Hello Python!Hello Python!Hello Python!Hello Python!Hello Python!Hello Python!Hello Python!Hello Python!Hello Python!Hello Python!Hello Python!Hello Python!Hello Python!Hello Python!Hello Python!Hello Python!Hello Python!Hello Python!Hello Python!Hello Python!Hello Python!Hello Python!Hello Python!Hello Python!Hello Python!Hello Python!Hello Python!Hello Python!Hello Python!Hello Python!Hello Python!Hello Python!Hello Python!Hello Python!Hello Python!Hello Python!Hello Python!Hello Python!Hello Python!Hello Python!Hello Python!Hello Python!Hello Python!Hello Python!Hello Python!Hello Python!Hello Python!Hello Python!Hello Python!Hello Python!Hello Python!Hello Python!Hello Python!Hello Python!Hello Python!Hello Python!Hello Python!Hello Python!Hello Python!Hello Python!Hello Python!Hello Python!Hello Python!Hello Python!Hello Python!Hello Python!Hello Python!Hello Python!Hello Python!Hello Python!Hello Python!Hello Python!Hello Python!Hello Python!Hello Python!Hello Python!Hello Python!Hello Python!Hello Python!Hello Python!Hello Python!Hello Python!Hello Python!Hello Python!Hello Python!Hello Python!Hello Python!Hello Python!Hello Python!Hello Python!Hello Python!Hello Python!Hello Python!Hello Python!Hello Python!Hello Python!Hello Python!Hello Python!Hello Python!Hello Python!Hello Python!Hello Python!Hello Python!Hello Python!Hello Python!Hello Python!Hello Python!Hello Python!Hello Python!Hello Python!Hello Python!Hello Python!Hello Python!Hello Python!Hello Python!Hello Python!Hello Python!Hello Python!Hello Python!Hello Python!Hello Python!Hello Python!Hello Python!Hello Python!Hello Python!Hello Python!Hello Python!Hello Python!Hello Python!Hello Python!Hello Python!Hello Python!Hello Python!Hello Python!Hello Python!Hello Python!Hello Python!Hello Python!Hello Python!Hello Python!Hello Python!Hello Python!Hello Python!Hello Python!Hello Python!Hello Python!Hello Python!Hello Python!Hello Python!Hello Python!Hello Python!Hello Python!Hello Python!Hello Python!Hello Python!Hello Python!Hello Python!Hello Python!Hello Python!Hello Python!Hello Python!Hello Python!Hello Python!Hello Python!Hello Python!Hello Python!Hello Python!Hello Python!Hello Python!Hello Python!Hello Python!Hello Python!Hello Python!Hello Python!Hello Python!Hello Python!Hello Python!Hello Python!Hello Python!Hello Python!Hello Python!Hello Python!Hello Python!Hello Python!Hello Python!Hello Python!Hello Python!Hello Python!Hello Python!Hello Python!Hello Python!Hello Python!Hello Python!Hello Python!Hello Python!Hello Python!Hello Python!Hello Python!Hello Python!Hello Python!Hello Python!Hello Python!Hello Python!Hello Python!Hello Python!Hello Python!Hello Python!Hello Python!Hello Python!Hello Python!Hello Python!Hello Python!Hello Python!Hello Python!Hello Python!Hello Python!Hello Python!Hello Python!Hello Python!Hello Python!Hello Python!Hello Python!Hello Python!Hello Python!Hello Python!Hello Python!Hello Python!Hello Python!Hello Python!Hello Python!Hello Python!Hello Python!Hello Python!Hello Python!Hello Python!Hello Python!Hello Python!Hello Python!Hello Python!Hello Python!Hello Python!Hello Python!Hello Python!Hello Python!Hello Python!Hello Python!Hello Python!Hello Python!Hello Python!Hello Python!Hello Python!Hello Python!Hello Python!Hello Python!Hello Python!Hello Python!Hello Python!Hello Python!Hello Python!Hello Python!Hello Python!Hello Python!Hello Python!Hello Python!Hello Python!Hello Python!Hello Python!Hello Python!Hello Python!Hello Python!Hello Python!Hello Python!Hello Python!Hello Python!Hello Python!Hello Python!Hello Python!Hello Python!Hello Python!Hello Python!Hello Python!Hello Python!Hello Python!Hello Python!Hello Python!Hello Python!Hello Python!Hello Python!Hello Python!Hello Python!Hello Python!Hello Python!Hello Python!Hello Python!Hello Python!Hello Python!Hello Python!Hello Python!Hello Python!Hello Python!Hello Python!Hello Python!Hello Python!Hello Python!Hello Python!Hello Python!Hello Python!Hello Python!Hello Python!Hello Python!Hello Python!Hello Python!Hello Python!Hello Python!Hello Python!Hello Python!Hello Python!Hello Python!Hello Python!Hello Python!Hello Python!Hello Python!Hello Python!Hello Python!Hello Python!Hello Python!Hello Python!Hello Python!Hello Python!Hello Python!Hello Python!Hello Python!Hello Python!Hello Python!Hello Python!Hello Python!Hello Python!Hello Python!Hello Python!Hello Python!Hello Python!Hello Python!Hello Python!Hello Python!Hello Python!Hello Python!Hello Python!Hello Python!Hello Python!Hello Python!Hello Python!Hello Python!Hello Python!Hello Python!Hello Python!Hello Python!Hello Python!Hello Python!Hello Python!Hello Python!Hello Python!Hello Python!Hello Python!Hello Python!Hello Python!Hello Python!Hello Python!Hello Python!Hello Python!Hello Python!Hello Python!Hello Python!Hello Python!Hello Python!Hello Python!Hello Python!Hello Python!Hello Python!Hello Python!Hello Python!Hello Python!Hello Python!Hello Python!Hello Python!Hello Python!Hello Python!Hello Python!Hello Python!Hello Python!Hello Python!Hello Python!Hello Python!Hello Python!Hello Python!Hello Python!Hello Python!Hello Python!Hello Python!Hello Python!Hello Python!Hello Python!Hello Python!Hello Python!Hello Python!Hello Python!Hello Python!Hello Python!Hello Python!Hello Python!Hello Python!Hello Python!Hello Python!Hello Python!Hello Python!Hello Python!Hello Python!Hello Python!Hello Python!Hello Python!Hello Python!Hello Python!Hello Python!Hello Python!Hello Python!Hello Python!Hello Python!Hello Python!Hello Python!Hello Python!Hello Python!Hello Python!Hello Python!Hello Python!Hello Python!Hello Python!Hello Python!Hello Python!Hello Python!Hello Python!Hello Python!Hello Python!Hello Python!Hello Python!Hello Python!Hello Python!Hello Python!Hello Python!Hello Python!Hello Python!Hello Python!Hello Python!Hello Python!Hello Python!Hello Python!Hello Python!Hello Python!Hello Python!Hello Python!Hello Python!Hello Python!Hello Python!Hello Python!Hello Python!Hello Python!Hello Python!Hello Python!Hello Python!Hello Python!Hello Python!Hello Python!Hello Python!Hello Python!Hello Python!Hello Python!Hello Python!Hello Python!Hello Python!Hello Python!Hello Python!Hello Python!Hello Python!Hello Python!Hello Python!Hello Python!Hello Python!Hello Python!Hello Python!Hello Python!Hello Python!Hello Python!Hello Python!Hello Python!Hello Python!Hello Python!Hello Python!Hello Python!Hello Python!Hello Python!Hello Python!Hello Python!Hello Python!Hello Python!Hello Python!Hello Python!Hello Python!Hello Python!Hello Python!Hello Python!Hello Python!Hello Python!Hello Python!Hello Python!Hello Python!Hello Python!Hello Python!Hello Python!Hello Python!Hello Python!Hello Python!Hello Python!Hello Python!Hello Python!Hello Python!Hello Python!Hello Python!Hello Python!Hello Python!Hello Python!Hello Python!Hello Python!Hello Python!Hello Python!Hello Python!Hello Python!Hello Python!Hello Python!Hello Python!Hello Python!Hello Python!Hello Python!Hello Python!Hello Python!Hello Python!Hello Python!Hello Python!Hello Python!Hello Python!Hello Python!Hello Python!Hello Python!Hello Python!Hello Python!Hello Python!Hello Python!Hello Python!Hello Python!Hello Python!Hello Python!Hello Python!Hello Python!Hello Python!Hello Python!Hello Python!Hello Python!Hello Python!Hello Python!Hello Python!Hello Python!Hello Python!Hello Python!Hello Python!Hello Python!Hello Python!Hello Python!Hello Python!Hello Python!Hello Python!Hello Python!Hello Python!Hello Python!Hello Python!Hello Python!Hello Python!Hello Python!Hello Python!Hello Python!Hello Python!Hello Python!Hello Python!Hello Python!Hello Python!Hello Python!Hello Python!Hello Python!Hello Python!Hello Python!Hello Python!Hello Python!Hello Python!Hello Python!Hello Python!Hello Python!Hello Python!Hello Python!Hello Python!Hello Python!Hello Python!Hello Python!Hello Python!Hello Python!Hello Python!Hello Python!Hello Python!Hello Python!Hello Python!Hello Python!Hello Python!Hello Python!Hello Python!Hello Python!Hello Python!Hello Python!Hello Python!Hello Python!Hello Python!Hello Python!Hello Python!Hello Python!Hello Python!Hello Python!Hello Python!Hello Python!Hello Python!Hello Python!Hello Python!Hello Python!Hello Python!Hello Python!Hello Python!Hello Python!Hello Python!Hello Python!Hello Python!Hello Python!Hello Python!Hello Python!Hello Python!Hello Python!Hello Python!Hello Python!Hello Python!Hello Python!Hello Python!Hello Python!Hello Python!Hello Python!Hello Python!Hello Python!Hello Python!Hello Python!Hello Python!Hello Python!Hello Python!Hello Python!Hello Python!Hello Python!Hello Python!Hello Python!Hello Python!Hello Python!Hello Python!Hello Python!Hello Python!Hello Python!Hello Python!Hello Python!Hello Python!Hello Python!Hello Python!Hello Python!Hello Python!Hello Python!Hello Python!Hello Python!Hello Python!Hello Python!Hello Python!Hello Python!Hello Python!Hello Python!Hello Python!Hello Python!Hello Python!Hello Python!Hello Python!Hello Python!Hello Python!Hello Python!Hello Python!Hello Python!Hello Python!Hello Python!Hello Python!Hello Python!Hello Python!Hello Python!Hello Python!Hello Python!Hello Python!Hello Python!Hello Python!Hello Python!Hello Python!Hello Python!Hello Python!Hello Python!Hello Python!Hello Python!Hello Python!Hello Python!Hello Python!Hello Python!Hello Python!Hello Python!Hello Python!Hello Python!Hello Python!Hello Python!Hello Python!Hello Python!Hello Python!Hello Python!Hello Python!Hello Python!Hello Python!Hello Python!Hello Python!Hello Python!Hello Python!Hello Python!Hello Python!Hello Python!Hello Python!Hello Python!Hello Python!Hello Python!Hello Python!Hello Python!Hello Python!Hello Python!Hello Python!Hello Python!Hello Python!Hello Python!Hello Python!Hello Python!Hello Python!Hello Python!Hello Python!Hello Python!Hello Python!Hello Python!Hello Python!Hello Python!Hello Python!Hello Python!Hello Python!Hello Python!Hello Python!Hello Python!Hello Python!Hello Python!Hello Python!Hello Python!Hello Python!Hello Python!Hello Python!Hello Python!Hello Python!Hello Python!Hello Python!Hello Python!Hello Python!Hello Python!Hello Python!Hello Python!Hello Python!Hello Python!Hello Python!Hello Python!Hello Python!Hello Python!Hello Python!Hello Python!Hello Python!Hello Python!Hello Python!Hello Python!Hello Python!Hello Python!Hello Python!Hello Python!Hello Python!Hello Python!Hello Python!Hello Python!Hello Python!Hello Python!Hello Python!Hello Python!Hello Python!Hello Python!Hello Python!Hello Python!Hello Python!Hello Python!Hello Python!Hello Python!Hello Python!Hello Python!Hello Python!Hello Python!Hello Python!Hello Python!Hello Python!Hello Python!Hello Python!Hello Python!Hello Python!Hello Python!Hello Python!Hello Python!Hello Python!Hello Python!Hello Python!Hello Python!Hello Python!Hello Python!Hello Python!Hello Python!Hello Python!Hello Python!Hello Python!Hello Python!Hello Python!Hello Python!Hello Python!Hello Python!Hello Python!Hello Python!Hello Python!Hello Python!Hello Python!Hello Python!Hello Python!Hello Python!Hello Python!Hello Python!Hello Python!Hello Python!Hello Python!Hello Python!Hello Python!Hello Python!Hello Python!Hello Python!Hello Python!Hello Python!Hello Python!Hello Python!Hello Python!Hello Python!Hello Python!Hello Python!Hello Python!Hello Python!Hello Python!Hello Python!Hello Python!Hello Python!Hello Python!Hello Python!Hello Python!Hello Python!Hello Python!Hello Python!Hello Python!Hello Python!Hello Python!Hello Python!Hello Python!Hello Python!Hello Python!Hello Python!Hello Python!Hello Python!Hello Python!Hello Python!Hello Python!Hello Python!Hello Python!Hello Python!Hello Python!Hello Python!Hello Python!Hello Python!Hello Python!Hello Python!Hello Python!Hello Python!Hello Python!Hello Python!Hello Python!Hello Python!Hello Python!Hello Python!Hello Python!Hello Python!Hello Python!Hello Python!Hello Python!Hello Python!Hello Python!Hello Python!Hello Python!Hello Python!Hello Python!Hello Python!Hello Python!Hello Python!Hello Python!Hello Python!Hello Python!Hello Python!Hello Python!Hello Python!Hello Python!Hello Python!Hello Python!Hello Python!Hello Python!Hello Python!Hello Python!Hello Python!Hello Python!Hello Python!Hello Python!Hello Python!Hello Python!Hello Python!Hello Python!Hello Python!Hello Python!Hello Python!Hello Python!Hello Python!Hello Python!Hello Python!Hello Python!Hello Python!Hello Python!Hello Python!Hello Python!Hello Python!Hello Python!Hello Python!Hello Python!Hello Python!Hello Python!Hello Python!Hello Python!Hello Python!Hello Python!Hello Python!Hello Python!Hello Python!Hello Python!Hello Python!Hello Python!Hello Python!Hello Python!Hello Python!Hello Python!Hello Python!Hello Python!Hello Python!Hello Python!Hello Python!Hello Python!Hello Python!Hello Python!Hello Python!Hello Python!Hello Python!Hello Python!Hello Python!Hello Python!Hello Python!Hello Python!Hello Python!Hello Python!Hello Python!Hello Python!Hello Python!Hello Python!Hello Python!Hello Python!Hello Python!Hello Python!Hello Python!Hello Python!Hello Python!Hello Python!Hello Python!Hello Python!Hello Python!Hello Python!Hello Python!Hello Python!Hello Python!Hello Python!Hello Python!Hello Python!Hello Python!Hello Python!Hello Python!Hello Python!Hello Python!Hello Python!Hello Python!Hello Python!Hello Python!Hello Python!Hello Python!Hello Python!Hello Python!Hello Python!Hello Python!Hello Python!Hello Python!Hello Python!Hello Python!Hello Python!Hello Python!Hello Python!Hello Python!Hello Python!Hello Python!Hello Python!Hello Python!Hello Python!Hello Python!Hello Python!Hello Python!Hello Python!Hello Python!Hello Python!Hello Python!Hello Python!Hello Python!Hello Python!Hello Python!Hello Python!Hello Python!Hello Python!Hello Python!Hello Python!Hello Python!Hello Python!Hello Python!Hello Python!Hello Python!Hello Python!Hello Python!Hello Python!Hello Python!Hello Python!Hello Python!Hello Python!Hello Python!Hello Python!Hello Python!Hello Python!Hello Python!Hello Python!Hello Python!Hello Python!Hello Python!Hello Python!Hello Python!Hello Python!Hello Python!Hello Python!Hello Python!Hello Python!Hello Python!Hello Python!Hello Python!Hello Python!Hello Python!Hello Python!Hello Python!Hello Python!Hello Python!Hello Python!Hello Python!Hello Python!Hello Python!Hello Python!Hello Python!Hello Python!Hello Python!Hello Python!Hello Python!Hello Python!Hello Python!Hello Python!Hello Python!Hello Python!Hello Python!Hello Python!Hello Python!Hello Python!Hello Python!Hello Python!Hello Python!Hello Python!Hello Python!Hello Python!Hello Python!Hello Python!Hello Python!Hello Python!Hello Python!Hello Python!Hello Python!Hello Python!Hello Python!Hello Python!Hello Python!Hello Python!Hello Python!Hello Python!Hello Python!Hello Python!Hello Python!Hello Python!Hello Python!Hello Python!Hello Python!Hello Python!Hello Python!Hello Python!Hello Python!Hello Python!Hello Python!Hello Python!Hello Python!Hello Python!Hello Python!Hello Python!Hello Python!Hello Python!Hello Python!Hello Python!Hello Python!Hello Python!Hello Python!Hello Python!Hello Python!Hello Python!Hello Python!Hello Python!Hello Python!Hello Python!Hello Python!Hello Python!Hello Python!Hello Python!Hello Python!Hello Python!Hello Python!Hello Python!Hello Python!Hello Python!Hello Python!Hello Python!Hello Python!Hello Python!Hello Python!Hello Python!Hello Python!Hello Python!Hello Python!Hello Python!Hello Python!Hello Python!Hello Python!Hello Python!Hello Python!Hello Python!Hello Python!Hello Python!Hello Python!Hello Python!Hello Python!Hello Python!Hello Python!Hello Python!Hello Python!Hello Python!Hello Python!Hello Python!Hello Python!Hello Python!Hello Python!Hello Python!Hello Python!Hello Python!Hello Python!Hello Python!Hello Python!Hello Python!Hello Python!Hello Python!Hello Python!Hello Python!Hello Python!Hello Python!Hello Python!Hello Python!Hello Python!Hello Python!Hello Python!Hello Python!Hello Python!Hello Python!Hello Python!Hello Python!Hello Python!Hello Python!Hello Python!Hello Python!Hello Python!Hello Python!Hello Python!Hello Python!Hello Python!Hello Python!Hello Python!Hello Python!Hello Python!Hello Python!Hello Python!Hello Python!Hello Python!Hello Python!Hello Python!Hello Python!Hello Python!Hello Python!Hello Python!Hello Python!Hello Python!Hello Python!Hello Python!Hello Python!Hello Python!Hello Python!Hello Python!Hello Python!Hello Python!Hello Python!Hello Python!Hello Python!Hello Python!Hello Python!Hello Python!Hello Python!Hello Python!Hello Python!Hello Python!Hello Python!Hello Python!Hello Python!Hello Python!Hello Python!Hello Python!Hello Python!Hello Python!Hello Python!Hello Python!Hello Python!Hello Python!Hello Python!Hello Python!Hello Python!Hello Python!Hello Python!Hello Python!Hello Python!Hello Python!Hello Python!Hello Python!Hello Python!Hello Python!Hello Python!Hello Python!Hello Python!Hello Python!Hello Python!Hello Python!Hello Python!Hello Python!Hello Python!Hello Python!Hello Python!Hello Python!Hello Python!Hello Python!Hello Python!Hello Python!Hello Python!Hello Python!Hello Python!Hello Python!Hello Python!Hello Python!Hello Python!Hello Python!Hello Python!Hello Python!Hello Python!Hello Python!Hello Python!Hello Python!Hello Python!Hello Python!Hello Python!Hello Python!Hello Python!Hello Python!Hello Python!Hello Python!Hello Python!Hello Python!Hello Python!Hello Python!Hello Python!Hello Python!Hello Python!Hello Python!Hello Python!Hello Python!Hello Python!Hello Python!Hello Python!Hello Python!Hello Python!Hello Python!Hello Python!Hello Python!Hello Python!Hello Python!Hello Python!Hello Python!Hello Python!Hello Python!Hello Python!Hello Python!Hello Python!Hello Python!Hello Python!Hello Python!Hello Python!Hello Python!Hello Python!Hello Python!Hello Python!Hello Python!Hello Python!Hello Python!Hello Python!Hello Python!Hello Python!Hello Python!Hello Python!Hello Python!Hello Python!Hello Python!Hello Python!Hello Python!Hello Python!Hello Python!Hello Python!Hello Python!Hello Python!Hello Python!Hello Python!Hello Python!Hello Python!Hello Python!Hello Python!Hello Python!Hello Python!Hello Python!Hello Python!Hello Python!Hello Python!Hello Python!Hello Python!Hello Python!Hello Python!Hello Python!Hello Python!Hello Python!Hello Python!Hello Python!Hello Python!Hello Python!Hello Python!Hello Python!Hello Python!Hello Python!Hello Python!Hello Python!Hello Python!Hello Python!Hello Python!Hello Python!Hello Python!Hello Python!Hello Python!Hello Python!Hello Python!Hello Python!Hello Python!Hello Python!Hello Python!Hello Python!Hello Python!Hello Python!Hello Python!Hello Python!Hello Python!Hello Python!Hello Python!Hello Python!Hello Python!Hello Python!Hello Python!Hello Python!Hello Python!Hello Python!Hello Python!Hello Python!Hello Python!Hello Python!Hello Python!Hello Python!Hello Python!Hello Python!Hello Python!Hello Python!Hello Python!Hello Python!Hello Python!Hello Python!Hello Python!Hello Python!Hello Python!Hello Python!Hello Python!Hello Python!Hello Python!Hello Python!Hello Python!Hello Python!Hello Python!Hello Python!Hello Python!Hello Python!Hello Python!Hello Python!Hello Python!Hello Python!Hello Python!Hello Python!Hello Python!Hello Python!Hello Python!Hello Python!Hello Python!Hello Python!Hello Python!Hello Python!Hello Python!Hello Python!Hello Python!Hello Python!Hello Python!Hello Python!Hello Python!Hello Python!Hello Python!Hello Python!Hello Python!Hello Python!Hello Python!Hello Python!Hello Python!Hello Python!Hello Python!Hello Python!Hello Python!Hello Python!Hello Python!Hello Python!Hello Python!Hello Python!Hello Python!Hello Python!Hello Python!Hello Python!Hello Python!Hello Python!Hello Python!Hello Python!Hello Python!Hello Python!Hello Python!Hello Python!Hello Python!Hello Python!Hello Python!Hello Python!Hello Python!Hello Python!Hello Python!Hello Python!Hello Python!Hello Python!Hello Python!Hello Python!Hello Python!Hello Python!Hello Python!Hello Python!Hello Python!Hello Python!Hello Python!Hello Python!Hello Python!Hello Python!Hello Python!Hello Python!Hello Python!Hello Python!Hello Python!Hello Python!Hello Python!Hello Python!Hello Python!Hello Python!Hello Python!Hello Python!Hello Python!Hello Python!Hello Python!Hello Python!Hello Python!Hello Python!Hello Python!Hello Python!Hello Python!Hello Python!Hello Python!Hello Python!Hello Python!Hello Python!Hello Python!Hello Python!Hello Python!Hello Python!Hello Python!Hello Python!Hello Python!Hello Python!Hello Python!Hello Python!Hello Python!Hello Python!Hello Python!Hello Python!Hello Python!Hello Python!Hello Python!Hello Python!Hello Python!Hello Python!Hello Python!Hello Python!Hello Python!Hello Python!Hello Python!Hello Python!Hello Python!Hello Python!Hello Python!Hello Python!Hello Python!Hello Python!Hello Python!Hello Python!Hello Python!Hello Python!Hello Python!Hello Python!Hello Python!Hello Python!Hello Python!Hello Python!Hello Python!Hello Python!Hello Python!Hello Python!Hello Python!Hello Python!Hello Python!Hello Python!Hello Python!Hello Python!Hello Python!Hello Python!Hello Python!Hello Python!Hello Python!Hello Python!Hello Python!Hello Python!Hello Python!Hello Python!Hello Python!Hello Python!Hello Python!Hello Python!Hello Python!Hello Python!Hello Python!Hello Python!Hello Python!Hello Python!Hello Python!Hello Python!Hello Python!Hello Python!Hello Python!Hello Python!Hello Python!Hello Python!Hello Python!Hello Python!Hello Python!Hello Python!Hello Python!Hello Python!Hello Python!Hello Python!Hello Python!Hello Python!Hello Python!Hello Python!Hello Python!Hello Python!Hello Python!Hello Python!Hello Python!Hello Python!Hello Python!Hello Python!Hello Python!Hello Python!Hello Python!Hello Python!Hello Python!Hello Python!Hello Python!Hello Python!Hello Python!Hello Python!Hello Python!Hello Python!Hello Python!Hello Python!Hello Python!Hello Python!Hello Python!Hello Python!Hello Python!Hello Python!Hello Python!Hello Python!Hello Python!Hello Python!Hello Python!Hello Python!Hello Python!Hello Python!Hello Python!Hello Python!Hello Python!Hello Python!Hello Python!Hello Python!Hello Python!Hello Python!Hello Python!Hello Python!Hello Python!Hello Python!Hello Python!Hello Python!Hello Python!Hello Python!Hello Python!Hello Python!Hello Python!Hello Python!Hello Python!Hello Python!Hello Python!Hello Python!Hello Python!Hello Python!Hello Python!Hello Python!Hello Python!Hello Python!Hello Python!Hello Python!Hello Python!Hello Python!Hello Python!Hello Python!Hello Python!Hello Python!Hello Python!Hello Python!Hello Python!Hello Python!Hello Python!Hello Python!Hello Python!Hello Python!Hello Python!Hello Python!Hello Python!Hello Python!Hello Python!Hello Python!Hello Python!Hello Python!Hello Python!Hello Python!Hello Python!Hello Python!Hello Python!Hello Python!Hello Python!Hello Python!Hello Python!Hello Python!Hello Python!Hello Python!Hello Python!Hello Python!Hello Python!Hello Python!Hello Python!Hello Python!Hello Python!Hello Python!Hello Python!Hello Python!Hello Python!Hello Python!Hello Python!Hello Python!Hello Python!Hello Python!Hello Python!Hello Python!Hello Python!Hello Python!Hello Python!Hello Python!Hello Python!Hello Python!Hello Python!Hello Python!Hello Python!Hello Python!Hello Python!Hello Python!Hello Python!Hello Python!Hello Python!Hello Python!Hello Python!Hello Python!Hello Python!Hello Python!Hello Python!Hello Python!Hello Python!Hello Python!Hello Python!Hello Python!Hello Python!Hello Python!Hello Python!Hello Python!Hello Python!Hello Python!Hello Python!Hello Python!Hello Python!Hello Python!Hello Python!Hello Python!Hello Python!Hello Python!Hello Python!Hello Python!Hello Python!Hello Python!Hello Python!Hello Python!Hello Python!Hello Python!Hello Python!Hello Python!Hello Python!Hello Python!Hello Python!Hello Python!Hello Python!Hello Python!Hello Python!Hello Python!Hello Python!Hello Python!Hello Python!Hello Python!Hello Python!Hello Python!Hello Python!Hello Python!Hello Python!Hello Python!Hello Python!Hello Python!Hello Python!Hello Python!Hello Python!Hello Python!Hello Python!Hello Python!Hello Python!Hello Python!Hello Python!Hello Python!Hello Python!Hello Python!Hello Python!Hello Python!Hello Python!Hello Python!Hello Python!Hello Python!Hello Python!Hello Python!Hello Python!Hello Python!Hello Python!Hello Python!Hello Python!Hello Python!Hello Python!Hello Python!Hello Python!Hello Python!Hello Python!Hello Python!Hello Python!Hello Python!Hello Python!Hello Python!Hello Python!Hello Python!Hello Python!Hello Python!Hello Python!Hello Python!Hello Python!Hello Python!Hello Python!Hello Python!Hello Python!Hello Python!Hello Python!Hello Python!Hello Python!Hello Python!Hello Python!Hello Python!Hello Python!Hello Python!Hello Python!Hello Python!Hello Python!Hello Python!Hello Python!Hello Python!Hello Python!Hello Python!Hello Python!Hello Python!Hello Python!Hello Python!Hello Python!Hello Python!Hello Python!Hello Python!Hello Python!Hello Python!Hello Python!Hello Python!Hello Python!Hello Python!Hello Python!Hello Python!Hello Python!Hello Python!Hello Python!Hello Python!Hello Python!Hello Python!Hello Python!Hello Python!Hello Python!Hello Python!Hello Python!Hello Python!Hello Python!Hello Python!Hello Python!Hello Python!Hello Python!Hello Python!Hello Python!Hello Python!Hello Python!Hello Python!Hello Python!Hello Python!Hello Python!Hello Python!Hello Python!Hello Python!Hello Python!Hello Python!Hello Python!Hello Python!Hello Python!Hello Python!Hello Python!Hello Python!Hello Python!Hello Python!Hello Python!Hello Python!Hello Python!Hello Python!Hello Python!Hello Python!Hello Python!Hello Python!Hello Python!Hello Python!Hello Python!Hello Python!Hello Python!Hello Python!Hello Python!Hello Python!Hello Python!Hello Python!Hello Python!Hello Python!Hello Python!Hello Python!Hello Python!Hello Python!Hello Python!Hello Python!Hello Python!Hello Python!Hello Python!Hello Python!Hello Python!Hello Python!Hello Python!Hello Python!Hello Python!Hello Python!Hello Python!Hello Python!Hello Python!Hello Python!Hello Python!Hello Python!Hello Python!Hello Python!Hello Python!Hello Python!Hello Python!Hello Python!Hello Python!Hello Python!Hello Python!Hello Python!Hello Python!Hello Python!Hello Python!Hello Python!Hello Python!Hello Python!Hello Python!Hello Python!Hello Python!Hello Python!Hello Python!Hello Python!Hello Python!Hello Python!Hello Python!Hello Python!Hello Python!Hello Python!Hello Python!Hello Python!Hello Python!Hello Python!Hello Python!Hello Python!Hello Python!Hello Python!Hello Python!Hello Python!Hello Python!Hello Python!Hello Python!Hello Python!Hello Python!Hello Python!Hello Python!Hello Python!Hello Python!Hello Python!Hello Python!Hello Python!Hello Python!Hello Python!Hello Python!Hello Python!Hello Python!Hello Python!Hello Python!Hello Python!Hello Python!Hello Python!Hello Python!Hello Python!Hello Python!Hello Python!Hello Python!Hello Python!Hello Python!Hello Python!Hello Python!Hello Python!Hello Python!Hello Python!Hello Python!Hello Python!Hello Python!Hello Python!Hello Python!Hello Python!Hello Python!Hello Python!Hello Python!Hello Python!Hello Python!Hello Python!Hello Python!Hello Python!Hello Python!Hello Python!Hello Python!Hello Python!Hello Python!Hello Python!Hello Python!Hello Python!Hello Python!Hello Python!Hello Python!Hello Python!Hello Python!Hello Python!Hello Python!Hello Python!Hello Python!Hello Python!Hello Python!Hello Python!Hello Python!Hello Python!Hello Python!Hello Python!Hello Python!Hello Python!Hello Python!Hello Python!Hello Python!Hello Python!Hello Python!Hello Python!Hello Python!Hello Python!Hello Python!Hello Python!Hello Python!Hello Python!Hello Python!Hello Python!Hello Python!Hello Python!Hello Python!Hello Python!Hello Python!Hello Python!Hello Python!Hello Python!Hello Python!Hello Python!Hello Python!Hello Python!Hello Python!Hello Python!Hello Python!Hello Python!Hello Python!Hello Python!Hello Python!Hello Python!Hello Python!Hello Python!Hello Python!Hello Python!Hello Python!Hello Python!Hello Python!Hello Python!Hello Python!Hello Python!Hello Python!Hello Python!Hello Python!Hello Python!Hello Python!Hello Python!Hello Python!Hello Python!Hello Python!Hello Python!Hello Python!Hello Python!Hello Python!Hello Python!Hello Python!Hello Python!Hello Python!Hello Python!Hello Python!Hello Python!Hello Python!Hello Python!Hello Python!Hello Python!Hello Python!Hello Python!Hello Python!Hello Python!Hello Python!Hello Python!Hello Python!Hello Python!Hello Python!Hello Python!Hello Python!Hello Python!Hello Python!Hello Python!Hello Python!Hello Python!Hello Python!Hello Python!Hello Python!Hello Python!Hello Python!Hello Python!Hello Python!Hello Python!Hello Python!Hello Python!Hello Python!Hello Python!Hello Python!Hello Python!Hello Python!Hello Python!Hello Python!Hello Python!Hello Python!Hello Python!Hello Python!Hello Python!Hello Python!Hello Python!Hello Python!Hello Python!Hello Python!Hello Python!Hello Python!Hello Python!Hello Python!Hello Python!Hello Python!Hello Python!Hello Python!Hello Python!Hello Python!Hello Python!Hello Python!Hello Python!Hello Python!Hello Python!Hello Python!Hello Python!Hello Python!Hello Python!Hello Python!Hello Python!Hello Python!Hello Python!Hello Python!Hello Python!Hello Python!Hello Python!Hello Python!Hello Python!Hello Python!Hello Python!Hello Python!Hello Python!Hello Python!Hello Python!Hello Python!Hello Python!Hello Python!Hello Python!Hello Python!Hello Python!Hello Python!Hello Python!Hello Python!Hello Python!Hello Python!Hello Python!Hello Python!Hello Python!Hello Python!Hello Python!Hello Python!Hello Python!Hello Python!Hello Python!Hello Python!Hello Python!Hello Python!Hello Python!Hello Python!Hello Python!Hello Python!Hello Python!Hello Python!Hello Python!Hello Python!Hello Python!Hello Python!Hello Python!Hello Python!Hello Python!Hello Python!Hello Python!Hello Python!Hello Python!Hello Python!Hello Python!Hello Python!Hello Python!Hello Python!Hello Python!Hello Python!Hello Python!Hello Python!Hello Python!Hello Python!Hello Python!Hello Python!Hello Python!Hello Python!Hello Python!Hello Python!Hello Python!Hello Python!Hello Python!Hello Python!Hello Python!Hello Python!Hello Python!Hello Python!Hello Python!Hello Python!Hello Python!Hello Python!Hello Python!Hello Python!Hello Python!Hello Python!Hello Python!Hello Python!Hello Python!Hello Python!Hello Python!Hello Python!Hello Python!Hello Python!Hello Python!Hello Python!Hello Python!Hello Python!Hello Python!Hello Python!Hello Python!Hello Python!Hello Python!Hello Python!Hello Python!Hello Python!Hello Python!Hello Python!Hello Python!Hello Python!Hello Python!Hello Python!Hello Python!Hello Python!Hello Python!Hello Python!Hello Python!Hello Python!Hello Python!Hello Python!Hello Python!Hello Python!Hello Python!Hello Python!Hello Python!Hello Python!Hello Python!Hello Python!Hello Python!Hello Python!Hello Python!Hello Python!Hello Python!Hello Python!Hello Python!Hello Python!Hello Python!Hello Python!Hello Python!Hello Python!Hello Python!Hello Python!Hello Python!Hello Python!Hello Python!Hello Python!Hello Python!Hello Python!Hello Python!Hello Python!Hello Python!Hello Python!Hello Python!Hello Python!Hello Python!Hello Python!Hello Python!Hello Python!Hello Python!Hello Python!Hello Python!Hello Python!Hello Python!Hello Python!Hello Python!Hello Python!Hello Python!Hello Python!Hello Python!Hello Python!Hello Python!Hello Python!Hello Python!Hello Python!Hello Python!Hello Python!Hello Python!Hello Python!Hello Python!Hello Python!Hello Python!Hello Python!Hello Python!Hello Python!Hello Python!Hello Python!Hello Python!Hello Python!Hello Python!Hello Python!Hello Python!Hello Python!Hello Python!Hello Python!Hello Python!Hello Python!Hello Python!Hello Python!Hello Python!Hello Python!Hello Python!Hello Python!Hello Python!Hello Python!Hello Python!Hello Python!Hello Python!Hello Python!Hello Python!Hello Python!Hello Python!Hello Python!Hello Python!Hello Python!Hello Python!Hello Python!Hello Python!Hello Python!Hello Python!Hello Python!Hello Python!Hello Python!Hello Python!Hello Python!Hello Python!Hello Python!Hello Python!Hello Python!Hello Python!Hello Python!Hello Python!Hello Python!Hello Python!Hello Python!Hello Python!Hello Python!Hello Python!Hello Python!Hello Python!Hello Python!Hello Python!Hello Python!Hello Python!Hello Python!Hello Python!Hello Python!Hello Python!Hello Python!Hello Python!Hello Python!Hello Python!Hello Python!Hello Python!Hello Python!Hello Python!Hello Python!Hello Python!Hello Python!Hello Python!Hello Python!Hello Python!Hello Python!Hello Python!Hello Python!Hello Python!Hello Python!Hello Python!Hello Python!Hello Python!Hello Python!Hello Python!Hello Python!Hello Python!Hello Python!Hello Python!Hello Python!Hello Python!Hello Python!Hello Python!Hello Python!Hello Python!Hello Python!Hello Python!Hello Python!Hello Python!Hello Python!Hello Python!Hello Python!Hello Python!Hello Python!Hello Python!Hello Python!Hello Python!Hello Python!Hello Python!Hello Python!Hello Python!Hello Python!Hello Python!Hello Python!Hello Python!Hello Python!Hello Python!Hello Python!Hello Python!Hello Python!Hello Python!Hello Python!Hello Python!Hello Python!Hello Python!Hello Python!Hello Python!Hello Python!Hello Python!Hello Python!Hello Python!Hello Python!Hello Python!Hello Python!Hello Python!Hello Python!Hello Python!Hello Python!Hello Python!Hello Python!Hello Python!Hello Python!Hello Python!Hello Python!Hello Python!Hello Python!Hello Python!Hello Python!Hello Python!Hello Python!Hello Python!Hello Python!Hello Python!Hello Python!Hello Python!Hello Python!Hello Python!Hello Python!Hello Python!Hello Python!Hello Python!Hello Python!Hello Python!Hello Python!Hello Python!Hello Python!Hello Python!Hello Python!Hello Python!Hello Python!Hello Python!Hello Python!Hello Python!Hello Python!Hello Python!Hello Python!Hello Python!Hello Python!Hello Python!Hello Python!Hello Python!Hello Python!Hello Python!Hello Python!Hello Python!Hello Python!Hello Python!Hello Python!Hello Python!Hello Python!Hello Python!Hello Python!Hello Python!Hello Python!Hello Python!Hello Python!Hello Python!Hello Python!Hello Python!Hello Python!Hello Python!Hello Python!Hello Python!Hello Python!Hello Python!Hello Python!Hello Python!Hello Python!Hello Python!Hello Python!Hello Python!Hello Python!Hello Python!Hello Python!Hello Python!Hello Python!Hello Python!Hello Python!Hello Python!Hello Python!Hello Python!Hello Python!Hello Python!Hello Python!Hello Python!Hello Python!Hello Python!Hello Python!Hello Python!Hello Python!Hello Python!Hello Python!Hello Python!Hello Python!Hello Python!Hello Python!Hello Python!Hello Python!Hello Python!Hello Python!Hello Python!Hello Python!Hello Python!Hello Python!Hello Python!Hello Python!Hello Python!Hello Python!Hello Python!Hello Python!Hello Python!Hello Python!Hello Python!Hello Python!Hello Python!Hello Python!Hello Python!Hello Python!Hello Python!Hello Python!Hello Python!Hello Python!Hello Python!Hello Python!Hello Python!Hello Python!Hello Python!Hello Python!Hello Python!Hello Python!Hello Python!Hello Python!Hello Python!Hello Python!Hello Python!Hello Python!Hello Python!Hello Python!Hello Python!Hello Python!Hello Python!Hello Python!Hello Python!Hello Python!Hello Python!Hello Python!Hello Python!Hello Python!Hello Python!Hello Python!Hello Python!Hello Python!Hello Python!Hello Python!Hello Python!Hello Python!Hello Python!Hello Python!Hello Python!Hello Python!Hello Python!Hello Python!Hello Python!Hello Python!Hello Python!Hello Python!Hello Python!Hello Python!Hello Python!Hello Python!Hello Python!Hello Python!Hello Python!Hello Python!Hello Python!Hello Python!Hello Python!Hello Python!Hello Python!Hello Python!Hello Python!Hello Python!Hello Python!Hello Python!Hello Python!Hello Python!Hello Python!Hello Python!Hello Python!Hello Python!Hello Python!Hello Python!Hello Python!Hello Python!Hello Python!Hello Python!Hello Python!Hello Python!Hello Python!Hello Python!Hello Python!Hello Python!Hello Python!Hello Python!Hello Python!Hello Python!Hello Python!Hello Python!Hello Python!Hello Python!Hello Python!Hello Python!Hello Python!Hello Python!Hello Python!Hello Python!Hello Python!Hello Python!Hello Python!Hello Python!Hello Python!Hello Python!Hello Python!Hello Python!Hello Python!Hello Python!Hello Python!Hello Python!Hello Python!Hello Python!Hello Python!Hello Python!Hello Python!Hello Python!Hello Python!Hello Python!Hello Python!Hello Python!Hello Python!Hello Python!Hello Python!Hello Python!Hello Python!Hello Python!Hello Python!Hello Python!Hello Python!Hello Python!Hello Python!Hello Python!Hello Python!Hello Python!Hello Python!Hello Python!Hello Python!Hello Python!Hello Python!Hello Python!Hello Python!Hello Python!Hello Python!Hello Python!Hello Python!Hello Python!Hello Python!Hello Python!Hello Python!Hello Python!Hello Python!Hello Python!Hello Python!Hello Python!Hello Python!Hello Python!Hello Python!Hello Python!Hello Python!Hello Python!Hello Python!Hello Python!Hello Python!Hello Python!Hello Python!Hello Python!Hello Python!Hello Python!Hello Python!Hello Python!Hello Python!Hello Python!Hello Python!Hello Python!Hello Python!Hello Python!Hello Python!Hello Python!Hello Python!Hello Python!Hello Python!Hello Python!Hello Python!Hello Python!Hello Python!Hello Python!Hello Python!Hello Python!Hello Python!Hello Python!Hello Python!Hello Python!Hello Python!Hello Python!Hello Python!Hello Python!Hello Python!Hello Python!Hello Python!Hello Python!Hello Python!Hello Python!Hello Python!Hello Python!Hello Python!Hello Python!Hello Python!Hello Python!Hello Python!Hello Python!Hello Python!Hello Python!Hello Python!Hello Python!Hello Python!Hello Python!Hello Python!Hello Python!Hello Python!Hello Python!Hello Python!Hello Python!Hello Python!Hello Python!Hello Python!Hello Python!Hello Python!Hello Python!Hello Python!Hello Python!Hello Python!Hello Python!Hello Python!Hello Python!Hello Python!Hello Python!Hello Python!Hello Python!Hello Python!Hello Python!Hello Python!Hello Python!Hello Python!Hello Python!Hello Python!Hello Python!Hello Python!Hello Python!Hello Python!Hello Python!Hello Python!Hello Python!Hello Python!Hello Python!Hello Python!Hello Python!Hello Python!Hello Python!Hello Python!Hello Python!Hello Python!Hello Python!Hello Python!Hello Python!Hello Python!Hello Python!Hello Python!Hello Python!Hello Python!Hello Python!Hello Python!Hello Python!Hello Python!Hello Python!Hello Python!Hello Python!Hello Python!Hello Python!Hello Python!Hello Python!Hello Python!Hello Python!Hello Python!Hello Python!Hello Python!Hello Python!Hello Python!Hello Python!Hello Python!Hello Python!Hello Python!Hello Python!Hello Python!Hello Python!Hello Python!Hello Python!Hello Python!Hello Python!Hello Python!Hello Python!Hello Python!Hello Python!Hello Python!Hello Python!Hello Python!Hello Python!Hello Python!Hello Python!Hello Python!Hello Python!Hello Python!Hello Python!Hello Python!Hello Python!Hello Python!Hello Python!Hello Python!Hello Python!Hello Python!Hello Python!Hello Python!Hello Python!Hello Python!Hello Python!Hello Python!Hello Python!Hello Python!Hello Python!Hello Python!Hello Python!Hello Python!Hello Python!Hello Python!Hello Python!Hello Python!Hello Python!Hello Python!Hello Python!Hello Python!Hello Python!Hello Python!Hello Python!Hello Python!Hello Python!Hello Python!Hello Python!Hello Python!Hello Python!Hello Python!Hello Python!Hello Python!Hello Python!Hello Python!Hello Python!Hello Python!Hello Python!Hello Python!Hello Python!Hello Python!Hello Python!Hello Python!Hello Python!Hello Python!Hello Python!Hello Python!Hello Python!Hello Python!Hello Python!Hello Python!Hello Python!Hello Python!Hello Python!Hello Python!Hello Python!Hello Python!Hello Python!Hello Python!Hello Python!Hello Python!Hello Python!Hello Python!Hello Python!Hello Python!Hello Python!Hello Python!Hello Python!Hello Python!Hello Python!Hello Python!Hello Python!Hello Python!Hello Python!Hello Python!Hello Python!Hello Python!Hello Python!Hello Python!Hello Python!Hello Python!Hello Python!Hello Python!Hello Python!Hello Python!Hello Python!Hello Python!Hello Python!Hello Python!Hello Python!Hello Python!Hello Python!Hello Python!Hello Python!Hello Python!Hello Python!Hello Python!Hello Python!Hello Python!Hello Python!Hello Python!Hello Python!Hello Python!Hello Python!Hello Python!Hello Python!Hello Python!Hello Python!Hello Python!Hello Python!Hello Python!Hello Python!Hello Python!Hello Python!Hello Python!Hello Python!Hello Python!Hello Python!Hello Python!Hello Python!Hello Python!Hello Python!Hello Python!Hello Python!Hello Python!Hello Python!Hello Python!Hello Python!Hello Python!Hello Python!Hello Python!Hello Python!Hello Python!Hello Python!Hello Python!Hello Python!Hello Python!Hello Python!Hello Python!Hello Python!Hello Python!Hello Python!Hello Python!Hello Python!Hello Python!Hello Python!Hello Python!Hello Python!Hello Python!Hello Python!Hello Python!Hello Python!Hello Python!Hello Python!Hello Python!Hello Python!Hello Python!Hello Python!Hello Python!Hello Python!Hello Python!Hello Python!Hello Python!Hello Python!Hello Python!Hello Python!Hello Python!Hello Python!Hello Python!Hello Python!Hello Python!Hello Python!Hello Python!Hello Python!Hello Python!Hello Python!Hello Python!Hello Python!Hello Python!Hello Python!Hello Python!Hello Python!Hello Python!Hello Python!Hello Python!Hello Python!Hello Python!Hello Python!Hello Python!Hello Python!Hello Python!Hello Python!Hello Python!Hello Python!Hello Python!Hello Python!Hello Python!Hello Python!Hello Python!Hello Python!Hello Python!Hello Python!Hello Python!Hello Python!Hello Python!Hello Python!Hello Python!Hello Python!Hello Python!Hello Python!Hello Python!Hello Python!Hello Python!Hello Python!Hello Python!Hello Python!Hello Python!Hello Python!Hello Python!Hello Python!Hello Python!Hello Python!Hello Python!Hello Python!Hello Python!Hello Python!Hello Python!Hello Python!Hello Python!Hello Python!Hello Python!Hello Python!Hello Python!Hello Python!Hello Python!Hello Python!Hello Python!Hello Python!Hello Python!Hello Python!Hello Python!Hello Python!Hello Python!Hello Python!Hello Python!Hello Python!Hello Python!Hello Python!Hello Python!Hello Python!Hello Python!Hello Python!Hello Python!Hello Python!Hello Python!Hello Python!Hello Python!Hello Python!Hello Python!Hello Python!Hello Python!Hello Python!Hello Python!Hello Python!Hello Python!Hello Python!Hello Python!Hello Python!Hello Python!Hello Python!Hello Python!Hello Python!Hello Python!Hello Python!Hello Python!Hello Python!Hello Python!Hello Python!Hello Python!Hello Python!Hello Python!Hello Python!Hello Python!Hello Python!Hello Python!Hello Python!Hello Python!Hello Python!Hello Python!Hello Python!Hello Python!Hello Python!Hello Python!Hello Python!Hello Python!Hello Python!Hello Python!Hello Python!Hello Python!Hello Python!Hello Python!Hello Python!Hello Python!Hello Python!Hello Python!Hello Python!Hello Python!Hello Python!Hello Python!Hello Python!Hello Python!Hello Python!Hello Python!Hello Python!Hello Python!Hello Python!Hello Python!Hello Python!Hello Python!Hello Python!Hello Python!Hello Python!Hello Python!Hello Python!Hello Python!Hello Python!Hello Python!Hello Python!Hello Python!Hello Python!Hello Python!Hello Python!Hello Python!Hello Python!Hello Python!Hello Python!Hello Python!Hello Python!Hello Python!Hello Python!Hello Python!Hello Python!Hello Python!Hello Python!Hello Python!Hello Python!Hello Python!Hello Python!Hello Python!Hello Python!Hello Python!Hello Python!Hello Python!Hello Python!Hello Python!Hello Python!Hello Python!Hello Python!Hello Python!Hello Python!Hello Python!Hello Python!Hello Python!Hello Python!Hello Python!Hello Python!Hello Python!Hello Python!Hello Python!Hello Python!Hello Python!Hello Python!Hello Python!Hello Python!Hello Python!Hello Python!Hello Python!Hello Python!Hello Python!Hello Python!Hello Python!Hello Python!Hello Python!Hello Python!Hello Python!Hello Python!Hello Python!Hello Python!Hello Python!Hello Python!Hello Python!Hello Python!Hello Python!Hello Python!Hello Python!Hello Python!Hello Python!Hello Python!Hello Python!Hello Python!Hello Python!Hello Python!Hello Python!Hello Python!Hello Python!Hello Python!Hello Python!Hello Python!Hello Python!Hello Python!Hello Python!Hello Python!Hello Python!Hello Python!Hello Python!Hello Python!Hello Python!Hello Python!Hello Python!Hello Python!Hello Python!Hello Python!Hello Python!Hello Python!Hello Python!Hello Python!Hello Python!Hello Python!Hello Python!Hello Python!Hello Python!Hello Python!Hello Python!Hello Python!Hello Python!Hello Python!Hello Python!Hello Python!Hello Python!Hello Python!Hello Python!Hello Python!Hello Python!Hello Python!Hello Python!Hello Python!Hello Python!Hello Python!Hello Python!Hello Python!Hello Python!Hello Python!Hello Python!Hello Python!Hello Python!Hello Python!Hello Python!Hello Python!Hello Python!Hello Python!Hello Python!Hello Python!Hello Python!Hello Python!Hello Python!Hello Python!Hello Python!Hello Python!Hello Python!Hello Python!Hello Python!Hello Python!Hello Python!Hello Python!Hello Python!Hello Python!Hello Python!Hello Python!Hello Python!Hello Python!Hello Python!Hello Python!Hello Python!Hello Python!Hello Python!Hello Python!Hello Python!Hello Python!Hello Python!Hello Python!Hello Python!Hello Python!Hello Python!Hello Python!Hello Python!Hello Python!Hello Python!Hello Python!Hello Python!Hello Python!Hello Python!Hello Python!Hello Python!Hello Python!Hello Python!Hello Python!Hello Python!Hello Python!Hello Python!Hello Python!Hello Python!Hello Python!Hello Python!Hello Python!Hello Python!Hello Python!Hello Python!Hello Python!Hello Python!Hello Python!Hello Python!Hello Python!Hello Python!Hello Python!Hello Python!Hello Python!Hello Python!Hello Python!Hello Python!Hello Python!Hello Python!Hello Python!Hello Python!Hello Python!Hello Python!Hello Python!Hello Python!Hello Python!Hello Python!Hello Python!Hello Python!Hello Python!Hello Python!Hello Python!Hello Python!Hello Python!Hello Python!Hello Python!Hello Python!Hello Python!Hello Python!Hello Python!Hello Python!Hello Python!Hello Python!Hello Python!Hello Python!Hello Python!Hello Python!Hello Python!Hello Python!Hello Python!Hello Python!Hello Python!Hello Python!Hello Python!Hello Python!Hello Python!Hello Python!Hello Python!Hello Python!Hello Python!Hello Python!Hello Python!Hello Python!Hello Python!Hello Python!Hello Python!Hello Python!Hello Python!Hello Python!Hello Python!Hello Python!Hello Python!Hello Python!Hello Python!Hello Python!Hello Python!Hello Python!Hello Python!Hello Python!Hello Python!Hello Python!Hello Python!Hello Python!Hello Python!Hello Python!Hello Python!Hello Python!Hello Python!Hello Python!Hello Python!Hello Python!Hello Python!Hello Python!Hello Python!Hello Python!Hello Python!Hello Python!Hello Python!Hello Python!Hello Python!Hello Python!Hello Python!Hello Python!Hello Python!Hello Python!Hello Python!Hello Python!Hello Python!Hello Python!Hello Python!Hello Python!Hello Python!Hello Python!Hello Python!Hello Python!Hello Python!Hello Python!Hello Python!Hello Python!Hello Python!Hello Python!Hello Python!Hello Python!Hello Python!Hello Python!Hello Python!Hello Python!Hello Python!Hello Python!Hello Python!Hello Python!Hello Python!Hello Python!Hello Python!Hello Python!Hello Python!Hello Python!Hello Python!Hello Python!Hello Python!Hello Python!Hello Python!Hello Python!Hello Python!Hello Python!Hello Python!Hello Python!Hello Python!Hello Python!Hello Python!Hello Python!Hello Python!Hello Python!Hello Python!Hello Python!Hello Python!Hello Python!Hello Python!Hello Python!Hello Python!Hello Python!Hello Python!Hello Python!Hello Python!Hello Python!Hello Python!Hello Python!Hello Python!Hello Python!Hello Python!Hello Python!Hello Python!Hello Python!Hello Python!Hello Python!Hello Python!Hello Python!Hello Python!Hello Python!Hello Python!Hello Python!Hello Python!Hello Python!Hello Python!Hello Python!Hello Python!Hello Python!Hello Python!Hello Python!Hello Python!Hello Python!Hello Python!Hello Python!Hello Python!Hello Python!Hello Python!Hello Python!Hello Python!Hello Python!Hello Python!Hello Python!Hello Python!Hello Python!Hello Python!Hello Python!Hello Python!Hello Python!Hello Python!Hello Python!Hello Python!Hello Python!Hello Python!Hello Python!Hello Python!Hello Python!Hello Python!Hello Python!Hello Python!Hello Python!Hello Python!Hello Python!Hello Python!Hello Python!Hello Python!Hello Python!Hello Python!Hello Python!Hello Python!Hello Python!Hello Python!Hello Python!Hello Python!Hello Python!Hello Python!Hello Python!Hello Python!Hello Python!Hello Python!Hello Python!Hello Python!Hello Python!Hello Python!Hello Python!Hello Python!Hello Python!Hello Python!Hello Python!Hello Python!Hello Python!Hello Python!Hello Python!Hello Python!Hello Python!Hello Python!Hello Python!Hello Python!Hello Python!Hello Python!Hello Python!Hello Python!Hello Python!Hello Python!Hello Python!Hello Python!Hello Python!Hello Python!Hello Python!Hello Python!Hello Python!Hello Python!Hello Python!Hello Python!Hello Python!Hello Python!Hello Python!Hello Python!Hello Python!Hello Python!Hello Python!Hello Python!Hello Python!Hello Python!Hello Python!Hello Python!Hello Python!Hello Python!Hello Python!Hello Python!Hello Python!Hello Python!Hello Python!Hello Python!Hello Python!Hello Python!Hello Python!Hello Python!Hello Python!Hello Python!Hello Python!Hello Python!Hello Python!Hello Python!Hello Python!Hello Python!Hello Python!Hello Python!Hello Python!Hello Python!Hello Python!Hello Python!Hello Python!Hello Python!Hello Python!Hello Python!Hello Python!Hello Python!Hello Python!Hello Python!Hello Python!Hello Python!Hello Python!Hello Python!Hello Python!Hello Python!Hello Python!Hello Python!Hello Python!Hello Python!Hello Python!Hello Python!Hello Python!Hello Python!Hello Python!Hello Python!Hello Python!Hello Python!Hello Python!Hello Python!Hello Python!Hello Python!Hello Python!Hello Python!Hello Python!Hello Python!Hello Python!Hello Python!Hello Python!Hello Python!Hello Python!Hello Python!Hello Python!Hello Python!Hello Python!Hello Python!Hello Python!Hello Python!Hello Python!Hello Python!Hello Python!Hello Python!Hello Python!Hello Python!Hello Python!Hello Python!Hello Python!Hello Python!Hello Python!Hello Python!Hello Python!Hello Python!Hello Python!Hello Python!Hello Python!Hello Python!Hello Python!Hello Python!Hello Python!Hello Python!Hello Python!Hello Python!Hello Python!Hello Python!Hello Python!Hello Python!Hello Python!Hello Python!Hello Python!Hello Python!Hello Python!Hello Python!Hello Python!Hello Python!Hello Python!Hello Python!Hello Python!Hello Python!Hello Python!Hello Python!Hello Python!Hello Python!Hello Python!Hello Python!Hello Python!Hello Python!Hello Python!Hello Python!Hello Python!Hello Python!Hello Python!Hello Python!Hello Python!Hello Python!Hello Python!Hello Python!Hello Python!Hello Python!Hello Python!Hello Python!Hello Python!Hello Python!Hello Python!Hello Python!Hello Python!Hello Python!Hello Python!Hello Python!Hello Python!Hello Python!Hello Python!Hello Python!Hello Python!Hello Python!Hello Python!Hello Python!Hello Python!Hello Python!Hello Python!Hello Python!Hello Python!Hello Python!Hello Python!Hello Python!Hello Python!Hello Python!Hello Python!Hello Python!Hello Python!Hello Python!Hello Python!Hello Python!Hello Python!Hello Python!Hello Python!Hello Python!Hello Python!Hello Python!Hello Python!Hello Python!Hello Python!Hello Python!Hello Python!Hello Python!Hello Python!Hello Python!Hello Python!Hello Python!Hello Python!Hello Python!Hello Python!Hello Python!Hello Python!Hello Python!Hello Python!Hello Python!Hello Python!Hello Python!Hello Python!Hello Python!Hello Python!Hello Python!Hello Python!Hello Python!Hello Python!Hello Python!Hello Python!Hello Python!Hello Python!Hello Python!Hello Python!Hello Python!Hello Python!Hello Python!Hello Python!Hello Python!Hello Python!Hello Python!Hello Python!Hello Python!Hello Python!Hello Python!Hello Python!Hello Python!Hello Python!Hello Python!Hello Python!Hello Python!Hello Python!Hello Python!Hello Python!Hello Python!Hello Python!Hello Python!Hello Python!Hello Python!Hello Python!Hello Python!Hello Python!Hello Python!Hello Python!Hello Python!Hello Python!Hello Python!Hello Python!Hello Python!Hello Python!Hello Python!Hello Python!Hello Python!Hello Python!Hello Python!Hello Python!Hello Python!Hello Python!Hello Python!Hello Python!Hello Python!Hello Python!Hello Python!Hello Python!Hello Python!Hello Python!Hello Python!Hello Python!Hello Python!Hello Python!Hello Python!Hello Python!Hello Python!Hello Python!Hello Python!Hello Python!Hello Python!Hello Python!Hello Python!Hello Python!Hello Python!Hello Python!Hello Python!Hello Python!Hello Python!Hello Python!Hello Python!Hello Python!Hello Python!Hello Python!Hello Python!Hello Python!Hello Python!Hello Python!Hello Python!Hello Python!Hello Python!Hello Python!Hello Python!Hello Python!Hello Python!Hello Python!Hello Python!Hello Python!Hello Python!Hello Python!Hello Python!Hello Python!Hello Python!Hello Python!Hello Python!Hello Python!Hello Python!Hello Python!Hello Python!Hello Python!Hello Python!Hello Python!Hello Python!Hello Python!Hello Python!Hello Python!Hello Python!Hello Python!Hello Python!Hello Python!Hello Python!Hello Python!Hello Python!Hello Python!Hello Python!Hello Python!Hello Python!Hello Python!Hello Python!Hello Python!Hello Python!Hello Python!Hello Python!Hello Python!Hello Python!Hello Python!Hello Python!Hello Python!Hello Python!Hello Python!Hello Python!Hello Python!Hello Python!Hello Python!Hello Python!Hello Python!Hello Python!Hello Python!Hello Python!Hello Python!Hello Python!Hello Python!Hello Python!Hello Python!Hello Python!Hello Python!Hello Python!Hello Python!Hello Python!Hello Python!Hello Python!Hello Python!Hello Python!Hello Python!Hello Python!Hello Python!Hello Python!Hello Python!Hello Python!Hello Python!Hello Python!Hello Python!Hello Python!Hello Python!Hello Python!Hello Python!Hello Python!Hello Python!Hello Python!Hello Python!Hello Python!Hello Python!Hello Python!Hello Python!Hello Python!Hello Python!Hello Python!Hello Python!Hello Python!Hello Python!Hello Python!Hello Python!Hello Python!Hello Python!Hello Python!Hello Python!Hello Python!Hello Python!Hello Python!Hello Python!Hello Python!Hello Python!Hello Python!Hello Python!Hello Python!Hello Python!Hello Python!Hello Python!Hello Python!Hello Python!Hello Python!Hello Python!Hello Python!Hello Python!Hello Python!Hello Python!Hello Python!Hello Python!Hello Python!Hello Python!Hello Python!Hello Python!Hello Python!Hello Python!Hello Python!Hello Python!Hello Python!Hello Python!Hello Python!Hello Python!Hello Python!Hello Python!Hello Python!Hello Python!Hello Python!Hello Python!Hello Python!Hello Python!Hello Python!Hello Python!Hello Python!Hello Python!Hello Python!Hello Python!Hello Python!Hello Python!Hello Python!Hello Python!Hello Python!Hello Python!Hello Python!Hello Python!Hello Python!Hello Python!Hello Python!Hello Python!Hello Python!Hello Python!Hello Python!Hello Python!Hello Python!Hello Python!Hello Python!Hello Python!Hello Python!Hello Python!Hello Python!Hello Python!Hello Python!Hello Python!Hello Python!Hello Python!Hello Python!Hello Python!Hello Python!Hello Python!Hello Python!Hello Python!Hello Python!Hello Python!Hello Python!Hello Python!Hello Python!Hello Python!Hello Python!Hello Python!Hello Python!Hello Python!Hello Python!Hello Python!Hello Python!Hello Python!Hello Python!Hello Python!Hello Python!Hello Python!Hello Python!Hello Python!Hello Python!Hello Python!Hello Python!Hello Python!Hello Python!Hello Python!Hello Python!Hello Python!Hello Python!Hello Python!Hello Python!Hello Python!Hello Python!Hello Python!Hello Python!Hello Python!Hello Python!Hello Python!Hello Python!Hello Python!Hello Python!Hello Python!Hello Python!Hello Python!Hello Python!Hello Python!Hello Python!Hello Python!Hello Python!Hello Python!Hello Python!Hello Python!Hello Python!Hello Python!Hello Python!Hello Python!Hello Python!Hello Python!Hello Python!Hello Python!Hello Python!Hello Python!Hello Python!Hello Python!Hello Python!Hello Python!Hello Python!Hello Python!Hello Python!Hello Python!Hello Python!Hello Python!Hello Python!Hello Python!Hello Python!Hello Python!Hello Python!Hello Python!Hello Python!Hello Python!Hello Python!Hello Python!Hello Python!Hello Python!Hello Python!Hello Python!Hello Python!Hello Python!Hello Python!Hello Python!Hello Python!Hello Python!Hello Python!Hello Python!Hello Python!Hello Python!Hello Python!Hello Python!Hello Python!Hello Python!Hello Python!Hello Python!Hello Python!Hello Python!Hello Python!Hello Python!Hello Python!Hello Python!Hello Python!Hello Python!Hello Python!Hello Python!Hello Python!Hello Python!Hello Python!Hello Python!Hello Python!Hello Python!Hello Python!Hello Python!Hello Python!Hello Python!Hello Python!Hello Python!Hello Python!Hello Python!Hello Python!Hello Python!Hello Python!Hello Python!Hello Python!Hello Python!Hello Python!Hello Python!Hello Python!Hello Python!Hello Python!Hello Python!Hello Python!Hello Python!Hello Python!Hello Python!Hello Python!Hello Python!Hello Python!Hello Python!Hello Python!Hello Python!Hello Python!Hello Python!Hello Python!Hello Python!Hello Python!Hello Python!Hello Python!Hello Python!Hello Python!Hello Python!Hello Python!Hello Python!Hello Python!Hello Python!Hello Python!Hello Python!Hello Python!Hello Python!Hello Python!Hello Python!Hello Python!Hello Python!Hello Python!Hello Python!Hello Python!Hello Python!Hello Python!Hello Python!Hello Python!Hello Python!Hello Python!Hello Python!Hello Python!Hello Python!Hello Python!Hello Python!Hello Python!Hello Python!Hello Python!Hello Python!Hello Python!Hello Python!Hello Python!Hello Python!Hello Python!Hello Python!Hello Python!Hello Python!Hello Python!Hello Python!Hello Python!Hello Python!Hello Python!Hello Python!Hello Python!Hello Python!Hello Python!Hello Python!Hello Python!Hello Python!Hello Python!Hello Python!Hello Python!Hello Python!Hello Python!Hello Python!Hello Python!Hello Python!Hello Python!Hello Python!Hello Python!Hello Python!Hello Python!Hello Python!Hello Python!Hello Python!Hello Python!Hello Python!Hello Python!Hello Python!Hello Python!Hello Python!Hello Python!Hello Python!Hello Python!Hello Python!Hello Python!Hello Python!Hello Python!Hello Python!Hello Python!Hello Python!Hello Python!Hello Python!Hello Python!Hello Python!Hello Python!Hello Python!Hello Python!Hello Python!Hello Python!Hello Python!Hello Python!Hello Python!Hello Python!Hello Python!Hello Python!Hello Python!Hello Python!Hello Python!Hello Python!Hello Python!Hello Python!Hello Python!Hello Python!Hello Python!Hello Python!Hello Python!Hello Python!Hello Python!Hello Python!Hello Python!Hello Python!Hello Python!Hello Python!Hello Python!Hello Python!Hello Python!Hello Python!Hello Python!Hello Python!Hello Python!Hello Python!Hello Python!Hello Python!Hello Python!Hello Python!Hello Python!Hello Python!Hello Python!Hello Python!Hello Python!Hello Python!'"
      ]
     },
     "execution_count": 60,
     "metadata": {},
     "output_type": "execute_result"
    }
   ],
   "source": [
    "data = 'Hello Python!' * 10000\n",
    "data"
   ]
  },
  {
   "cell_type": "code",
   "execution_count": 54,
   "id": "08c67e59",
   "metadata": {
    "scrolled": true
   },
   "outputs": [
    {
     "name": "stdout",
     "output_type": "stream",
     "text": [
      "130000\n"
     ]
    }
   ],
   "source": [
    "print(len(data)) # 130000 bytes"
   ]
  },
  {
   "cell_type": "code",
   "execution_count": 56,
   "id": "8fb0fb34",
   "metadata": {},
   "outputs": [
    {
     "name": "stdout",
     "output_type": "stream",
     "text": [
      "293\n"
     ]
    }
   ],
   "source": [
    "compress_data = zlib.compress(data.encode(encoding='utf-8'))\n",
    "print(len(compress_data)) # 293 bytes"
   ]
  },
  {
   "cell_type": "code",
   "execution_count": 57,
   "id": "c071ce89",
   "metadata": {},
   "outputs": [
    {
     "data": {
      "text/plain": [
       "b'x\\x9c\\xed\\xc71\\r\\x00 \\x0c\\x000+\\xe0f\\'&H8\\x16\\xf6\\xf0\\xe0\\x1e\\x1f\\xa4\\xfd\\x1a3\\xb3\\xda\\xb8g\\xd5\\xee!\"\"\"\"\"\"\"\"\"\"\"\"\"\"\"\"\"\"\"\"\"\"\"\"\"\"\"\"\"\"\"\"\"\"\"\"\"\"\"\"\"\"\"\"\"\"\"\"\"\"\"\"\"\"\"\"\"\"\"\"\"\"\"\"\"\"\"\"\"\"\"\"\"\"\"\"\"\"\"\"\"\"\"\"\"\"\"\"\"\"\"\"\"\"\"\"\"\"\"\"\"\"\"\"\"\"\"\"\"\"\"\"\"\"\"\"\"\"\"\"\"\"\"\"\"\"\"\"\"\"\"\"\"\"\"\"\"\"\"\"\"\"\"\"\"\"\"\"\"\"\"\"\"\"\"\"\"\"\"\"\"\"\"\"\"\"\"\"\"\"\"\"\"\"\"\"\"\"\"\"\"\"\"\"\"\"\"\"\"\"\"\"\"\"\"\"\"\"\"\"\"\"\"\"\"\"\"\"\"\"\"\"\"\"\"\"\"\"\"\"\"\"\"\"\"\"\"\"\"\"\"\"\"\"\"\"\"\"\"\"\"\"\"\"\"\"\"\"\"\"\"?\\xe6\\x01le79'"
      ]
     },
     "execution_count": 57,
     "metadata": {},
     "output_type": "execute_result"
    }
   ],
   "source": [
    "compress_data"
   ]
  },
  {
   "cell_type": "code",
   "execution_count": 58,
   "id": "0929d51b",
   "metadata": {},
   "outputs": [
    {
     "name": "stdout",
     "output_type": "stream",
     "text": [
      "130000\n"
     ]
    }
   ],
   "source": [
    "org_data = zlib.decompress(compress_data).decode('utf-8')\n",
    "print(len(org_data)) # 13000 bytes"
   ]
  },
  {
   "cell_type": "markdown",
   "id": "18016342",
   "metadata": {},
   "source": [
    "### 3-3. gzip\n",
    "* 파일을 압축하거나 해제할 때 사용하는 모듈\n",
    "* 내부적으로 zlib 알고리즘을 사용"
   ]
  },
  {
   "cell_type": "code",
   "execution_count": 63,
   "id": "de388308",
   "metadata": {},
   "outputs": [],
   "source": [
    "import gzip"
   ]
  },
  {
   "cell_type": "code",
   "execution_count": 61,
   "id": "2a490e29",
   "metadata": {},
   "outputs": [],
   "source": [
    "with open('org_data.txt', 'w') as f:\n",
    "    f.write(data)"
   ]
  },
  {
   "cell_type": "code",
   "execution_count": 65,
   "id": "2bf27fc4",
   "metadata": {},
   "outputs": [],
   "source": [
    "# gzip으로 압축\n",
    "with gzip.open('compressed.txt.gz', 'wb') as f:\n",
    "    f.write(data.encode('utf-8'))"
   ]
  },
  {
   "cell_type": "code",
   "execution_count": 67,
   "id": "34a7678c",
   "metadata": {},
   "outputs": [
    {
     "data": {
      "text/plain": [
       "130000"
      ]
     },
     "execution_count": 67,
     "metadata": {},
     "output_type": "execute_result"
    }
   ],
   "source": [
    "# gzip 압축 해제\n",
    "with gzip.open('compressed.txt.gz', 'rb') as f:\n",
    "    org_data = f.read().decode('utf-8')\n",
    "\n",
    "len(org_data) # 130000 bytes"
   ]
  },
  {
   "cell_type": "markdown",
   "id": "35b180b3",
   "metadata": {},
   "source": [
    "### 3-4. zipfile\n",
    "* 여러개 파일을 zip 확장자로 합쳐서 압축할 때 사용하는 모듈"
   ]
  },
  {
   "cell_type": "code",
   "execution_count": 68,
   "id": "b8198c82",
   "metadata": {},
   "outputs": [],
   "source": [
    "import zipfile"
   ]
  },
  {
   "cell_type": "code",
   "execution_count": 69,
   "id": "e0745e8d",
   "metadata": {},
   "outputs": [],
   "source": [
    "# 파일 합치고 압축하기\n",
    "with zipfile.ZipFile('./sample/새파일.zip', 'w') as myzip:\n",
    "    myzip.write('./sample/새파일1.txt')\n",
    "    myzip.write('./sample/새파일2.txt')\n",
    "    myzip.write('./sample/새파일3.txt')\n",
    "    myzip.write('./sample/새파일4.txt')\n",
    "    myzip.write('./sample/새파일5.txt')"
   ]
  },
  {
   "cell_type": "code",
   "execution_count": 72,
   "id": "45981470",
   "metadata": {},
   "outputs": [],
   "source": [
    "# 파일 압축 해제하기\n",
    "with zipfile.ZipFile('./sample/새파일.zip') as myzip:\n",
    "    myzip.extractall()"
   ]
  },
  {
   "cell_type": "markdown",
   "id": "223d72a0",
   "metadata": {},
   "source": [
    "### 3-5. tarfile\n",
    "* 여러개 파일을 tar 확장자로 합쳐서 압축할 때 사용하는 모듈"
   ]
  },
  {
   "cell_type": "code",
   "execution_count": 73,
   "id": "2f29e4a4",
   "metadata": {},
   "outputs": [],
   "source": [
    "import tarfile"
   ]
  },
  {
   "cell_type": "code",
   "execution_count": 78,
   "id": "db244ac6",
   "metadata": {},
   "outputs": [],
   "source": [
    "# 파일 합치고 압축하기\n",
    "with tarfile.open('./sample/새파일.tar', 'w') as mytar:\n",
    "    mytar.add('./sample/새파일1.txt')\n",
    "    mytar.add('./sample/새파일2.txt')\n",
    "    mytar.add('./sample/새파일3.txt')\n",
    "    mytar.add('./sample/새파일4.txt')\n",
    "    mytar.add('./sample/새파일5.txt')"
   ]
  },
  {
   "cell_type": "code",
   "execution_count": 80,
   "id": "faa60363",
   "metadata": {},
   "outputs": [],
   "source": [
    "# 파일 압축 해제하기\n",
    "with tarfile.open('./sample/새파일.tar') as mytar:\n",
    "    mytar.extractall()"
   ]
  }
 ],
 "metadata": {
  "kernelspec": {
   "display_name": "Python 3 (ipykernel)",
   "language": "python",
   "name": "python3"
  },
  "language_info": {
   "codemirror_mode": {
    "name": "ipython",
    "version": 3
   },
   "file_extension": ".py",
   "mimetype": "text/x-python",
   "name": "python",
   "nbconvert_exporter": "python",
   "pygments_lexer": "ipython3",
   "version": "3.8.6"
  }
 },
 "nbformat": 4,
 "nbformat_minor": 5
}
