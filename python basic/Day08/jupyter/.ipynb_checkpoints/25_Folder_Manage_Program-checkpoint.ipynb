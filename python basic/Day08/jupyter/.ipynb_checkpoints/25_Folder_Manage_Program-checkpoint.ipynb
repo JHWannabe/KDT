{
 "cells": [
  {
   "cell_type": "markdown",
   "id": "c4e273dc",
   "metadata": {},
   "source": [
    "# 1. 압축 파일 정리하기"
   ]
  },
  {
   "cell_type": "code",
   "execution_count": 1,
   "id": "768ad4db",
   "metadata": {
    "scrolled": true
   },
   "outputs": [
    {
     "data": {
      "text/plain": [
       "'C:\\\\Users\\\\Administrator\\\\Desktop\\\\KDT\\\\jhwannabe\\\\python\\\\Day08\\\\jupyter'"
      ]
     },
     "execution_count": 1,
     "metadata": {},
     "output_type": "execute_result"
    }
   ],
   "source": [
    "import os\n",
    "\n",
    "os.getcwd()"
   ]
  },
  {
   "cell_type": "code",
   "execution_count": 2,
   "id": "9fbd3aa6",
   "metadata": {},
   "outputs": [],
   "source": [
    "# 정리 대상 폴더 경로 설정\n",
    "target_path = './고라니'"
   ]
  },
  {
   "cell_type": "code",
   "execution_count": 3,
   "id": "72005a6a",
   "metadata": {},
   "outputs": [
    {
     "name": "stdout",
     "output_type": "stream",
     "text": [
      "['./고라니\\\\데이터저장_물류.zip']\n"
     ]
    }
   ],
   "source": [
    "# 압축 파일 확인하기\n",
    "import glob\n",
    "\n",
    "zipfile_path = []\n",
    "for filename in glob.glob(os.path.join(target_path, '**/*.zip'), recursive=True):\n",
    "    zipfile_path.append(filename)\n",
    "    print(zipfile_path)"
   ]
  },
  {
   "cell_type": "code",
   "execution_count": 4,
   "id": "a5f1ae07",
   "metadata": {},
   "outputs": [],
   "source": [
    "# 압축 파일 해제\n",
    "import zipfile\n",
    "\n",
    "for filename in zipfile_path:\n",
    "    with zipfile.ZipFile(filename) as myzip:\n",
    "        zip_info = myzip.infolist() # zip파일 정보\n",
    "        for info in zip_info:\n",
    "            decode_name = info.filename.encode('cp437').decode('euc-kr') # 한글 깨짐 방지\n",
    "            info.filename = os.path.join(target_path, decode_name)\n",
    "            myzip.extract(info)"
   ]
  },
  {
   "cell_type": "markdown",
   "id": "c58c798a",
   "metadata": {},
   "source": [
    "# 2. 파일명 정리하기"
   ]
  },
  {
   "cell_type": "code",
   "execution_count": 5,
   "id": "2be9b0c6",
   "metadata": {},
   "outputs": [
    {
     "name": "stdout",
     "output_type": "stream",
     "text": [
      "Requirement already satisfied: openpyxl in c:\\users\\administrator\\appdata\\local\\programs\\python\\python38\\lib\\site-packages (3.1.2)\n",
      "Requirement already satisfied: et-xmlfile in c:\\users\\administrator\\appdata\\local\\programs\\python\\python38\\lib\\site-packages (from openpyxl) (1.1.0)\n"
     ]
    },
    {
     "name": "stderr",
     "output_type": "stream",
     "text": [
      "WARNING: You are using pip version 20.2.1; however, version 23.0.1 is available.\n",
      "You should consider upgrading via the 'c:\\users\\administrator\\appdata\\local\\programs\\python\\python38\\python.exe -m pip install --upgrade pip' command.\n"
     ]
    }
   ],
   "source": [
    "!pip install openpyxl"
   ]
  },
  {
   "cell_type": "code",
   "execution_count": 6,
   "id": "ec0f793c",
   "metadata": {},
   "outputs": [],
   "source": [
    "import openpyxl as opx"
   ]
  },
  {
   "cell_type": "code",
   "execution_count": 7,
   "id": "22f2b3ef",
   "metadata": {},
   "outputs": [],
   "source": [
    "# 폴더별 파일명을 입력받아 엑셀파일에 저장하는 함수\n",
    "def getFileName(target_path):   \n",
    "    wb = opx.Workbook()\n",
    "    ws = wb.active # 새로 생성한 WorkBook의 활성화 시트를 ws로 정의\n",
    "    \n",
    "    ws.cell(row=1, column=1).value = '파일 경로'\n",
    "    ws.cell(row=1, column=2).value = '파일명(변경 전)'\n",
    "    ws.cell(row=1, column=3).value = '파일명(변경 후)'\n",
    "    \n",
    "    i = 2\n",
    "    \n",
    "    current_dir = target_path\n",
    "    filelist = os.listdir(current_dir)\n",
    "    \n",
    "    for filename in filelist:\n",
    "        ws.cell(row=i, column=1).value = current_dir + '/'\n",
    "        ws.cell(row=i, column=2).value = filename    \n",
    "        i = i+1\n",
    "        \n",
    "    wb.save(os.path.join(target_path, 'filelist.xlsx'))"
   ]
  },
  {
   "cell_type": "code",
   "execution_count": 8,
   "id": "1fc7ad67",
   "metadata": {},
   "outputs": [],
   "source": [
    "getFileName(target_path)"
   ]
  },
  {
   "cell_type": "markdown",
   "id": "72b8e6bc",
   "metadata": {},
   "source": [
    "# 3. 파일명 변경하기"
   ]
  },
  {
   "cell_type": "code",
   "execution_count": 9,
   "id": "7c6d8ffc",
   "metadata": {},
   "outputs": [],
   "source": [
    "def excelRead(filepath : str) -> tuple:\n",
    "    wb = opx.load_workbook(filepath)\n",
    "    ws = wb.active\n",
    "    \n",
    "    dirpath = [r[0].value for r in ws]\n",
    "    file_before = [r[1].value for r in ws]\n",
    "    file_after = [r[2].value for r in ws]\n",
    "    \n",
    "    len_num = len(dirpath)\n",
    "    datalist = []\n",
    "    \n",
    "    for i in range(1, len_num):\n",
    "        temp_tuple = (dirpath[i], file_before[i], file_after[i])\n",
    "        datalist.append(temp_tuple)\n",
    "        \n",
    "    return datalist"
   ]
  },
  {
   "cell_type": "code",
   "execution_count": 45,
   "id": "0e6ae369",
   "metadata": {},
   "outputs": [
    {
     "name": "stdout",
     "output_type": "stream",
     "text": [
      "[('./고라니/', 'A_2022_01_13_부서로그_인사_001.pdf', 'A_2022_01_13_부서로그_인사_001.pdf'), ('./고라니/', 'A_2022_01_13_부서로그_인사_002.pdf', 'A_2022_01_13_부서로그_인사_002.pdf'), ('./고라니/', 'A_2022_01_13_부서로그_인사_003.pdf', 'A_2022_01_13_부서로그_인사_003.pdf'), ('./고라니/', 'A_2022_04_10_생산로그_생산_001.pdf', 'A_2022_04_10_생산로그_생산_001.pdf'), ('./고라니/', 'A_2022_04_10_생산로그_생산_002.pdf', 'A_2022_04_10_생산로그_생산_002.pdf'), ('./고라니/', 'A_2022_04_10_생산로그_생산_003.pdf', 'A_2022_04_10_생산로그_생산_003.pdf'), ('./고라니/', 'A_2022_04_10_생산로그_생산_004.pdf', 'A_2022_04_10_생산로그_생산_004.pdf'), ('./고라니/', 'A_2022_06_30_생산로그_생산_001.pdf', 'A_2022_06_30_생산로그_생산_001.pdf'), ('./고라니/', 'A_2022_06_30_생산로그_생산_002.pdf', 'A_2022_06_30_생산로그_생산_002.pdf'), ('./고라니/', 'A_2022_07_20_부서로그_인사_001.pdf', 'A_2022_07_20_부서로그_인사_001.pdf'), ('./고라니/', 'A_2022_07_20_부서로그_인사_002.pdf', 'A_2022_07_20_부서로그_인사_002.pdf'), ('./고라니/', 'A_2022_07_20_부서로그_인사_003.pdf', 'A_2022_07_20_부서로그_인사_003.pdf'), ('./고라니/', 'A_2022_07_20_부서로그_인사_004 (1).pdf', 'A_2022_07_20_부서로그_인사_004.pdf'), ('./고라니/', 'B_2022_02_20_상반기_클래스설계_001.xlsx', 'B_2022_02_20_상반기_클래스설계_001.xlsx'), ('./고라니/', 'B_2022_02_20_상반기_클래스설계_002.xlsx', 'B_2022_02_20_상반기_클래스설계_002.xlsx'), ('./고라니/', 'B_2022_06_20_하반기_클래스설계_001.xlsx', 'B_2022_06_20_하반기_클래스설계_001.xlsx'), ('./고라니/', 'B_2022_06_30_하반기_클래스설계_002.xlsx', 'B_2022_06_30_하반기_클래스설계_002.xlsx'), ('./고라니/', 'C_2022_03_30_데이터베이스_ERD_001.xlsx', 'C_2022_03_30_데이터베이스_ERD_001.xlsx'), ('./고라니/', 'C_2022_03_30_데이터베이스_ERD_002.xlsx', 'C_2022_03_30_데이터베이스_ERD_002.xlsx'), ('./고라니/', 'C_2022_03_30_데이터베이스_ERD_003.xlsx', 'C_2022_03_30_데이터베이스_ERD_003.xlsx'), ('./고라니/', 'C_2022_09_10_데이터베이스_ERD_001 (1).xlsx', 'C_2022_09_10_데이터베이스_ERD_001.xlsx'), ('./고라니/', 'C_2022_09_10_데이터베이스_ERD_002.xlsx', 'C_2022_09_10_데이터베이스_ERD_002.xlsx'), ('./고라니/', 'C_2022_09_10_데이터베이스_ERD_003.xlsx', 'C_2022_09_10_데이터베이스_ERD_003.xlsx'), ('./고라니/', 'D_20220110_데이터저장_물류_001.pdf', 'D_20220110_데이터저장_물류_001.pdf'), ('./고라니/', 'D_20220110_데이터저장_물류_002.pdf', 'D_20220110_데이터저장_물류_002.pdf'), ('./고라니/', 'D_20220723_데이터저장_물류_001.pdf', 'D_20220723_데이터저장_물류_001.pdf'), ('./고라니/', 'D_20220723_센터가동현황_물류_002.pdf', 'D_20220723_센터가동현황_물류_002.pdf'), ('./고라니/', 'filelist.xlsx', 'filelist.xlsx'), ('./고라니/', '내사진.jpg', '강사님사진.jpg'), ('./고라니/', '데이터저장_물류.zip', '데이터저장_물류.zip'), ('./고라니/', '새파일1_복사본.txt', '새파일1_복사본.txt'), ('./고라니/', '점심시간.txt', '저녁시간.txt'), ('./고라니/', '주피터노트북.txt', '주피터노트북.txt')]\n"
     ]
    }
   ],
   "source": [
    "rename_list = excelRead(os.path.join(target_path, 'filelist.xlsx'))\n",
    "print(rename_list)"
   ]
  },
  {
   "cell_type": "code",
   "execution_count": 38,
   "id": "2a594ff8",
   "metadata": {},
   "outputs": [],
   "source": [
    "import shutil"
   ]
  },
  {
   "cell_type": "code",
   "execution_count": 46,
   "id": "486a028a",
   "metadata": {},
   "outputs": [],
   "source": [
    "def fileRename(datalist : list):\n",
    "    for data in datalist:\n",
    "        print(data[1] + '의 파일명을 ' + data[2] + '로 변경합니다.')\n",
    "        shutil.move(data[0]+data[1], data[0]+data[2])"
   ]
  },
  {
   "cell_type": "code",
   "execution_count": 47,
   "id": "31a3aa1c",
   "metadata": {},
   "outputs": [],
   "source": [
    "def fileRename(datalist : list):\n",
    "    for data in datalist:\n",
    "        print(data[1] + '의 파일명을 ' + data[2] + '로 변경합니다.')\n",
    "        shutil.move(data[0]+data[2], data[0]+data[1])"
   ]
  },
  {
   "cell_type": "code",
   "execution_count": 48,
   "id": "fb1ab7b1",
   "metadata": {},
   "outputs": [
    {
     "name": "stdout",
     "output_type": "stream",
     "text": [
      "A_2022_01_13_부서로그_인사_001.pdf의 파일명을 A_2022_01_13_부서로그_인사_001.pdf로 변경합니다.\n",
      "A_2022_01_13_부서로그_인사_002.pdf의 파일명을 A_2022_01_13_부서로그_인사_002.pdf로 변경합니다.\n",
      "A_2022_01_13_부서로그_인사_003.pdf의 파일명을 A_2022_01_13_부서로그_인사_003.pdf로 변경합니다.\n",
      "A_2022_04_10_생산로그_생산_001.pdf의 파일명을 A_2022_04_10_생산로그_생산_001.pdf로 변경합니다.\n",
      "A_2022_04_10_생산로그_생산_002.pdf의 파일명을 A_2022_04_10_생산로그_생산_002.pdf로 변경합니다.\n",
      "A_2022_04_10_생산로그_생산_003.pdf의 파일명을 A_2022_04_10_생산로그_생산_003.pdf로 변경합니다.\n",
      "A_2022_04_10_생산로그_생산_004.pdf의 파일명을 A_2022_04_10_생산로그_생산_004.pdf로 변경합니다.\n",
      "A_2022_06_30_생산로그_생산_001.pdf의 파일명을 A_2022_06_30_생산로그_생산_001.pdf로 변경합니다.\n",
      "A_2022_06_30_생산로그_생산_002.pdf의 파일명을 A_2022_06_30_생산로그_생산_002.pdf로 변경합니다.\n",
      "A_2022_07_20_부서로그_인사_001.pdf의 파일명을 A_2022_07_20_부서로그_인사_001.pdf로 변경합니다.\n",
      "A_2022_07_20_부서로그_인사_002.pdf의 파일명을 A_2022_07_20_부서로그_인사_002.pdf로 변경합니다.\n",
      "A_2022_07_20_부서로그_인사_003.pdf의 파일명을 A_2022_07_20_부서로그_인사_003.pdf로 변경합니다.\n",
      "A_2022_07_20_부서로그_인사_004 (1).pdf의 파일명을 A_2022_07_20_부서로그_인사_004.pdf로 변경합니다.\n",
      "B_2022_02_20_상반기_클래스설계_001.xlsx의 파일명을 B_2022_02_20_상반기_클래스설계_001.xlsx로 변경합니다.\n",
      "B_2022_02_20_상반기_클래스설계_002.xlsx의 파일명을 B_2022_02_20_상반기_클래스설계_002.xlsx로 변경합니다.\n",
      "B_2022_06_20_하반기_클래스설계_001.xlsx의 파일명을 B_2022_06_20_하반기_클래스설계_001.xlsx로 변경합니다.\n",
      "B_2022_06_30_하반기_클래스설계_002.xlsx의 파일명을 B_2022_06_30_하반기_클래스설계_002.xlsx로 변경합니다.\n",
      "C_2022_03_30_데이터베이스_ERD_001.xlsx의 파일명을 C_2022_03_30_데이터베이스_ERD_001.xlsx로 변경합니다.\n",
      "C_2022_03_30_데이터베이스_ERD_002.xlsx의 파일명을 C_2022_03_30_데이터베이스_ERD_002.xlsx로 변경합니다.\n",
      "C_2022_03_30_데이터베이스_ERD_003.xlsx의 파일명을 C_2022_03_30_데이터베이스_ERD_003.xlsx로 변경합니다.\n",
      "C_2022_09_10_데이터베이스_ERD_001 (1).xlsx의 파일명을 C_2022_09_10_데이터베이스_ERD_001.xlsx로 변경합니다.\n",
      "C_2022_09_10_데이터베이스_ERD_002.xlsx의 파일명을 C_2022_09_10_데이터베이스_ERD_002.xlsx로 변경합니다.\n",
      "C_2022_09_10_데이터베이스_ERD_003.xlsx의 파일명을 C_2022_09_10_데이터베이스_ERD_003.xlsx로 변경합니다.\n",
      "D_20220110_데이터저장_물류_001.pdf의 파일명을 D_20220110_데이터저장_물류_001.pdf로 변경합니다.\n",
      "D_20220110_데이터저장_물류_002.pdf의 파일명을 D_20220110_데이터저장_물류_002.pdf로 변경합니다.\n",
      "D_20220723_데이터저장_물류_001.pdf의 파일명을 D_20220723_데이터저장_물류_001.pdf로 변경합니다.\n",
      "D_20220723_센터가동현황_물류_002.pdf의 파일명을 D_20220723_센터가동현황_물류_002.pdf로 변경합니다.\n",
      "filelist.xlsx의 파일명을 filelist.xlsx로 변경합니다.\n",
      "내사진.jpg의 파일명을 강사님사진.jpg로 변경합니다.\n",
      "데이터저장_물류.zip의 파일명을 데이터저장_물류.zip로 변경합니다.\n",
      "새파일1_복사본.txt의 파일명을 새파일1_복사본.txt로 변경합니다.\n",
      "점심시간.txt의 파일명을 저녁시간.txt로 변경합니다.\n",
      "주피터노트북.txt의 파일명을 주피터노트북.txt로 변경합니다.\n"
     ]
    }
   ],
   "source": [
    "fileRename(rename_list)"
   ]
  },
  {
   "cell_type": "code",
   "execution_count": 31,
   "id": "6e34dc0a",
   "metadata": {},
   "outputs": [],
   "source": [
    "# def fileRename(datalist : list):\n",
    "#     for data in datalist:\n",
    "#         print(data[1] + '의 파일명을 ' + data[2] + '로 변경합니다.')\n",
    "#         shutil.move(data[0]+data[2], data[0]+data[1])"
   ]
  },
  {
   "cell_type": "markdown",
   "id": "6ba2ef09",
   "metadata": {},
   "source": [
    "# 4. 폴더 생성하기"
   ]
  },
  {
   "cell_type": "code",
   "execution_count": 14,
   "id": "d3a0ebbe",
   "metadata": {},
   "outputs": [],
   "source": [
    "import fnmatch"
   ]
  },
  {
   "cell_type": "code",
   "execution_count": 15,
   "id": "5ab19b99",
   "metadata": {},
   "outputs": [],
   "source": [
    "def categoryList(target_path : str) -> list:\n",
    "    file_list = []\n",
    "    for filename in os.listdir(target_path):\n",
    "        if fnmatch.fnmatch(filename, '*_[0-9][0-9][0-9]*.*'):\n",
    "            file_list.append(filename)\n",
    "    \n",
    "    category = []\n",
    "    for file in file_list:\n",
    "        temp_list = file.split('_')\n",
    "        category.append(temp_list[-2])\n",
    "    \n",
    "    temp_set = set(category)\n",
    "    result = list(temp_set)\n",
    "    return result"
   ]
  },
  {
   "cell_type": "code",
   "execution_count": 16,
   "id": "2b2f8a60",
   "metadata": {},
   "outputs": [
    {
     "data": {
      "text/plain": [
       "['물류', '생산', '클래스설계', 'ERD', '인사']"
      ]
     },
     "execution_count": 16,
     "metadata": {},
     "output_type": "execute_result"
    }
   ],
   "source": [
    "categoryList(target_path)"
   ]
  },
  {
   "cell_type": "code",
   "execution_count": 17,
   "id": "eb8a7bbb",
   "metadata": {},
   "outputs": [
    {
     "name": "stdout",
     "output_type": "stream",
     "text": [
      "['물류', '생산', '클래스설계', 'ERD', '인사', '기타']\n"
     ]
    }
   ],
   "source": [
    "categorylist = categoryList(target_path) + ['기타']\n",
    "print(categorylist)"
   ]
  },
  {
   "cell_type": "code",
   "execution_count": 18,
   "id": "d3aa279e",
   "metadata": {},
   "outputs": [],
   "source": [
    "import pathlib\n",
    "\n",
    "new_path = './new_dir'\n",
    "def makeDir(new_path: str, categorylist: list):\n",
    "    for category in categorylist:\n",
    "        new_dir = pathlib.Path(os.path.join(new_path, category))\n",
    "        new_dir.mkdir(parents=True, exist_ok = True) # 존재하면 덮어쓰기"
   ]
  },
  {
   "cell_type": "code",
   "execution_count": 19,
   "id": "7b28d237",
   "metadata": {},
   "outputs": [],
   "source": [
    "makeDir(new_path,categorylist)"
   ]
  },
  {
   "cell_type": "markdown",
   "id": "b841e5e3",
   "metadata": {},
   "source": [
    "# 5. 파일 분류 및 이동"
   ]
  },
  {
   "cell_type": "code",
   "execution_count": 28,
   "id": "c4c1da76",
   "metadata": {},
   "outputs": [],
   "source": [
    "import shutil\n",
    "\n",
    "def moveFile(new_path, target_path, categorylist):\n",
    "    dirlist = os.listdir(new_path) # 이동시킬 경로에 생성된 분류 디렉토리 리스트\n",
    "    filelist = os.listdir(target_path) # 이동시킬 파일명 리스트\n",
    "    categorydic = {}\n",
    "    \n",
    "    for file in filelist:\n",
    "        try:\n",
    "            temp_list = file.split('_')\n",
    "            assert temp_list[-2] in categorylist # 카테고리가 맞지 않으면 에러 발생\n",
    "            categorydic[file] = temp_list[-2] # {'파일명': '분류명'}\n",
    "        except:\n",
    "            categorydic[file] = '기타'\n",
    "    \n",
    "#     print(categorydic)\n",
    "\n",
    "    for key, value in categorydic.items():\n",
    "        shutil.copy(target_path + '/' + key, new_path + '/' + value)"
   ]
  },
  {
   "cell_type": "code",
   "execution_count": 29,
   "id": "fb54c3f2",
   "metadata": {},
   "outputs": [],
   "source": [
    "moveFile(new_path, target_path, categorylist)"
   ]
  }
 ],
 "metadata": {
  "kernelspec": {
   "display_name": "Python 3 (ipykernel)",
   "language": "python",
   "name": "python3"
  },
  "language_info": {
   "codemirror_mode": {
    "name": "ipython",
    "version": 3
   },
   "file_extension": ".py",
   "mimetype": "text/x-python",
   "name": "python",
   "nbconvert_exporter": "python",
   "pygments_lexer": "ipython3",
   "version": "3.8.6"
  }
 },
 "nbformat": 4,
 "nbformat_minor": 5
}
