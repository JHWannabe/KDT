{
  "nbformat": 4,
  "nbformat_minor": 0,
  "metadata": {
    "colab": {
      "provenance": [],
      "authorship_tag": "ABX9TyOunL1PglATZ/jgBxhgnsfC"
    },
    "kernelspec": {
      "name": "python3",
      "display_name": "Python 3"
    },
    "language_info": {
      "name": "python"
    }
  },
  "cells": [
    {
      "cell_type": "markdown",
      "source": [
        "# 1. 제어문\n",
        "* 프로그램의 흐름을 제어하는 문장\n",
        "  * 조건문\n",
        "  * 반복문 ☆☆"
      ],
      "metadata": {
        "id": "lPLTYQfJpQjm"
      }
    },
    {
      "cell_type": "markdown",
      "source": [
        "# 2. 조건문"
      ],
      "metadata": {
        "id": "xlQIkNMHqAg7"
      }
    },
    {
      "cell_type": "markdown",
      "source": [
        "## 2-1. 비교 연산자\n",
        "* <, >, <=, >=, ==, !=\n",
        "* 항상 결과는 bool형으로 반환"
      ],
      "metadata": {
        "id": "o3hiwVHNqh5Q"
      }
    },
    {
      "cell_type": "code",
      "source": [
        "print(10 > 5)\n",
        "print(10 < 5)\n",
        "print(10 >= 5)\n",
        "print(10 <= 5)\n",
        "print(10 == 5)\n",
        "print(10 != 5)"
      ],
      "metadata": {
        "colab": {
          "base_uri": "https://localhost:8080/"
        },
        "id": "UC-_0jkWrnPx",
        "outputId": "dfb31ff6-6a14-4b0f-d54d-e45ff5a7b1c7"
      },
      "execution_count": null,
      "outputs": [
        {
          "output_type": "stream",
          "name": "stdout",
          "text": [
            "True\n",
            "False\n",
            "True\n",
            "False\n",
            "False\n",
            "True\n"
          ]
        }
      ]
    },
    {
      "cell_type": "markdown",
      "source": [
        "## 2-2. if문\n",
        "```\n",
        "if 조건식(결과가 True 또는 False가 나오는 문장):\n",
        "  조건식이 True인 경우 실행할 문장\n",
        "  ...\n",
        "```"
      ],
      "metadata": {
        "id": "Ixcgbby8sC6O"
      }
    },
    {
      "cell_type": "code",
      "source": [
        "bool1 = True\n",
        "\n",
        "if bool1:\n",
        "  print('결과는 참입니다')\n",
        "print('프로그램을 종료합니다')"
      ],
      "metadata": {
        "colab": {
          "base_uri": "https://localhost:8080/"
        },
        "id": "-vsjqLcZs-Eo",
        "outputId": "ff359f31-5b96-45e7-9c84-bc42a7080d3e"
      },
      "execution_count": null,
      "outputs": [
        {
          "output_type": "stream",
          "name": "stdout",
          "text": [
            "결과는 참입니다\n",
            "프로그램을 종료합니다\n"
          ]
        }
      ]
    },
    {
      "cell_type": "code",
      "source": [
        "bool2 = False\n",
        "\n",
        "if bool2:\n",
        "  print('결과는 참입니다')\n",
        "print('프로그램을 종료합니다')"
      ],
      "metadata": {
        "colab": {
          "base_uri": "https://localhost:8080/"
        },
        "id": "e6hfEXE-tqK6",
        "outputId": "73d9e5e2-d3c0-48f8-97e9-01cfda160ff4"
      },
      "execution_count": null,
      "outputs": [
        {
          "output_type": "stream",
          "name": "stdout",
          "text": [
            "프로그램을 종료합니다\n"
          ]
        }
      ]
    },
    {
      "cell_type": "code",
      "source": [
        "age = int(input('나이를 입력하세요: '))\n",
        "\n",
        "if age > 19:\n",
        "  print('성인입니다')\n",
        "  print('넷플릭스 성인영화를 감상할 수 있습니다')\n",
        "\n",
        "print('입력한 나이: ', age, '세')"
      ],
      "metadata": {
        "colab": {
          "base_uri": "https://localhost:8080/"
        },
        "id": "chN0uVyDts6A",
        "outputId": "8a93fcaf-5340-477d-cbc7-e6c14556dffe"
      },
      "execution_count": null,
      "outputs": [
        {
          "output_type": "stream",
          "name": "stdout",
          "text": [
            "나이를 입력하세요: 12\n",
            "입력한 나이:  12 세\n"
          ]
        }
      ]
    },
    {
      "cell_type": "code",
      "source": [
        "age = int(input('나이를 입력하세요: '))\n",
        "\n",
        "if age > 19:  print('성인입니다')\n",
        "\n",
        "print('입력한 나이: ', age, '세')"
      ],
      "metadata": {
        "colab": {
          "base_uri": "https://localhost:8080/"
        },
        "id": "FyD-RCYzuN0Q",
        "outputId": "ddf1b160-d67d-49d3-c9a2-e87ec6a749e1"
      },
      "execution_count": null,
      "outputs": [
        {
          "output_type": "stream",
          "name": "stdout",
          "text": [
            "나이를 입력하세요: 20\n",
            "성인입니다\n",
            "입력한 나이:  20 세\n"
          ]
        }
      ]
    },
    {
      "cell_type": "markdown",
      "source": [
        "## 2-3. if - else 문\n",
        "```\n",
        "if 조건식(결과가 True 또는 False가 나오는 문장):\n",
        "  조건식이 True인 경우 실행할 문장\n",
        "  ...\n",
        "else:\n",
        "  조건식이 False인 경우 실행할 문장\n",
        "  ...\n",
        "```"
      ],
      "metadata": {
        "id": "d66ABeAOvi2G"
      }
    },
    {
      "cell_type": "code",
      "source": [
        "age = int(input('나이를 입력하세요: '))\n",
        "\n",
        "if age > 19:\n",
        "  print('성인입니다')\n",
        "else:\n",
        "  print('미성년입니다')\n",
        "\n",
        "print('입력한 나이: ', age, '세')"
      ],
      "metadata": {
        "colab": {
          "base_uri": "https://localhost:8080/"
        },
        "id": "jSKHD5ntv3Fh",
        "outputId": "e8cfbe1b-fd72-47fe-b99d-c11d56bf0e1d"
      },
      "execution_count": null,
      "outputs": [
        {
          "output_type": "stream",
          "name": "stdout",
          "text": [
            "나이를 입력하세요: 18\n",
            "미성년입니다\n",
            "입력한 나이:  18 세\n"
          ]
        }
      ]
    },
    {
      "cell_type": "code",
      "source": [
        "age = int(input('나이를 입력하세요: '))\n",
        "\n",
        "if age > 19:\n",
        "  print('성인입니다')\n",
        "  print('넷플릭스 성인영화를 감상할 수 있습니다')\n",
        "else:\n",
        "  print('미성년입니다')\n",
        "  print('디즈니를 감상할 수 있습니다')\n",
        "\n",
        "print('입력한 나이: ', age, '세')"
      ],
      "metadata": {
        "colab": {
          "base_uri": "https://localhost:8080/"
        },
        "id": "W-r6nk0ywHIy",
        "outputId": "be26fd4e-4d3e-4d49-8529-aaabbeb53a06"
      },
      "execution_count": null,
      "outputs": [
        {
          "output_type": "stream",
          "name": "stdout",
          "text": [
            "나이를 입력하세요: 16\n",
            "미성년입니다\n",
            "디즈니를 감상할 수 있습니다\n",
            "입력한 나이:  16 세\n"
          ]
        }
      ]
    },
    {
      "cell_type": "markdown",
      "source": [
        "## 2-4. if - elif - else 문\n",
        "```\n",
        "if 조건식1(결과가 True 또는 False가 나오는 문장):\n",
        "  조건식1이 True인 경우 실행할 문장\n",
        "  ...\n",
        "elif 조건식2(결과가 True 또는 False가 나오는 문장):\n",
        "  조건식2가 True인 경우 실행할 문장\n",
        "  ...\n",
        "elif 조건식3(결과가 True 또는 False가 나오는 문장):\n",
        "  조건식3이 True인 경우 실행할 문장\n",
        "  ...\n",
        "else:\n",
        "  모든 조건식이 False인 경우 실행할 문장\n",
        "  ...\n",
        "```\n",
        "\n",
        "> else는 필수 문장이 아니다"
      ],
      "metadata": {
        "id": "SJzUWJ1pwiIs"
      }
    },
    {
      "cell_type": "code",
      "source": [
        "age = int(input('나이를 입력하세요: '))\n",
        "\n",
        "if age > 19:\n",
        "  print('성인입니다')\n",
        "elif age > 14:\n",
        "  print('청소년입니다')\n",
        "elif age > 6:\n",
        "  print('어린이입니다')\n",
        "elif age > 0:\n",
        "  print('유아입니다')\n",
        "else:\n",
        "  print('입력을 확인하세요')\n",
        "\n",
        "print('입력한 나이: ', age, '세')"
      ],
      "metadata": {
        "colab": {
          "base_uri": "https://localhost:8080/"
        },
        "id": "cxAUGPDxxCEE",
        "outputId": "4f67c43c-2f3c-43a6-e498-8e115bcb2c00"
      },
      "execution_count": null,
      "outputs": [
        {
          "output_type": "stream",
          "name": "stdout",
          "text": [
            "나이를 입력하세요: 16\n",
            "청소년입니다\n",
            "입력한 나이:  16 세\n"
          ]
        }
      ]
    },
    {
      "cell_type": "markdown",
      "source": [
        "## 2-5. 산술 연산자\n",
        "+, -, , /, %, //, *, ***"
      ],
      "metadata": {
        "id": "XpvsOqtTx_PE"
      }
    },
    {
      "cell_type": "code",
      "source": [
        "print(10 + 3)\n",
        "print(10 - 3)\n",
        "print(10 * 3)\n",
        "print(10 / 3)\n",
        "print(10 % 3)\n",
        "print(10 // 3)\n",
        "print(10 ** 3)"
      ],
      "metadata": {
        "colab": {
          "base_uri": "https://localhost:8080/"
        },
        "id": "OGtYiO2Z37uM",
        "outputId": "8143ef84-33a8-4272-bced-dc7b61748e43"
      },
      "execution_count": null,
      "outputs": [
        {
          "output_type": "stream",
          "name": "stdout",
          "text": [
            "13\n",
            "7\n",
            "30\n",
            "3.3333333333333335\n",
            "1\n",
            "3\n",
            "1000\n"
          ]
        }
      ]
    },
    {
      "cell_type": "markdown",
      "source": [
        "## 2-6. 삼항 연산자\n",
        "```\n",
        "결과가 True일 때 실행할 문장 if 조건식 else 결과가 Flase일 때 실행할 문장\n",
        "```"
      ],
      "metadata": {
        "id": "QNXu4W8p4euR"
      }
    },
    {
      "cell_type": "code",
      "source": [
        "num = int(input('숫자를 입력하세요: '))\n",
        "\n",
        "if num % 2 == 0:\n",
        "  print('짝수입니다')\n",
        "else:\n",
        "  print('홀수입니다')"
      ],
      "metadata": {
        "colab": {
          "base_uri": "https://localhost:8080/"
        },
        "id": "8q0WlToC5E1x",
        "outputId": "09b495b8-8963-40b9-b0bb-8563d87f767e"
      },
      "execution_count": null,
      "outputs": [
        {
          "output_type": "stream",
          "name": "stdout",
          "text": [
            "숫자를 입력하세요: 15\n",
            "홀수입니다\n"
          ]
        }
      ]
    },
    {
      "cell_type": "code",
      "source": [
        "num = int(input('숫자를 입력하세요: '))\n",
        "\n",
        "print('짝수') if num % 2 == 0 else print('홀수')"
      ],
      "metadata": {
        "colab": {
          "base_uri": "https://localhost:8080/"
        },
        "id": "AAGGDfpZ5UQ6",
        "outputId": "f2a78184-14ba-4e9c-f16a-0caeebbdfa6a"
      },
      "execution_count": null,
      "outputs": [
        {
          "output_type": "stream",
          "name": "stdout",
          "text": [
            "숫자를 입력하세요: 15\n",
            "홀수\n"
          ]
        }
      ]
    },
    {
      "cell_type": "markdown",
      "source": [
        "## 문제 1\n",
        "* 국어, 영어, 수학 점수를 입력받아 총점, 평균, 학점을 구하는 프로그램을 작성해보자.\n",
        "* 단, 학점은 평균 기준이며 90점 이상은 A, 80점 이상은 B, 70점 이상은 C, 60점 이상은 D, 나머지는 F"
      ],
      "metadata": {
        "id": "U2eYGc9s5q9p"
      }
    },
    {
      "cell_type": "code",
      "source": [
        "kor, eng, math = input('국어, 영어, 수학 점수를 입력하세요: ').split()\n",
        "kor = int(kor)\n",
        "eng = int(eng)\n",
        "math = int(math)\n",
        "sum = kor + eng + math\n",
        "avg = sum / 3\n",
        "\n",
        "print('총점: ', sum, '점')\n",
        "print('평균: %.1f점' % avg)\n",
        "\n",
        "if avg >= 90:\n",
        "  grad ='A'\n",
        "elif avg >= 80:\n",
        "  grad = 'B'\n",
        "elif avg >= 70:\n",
        "  grad = 'C'\n",
        "elif avg >= 60:\n",
        "  grad = 'D'\n",
        "else:\n",
        "  grad = 'F'\n",
        "\n",
        "print('학점: ', grad)"
      ],
      "metadata": {
        "colab": {
          "base_uri": "https://localhost:8080/"
        },
        "id": "8E_o4_uT6h0F",
        "outputId": "91a99892-bb8b-46a1-be1c-14aefef66108"
      },
      "execution_count": null,
      "outputs": [
        {
          "output_type": "stream",
          "name": "stdout",
          "text": [
            "국어, 영어, 수학 점수를 입력하세요: 80 67 90\n",
            "총점:  237 점\n",
            "평균: 79.0점\n",
            "학점:  C\n"
          ]
        }
      ]
    },
    {
      "cell_type": "markdown",
      "source": [
        "## 문제 2\n",
        "* 숫자를 입력받아 2의 배수인지, 3의 배수인지 아니면 2, 3의 배수가 모두 아닌지를 판별하는 프로그램을 작성해보자."
      ],
      "metadata": {
        "id": "e80ZMLl66Ygy"
      }
    },
    {
      "cell_type": "code",
      "source": [
        "num = int(input('숫자를 입력하세요: '))\n",
        "\n",
        "if num % 2 == 0:\n",
        "  if num % 3 == 0:\n",
        "    print('입력한 숫자는 2와 3의 배수입니다.')\n",
        "  else:\n",
        "    print('입력한 숫자는 2의 배수입니다.')\n",
        "elif num % 3 == 0:\n",
        "  print('입력한 숫자는 3의 배수입니다.')\n",
        "else:\n",
        "  print('입력한 숫자는 2의 배수도 3의 배수도 아닙니다.')"
      ],
      "metadata": {
        "colab": {
          "base_uri": "https://localhost:8080/"
        },
        "id": "oyQYJkvY6hB5",
        "outputId": "43b6b6a1-5f3d-4ed1-a4cc-f4ae11236989"
      },
      "execution_count": null,
      "outputs": [
        {
          "output_type": "stream",
          "name": "stdout",
          "text": [
            "숫자를 입력하세요: 153\n",
            "입력한 숫자는 3의 배수입니다.\n"
          ]
        }
      ]
    },
    {
      "cell_type": "code",
      "source": [
        "num = int(input('숫자를 입력하세요: '))\n",
        "\n",
        "print('입력한 숫자는 2의 배수입니다.')if num % 2 == 0 else print('입력한 숫자는 3의 배수입니다.') if num % 3 == 0 else print('입력한 숫자는 2의 배수도 3의 배수도 아닙니다.')"
      ],
      "metadata": {
        "colab": {
          "base_uri": "https://localhost:8080/"
        },
        "id": "EJgCmF_2UMRh",
        "outputId": "c3a5524d-1a68-496d-efa1-802b86bbda41"
      },
      "execution_count": null,
      "outputs": [
        {
          "output_type": "stream",
          "name": "stdout",
          "text": [
            "숫자를 입력하세요: 9\n",
            "입력한 숫자는 3의 배수입니다.\n"
          ]
        }
      ]
    },
    {
      "cell_type": "markdown",
      "source": [
        "## 2-7. 논리 연산자(AND)\n",
        "* 양쪽 두식의 값이 모두 True인 경우 결과가 True가 되는 연산자\n",
        "\n",
        "<center>\n",
        "\n",
        "| A | B | 결과 |\n",
        "|-----|-----|-----|\n",
        "|True|True|True|\n",
        "|True|False|False|\n",
        "|False|True|False|\n",
        "|False|False|False|\n",
        "\n",
        "</center>\n",
        "\n",
        "* 예) 정보처리기사 자격을 취득하기 위해서는 모든 과목을 40점 이상이고, 평균이 60점 이상이 되어야 함."
      ],
      "metadata": {
        "id": "R12U1x1jUs6E"
      }
    },
    {
      "cell_type": "code",
      "source": [
        "# 로그인 프로그램 만들기\n",
        "# 아이디: admin, 비밀번호: 1234\n",
        "userid = input('아이디를 입력하세요: ')\n",
        "userpw = input('비밀번호를 입력하세요: ')\n",
        "\n",
        "if userid == 'admin' and userpw == '1234':\n",
        " print('로그인 되었습니다.')\n",
        "else:\n",
        "  print('아이디 또는 비밀번호를 확인하세요')"
      ],
      "metadata": {
        "colab": {
          "base_uri": "https://localhost:8080/"
        },
        "id": "trtHZopfXRuz",
        "outputId": "49835fa2-b53d-46f4-de20-6de7c6fc8d4e"
      },
      "execution_count": null,
      "outputs": [
        {
          "output_type": "stream",
          "name": "stdout",
          "text": [
            "아이디를 입력하세요: admin\n",
            "비밀번호를 입력하세요: 1234\n",
            "로그인 되었습니다.\n"
          ]
        }
      ]
    },
    {
      "cell_type": "markdown",
      "source": [
        "## 2-8. 논리 연산자(OR)\n",
        "* 양쪽 두 식의 값이 하나라도 True인 경우 결과가 True가 되는 연산자\n",
        "\n",
        "<center>\n",
        "\n",
        "| A | B | 결과 |\n",
        "|-----|-----|-----|\n",
        "|True|True|True|\n",
        "|True|False|True|\n",
        "|False|True|True|\n",
        "|False|False|False|\n",
        "\n",
        "</center>\n",
        "\n",
        "* 예) 부모님 모셔와"
      ],
      "metadata": {
        "id": "Ri_I0SIYX1Gd"
      }
    },
    {
      "cell_type": "code",
      "source": [
        "# 주민등록번호에 의한 성별을 판별하는 프로그램 만들기\n",
        "# 0010113068518\n",
        "juminNo = input('주민등록번호 13자리를 -없이 입력하세요')\n",
        "\n",
        "if juminNo[6] == '1' or  juminNo[6] == '3' or juminNo[6] == '5' or juminNo[6] == '7' or juminNo[6] == '9':\n",
        "  print('남자')\n",
        "else:\n",
        "  print('여자')"
      ],
      "metadata": {
        "colab": {
          "base_uri": "https://localhost:8080/"
        },
        "id": "u2d-aky_YFYj",
        "outputId": "1885a1db-f189-474d-e40c-427da5b43630"
      },
      "execution_count": null,
      "outputs": [
        {
          "output_type": "stream",
          "name": "stdout",
          "text": [
            "주민등록번호 13자리를 -없이 입력하세요0010113068518\n",
            "남자\n"
          ]
        }
      ]
    },
    {
      "cell_type": "markdown",
      "source": [
        "## 2-9. 논리 연산자(NOT)\n",
        "* 식의 부호(Bool 값)를 반대로 변경해주는 연산자"
      ],
      "metadata": {
        "id": "4pKUrLqeZ-jl"
      }
    },
    {
      "cell_type": "code",
      "source": [
        "bool1 = True\n",
        "\n",
        "if bool1:\n",
        "  print('결과는 참입니다')\n",
        "else:\n",
        "  print('결과는 거짓입니다')"
      ],
      "metadata": {
        "colab": {
          "base_uri": "https://localhost:8080/"
        },
        "id": "aShs_DJIaaUt",
        "outputId": "ba9800a6-b5ac-4015-c3b6-20ff3c2005c0"
      },
      "execution_count": null,
      "outputs": [
        {
          "output_type": "stream",
          "name": "stdout",
          "text": [
            "결과는 참입니다\n"
          ]
        }
      ]
    },
    {
      "cell_type": "code",
      "source": [
        "if not bool1:\n",
        "  print('결과는 참입니다')\n",
        "else:\n",
        "  print('결과는 거짓입니다')"
      ],
      "metadata": {
        "colab": {
          "base_uri": "https://localhost:8080/"
        },
        "id": "PAGlT8usapcE",
        "outputId": "b5944be9-7e2a-4cde-e15f-a03703a242f5"
      },
      "execution_count": null,
      "outputs": [
        {
          "output_type": "stream",
          "name": "stdout",
          "text": [
            "결과는 거짓입니다\n"
          ]
        }
      ]
    },
    {
      "cell_type": "markdown",
      "source": [
        "### 과제\n",
        "아래와 같이 출력되는 이유를 알아보자 → 부동소수점으로 저장"
      ],
      "metadata": {
        "id": "_P_Q8zHha7N5"
      }
    },
    {
      "cell_type": "code",
      "source": [
        "print(10 / 3)"
      ],
      "metadata": {
        "colab": {
          "base_uri": "https://localhost:8080/"
        },
        "id": "_ImSqgHVa-Mb",
        "outputId": "91d8c6ea-aa5a-4399-b857-e15f572148b7"
      },
      "execution_count": null,
      "outputs": [
        {
          "output_type": "stream",
          "name": "stdout",
          "text": [
            "3.3333333333333335\n"
          ]
        }
      ]
    },
    {
      "cell_type": "code",
      "source": [
        "0.1 + 1.1 == 1.2"
      ],
      "metadata": {
        "colab": {
          "base_uri": "https://localhost:8080/"
        },
        "id": "58NP8STZbYu7",
        "outputId": "8e597236-114d-4f66-9b27-168d8bac5a2e"
      },
      "execution_count": null,
      "outputs": [
        {
          "output_type": "execute_result",
          "data": {
            "text/plain": [
              "False"
            ]
          },
          "metadata": {},
          "execution_count": 33
        }
      ]
    }
  ]
}