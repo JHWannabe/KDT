{
  "nbformat": 4,
  "nbformat_minor": 0,
  "metadata": {
    "colab": {
      "provenance": []
    },
    "kernelspec": {
      "name": "python3",
      "display_name": "Python 3"
    },
    "language_info": {
      "name": "python"
    }
  },
  "cells": [
    {
      "cell_type": "markdown",
      "source": [
        "# 1. 반복문"
      ],
      "metadata": {
        "id": "ytJIpPL5fatk"
      }
    },
    {
      "cell_type": "markdown",
      "source": [
        "## 1-1. 자료형 참/거짓 판단하기\n",
        "* 파이썬에서 사용하는 모든 자료형은 참 또는 거짓으로 표현이 가능"
      ],
      "metadata": {
        "id": "bN-uDmwxfGbs"
      }
    },
    {
      "cell_type": "code",
      "source": [
        "bool1 = True\n",
        "print(bool1)\n",
        "print(type(bool1))"
      ],
      "metadata": {
        "colab": {
          "base_uri": "https://localhost:8080/"
        },
        "id": "HVIjxb1zfgRO",
        "outputId": "addedad4-0ef9-40d8-b80b-40e40e57c148"
      },
      "execution_count": 1,
      "outputs": [
        {
          "output_type": "stream",
          "name": "stdout",
          "text": [
            "True\n",
            "<class 'bool'>\n"
          ]
        }
      ]
    },
    {
      "cell_type": "code",
      "source": [
        "# 0이 아닌 숫자는 모두 True, 0은 False\n",
        "\n",
        "num1 = 10\n",
        "print(num1)\n",
        "print(type(num1))\n",
        "print(bool(num1)) # 모든 값들은 bool형으로 형변환 가능 True\n",
        "\n",
        "num2 = 0\n",
        "print(num2)\n",
        "print(type(num2))\n",
        "print(bool(num2)) # False"
      ],
      "metadata": {
        "colab": {
          "base_uri": "https://localhost:8080/"
        },
        "id": "Gm_1xV27gDOs",
        "outputId": "595b9854-f7d2-4aad-f522-ab02ce3114df"
      },
      "execution_count": 2,
      "outputs": [
        {
          "output_type": "stream",
          "name": "stdout",
          "text": [
            "10\n",
            "<class 'int'>\n",
            "True\n",
            "0\n",
            "<class 'int'>\n",
            "False\n"
          ]
        }
      ]
    },
    {
      "cell_type": "code",
      "source": [
        "str1 = '안녕'\n",
        "print(str1)\n",
        "print(type(str1))\n",
        "print(bool(str1)) # True\n",
        "\n",
        "str2 = ''\n",
        "print(str2)\n",
        "print(type(str2))\n",
        "print(bool(str2)) # False"
      ],
      "metadata": {
        "colab": {
          "base_uri": "https://localhost:8080/"
        },
        "id": "C1-2_sjZhIRC",
        "outputId": "bb0e63b4-fe99-43ee-f1fd-e5d5de2a8993"
      },
      "execution_count": 3,
      "outputs": [
        {
          "output_type": "stream",
          "name": "stdout",
          "text": [
            "안녕\n",
            "<class 'str'>\n",
            "True\n",
            "\n",
            "<class 'str'>\n",
            "False\n"
          ]
        }
      ]
    },
    {
      "cell_type": "code",
      "source": [
        "list1 = [1, 2, 3]\n",
        "print(list1)\n",
        "print(type(list1))\n",
        "print(bool(list1)) # True\n",
        "\n",
        "list2 = []\n",
        "print(list2)\n",
        "print(type(list2))\n",
        "print(bool(list2)) # False"
      ],
      "metadata": {
        "colab": {
          "base_uri": "https://localhost:8080/"
        },
        "id": "ofP_dYaDgNBc",
        "outputId": "3cd196ca-0e6d-40f0-b968-36022bbaee07"
      },
      "execution_count": 4,
      "outputs": [
        {
          "output_type": "stream",
          "name": "stdout",
          "text": [
            "[1, 2, 3]\n",
            "<class 'list'>\n",
            "True\n",
            "[]\n",
            "<class 'list'>\n",
            "False\n"
          ]
        }
      ]
    },
    {
      "cell_type": "code",
      "source": [
        "list1 = [1, 3, 5]\n",
        "\n",
        "if list1:\n",
        "  print('요소가 있습니다.')\n",
        "else:\n",
        "  print('요소가 없습니다.')"
      ],
      "metadata": {
        "colab": {
          "base_uri": "https://localhost:8080/"
        },
        "id": "mWPVBjXlg0TT",
        "outputId": "bb82adef-91c4-47ea-dae5-43a5518dc151"
      },
      "execution_count": 5,
      "outputs": [
        {
          "output_type": "stream",
          "name": "stdout",
          "text": [
            "요소가 있습니다.\n"
          ]
        }
      ]
    },
    {
      "cell_type": "markdown",
      "source": [
        "## 1-2. 대입 연산자\n",
        "* =, += -=, *=, /=, %=\n",
        "* 왼쪽에 저장된 값과 오른쪽에 값을 연산한 뒤 다시 왼쪽에 대입(inplace 연산) "
      ],
      "metadata": {
        "id": "i6PNJufBhprc"
      }
    },
    {
      "cell_type": "code",
      "source": [
        "num = 10"
      ],
      "metadata": {
        "id": "DB-BwP2Lh6H8"
      },
      "execution_count": 6,
      "outputs": []
    },
    {
      "cell_type": "code",
      "source": [
        "num += 1\n",
        "print(num)\n",
        "num -= 1\n",
        "print(num)\n",
        "num *= 10\n",
        "print(num)\n",
        "num /= 10\n",
        "print(num)\n",
        "num %= 2\n",
        "print(num)"
      ],
      "metadata": {
        "colab": {
          "base_uri": "https://localhost:8080/"
        },
        "id": "Vk5PDnFgiOl9",
        "outputId": "842431ef-82cf-412f-ceec-3b2d1b79f24d"
      },
      "execution_count": 7,
      "outputs": [
        {
          "output_type": "stream",
          "name": "stdout",
          "text": [
            "11\n",
            "10\n",
            "100\n",
            "10.0\n",
            "0.0\n"
          ]
        }
      ]
    },
    {
      "cell_type": "markdown",
      "source": [
        "## 1-3. While 문\n",
        "```\n",
        "while 조건식:\n",
        "    조건식의 결과가 True인 동안 반복할 문장\n",
        "```"
      ],
      "metadata": {
        "id": "8ZL97rVcit8k"
      }
    },
    {
      "cell_type": "code",
      "source": [
        "# 무한 루프\n",
        "# while True:\n",
        "#  print('끝나지 않는 반복')"
      ],
      "metadata": {
        "id": "A3AlCnZniw4E"
      },
      "execution_count": 8,
      "outputs": []
    },
    {
      "cell_type": "code",
      "source": [
        "i = 1\n",
        "\n",
        "while i <= 5:\n",
        "  print('Hello Python!')\n",
        "  i += 1\n",
        "\n",
        "print(\"현재 i의 값:\", i)"
      ],
      "metadata": {
        "colab": {
          "base_uri": "https://localhost:8080/"
        },
        "id": "gofnUR3xklJb",
        "outputId": "2c65996a-0dd9-4783-e8ea-42c40775f554"
      },
      "execution_count": 9,
      "outputs": [
        {
          "output_type": "stream",
          "name": "stdout",
          "text": [
            "Hello Python!\n",
            "Hello Python!\n",
            "Hello Python!\n",
            "Hello Python!\n",
            "Hello Python!\n",
            "현재 i의 값: 6\n"
          ]
        }
      ]
    },
    {
      "cell_type": "code",
      "source": [
        "# 1 ~ 100까지의 총합\n",
        "i = 1\n",
        "sum = 0\n",
        "\n",
        "while i <= 100:\n",
        "  sum += i\n",
        "  i += 1\n",
        "\n",
        "print('총합:', sum)"
      ],
      "metadata": {
        "colab": {
          "base_uri": "https://localhost:8080/"
        },
        "id": "M-uHY5DwlYwj",
        "outputId": "6c6a66d9-f6bd-4766-eff2-376702488cc9"
      },
      "execution_count": 10,
      "outputs": [
        {
          "output_type": "stream",
          "name": "stdout",
          "text": [
            "총합: 5050\n"
          ]
        }
      ]
    },
    {
      "cell_type": "markdown",
      "source": [
        "## 문제 1\n",
        "* 1 ~ 100까지의 짝수의 총합을 구하라"
      ],
      "metadata": {
        "id": "ASgIKMRCnXW8"
      }
    },
    {
      "cell_type": "code",
      "source": [
        "i = 1\n",
        "sum = 0\n",
        "\n",
        "while i <= 100:\n",
        "  if i % 2 == 0:\n",
        "    sum += i\n",
        "  i += 1\n",
        "\n",
        "print('총합:', sum)"
      ],
      "metadata": {
        "colab": {
          "base_uri": "https://localhost:8080/"
        },
        "id": "j-DzbeEInd6y",
        "outputId": "1b2f4bb0-bd88-4afa-81fb-d3c06a1a8a86"
      },
      "execution_count": 11,
      "outputs": [
        {
          "output_type": "stream",
          "name": "stdout",
          "text": [
            "총합: 2550\n"
          ]
        }
      ]
    },
    {
      "cell_type": "markdown",
      "source": [
        "## 문제 2\n",
        "* 원하는 단을 입력받아 해당 단의 구구단을 출력하라"
      ],
      "metadata": {
        "id": "J0Cptm1CpiXK"
      }
    },
    {
      "cell_type": "code",
      "source": [
        "num = int(input('원하는 단을 입력하세요:'))\n",
        "i = 1\n",
        "\n",
        "print('%d단' % num)\n",
        "while i < 10:\n",
        "  print('%d * %d = %d' % (num,i,num*i))\n",
        "  i += 1"
      ],
      "metadata": {
        "colab": {
          "base_uri": "https://localhost:8080/"
        },
        "id": "2bDIOGTVpoK6",
        "outputId": "893ba8f0-4c55-40b8-ea7d-706b15541266"
      },
      "execution_count": 12,
      "outputs": [
        {
          "output_type": "stream",
          "name": "stdout",
          "text": [
            "원하는 단을 입력하세요:7\n",
            "7단\n",
            "7 * 1 = 7\n",
            "7 * 2 = 14\n",
            "7 * 3 = 21\n",
            "7 * 4 = 28\n",
            "7 * 5 = 35\n",
            "7 * 6 = 42\n",
            "7 * 7 = 49\n",
            "7 * 8 = 56\n",
            "7 * 9 = 63\n"
          ]
        }
      ]
    },
    {
      "cell_type": "markdown",
      "source": [
        "## 1-4. For In 문\n",
        "```\n",
        "for 변수 in iterable 객체:\n",
        "    이터러블 객체의 요소 갯수만큼 반복할 문장\n",
        "```"
      ],
      "metadata": {
        "id": "TugQiH1Ji2J8"
      }
    },
    {
      "cell_type": "code",
      "source": [
        "list1 = [10, 20, 30, 40]\n",
        "\n",
        "for li in list1:\n",
        "  print(li)"
      ],
      "metadata": {
        "colab": {
          "base_uri": "https://localhost:8080/"
        },
        "id": "s6y4psB1i3bc",
        "outputId": "dd2eda09-2f71-4518-c54a-b241010ddd26"
      },
      "execution_count": 13,
      "outputs": [
        {
          "output_type": "stream",
          "name": "stdout",
          "text": [
            "10\n",
            "20\n",
            "30\n",
            "40\n"
          ]
        }
      ]
    },
    {
      "cell_type": "code",
      "source": [
        "import collections\n",
        "\n",
        "# isinstance(이터러블한 객체인지 확인하고자 하는 객체, collections.Iterable)\n",
        "isinstance(list1, collections.Iterable)"
      ],
      "metadata": {
        "colab": {
          "base_uri": "https://localhost:8080/"
        },
        "id": "iKcz_QRowkbN",
        "outputId": "d3d0c919-344e-4fab-a3c1-bf9697c7f39b"
      },
      "execution_count": 14,
      "outputs": [
        {
          "output_type": "stream",
          "name": "stderr",
          "text": [
            "<ipython-input-14-3221c720c994>:4: DeprecationWarning: Using or importing the ABCs from 'collections' instead of from 'collections.abc' is deprecated since Python 3.3, and in 3.10 it will stop working\n",
            "  isinstance(list1, collections.Iterable)\n"
          ]
        },
        {
          "output_type": "execute_result",
          "data": {
            "text/plain": [
              "True"
            ]
          },
          "metadata": {},
          "execution_count": 14
        }
      ]
    },
    {
      "cell_type": "code",
      "source": [
        "# range(): 범위를 생성해주는 함수\n",
        "# range(시작인덱스, 종료인덱스, 증가값)\n",
        "num = range(0, 10, 1)\n",
        "print(num)"
      ],
      "metadata": {
        "colab": {
          "base_uri": "https://localhost:8080/"
        },
        "id": "n7U4MlD8xaIF",
        "outputId": "5c9199b7-c7ea-4b63-9894-073b336dea38"
      },
      "execution_count": 15,
      "outputs": [
        {
          "output_type": "stream",
          "name": "stdout",
          "text": [
            "range(0, 10)\n"
          ]
        }
      ]
    },
    {
      "cell_type": "code",
      "source": [
        "for i in num:\n",
        "  print(i, end=' ')"
      ],
      "metadata": {
        "colab": {
          "base_uri": "https://localhost:8080/"
        },
        "id": "B_RdUjYJx7Id",
        "outputId": "d6cfb19c-c88a-4341-8882-7e886c0da5bc"
      },
      "execution_count": 16,
      "outputs": [
        {
          "output_type": "stream",
          "name": "stdout",
          "text": [
            "0 1 2 3 4 5 6 7 8 9 "
          ]
        }
      ]
    },
    {
      "cell_type": "code",
      "source": [
        "isinstance(num, collections.Iterable)"
      ],
      "metadata": {
        "colab": {
          "base_uri": "https://localhost:8080/"
        },
        "id": "TDyBLvmhyKn1",
        "outputId": "aed97194-3346-4042-8132-20cf656107db"
      },
      "execution_count": 17,
      "outputs": [
        {
          "output_type": "execute_result",
          "data": {
            "text/plain": [
              "True"
            ]
          },
          "metadata": {},
          "execution_count": 17
        }
      ]
    },
    {
      "cell_type": "code",
      "source": [
        "num = 10\n",
        "# print(num)\n",
        "\n",
        "# for i in num:\n",
        "#   print(i, end=' ')"
      ],
      "metadata": {
        "id": "JvBOr_C6yYG1"
      },
      "execution_count": 18,
      "outputs": []
    },
    {
      "cell_type": "code",
      "source": [
        "isinstance(num, collections.Iterable)"
      ],
      "metadata": {
        "colab": {
          "base_uri": "https://localhost:8080/"
        },
        "id": "jsIhTChuyqXO",
        "outputId": "afb8b654-e35d-409e-97ec-1c3aed987939"
      },
      "execution_count": 19,
      "outputs": [
        {
          "output_type": "execute_result",
          "data": {
            "text/plain": [
              "False"
            ]
          },
          "metadata": {},
          "execution_count": 19
        }
      ]
    },
    {
      "cell_type": "code",
      "source": [
        "for i in range(0, 10 ,1):\n",
        "  print(i, end=' ')"
      ],
      "metadata": {
        "colab": {
          "base_uri": "https://localhost:8080/"
        },
        "id": "SB5D6NCuyrvm",
        "outputId": "843ba994-068e-4532-b958-ff829362bd72"
      },
      "execution_count": 20,
      "outputs": [
        {
          "output_type": "stream",
          "name": "stdout",
          "text": [
            "0 1 2 3 4 5 6 7 8 9 "
          ]
        }
      ]
    },
    {
      "cell_type": "code",
      "source": [
        "# 증가값을 생략하면 default = 1\n",
        "for i in range(0, 10):\n",
        "  print(i, end=' ')\n",
        "\n",
        "print()\n",
        "\n",
        "# 시작값을 생략하면 default =  0\n",
        "for i in range(10):\n",
        "  print(i, end=' ')\n",
        "\n",
        "print()\n",
        "\n",
        "# 시작값은 1, 종료값은 10, 증가값은 2\n",
        "for i in range(1, 10, 2):\n",
        "  print(i, end=' ')"
      ],
      "metadata": {
        "colab": {
          "base_uri": "https://localhost:8080/"
        },
        "id": "qqWtxe-7y6ft",
        "outputId": "04fa0da0-1ce1-479e-a740-c80c24c92d0c"
      },
      "execution_count": 21,
      "outputs": [
        {
          "output_type": "stream",
          "name": "stdout",
          "text": [
            "0 1 2 3 4 5 6 7 8 9 \n",
            "0 1 2 3 4 5 6 7 8 9 \n",
            "1 3 5 7 9 "
          ]
        }
      ]
    },
    {
      "cell_type": "markdown",
      "source": [
        "## 문제 3\n",
        "* for문을 이용하여 1 ~ 100까지의 짝수의 총합을 구하라"
      ],
      "metadata": {
        "id": "2VOC5sTtzgq9"
      }
    },
    {
      "cell_type": "code",
      "source": [
        "sum = 0\n",
        "for i in range(2, 101, 2):\n",
        "  sum += i\n",
        "print('총합: ', sum)"
      ],
      "metadata": {
        "colab": {
          "base_uri": "https://localhost:8080/"
        },
        "id": "Kht0nTNSzo2t",
        "outputId": "d96e95e2-4ac7-4ed8-c0e8-3d031c281177"
      },
      "execution_count": 22,
      "outputs": [
        {
          "output_type": "stream",
          "name": "stdout",
          "text": [
            "총합:  2550\n"
          ]
        }
      ]
    },
    {
      "cell_type": "markdown",
      "source": [
        "## 1-5. enumerate\n",
        "* 반복문 사용 시 몇번째 반복인지 인덱스 번호로 확인\n",
        "* 인덱스 번호와 요소를 튜플 형태로 변환"
      ],
      "metadata": {
        "id": "5Lgl7kAbz0Ul"
      }
    },
    {
      "cell_type": "code",
      "source": [
        "li1 = [10, 20, 30, 40, 50]\n",
        "\n",
        "for e in enumerate(li1):\n",
        "  print(e)"
      ],
      "metadata": {
        "colab": {
          "base_uri": "https://localhost:8080/"
        },
        "id": "0y2wYEWG1N1Y",
        "outputId": "cf09ecd3-d04a-4a2f-f190-35abcb1be0f7"
      },
      "execution_count": 23,
      "outputs": [
        {
          "output_type": "stream",
          "name": "stdout",
          "text": [
            "(0, 10)\n",
            "(1, 20)\n",
            "(2, 30)\n",
            "(3, 40)\n",
            "(4, 50)\n"
          ]
        }
      ]
    },
    {
      "cell_type": "code",
      "source": [
        "for i, v in enumerate(li1):\n",
        "  print(f'index: {i}, value: {v}')"
      ],
      "metadata": {
        "colab": {
          "base_uri": "https://localhost:8080/"
        },
        "id": "xii0IsLJ1TFl",
        "outputId": "35b49c7c-57fa-4af4-a7c2-d8fb1c567f56"
      },
      "execution_count": 24,
      "outputs": [
        {
          "output_type": "stream",
          "name": "stdout",
          "text": [
            "index: 0, value: 10\n",
            "index: 1, value: 20\n",
            "index: 2, value: 30\n",
            "index: 3, value: 40\n",
            "index: 4, value: 50\n"
          ]
        }
      ]
    },
    {
      "cell_type": "markdown",
      "source": [
        "## 1-6. zip() 함수\n",
        "* 객체가 담고 있는 원소를 엮어서 튜플의 형태로 반환\n",
        "* 매개변수의 길이가 다를 때는 짧은 매개변수 기준으로 데이터가 엮이고, 나머지는 버려짐"
      ],
      "metadata": {
        "id": "cYnAdde17FKN"
      }
    },
    {
      "cell_type": "code",
      "source": [
        "li1 = [10, 20, 30]\n",
        "li2 = ['apple','banana','orange']\n",
        "# (10, 'apple')\n",
        "# (20, 'banana')\n",
        "# (30, 'orange')\n",
        "\n",
        "# 좋지 않은 코드\n",
        "for i in range(len(li1)):\n",
        "  print((li1[i], li2[i]))"
      ],
      "metadata": {
        "colab": {
          "base_uri": "https://localhost:8080/"
        },
        "id": "FWD8_Pfm7dLB",
        "outputId": "ed76528c-9024-4cf3-f3d5-30564ff422af"
      },
      "execution_count": 25,
      "outputs": [
        {
          "output_type": "stream",
          "name": "stdout",
          "text": [
            "(10, 'apple')\n",
            "(20, 'banana')\n",
            "(30, 'orange')\n"
          ]
        }
      ]
    },
    {
      "cell_type": "code",
      "source": [
        "for l1, l2 in zip(li1, li2):\n",
        "  print((l1, l2))"
      ],
      "metadata": {
        "colab": {
          "base_uri": "https://localhost:8080/"
        },
        "id": "Pp8yW4KF8afR",
        "outputId": "e21b15da-4507-46bc-dfcd-cbc20db3d0c5"
      },
      "execution_count": 26,
      "outputs": [
        {
          "output_type": "stream",
          "name": "stdout",
          "text": [
            "(10, 'apple')\n",
            "(20, 'banana')\n",
            "(30, 'orange')\n"
          ]
        }
      ]
    },
    {
      "cell_type": "code",
      "source": [
        "for li in zip(li1, li2):\n",
        "  print(li)"
      ],
      "metadata": {
        "colab": {
          "base_uri": "https://localhost:8080/"
        },
        "id": "FNLW4cIjAg8L",
        "outputId": "66eb0bd4-86b0-47e8-dfad-5ecaba72886f"
      },
      "execution_count": 27,
      "outputs": [
        {
          "output_type": "stream",
          "name": "stdout",
          "text": [
            "(10, 'apple')\n",
            "(20, 'banana')\n",
            "(30, 'orange')\n"
          ]
        }
      ]
    },
    {
      "cell_type": "code",
      "source": [
        "for n, A, a in zip('12345', 'ABCDE', 'abcde'):\n",
        "  print((n, A, a))"
      ],
      "metadata": {
        "colab": {
          "base_uri": "https://localhost:8080/"
        },
        "id": "jbIfbW5f89vZ",
        "outputId": "a80b3c77-b79d-4525-e0ee-46a43cd1b7ad"
      },
      "execution_count": 28,
      "outputs": [
        {
          "output_type": "stream",
          "name": "stdout",
          "text": [
            "('1', 'A', 'a')\n",
            "('2', 'B', 'b')\n",
            "('3', 'C', 'c')\n",
            "('4', 'D', 'd')\n",
            "('5', 'E', 'e')\n"
          ]
        }
      ]
    },
    {
      "cell_type": "code",
      "source": [
        "for n, A, a in zip('123456', 'ABCDE', 'abcde'):\n",
        "  print((n, A, a))"
      ],
      "metadata": {
        "colab": {
          "base_uri": "https://localhost:8080/"
        },
        "id": "Ee8yy09W9PNJ",
        "outputId": "e37891c5-5688-40eb-e0cc-de7a5643b09a"
      },
      "execution_count": 29,
      "outputs": [
        {
          "output_type": "stream",
          "name": "stdout",
          "text": [
            "('1', 'A', 'a')\n",
            "('2', 'B', 'b')\n",
            "('3', 'C', 'c')\n",
            "('4', 'D', 'd')\n",
            "('5', 'E', 'e')\n"
          ]
        }
      ]
    },
    {
      "cell_type": "markdown",
      "source": [
        "## 1-7. list와 tuple을 for문과 함께 사용하기"
      ],
      "metadata": {
        "id": "ObdI5fsEkRSU"
      }
    },
    {
      "cell_type": "code",
      "source": [
        "li1 = ['apple', 'banana', 'orange', 'melon']\n",
        "for i in li1:\n",
        "  print(i , end=' ')"
      ],
      "metadata": {
        "colab": {
          "base_uri": "https://localhost:8080/"
        },
        "id": "nCF5UrvBlUym",
        "outputId": "959dca24-c8f5-430d-d07c-f66ce998927f"
      },
      "execution_count": 30,
      "outputs": [
        {
          "output_type": "stream",
          "name": "stdout",
          "text": [
            "apple banana orange melon "
          ]
        }
      ]
    },
    {
      "cell_type": "code",
      "source": [
        "tu1 = ('apple', 'banana', 'orange', 'melon')\n",
        "for i in tu1:\n",
        "  print(i , end=' ')"
      ],
      "metadata": {
        "colab": {
          "base_uri": "https://localhost:8080/"
        },
        "id": "ZRSpC_7NlkuS",
        "outputId": "08ab7761-42a1-4c12-8712-8d76061ed2b1"
      },
      "execution_count": 31,
      "outputs": [
        {
          "output_type": "stream",
          "name": "stdout",
          "text": [
            "apple banana orange melon "
          ]
        }
      ]
    },
    {
      "cell_type": "markdown",
      "source": [
        "## 문제 4\n",
        "* 아래 score 리스트에 저장된 점수가 60점 이상인 학생이 몇 명인지 알아보는 프로그램을 작성해보자"
      ],
      "metadata": {
        "id": "XrUlCyejlqtJ"
      }
    },
    {
      "cell_type": "code",
      "source": [
        "score = [90, 30, 50, 60, 80, 70, 100, 40, 20, 10]"
      ],
      "metadata": {
        "id": "rPlPxNmjmTW_"
      },
      "execution_count": 32,
      "outputs": []
    },
    {
      "cell_type": "code",
      "source": [
        "count = 0;\n",
        "\n",
        "for i in score:\n",
        "  if i >= 60:\n",
        "    count += 1\n",
        "\n",
        "print('60점 이상인 학생 수:', count)"
      ],
      "metadata": {
        "colab": {
          "base_uri": "https://localhost:8080/"
        },
        "id": "RaFLHkFJl1SR",
        "outputId": "dc0bf004-8bc5-4a8d-bad3-ddf5d27aa3c8"
      },
      "execution_count": 33,
      "outputs": [
        {
          "output_type": "stream",
          "name": "stdout",
          "text": [
            "60점 이상인 학생 수: 5\n"
          ]
        }
      ]
    },
    {
      "cell_type": "markdown",
      "source": [
        "# 2. 다중 반복문\n",
        "* 반복문이 2개이상 겹쳐져 있는 형태"
      ],
      "metadata": {
        "id": "XIhWrI7bn6dM"
      }
    },
    {
      "cell_type": "code",
      "source": [
        "for i in range(1, 4):\n",
        "  print(f'😎 i: {i}')\n",
        "  for j in range(1, 4):\n",
        "    print(f'   😍 i: {j}')"
      ],
      "metadata": {
        "colab": {
          "base_uri": "https://localhost:8080/"
        },
        "id": "OwSPQYbDoa0i",
        "outputId": "7c6aa404-fb91-434b-f451-b29e5dbfd149"
      },
      "execution_count": 34,
      "outputs": [
        {
          "output_type": "stream",
          "name": "stdout",
          "text": [
            "😎 i: 1\n",
            "   😍 i: 1\n",
            "   😍 i: 2\n",
            "   😍 i: 3\n",
            "😎 i: 2\n",
            "   😍 i: 1\n",
            "   😍 i: 2\n",
            "   😍 i: 3\n",
            "😎 i: 3\n",
            "   😍 i: 1\n",
            "   😍 i: 2\n",
            "   😍 i: 3\n"
          ]
        }
      ]
    },
    {
      "cell_type": "code",
      "source": [
        "# '🧡'를 이용하여 아래와 같은 도형을 만들어보자.\n",
        "'''\n",
        "🧡🧡🧡🧡🧡\n",
        "🧡🧡🧡🧡🧡\n",
        "🧡🧡🧡🧡🧡\n",
        "🧡🧡🧡🧡🧡\n",
        "🧡🧡🧡🧡🧡\n",
        "'''\n",
        "\n",
        "for i in range(5):\n",
        "  for j in range(5):\n",
        "    print('🧡', end=' ')\n",
        "  print()"
      ],
      "metadata": {
        "colab": {
          "base_uri": "https://localhost:8080/"
        },
        "id": "XZr8U0DGo3F8",
        "outputId": "cd4641fb-87e4-4c7e-eba9-90ac5fb47c19"
      },
      "execution_count": 35,
      "outputs": [
        {
          "output_type": "stream",
          "name": "stdout",
          "text": [
            "🧡 🧡 🧡 🧡 🧡 \n",
            "🧡 🧡 🧡 🧡 🧡 \n",
            "🧡 🧡 🧡 🧡 🧡 \n",
            "🧡 🧡 🧡 🧡 🧡 \n",
            "🧡 🧡 🧡 🧡 🧡 \n"
          ]
        }
      ]
    },
    {
      "cell_type": "markdown",
      "source": [
        "## 문제 1\n",
        "* '🧡'를 이용하여 아래와 같은 도형을 만들어보자.  \n",
        "\n",
        "🧡🧡🧡🧡🧡  \n",
        "🧡🧡🧡🧡  \n",
        "🧡🧡🧡  \n",
        "🧡🧡  \n",
        "🧡  \n"
      ],
      "metadata": {
        "id": "oUWLPLYNsfhr"
      }
    },
    {
      "cell_type": "code",
      "source": [
        "for i in range(5):\n",
        "  for j in range(i,5):\n",
        "    print('🧡', end=' ')\n",
        "  print()"
      ],
      "metadata": {
        "colab": {
          "base_uri": "https://localhost:8080/"
        },
        "id": "tFrAijR3sBmB",
        "outputId": "5df1ebdf-9111-44f0-e3f0-e303778bde2b"
      },
      "execution_count": 36,
      "outputs": [
        {
          "output_type": "stream",
          "name": "stdout",
          "text": [
            "🧡 🧡 🧡 🧡 🧡 \n",
            "🧡 🧡 🧡 🧡 \n",
            "🧡 🧡 🧡 \n",
            "🧡 🧡 \n",
            "🧡 \n"
          ]
        }
      ]
    },
    {
      "cell_type": "markdown",
      "source": [
        "## 문제 2\n",
        "* '🧡'를 이용하여 아래와 같은 도형을 만들어보자.  \n",
        "\n",
        "🧡  \n",
        "🧡🧡  \n",
        "🧡🧡🧡  \n",
        "🧡🧡🧡🧡  \n",
        "🧡🧡🧡🧡🧡  \n"
      ],
      "metadata": {
        "id": "3bCQ2BzoswGo"
      }
    },
    {
      "cell_type": "code",
      "source": [
        "for i in range(5):\n",
        "  for j in range(0,i+1):\n",
        "    print('🧡', end=' ')\n",
        "  print()"
      ],
      "metadata": {
        "colab": {
          "base_uri": "https://localhost:8080/"
        },
        "id": "CZ-DzMaHs_ep",
        "outputId": "bab5d70d-551d-4450-8dc2-0ee258f4b2e4"
      },
      "execution_count": 37,
      "outputs": [
        {
          "output_type": "stream",
          "name": "stdout",
          "text": [
            "🧡 \n",
            "🧡 🧡 \n",
            "🧡 🧡 🧡 \n",
            "🧡 🧡 🧡 🧡 \n",
            "🧡 🧡 🧡 🧡 🧡 \n"
          ]
        }
      ]
    },
    {
      "cell_type": "code",
      "source": [
        "# 2단부터 9단까지 구구단을 출력하는 프로그램을 작성\n",
        "\n",
        "for i in range(2,10):\n",
        "  print('%d단' % i)\n",
        "  for j in range(1,10):\n",
        "    print('%d x %d = %d' % (i,j,i*j))\n",
        "  print()"
      ],
      "metadata": {
        "colab": {
          "base_uri": "https://localhost:8080/"
        },
        "id": "bMOYwP0MyYa3",
        "outputId": "9f689f13-0ed6-42fb-a029-04da0c4f06dc"
      },
      "execution_count": 38,
      "outputs": [
        {
          "output_type": "stream",
          "name": "stdout",
          "text": [
            "2단\n",
            "2 x 1 = 2\n",
            "2 x 2 = 4\n",
            "2 x 3 = 6\n",
            "2 x 4 = 8\n",
            "2 x 5 = 10\n",
            "2 x 6 = 12\n",
            "2 x 7 = 14\n",
            "2 x 8 = 16\n",
            "2 x 9 = 18\n",
            "\n",
            "3단\n",
            "3 x 1 = 3\n",
            "3 x 2 = 6\n",
            "3 x 3 = 9\n",
            "3 x 4 = 12\n",
            "3 x 5 = 15\n",
            "3 x 6 = 18\n",
            "3 x 7 = 21\n",
            "3 x 8 = 24\n",
            "3 x 9 = 27\n",
            "\n",
            "4단\n",
            "4 x 1 = 4\n",
            "4 x 2 = 8\n",
            "4 x 3 = 12\n",
            "4 x 4 = 16\n",
            "4 x 5 = 20\n",
            "4 x 6 = 24\n",
            "4 x 7 = 28\n",
            "4 x 8 = 32\n",
            "4 x 9 = 36\n",
            "\n",
            "5단\n",
            "5 x 1 = 5\n",
            "5 x 2 = 10\n",
            "5 x 3 = 15\n",
            "5 x 4 = 20\n",
            "5 x 5 = 25\n",
            "5 x 6 = 30\n",
            "5 x 7 = 35\n",
            "5 x 8 = 40\n",
            "5 x 9 = 45\n",
            "\n",
            "6단\n",
            "6 x 1 = 6\n",
            "6 x 2 = 12\n",
            "6 x 3 = 18\n",
            "6 x 4 = 24\n",
            "6 x 5 = 30\n",
            "6 x 6 = 36\n",
            "6 x 7 = 42\n",
            "6 x 8 = 48\n",
            "6 x 9 = 54\n",
            "\n",
            "7단\n",
            "7 x 1 = 7\n",
            "7 x 2 = 14\n",
            "7 x 3 = 21\n",
            "7 x 4 = 28\n",
            "7 x 5 = 35\n",
            "7 x 6 = 42\n",
            "7 x 7 = 49\n",
            "7 x 8 = 56\n",
            "7 x 9 = 63\n",
            "\n",
            "8단\n",
            "8 x 1 = 8\n",
            "8 x 2 = 16\n",
            "8 x 3 = 24\n",
            "8 x 4 = 32\n",
            "8 x 5 = 40\n",
            "8 x 6 = 48\n",
            "8 x 7 = 56\n",
            "8 x 8 = 64\n",
            "8 x 9 = 72\n",
            "\n",
            "9단\n",
            "9 x 1 = 9\n",
            "9 x 2 = 18\n",
            "9 x 3 = 27\n",
            "9 x 4 = 36\n",
            "9 x 5 = 45\n",
            "9 x 6 = 54\n",
            "9 x 7 = 63\n",
            "9 x 8 = 72\n",
            "9 x 9 = 81\n",
            "\n"
          ]
        }
      ]
    },
    {
      "cell_type": "markdown",
      "source": [
        "## 문제 3\n",
        "* 2단부터 9단까지 구구단을 출력하는 프로그램을 while문으로 작성해보자"
      ],
      "metadata": {
        "id": "I6M_-wPDytHh"
      }
    },
    {
      "cell_type": "code",
      "source": [
        "i = 2\n",
        "\n",
        "while i < 10:\n",
        "  print(f'{i}단')\n",
        "  j = 1\n",
        "  while j < 10:\n",
        "    print(f'{i} x {j} = {i*j}')\n",
        "    j += 1\n",
        "  i += 1\n",
        "  print()"
      ],
      "metadata": {
        "colab": {
          "base_uri": "https://localhost:8080/"
        },
        "id": "2mQFCUi1zj7B",
        "outputId": "c9c310ae-95db-4c54-adbc-62d02e40bdc9"
      },
      "execution_count": 39,
      "outputs": [
        {
          "output_type": "stream",
          "name": "stdout",
          "text": [
            "2단\n",
            "2 x 1 = 2\n",
            "2 x 2 = 4\n",
            "2 x 3 = 6\n",
            "2 x 4 = 8\n",
            "2 x 5 = 10\n",
            "2 x 6 = 12\n",
            "2 x 7 = 14\n",
            "2 x 8 = 16\n",
            "2 x 9 = 18\n",
            "\n",
            "3단\n",
            "3 x 1 = 3\n",
            "3 x 2 = 6\n",
            "3 x 3 = 9\n",
            "3 x 4 = 12\n",
            "3 x 5 = 15\n",
            "3 x 6 = 18\n",
            "3 x 7 = 21\n",
            "3 x 8 = 24\n",
            "3 x 9 = 27\n",
            "\n",
            "4단\n",
            "4 x 1 = 4\n",
            "4 x 2 = 8\n",
            "4 x 3 = 12\n",
            "4 x 4 = 16\n",
            "4 x 5 = 20\n",
            "4 x 6 = 24\n",
            "4 x 7 = 28\n",
            "4 x 8 = 32\n",
            "4 x 9 = 36\n",
            "\n",
            "5단\n",
            "5 x 1 = 5\n",
            "5 x 2 = 10\n",
            "5 x 3 = 15\n",
            "5 x 4 = 20\n",
            "5 x 5 = 25\n",
            "5 x 6 = 30\n",
            "5 x 7 = 35\n",
            "5 x 8 = 40\n",
            "5 x 9 = 45\n",
            "\n",
            "6단\n",
            "6 x 1 = 6\n",
            "6 x 2 = 12\n",
            "6 x 3 = 18\n",
            "6 x 4 = 24\n",
            "6 x 5 = 30\n",
            "6 x 6 = 36\n",
            "6 x 7 = 42\n",
            "6 x 8 = 48\n",
            "6 x 9 = 54\n",
            "\n",
            "7단\n",
            "7 x 1 = 7\n",
            "7 x 2 = 14\n",
            "7 x 3 = 21\n",
            "7 x 4 = 28\n",
            "7 x 5 = 35\n",
            "7 x 6 = 42\n",
            "7 x 7 = 49\n",
            "7 x 8 = 56\n",
            "7 x 9 = 63\n",
            "\n",
            "8단\n",
            "8 x 1 = 8\n",
            "8 x 2 = 16\n",
            "8 x 3 = 24\n",
            "8 x 4 = 32\n",
            "8 x 5 = 40\n",
            "8 x 6 = 48\n",
            "8 x 7 = 56\n",
            "8 x 8 = 64\n",
            "8 x 9 = 72\n",
            "\n",
            "9단\n",
            "9 x 1 = 9\n",
            "9 x 2 = 18\n",
            "9 x 3 = 27\n",
            "9 x 4 = 36\n",
            "9 x 5 = 45\n",
            "9 x 6 = 54\n",
            "9 x 7 = 63\n",
            "9 x 8 = 72\n",
            "9 x 9 = 81\n",
            "\n"
          ]
        }
      ]
    },
    {
      "cell_type": "markdown",
      "source": [
        "## 문제 4\n",
        "* 아래 score 리스트의 요소를 모두 출력하는 프로그램을 작성해보자"
      ],
      "metadata": {
        "id": "BHKKNkhkz0jC"
      }
    },
    {
      "cell_type": "code",
      "source": [
        "score = [[80, 90, 50], [40, 70, 30], [90, 50, 100]]"
      ],
      "metadata": {
        "id": "0s9NL_ux3ruk"
      },
      "execution_count": 40,
      "outputs": []
    },
    {
      "cell_type": "code",
      "source": [
        "for i in range(3):\n",
        "  for j in range(3):\n",
        "    print(score[i][j], end=' ')"
      ],
      "metadata": {
        "colab": {
          "base_uri": "https://localhost:8080/"
        },
        "id": "2l1zkada35nZ",
        "outputId": "51d1c7db-5c1b-49e2-c659-bcd4263c37cc"
      },
      "execution_count": 41,
      "outputs": [
        {
          "output_type": "stream",
          "name": "stdout",
          "text": [
            "80 90 50 40 70 30 90 50 100 "
          ]
        }
      ]
    },
    {
      "cell_type": "code",
      "source": [
        "for i in range(3):\n",
        "  for j in range(3):\n",
        "    print(score[i][j], end=' ')\n",
        "  print()"
      ],
      "metadata": {
        "colab": {
          "base_uri": "https://localhost:8080/"
        },
        "id": "v19Ueh3K4TER",
        "outputId": "f17ba2f2-da61-4058-bcb5-6ca1fc52341f"
      },
      "execution_count": 42,
      "outputs": [
        {
          "output_type": "stream",
          "name": "stdout",
          "text": [
            "80 90 50 \n",
            "40 70 30 \n",
            "90 50 100 \n"
          ]
        }
      ]
    },
    {
      "cell_type": "markdown",
      "source": [
        "# 3. 컴프리헨션(Comprehension)\n",
        "* 이터러블한 오브젝트를 생성하기 위한 방법 중 하나로 파이선에서 사용할 수 있는 유용한 기능"
      ],
      "metadata": {
        "id": "va5emZ32A2pY"
      }
    },
    {
      "cell_type": "code",
      "source": [
        "n = range(0, 10, 1)\n",
        "print(n)"
      ],
      "metadata": {
        "colab": {
          "base_uri": "https://localhost:8080/"
        },
        "id": "tsh6hBMkBAUN",
        "outputId": "ba6a9521-dd3a-4a91-836e-3e7c2b8e815c"
      },
      "execution_count": 43,
      "outputs": [
        {
          "output_type": "stream",
          "name": "stdout",
          "text": [
            "range(0, 10)\n"
          ]
        }
      ]
    },
    {
      "cell_type": "code",
      "source": [
        "n = 10\n",
        "\n",
        "result = [0 for i in range(n)]\n",
        "print(result)"
      ],
      "metadata": {
        "colab": {
          "base_uri": "https://localhost:8080/"
        },
        "id": "nW6GiMPdBRGj",
        "outputId": "41029737-d316-46dd-c079-e7a6ff3e2255"
      },
      "execution_count": 44,
      "outputs": [
        {
          "output_type": "stream",
          "name": "stdout",
          "text": [
            "[0, 0, 0, 0, 0, 0, 0, 0, 0, 0]\n"
          ]
        }
      ]
    },
    {
      "cell_type": "code",
      "source": [
        "result = [i for i in range(n)]\n",
        "print(result)"
      ],
      "metadata": {
        "colab": {
          "base_uri": "https://localhost:8080/"
        },
        "id": "46G1wyTzBnZ1",
        "outputId": "734ce36f-c060-4169-e732-63df5281ff42"
      },
      "execution_count": 45,
      "outputs": [
        {
          "output_type": "stream",
          "name": "stdout",
          "text": [
            "[0, 1, 2, 3, 4, 5, 6, 7, 8, 9]\n"
          ]
        }
      ]
    },
    {
      "cell_type": "code",
      "source": [
        "arr = [0, 1, 2, 3, 4, 5, 6, 7, 8, 9]\n",
        "result = [n for n in arr]\n",
        "print(result)"
      ],
      "metadata": {
        "colab": {
          "base_uri": "https://localhost:8080/"
        },
        "id": "dn0n1zCDB568",
        "outputId": "58f2ed63-1b3e-436d-89ac-a88256ef1a3a"
      },
      "execution_count": 46,
      "outputs": [
        {
          "output_type": "stream",
          "name": "stdout",
          "text": [
            "[0, 1, 2, 3, 4, 5, 6, 7, 8, 9]\n"
          ]
        }
      ]
    },
    {
      "cell_type": "code",
      "source": [
        "arr = [0, 1, 2, 3, 4, 5, 6, 7, 8, 9]\n",
        "result = [n*n for n in arr]\n",
        "print(result)"
      ],
      "metadata": {
        "colab": {
          "base_uri": "https://localhost:8080/"
        },
        "id": "L_M8eDBUCBWD",
        "outputId": "dc121b60-4b65-45de-f370-7f2ee55ff981"
      },
      "execution_count": 47,
      "outputs": [
        {
          "output_type": "stream",
          "name": "stdout",
          "text": [
            "[0, 1, 4, 9, 16, 25, 36, 49, 64, 81]\n"
          ]
        }
      ]
    },
    {
      "cell_type": "code",
      "source": [
        "arr = ['apple', 'banana', 'orange', 'melon']\n",
        "\n",
        "result = [len(string) for string in arr]\n",
        "print(result)"
      ],
      "metadata": {
        "colab": {
          "base_uri": "https://localhost:8080/"
        },
        "id": "Pcz2xfmWCVvI",
        "outputId": "c20b8342-6987-4120-9ff6-0cb8e9419eff"
      },
      "execution_count": 48,
      "outputs": [
        {
          "output_type": "stream",
          "name": "stdout",
          "text": [
            "[5, 6, 6, 5]\n"
          ]
        }
      ]
    },
    {
      "cell_type": "code",
      "source": [
        "result = [n for n in range(10) if n % 2 == 0]\n",
        "print(result)"
      ],
      "metadata": {
        "colab": {
          "base_uri": "https://localhost:8080/"
        },
        "id": "1WcqTtG5CjEx",
        "outputId": "8b57b6f7-8120-4613-986b-e41e29ad1bf5"
      },
      "execution_count": 49,
      "outputs": [
        {
          "output_type": "stream",
          "name": "stdout",
          "text": [
            "[0, 2, 4, 6, 8]\n"
          ]
        }
      ]
    },
    {
      "cell_type": "code",
      "source": [
        "# 0 ~100까지의 숫자 중 3의 배수이며, 홀수인 숫자만 리스트에 저장하기\n",
        "result = [n for n in range(100) if n % 3 == 0 and n % 2 != 0]\n",
        "print(result)"
      ],
      "metadata": {
        "colab": {
          "base_uri": "https://localhost:8080/"
        },
        "id": "4jk4FE7VDGK5",
        "outputId": "adf59260-0b9e-4323-d0bd-057703406a4a"
      },
      "execution_count": 50,
      "outputs": [
        {
          "output_type": "stream",
          "name": "stdout",
          "text": [
            "[3, 9, 15, 21, 27, 33, 39, 45, 51, 57, 63, 69, 75, 81, 87, 93, 99]\n"
          ]
        }
      ]
    },
    {
      "cell_type": "code",
      "source": [
        "arr = [-1, 0, -4, 24, 5, -10, 2]\n",
        "\n",
        "# 양수는 리스트에 그대로 저장하고, 음수는 0으로 변환해서 저장하기\n",
        "# 삼항 연산자 사용\n",
        "result = [n if n > 0 else 0 for n in arr]\n",
        "print(result)"
      ],
      "metadata": {
        "colab": {
          "base_uri": "https://localhost:8080/"
        },
        "id": "vuKO18vzDhVS",
        "outputId": "671e2dcb-5b06-4b36-bcc0-c9ff7108d7c2"
      },
      "execution_count": 51,
      "outputs": [
        {
          "output_type": "stream",
          "name": "stdout",
          "text": [
            "[0, 0, 0, 24, 5, 0, 2]\n"
          ]
        }
      ]
    },
    {
      "cell_type": "code",
      "source": [
        "arr = []\n",
        "\n",
        "for i in range(1, 4):\n",
        "  for j in range(1, 3):\n",
        "    arr.append(i * j)\n",
        "\n",
        "print(arr)"
      ],
      "metadata": {
        "colab": {
          "base_uri": "https://localhost:8080/"
        },
        "id": "ZUrDZJvlFMMs",
        "outputId": "5a0a9f8b-cfe3-4d17-a23d-05a7a98ae73c"
      },
      "execution_count": 52,
      "outputs": [
        {
          "output_type": "stream",
          "name": "stdout",
          "text": [
            "[1, 2, 2, 4, 3, 6]\n"
          ]
        }
      ]
    },
    {
      "cell_type": "code",
      "source": [
        "arr = [i*j for i in range(1, 4) for j in range(1, 3)]\n",
        "print(arr)"
      ],
      "metadata": {
        "colab": {
          "base_uri": "https://localhost:8080/"
        },
        "id": "6V2A_ol0FXXK",
        "outputId": "5da4c189-4694-4f22-e1ed-0fe748517436"
      },
      "execution_count": 53,
      "outputs": [
        {
          "output_type": "stream",
          "name": "stdout",
          "text": [
            "[1, 2, 2, 4, 3, 6]\n"
          ]
        }
      ]
    },
    {
      "cell_type": "code",
      "source": [
        "result = [[0 for i in range(2)] for j in range(3)]\n",
        "print(result)"
      ],
      "metadata": {
        "colab": {
          "base_uri": "https://localhost:8080/"
        },
        "id": "ujMHGhnPFyEw",
        "outputId": "6ff784ab-75da-4d41-e3e6-ad14b33e4c47"
      },
      "execution_count": 54,
      "outputs": [
        {
          "output_type": "stream",
          "name": "stdout",
          "text": [
            "[[0, 0], [0, 0], [0, 0]]\n"
          ]
        }
      ]
    }
  ]
}