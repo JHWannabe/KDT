{
  "nbformat": 4,
  "nbformat_minor": 0,
  "metadata": {
    "colab": {
      "provenance": [],
      "toc_visible": true
    },
    "kernelspec": {
      "name": "python3",
      "display_name": "Python 3"
    },
    "language_info": {
      "name": "python"
    }
  },
  "cells": [
    {
      "cell_type": "markdown",
      "source": [
        "# 1. 튜플(Tuple)\n",
        "* 리스트와 비슷하지만 리스트는 대괄호로 자료를 감싸고, 튜플은 소괄호로 감싼다.\n",
        "* 요소의 수정, 삭제 불가능"
      ],
      "metadata": {
        "id": "qzP-orRQceSm"
      }
    },
    {
      "cell_type": "code",
      "source": [
        "tu1 = ()\n",
        "print(tu1)\n",
        "\n",
        "# tu1[0] = 100 # TypeError: 'tuple' object does not support item assignment"
      ],
      "metadata": {
        "colab": {
          "base_uri": "https://localhost:8080/"
        },
        "id": "MvhxJhnmcuhP",
        "outputId": "703828b0-3e36-442b-f80e-a8a0703cd7e0"
      },
      "execution_count": 1,
      "outputs": [
        {
          "output_type": "stream",
          "name": "stdout",
          "text": [
            "()\n"
          ]
        }
      ]
    },
    {
      "cell_type": "code",
      "source": [
        "tu2 = (1, 3, 5, 7)\n",
        "print(tu2)"
      ],
      "metadata": {
        "colab": {
          "base_uri": "https://localhost:8080/"
        },
        "id": "Hi0hwHnYcxbw",
        "outputId": "865a5d96-6571-4b4c-d778-95e87b5a8a66"
      },
      "execution_count": 2,
      "outputs": [
        {
          "output_type": "stream",
          "name": "stdout",
          "text": [
            "(1, 3, 5, 7)\n"
          ]
        }
      ]
    },
    {
      "cell_type": "code",
      "source": [
        "tu3 = 1, 3, 5, 7\n",
        "print(tu3)\n",
        "print(type(tu3))"
      ],
      "metadata": {
        "colab": {
          "base_uri": "https://localhost:8080/"
        },
        "id": "Ih940EmyddFf",
        "outputId": "4fa868c7-d50d-44c7-d87c-25960a75d2b1"
      },
      "execution_count": 3,
      "outputs": [
        {
          "output_type": "stream",
          "name": "stdout",
          "text": [
            "(1, 3, 5, 7)\n",
            "<class 'tuple'>\n"
          ]
        }
      ]
    },
    {
      "cell_type": "code",
      "source": [
        "tu4 =('apple', 'banana', ('🍑','🍇'))\n",
        "print(tu4)\n",
        "\n",
        "tu5 = ('apple', 'banana', ['🍑','🍇'])\n",
        "print(tu5)\n",
        "print(type(tu5))"
      ],
      "metadata": {
        "colab": {
          "base_uri": "https://localhost:8080/"
        },
        "id": "VGcMfka-dio_",
        "outputId": "7f937ff3-a5b6-4885-bbdd-3e8e23857f26"
      },
      "execution_count": 4,
      "outputs": [
        {
          "output_type": "stream",
          "name": "stdout",
          "text": [
            "('apple', 'banana', ('🍑', '🍇'))\n",
            "('apple', 'banana', ['🍑', '🍇'])\n",
            "<class 'tuple'>\n"
          ]
        }
      ]
    },
    {
      "cell_type": "markdown",
      "source": [
        "# 2. 튜플의 수정 및 삭제"
      ],
      "metadata": {
        "id": "GfLtUtXQd0B_"
      }
    },
    {
      "cell_type": "code",
      "source": [
        "tu6 = (1, 2, 'apple', 'banana')\n",
        "print(tu6)\n",
        "print(tu6[2])\n",
        "\n",
        "# tu6[2] = 'orange' # TypeError: 'tuple' object does not support item assignment\n",
        "# del tu6[2] # TypeError: 'tuple' object doesn't support item deletion"
      ],
      "metadata": {
        "colab": {
          "base_uri": "https://localhost:8080/"
        },
        "id": "kyao_QNDePAp",
        "outputId": "6fadcfcc-981a-4bc7-e5f5-9e3810a7277d"
      },
      "execution_count": 5,
      "outputs": [
        {
          "output_type": "stream",
          "name": "stdout",
          "text": [
            "(1, 2, 'apple', 'banana')\n",
            "apple\n"
          ]
        }
      ]
    },
    {
      "cell_type": "code",
      "source": [
        "del tu6"
      ],
      "metadata": {
        "id": "KOgCXF8se063"
      },
      "execution_count": 6,
      "outputs": []
    },
    {
      "cell_type": "code",
      "source": [
        "tu7 = ('apple', 'banana', ['🍑','🍇'])\n",
        "tu7[2][1] = '🍎' # 리스트의 요소이므로 변경 가능\n",
        "print(tu7)\n",
        "\n",
        "# tu7[2] = '🍔' # TypeError: 'tuple' object does not support item assignment"
      ],
      "metadata": {
        "colab": {
          "base_uri": "https://localhost:8080/"
        },
        "id": "8U9GYRBbe3Cv",
        "outputId": "dbe685b8-092a-421d-9138-bd7051959a6d"
      },
      "execution_count": 9,
      "outputs": [
        {
          "output_type": "stream",
          "name": "stdout",
          "text": [
            "('apple', 'banana', ['🍑', '🍎'])\n"
          ]
        }
      ]
    },
    {
      "cell_type": "code",
      "source": [
        "tu8 = ('apple', 'banana', ['🍑','🍇'])\n",
        "print(tu8)\n",
        "tu8 = '🌭'\n",
        "print(tu8)"
      ],
      "metadata": {
        "colab": {
          "base_uri": "https://localhost:8080/"
        },
        "id": "iuI5G7lpfuXI",
        "outputId": "c8ba69d2-5e04-4581-881b-c2893a999581"
      },
      "execution_count": 10,
      "outputs": [
        {
          "output_type": "stream",
          "name": "stdout",
          "text": [
            "('apple', 'banana', ['🍑', '🍇'])\n",
            "🌭\n"
          ]
        }
      ]
    },
    {
      "cell_type": "markdown",
      "source": [
        "# 3. 튜플의 인덱싱과 슬라이싱 연산"
      ],
      "metadata": {
        "id": "vUEFhDWfgU9w"
      }
    },
    {
      "cell_type": "code",
      "source": [
        "tu9 = (1, 2, 'apple', 'banana')\n",
        "\n",
        "# 인덱싱\n",
        "print(tu9[0])\n",
        "print(tu9[-1])\n",
        "\n",
        "# 슬라이싱\n",
        "print(tu9[1:])\n",
        "print(tu9[1:3])\n",
        "\n",
        "# 덧셈(연결)\n",
        "tu10 = (30, 40)\n",
        "print(tu9 +tu10)\n",
        "\n",
        "# 곱셈(반복)\n",
        "print(tu9 * 3)\n",
        "\n",
        "# 요소의 개수\n",
        "print(len(tu9))"
      ],
      "metadata": {
        "colab": {
          "base_uri": "https://localhost:8080/"
        },
        "id": "ybr6M0hbhgIS",
        "outputId": "0b4d8a11-7c9e-4c04-d364-00ac4387d6ba"
      },
      "execution_count": 16,
      "outputs": [
        {
          "output_type": "stream",
          "name": "stdout",
          "text": [
            "1\n",
            "banana\n",
            "(2, 'apple', 'banana')\n",
            "(2, 'apple')\n",
            "(1, 2, 'apple', 'banana', 30, 40)\n",
            "(1, 2, 'apple', 'banana', 1, 2, 'apple', 'banana', 1, 2, 'apple', 'banana')\n",
            "4\n"
          ]
        }
      ]
    },
    {
      "cell_type": "markdown",
      "source": [
        "# 4. 튜플의 정렬"
      ],
      "metadata": {
        "id": "5NYS84PQhjWn"
      }
    },
    {
      "cell_type": "code",
      "source": [
        "tu11 = (1, 3, 2, 0)"
      ],
      "metadata": {
        "id": "fX9-boBZn5VS"
      },
      "execution_count": 17,
      "outputs": []
    },
    {
      "cell_type": "code",
      "source": [
        "tu11.sort() # AttributeError: 'tuple' object has no attribute 'sort'"
      ],
      "metadata": {
        "colab": {
          "base_uri": "https://localhost:8080/",
          "height": 173
        },
        "id": "JHdkl1oSoNh4",
        "outputId": "068d2419-e314-41d1-ce73-5233f638e78e"
      },
      "execution_count": 18,
      "outputs": [
        {
          "output_type": "error",
          "ename": "AttributeError",
          "evalue": "ignored",
          "traceback": [
            "\u001b[0;31m---------------------------------------------------------------------------\u001b[0m",
            "\u001b[0;31mAttributeError\u001b[0m                            Traceback (most recent call last)",
            "\u001b[0;32m<ipython-input-18-c2fd58063f85>\u001b[0m in \u001b[0;36m<module>\u001b[0;34m\u001b[0m\n\u001b[0;32m----> 1\u001b[0;31m \u001b[0mtu11\u001b[0m\u001b[0;34m.\u001b[0m\u001b[0msort\u001b[0m\u001b[0;34m(\u001b[0m\u001b[0;34m)\u001b[0m\u001b[0;34m\u001b[0m\u001b[0;34m\u001b[0m\u001b[0m\n\u001b[0m",
            "\u001b[0;31mAttributeError\u001b[0m: 'tuple' object has no attribute 'sort'"
          ]
        }
      ]
    },
    {
      "cell_type": "code",
      "source": [
        "tu12 = sorted(tu11)\n",
        "print(tu12)"
      ],
      "metadata": {
        "colab": {
          "base_uri": "https://localhost:8080/"
        },
        "id": "b2s814puoQTH",
        "outputId": "bfdc741b-e4e0-41cc-d9ce-d5010899fa75"
      },
      "execution_count": 20,
      "outputs": [
        {
          "output_type": "stream",
          "name": "stdout",
          "text": [
            "[0, 1, 2, 3]\n"
          ]
        }
      ]
    }
  ]
}