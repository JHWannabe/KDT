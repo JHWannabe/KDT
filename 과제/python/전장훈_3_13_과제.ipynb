{
  "nbformat": 4,
  "nbformat_minor": 0,
  "metadata": {
    "colab": {
      "provenance": [],
      "include_colab_link": true
    },
    "kernelspec": {
      "name": "python3",
      "display_name": "Python 3"
    },
    "language_info": {
      "name": "python"
    }
  },
  "cells": [
    {
      "cell_type": "markdown",
      "metadata": {
        "id": "view-in-github",
        "colab_type": "text"
      },
      "source": [
        "<a href=\"https://colab.research.google.com/github/JHWannabe/KDT/blob/master/jhwannabe/python/%EA%B3%BC%EC%A0%9C/%EC%A0%84%EC%9E%A5%ED%9B%88_3_13_%EA%B3%BC%EC%A0%9C.ipynb\" target=\"_parent\"><img src=\"https://colab.research.google.com/assets/colab-badge.svg\" alt=\"Open In Colab\"/></a>"
      ]
    },
    {
      "cell_type": "markdown",
      "source": [
        "# 과제\n",
        "* 영어 단어장 프로그램을 만들어보자\n",
        "\n",
        "* 아래 번호를 선택하세요\n",
        "    * 1. 단어 입력(단어, 뜻, 레벨)\n",
        "    * 2. 단어 출력\n",
        "    * 3. 단어 저장\n",
        "    * 4. 프로그램 종료\n",
        "\n",
        "- 아래 번호를 선택하세요: 1\n",
        "\n",
        "- 단어를 입력하세요: apple, 사과, 1\n",
        "\n",
        "- 입력되었습니다.\n",
        "\n",
        "- 아래 번호를 선택하세요: 1\n",
        "\n",
        "- 단어를 입력하세요: banana, 바나나, 1\n",
        "\n",
        "- 입력되었습니다.\n",
        "\n",
        "- 아래 번호를 선택하세요: 2  \n",
        "apple(사과, level 1)  \n",
        "banana(바나나, level 1)  \n",
        "\n",
        "- 아래 번호를 선택하세요: 3\n",
        "\n",
        "- 저장되었습니다.\n",
        "\n",
        "- 아래 번호를 선택하세요: 4\n",
        "\n",
        "- 프로그램을 종료합니다.\n",
        "\n",
        "> 단, 저장된 파일이 있는 경우 프로그램 재실행시 데이터를 읽어 메모리에 저장"
      ],
      "metadata": {
        "id": "EeroE-q3zZfy"
      }
    },
    {
      "cell_type": "code",
      "source": [
        "worddic = []\n",
        "\n",
        "def word_input():\n",
        "    kor, eng, level = input('단어를 입력하세요: ').split(',')\n",
        "    result = kor +'(' + eng + ', level ' + level + ')'\n",
        "    worddic.append(result)"
      ],
      "metadata": {
        "id": "BTPm5sUx0_LY"
      },
      "execution_count": 1,
      "outputs": []
    },
    {
      "cell_type": "code",
      "source": [
        "def word_output():\n",
        "    for i in range(len(worddic)):\n",
        "        print(worddic[i])"
      ],
      "metadata": {
        "id": "oiMtJeJG1Dxi"
      },
      "execution_count": 2,
      "outputs": []
    },
    {
      "cell_type": "code",
      "source": [
        "def word_save():\n",
        "    file = open('word dictionary.txt', 'w')\n",
        "    for i in range(len(worddic)):\n",
        "        file.write(str(worddic[i]))\n",
        "        if i != len(worddic)-1:\n",
        "            file.write(\"\\n\")\n",
        "    file.close()\n",
        "    print('저장되었습니다.')"
      ],
      "metadata": {
        "id": "-MOYByHU1Dp4"
      },
      "execution_count": 3,
      "outputs": []
    },
    {
      "cell_type": "code",
      "source": [
        "worddic = []\n",
        "\n",
        "try:\n",
        "    file = open('./word dictionary.txt', 'r')\n",
        "    data = file.read()\n",
        "    if data:\n",
        "        worddic.append(data)\n",
        "except FileNotFoundError:\n",
        "    pass\n",
        "\n",
        "while 1:\n",
        "    print('1. 단어 입력(단어, 뜻, 레벨)\\n2. 단어 출력\\n3. 단어 저장\\n4. 프로그램 종료')\n",
        "    num = int(input('아래 번호를 선택하세요: '))\n",
        "    if num == 1:\n",
        "        word_input()\n",
        "    elif num == 2:\n",
        "        word_output()\n",
        "    elif num == 3:\n",
        "        word_save()\n",
        "    elif num == 4:\n",
        "        print('프로그램 종료')\n",
        "        break"
      ],
      "metadata": {
        "colab": {
          "base_uri": "https://localhost:8080/"
        },
        "id": "-NEu9cE7zrnx",
        "outputId": "68b1b384-432f-4d98-d687-d33152b54864"
      },
      "execution_count": 4,
      "outputs": [
        {
          "output_type": "stream",
          "name": "stdout",
          "text": [
            "1. 단어 입력(단어, 뜻, 레벨)\n",
            "2. 단어 출력\n",
            "3. 단어 저장\n",
            "4. 프로그램 종료\n",
            "아래 번호를 선택하세요: 1\n",
            "단어를 입력하세요: apple,사과,1\n",
            "1. 단어 입력(단어, 뜻, 레벨)\n",
            "2. 단어 출력\n",
            "3. 단어 저장\n",
            "4. 프로그램 종료\n",
            "아래 번호를 선택하세요: 2\n",
            "apple(사과, level 1)\n",
            "1. 단어 입력(단어, 뜻, 레벨)\n",
            "2. 단어 출력\n",
            "3. 단어 저장\n",
            "4. 프로그램 종료\n",
            "아래 번호를 선택하세요: 1\n",
            "단어를 입력하세요: banana,바나나,1\n",
            "1. 단어 입력(단어, 뜻, 레벨)\n",
            "2. 단어 출력\n",
            "3. 단어 저장\n",
            "4. 프로그램 종료\n",
            "아래 번호를 선택하세요: 2\n",
            "apple(사과, level 1)\n",
            "banana(바나나, level 1)\n",
            "1. 단어 입력(단어, 뜻, 레벨)\n",
            "2. 단어 출력\n",
            "3. 단어 저장\n",
            "4. 프로그램 종료\n",
            "아래 번호를 선택하세요: 3\n",
            "저장되었습니다.\n",
            "1. 단어 입력(단어, 뜻, 레벨)\n",
            "2. 단어 출력\n",
            "3. 단어 저장\n",
            "4. 프로그램 종료\n",
            "아래 번호를 선택하세요: 4\n",
            "프로그램 종료\n"
          ]
        }
      ]
    },
    {
      "cell_type": "code",
      "source": [],
      "metadata": {
        "id": "xlzKdDdZaWMX"
      },
      "execution_count": null,
      "outputs": []
    }
  ]
}