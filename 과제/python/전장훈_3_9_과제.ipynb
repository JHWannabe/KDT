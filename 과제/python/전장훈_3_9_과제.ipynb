{
  "nbformat": 4,
  "nbformat_minor": 0,
  "metadata": {
    "colab": {
      "provenance": []
    },
    "kernelspec": {
      "name": "python3",
      "display_name": "Python 3"
    },
    "language_info": {
      "name": "python"
    }
  },
  "cells": [
    {
      "cell_type": "markdown",
      "source": [
        "## 2-1. 주사위를 던져 주사위의 값을 맞추는 게임을 만들어보자.\n",
        "\n",
        "* 주사위의 값을 입력하세요: 4\n",
        "* 주사위의 값: 3, 틀렸습니다.\n",
        "* 주사위의 값을 입력하세요: 3\n",
        "* 주사위의 값: 6, 틀렸습니다.\n",
        "* 주사위의 값을 입력하세요: 2\n",
        "* 주사위의 값: 2, 맞았습니다. 게임을 종료합니다."
      ],
      "metadata": {
        "id": "lCpHF5v6zKPl"
      }
    },
    {
      "cell_type": "code",
      "source": [
        "while(1):\n",
        "    guess = int(input('주사위의 값을 입력하세요: '))\n",
        "    dice = random.randrange(1, 7)\n",
        "    if guess == dice:\n",
        "        print(f'주사위의 값: {dice}, 맞았습니다. 게임을 종료합니다.')\n",
        "        break\n",
        "    else:\n",
        "         print(f'주사위의 값: {dice}, 틀렸습니다. 다시 시도하세요.')"
      ],
      "metadata": {
        "id": "C1i3UAhczLou"
      },
      "execution_count": null,
      "outputs": []
    },
    {
      "cell_type": "markdown",
      "source": [
        "## 2-2. '가위바위보' 게임을 만들어보자\n",
        "```\n",
        "가위, 바위, 보 중 하나를 선택하세요: 가위\n",
        "컴퓨터 : 바위, 나: 가위 -> 졌습니다.\n",
        "\n",
        "가위, 바위, 보 중 하나를 선택하세요: 가위\n",
        "컴퓨터 : 가위, 나: 가위 -> 비겼습니다.\n",
        "\n",
        "가위, 바위, 보 중 하나를 선택하세요: 가위\n",
        "컴퓨터 : 보, 나: 가위 -> 이겼습니다.\n",
        "\n",
        "```"
      ],
      "metadata": {
        "id": "3ggTG74mzQ1_"
      }
    },
    {
      "cell_type": "code",
      "source": [
        "rsp = ['가위','바위','보']\n",
        "\n",
        "while(1):\n",
        "    me = input('가위, 바위, 보 중 하나를 선택하세요: ')\n",
        "    com = random.choice(rsp)\n",
        "    if (me == '바위' and com == '보') or (me == '가위' and com == '바위') or (me == '보' and com == '가위'):\n",
        "        print(f'컴퓨터 : {com}, 나: {me}  -> 졌습니다.')\n",
        "    elif me == com:\n",
        "        print(f'컴퓨터 : {com}, 나: {me}  -> 비겼습니다.')\n",
        "    else:\n",
        "         print(f'컴퓨터 : {com}, 나: {me}  -> 이겼습니다.')\n",
        "         break"
      ],
      "metadata": {
        "id": "OJSWH6DfzUWd"
      },
      "execution_count": null,
      "outputs": []
    },
    {
      "cell_type": "markdown",
      "source": [
        "## 2-3. 로또 번호 예상 프로그램을 만들어보자\n",
        "* 조건\n",
        "    * 1~45까지 6개의 숫자를 무작위로 추출\n",
        "    * 중복되면 안됨\n",
        "    * 오름차순으로 정렬\n",
        "    * 보너스 숫자는 생각하지 않음"
      ],
      "metadata": {
        "id": "BLsqOKHuzWim"
      }
    },
    {
      "cell_type": "code",
      "source": [
        "import random\n",
        "\n",
        "lotto =[]\n",
        "for _ in range(6):\n",
        "    a = random.randint(1, 46)\n",
        "    while a in lotto:\n",
        "        a = random.randint(1, 46)\n",
        "    lotto.append(a)\n",
        "\n",
        "lotto.sort()\n",
        "print(lotto)"
      ],
      "metadata": {
        "colab": {
          "base_uri": "https://localhost:8080/"
        },
        "id": "uZIFtGbPzawN",
        "outputId": "d7a98e91-0208-4b14-b765-3b8de89d509f"
      },
      "execution_count": null,
      "outputs": [
        {
          "output_type": "stream",
          "name": "stdout",
          "text": [
            "[15, 18, 22, 32, 34, 39]\n"
          ]
        }
      ]
    },
    {
      "cell_type": "markdown",
      "source": [
        "## 2-4. 주민등록번호 유효성 검사 프로그램을 만들어보자\n",
        "* 001011-3068518\n",
        "* 0 0 1 0 1 1 3 0 6 8 5 1 8 (마지막 자리는 잠시 빼둠)\n",
        "* 2 3 4 5 6 7 8 9 2 3 4 5   (숫자를 각 자리에 곱함)\n",
        "* 0 0 4 0 6 7 24 0 12 24 20 5 (숫자를 모두 더함)\n",
        "* 102 % 11 (11로 나눈 나머지 값)\n",
        "* 11 - 3 (해당 값을 11에서 뺌, 단 값이 2자리인 경우 10으로 나눈 나머지 값을 구함)\n",
        "* 8 (주민등록번호의 마지막 자리와 일치하면 맞는 주민등록번호임)"
      ],
      "metadata": {
        "id": "0k_1dn_6zdGF"
      }
    },
    {
      "cell_type": "code",
      "source": [
        "juminNo = list(map(int,input('주민등록번호를 입력하세요(-제외): ')))\n",
        "multi = [2, 3, 4, 5, 6, 7, 8, 9, 2, 3, 4, 5]\n",
        "sum = 0\n",
        "\n",
        "for i in range(len(multi)):\n",
        "    a = juminNo[i] * multi[i]\n",
        "    sum += a\n",
        "\n",
        "if juminNo[-1] == ((11 - sum % 11) % 10):\n",
        "    print('유효성 검사에 통과한 주민등록번호입니다.')\n",
        "else:\n",
        "    print('유효성 검사에 통과하지 못한 주민등록번호입니다.')"
      ],
      "metadata": {
        "colab": {
          "base_uri": "https://localhost:8080/"
        },
        "id": "J6JKzpnDzftF",
        "outputId": "ef1fedc9-a17a-4c01-9aea-e48bb28798c8"
      },
      "execution_count": null,
      "outputs": [
        {
          "output_type": "stream",
          "name": "stdout",
          "text": [
            "주민등록번호를 입력하세요(-제외): 0010113068518\n",
            "유효성 검사에 통과한 주민등록번호입니다.\n"
          ]
        }
      ]
    }
  ]
}