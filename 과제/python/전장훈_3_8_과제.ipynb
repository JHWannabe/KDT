{
  "nbformat": 4,
  "nbformat_minor": 0,
  "metadata": {
    "colab": {
      "provenance": []
    },
    "kernelspec": {
      "name": "python3",
      "display_name": "Python 3"
    },
    "language_info": {
      "name": "python"
    }
  },
  "cells": [
    {
      "cell_type": "markdown",
      "source": [
        "과제 1: https://www.acmicpc.net/problem/2750"
      ],
      "metadata": {
        "id": "9OUudM1k91MW"
      }
    },
    {
      "cell_type": "code",
      "source": [
        "num = int(input())\n",
        "li = []\n",
        "a = 0\n",
        "for i in range(0,num):\n",
        "    a = int(input())\n",
        "    li.append(a)\n",
        "li.sort()\n",
        "print()\n",
        "for i in range(0,num):\n",
        "    print(li[i])"
      ],
      "metadata": {
        "colab": {
          "base_uri": "https://localhost:8080/"
        },
        "id": "3Iad9pXd98l-",
        "outputId": "3056805c-6609-465b-c294-f6b49730b184"
      },
      "execution_count": 1,
      "outputs": [
        {
          "output_type": "stream",
          "name": "stdout",
          "text": [
            "5\n",
            "1\n",
            "9\n",
            "6\n",
            "3\n",
            "7\n",
            "\n",
            "1\n",
            "3\n",
            "6\n",
            "7\n",
            "9\n"
          ]
        }
      ]
    },
    {
      "cell_type": "markdown",
      "source": [
        "과제 2: https://www.acmicpc.net/problem/2920"
      ],
      "metadata": {
        "id": "ufGfvjOy9-6m"
      }
    },
    {
      "cell_type": "code",
      "source": [
        "a = list(map(int, input().split()))\n",
        "print()\n",
        "if a == sorted(a):\n",
        "    print('ascending')\n",
        "elif a == sorted(a, reverse=1):\n",
        "    print('descending')\n",
        "else:\n",
        "    print('mixed')"
      ],
      "metadata": {
        "colab": {
          "base_uri": "https://localhost:8080/"
        },
        "id": "YYeheWm_-CvV",
        "outputId": "df763611-c5f0-42c2-aa57-0020dbde856c"
      },
      "execution_count": 2,
      "outputs": [
        {
          "output_type": "stream",
          "name": "stdout",
          "text": [
            "8 7 6 5 4 3 2 1\n",
            "\n",
            "descending\n"
          ]
        }
      ]
    },
    {
      "cell_type": "markdown",
      "source": [
        "과제 3: https://www.acmicpc.net/problem/11650"
      ],
      "metadata": {
        "id": "WCqpbU6E-FDV"
      }
    },
    {
      "cell_type": "code",
      "source": [
        "num = int(input())\n",
        "li = []\n",
        "for i in range(num):\n",
        "    xy = list(map(int, input().split()))\n",
        "    li.append(xy)\n",
        "li.sort()\n",
        "print()\n",
        "for i in li:\n",
        "    print(i[0], i[1])"
      ],
      "metadata": {
        "colab": {
          "base_uri": "https://localhost:8080/"
        },
        "id": "zrK8xLsI-JHd",
        "outputId": "78697334-4794-4fe3-b95e-28f429fe238d"
      },
      "execution_count": 3,
      "outputs": [
        {
          "output_type": "stream",
          "name": "stdout",
          "text": [
            "5\n",
            "3 4\n",
            "1 1\n",
            "1 -1\n",
            "2 1\n",
            "3 8\n",
            "\n",
            "1 -1\n",
            "1 1\n",
            "2 1\n",
            "3 4\n",
            "3 8\n"
          ]
        }
      ]
    },
    {
      "cell_type": "markdown",
      "source": [
        "과제 4: https://www.acmicpc.net/problem/1427"
      ],
      "metadata": {
        "id": "YKTbB3_--TVo"
      }
    },
    {
      "cell_type": "code",
      "source": [
        "n = input()\n",
        "numli = list(map(int, n))\n",
        "numli.sort(reverse=1)\n",
        "for i in numli:\n",
        "    print(i, end='')"
      ],
      "metadata": {
        "colab": {
          "base_uri": "https://localhost:8080/"
        },
        "id": "c6K-qrva-Tk-",
        "outputId": "7a093569-0542-4880-b371-920bef19b794"
      },
      "execution_count": 4,
      "outputs": [
        {
          "output_type": "stream",
          "name": "stdout",
          "text": [
            "78913462\n",
            "98764321"
          ]
        }
      ]
    }
  ]
}